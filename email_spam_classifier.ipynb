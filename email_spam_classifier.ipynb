{
 "cells": [
  {
   "cell_type": "markdown",
   "id": "1b33781b",
   "metadata": {},
   "source": [
    "# EMAIL/SMS SPAM CLASSIFIER"
   ]
  },
  {
   "cell_type": "code",
   "execution_count": 1,
   "id": "b070232d",
   "metadata": {},
   "outputs": [],
   "source": [
    "import numpy as np \n",
    "import pandas as pd \n",
    "import matplotlib.pyplot as plt \n",
    "import seaborn as sns"
   ]
  },
  {
   "cell_type": "code",
   "execution_count": 2,
   "id": "60566ba4",
   "metadata": {},
   "outputs": [],
   "source": [
    "email_data = pd.read_csv(\"spam.csv\", encoding='latin-1')"
   ]
  },
  {
   "cell_type": "code",
   "execution_count": 3,
   "id": "5214e08c",
   "metadata": {
    "scrolled": false
   },
   "outputs": [
    {
     "data": {
      "text/html": [
       "<div>\n",
       "<style scoped>\n",
       "    .dataframe tbody tr th:only-of-type {\n",
       "        vertical-align: middle;\n",
       "    }\n",
       "\n",
       "    .dataframe tbody tr th {\n",
       "        vertical-align: top;\n",
       "    }\n",
       "\n",
       "    .dataframe thead th {\n",
       "        text-align: right;\n",
       "    }\n",
       "</style>\n",
       "<table border=\"1\" class=\"dataframe\">\n",
       "  <thead>\n",
       "    <tr style=\"text-align: right;\">\n",
       "      <th></th>\n",
       "      <th>v1</th>\n",
       "      <th>v2</th>\n",
       "      <th>Unnamed: 2</th>\n",
       "      <th>Unnamed: 3</th>\n",
       "      <th>Unnamed: 4</th>\n",
       "    </tr>\n",
       "  </thead>\n",
       "  <tbody>\n",
       "    <tr>\n",
       "      <th>0</th>\n",
       "      <td>ham</td>\n",
       "      <td>Go until jurong point, crazy.. Available only ...</td>\n",
       "      <td>NaN</td>\n",
       "      <td>NaN</td>\n",
       "      <td>NaN</td>\n",
       "    </tr>\n",
       "    <tr>\n",
       "      <th>1</th>\n",
       "      <td>ham</td>\n",
       "      <td>Ok lar... Joking wif u oni...</td>\n",
       "      <td>NaN</td>\n",
       "      <td>NaN</td>\n",
       "      <td>NaN</td>\n",
       "    </tr>\n",
       "    <tr>\n",
       "      <th>2</th>\n",
       "      <td>spam</td>\n",
       "      <td>Free entry in 2 a wkly comp to win FA Cup fina...</td>\n",
       "      <td>NaN</td>\n",
       "      <td>NaN</td>\n",
       "      <td>NaN</td>\n",
       "    </tr>\n",
       "    <tr>\n",
       "      <th>3</th>\n",
       "      <td>ham</td>\n",
       "      <td>U dun say so early hor... U c already then say...</td>\n",
       "      <td>NaN</td>\n",
       "      <td>NaN</td>\n",
       "      <td>NaN</td>\n",
       "    </tr>\n",
       "    <tr>\n",
       "      <th>4</th>\n",
       "      <td>ham</td>\n",
       "      <td>Nah I don't think he goes to usf, he lives aro...</td>\n",
       "      <td>NaN</td>\n",
       "      <td>NaN</td>\n",
       "      <td>NaN</td>\n",
       "    </tr>\n",
       "    <tr>\n",
       "      <th>5</th>\n",
       "      <td>spam</td>\n",
       "      <td>FreeMsg Hey there darling it's been 3 week's n...</td>\n",
       "      <td>NaN</td>\n",
       "      <td>NaN</td>\n",
       "      <td>NaN</td>\n",
       "    </tr>\n",
       "    <tr>\n",
       "      <th>6</th>\n",
       "      <td>ham</td>\n",
       "      <td>Even my brother is not like to speak with me. ...</td>\n",
       "      <td>NaN</td>\n",
       "      <td>NaN</td>\n",
       "      <td>NaN</td>\n",
       "    </tr>\n",
       "    <tr>\n",
       "      <th>7</th>\n",
       "      <td>ham</td>\n",
       "      <td>As per your request 'Melle Melle (Oru Minnamin...</td>\n",
       "      <td>NaN</td>\n",
       "      <td>NaN</td>\n",
       "      <td>NaN</td>\n",
       "    </tr>\n",
       "    <tr>\n",
       "      <th>8</th>\n",
       "      <td>spam</td>\n",
       "      <td>WINNER!! As a valued network customer you have...</td>\n",
       "      <td>NaN</td>\n",
       "      <td>NaN</td>\n",
       "      <td>NaN</td>\n",
       "    </tr>\n",
       "    <tr>\n",
       "      <th>9</th>\n",
       "      <td>spam</td>\n",
       "      <td>Had your mobile 11 months or more? U R entitle...</td>\n",
       "      <td>NaN</td>\n",
       "      <td>NaN</td>\n",
       "      <td>NaN</td>\n",
       "    </tr>\n",
       "    <tr>\n",
       "      <th>10</th>\n",
       "      <td>ham</td>\n",
       "      <td>I'm gonna be home soon and i don't want to tal...</td>\n",
       "      <td>NaN</td>\n",
       "      <td>NaN</td>\n",
       "      <td>NaN</td>\n",
       "    </tr>\n",
       "    <tr>\n",
       "      <th>11</th>\n",
       "      <td>spam</td>\n",
       "      <td>SIX chances to win CASH! From 100 to 20,000 po...</td>\n",
       "      <td>NaN</td>\n",
       "      <td>NaN</td>\n",
       "      <td>NaN</td>\n",
       "    </tr>\n",
       "    <tr>\n",
       "      <th>12</th>\n",
       "      <td>spam</td>\n",
       "      <td>URGENT! You have won a 1 week FREE membership ...</td>\n",
       "      <td>NaN</td>\n",
       "      <td>NaN</td>\n",
       "      <td>NaN</td>\n",
       "    </tr>\n",
       "    <tr>\n",
       "      <th>13</th>\n",
       "      <td>ham</td>\n",
       "      <td>I've been searching for the right words to tha...</td>\n",
       "      <td>NaN</td>\n",
       "      <td>NaN</td>\n",
       "      <td>NaN</td>\n",
       "    </tr>\n",
       "    <tr>\n",
       "      <th>14</th>\n",
       "      <td>ham</td>\n",
       "      <td>I HAVE A DATE ON SUNDAY WITH WILL!!</td>\n",
       "      <td>NaN</td>\n",
       "      <td>NaN</td>\n",
       "      <td>NaN</td>\n",
       "    </tr>\n",
       "  </tbody>\n",
       "</table>\n",
       "</div>"
      ],
      "text/plain": [
       "      v1                                                 v2 Unnamed: 2  \\\n",
       "0    ham  Go until jurong point, crazy.. Available only ...        NaN   \n",
       "1    ham                      Ok lar... Joking wif u oni...        NaN   \n",
       "2   spam  Free entry in 2 a wkly comp to win FA Cup fina...        NaN   \n",
       "3    ham  U dun say so early hor... U c already then say...        NaN   \n",
       "4    ham  Nah I don't think he goes to usf, he lives aro...        NaN   \n",
       "5   spam  FreeMsg Hey there darling it's been 3 week's n...        NaN   \n",
       "6    ham  Even my brother is not like to speak with me. ...        NaN   \n",
       "7    ham  As per your request 'Melle Melle (Oru Minnamin...        NaN   \n",
       "8   spam  WINNER!! As a valued network customer you have...        NaN   \n",
       "9   spam  Had your mobile 11 months or more? U R entitle...        NaN   \n",
       "10   ham  I'm gonna be home soon and i don't want to tal...        NaN   \n",
       "11  spam  SIX chances to win CASH! From 100 to 20,000 po...        NaN   \n",
       "12  spam  URGENT! You have won a 1 week FREE membership ...        NaN   \n",
       "13   ham  I've been searching for the right words to tha...        NaN   \n",
       "14   ham                I HAVE A DATE ON SUNDAY WITH WILL!!        NaN   \n",
       "\n",
       "   Unnamed: 3 Unnamed: 4  \n",
       "0         NaN        NaN  \n",
       "1         NaN        NaN  \n",
       "2         NaN        NaN  \n",
       "3         NaN        NaN  \n",
       "4         NaN        NaN  \n",
       "5         NaN        NaN  \n",
       "6         NaN        NaN  \n",
       "7         NaN        NaN  \n",
       "8         NaN        NaN  \n",
       "9         NaN        NaN  \n",
       "10        NaN        NaN  \n",
       "11        NaN        NaN  \n",
       "12        NaN        NaN  \n",
       "13        NaN        NaN  \n",
       "14        NaN        NaN  "
      ]
     },
     "execution_count": 3,
     "metadata": {},
     "output_type": "execute_result"
    }
   ],
   "source": [
    "email_data.head(15)"
   ]
  },
  {
   "cell_type": "code",
   "execution_count": 4,
   "id": "9c1a4489",
   "metadata": {},
   "outputs": [
    {
     "data": {
      "text/plain": [
       "v1            object\n",
       "v2            object\n",
       "Unnamed: 2    object\n",
       "Unnamed: 3    object\n",
       "Unnamed: 4    object\n",
       "dtype: object"
      ]
     },
     "execution_count": 4,
     "metadata": {},
     "output_type": "execute_result"
    }
   ],
   "source": [
    "email_data.dtypes"
   ]
  },
  {
   "cell_type": "code",
   "execution_count": 5,
   "id": "860f1989",
   "metadata": {},
   "outputs": [
    {
     "data": {
      "text/plain": [
       "(5572, 5)"
      ]
     },
     "execution_count": 5,
     "metadata": {},
     "output_type": "execute_result"
    }
   ],
   "source": [
    "email_data.shape"
   ]
  },
  {
   "cell_type": "raw",
   "id": "ce308ff1",
   "metadata": {},
   "source": [
    "# we will be doing this project in following steps:\n",
    "1.Data cleaning \n",
    "2.EDA\n",
    "3.Text Preprocessing \n",
    "4.Model Building\n",
    "5.Evaluation\n",
    "6.Improvement \n",
    "7.Website\n",
    "8.Deploy"
   ]
  },
  {
   "cell_type": "markdown",
   "id": "d1bbd1e1",
   "metadata": {},
   "source": [
    "# 1.Data Cleaning "
   ]
  },
  {
   "cell_type": "code",
   "execution_count": 6,
   "id": "17767bd1",
   "metadata": {
    "scrolled": true
   },
   "outputs": [
    {
     "name": "stdout",
     "output_type": "stream",
     "text": [
      "<class 'pandas.core.frame.DataFrame'>\n",
      "RangeIndex: 5572 entries, 0 to 5571\n",
      "Data columns (total 5 columns):\n",
      " #   Column      Non-Null Count  Dtype \n",
      "---  ------      --------------  ----- \n",
      " 0   v1          5572 non-null   object\n",
      " 1   v2          5572 non-null   object\n",
      " 2   Unnamed: 2  50 non-null     object\n",
      " 3   Unnamed: 3  12 non-null     object\n",
      " 4   Unnamed: 4  6 non-null      object\n",
      "dtypes: object(5)\n",
      "memory usage: 217.8+ KB\n"
     ]
    }
   ],
   "source": [
    "email_data.info()"
   ]
  },
  {
   "cell_type": "code",
   "execution_count": 7,
   "id": "eeaeb4c2",
   "metadata": {},
   "outputs": [
    {
     "data": {
      "text/plain": [
       "v1               0\n",
       "v2               0\n",
       "Unnamed: 2    5522\n",
       "Unnamed: 3    5560\n",
       "Unnamed: 4    5566\n",
       "dtype: int64"
      ]
     },
     "execution_count": 7,
     "metadata": {},
     "output_type": "execute_result"
    }
   ],
   "source": [
    "email_data.isnull().sum()"
   ]
  },
  {
   "cell_type": "raw",
   "id": "3dc39f36",
   "metadata": {},
   "source": [
    "In the last 3 columns most of the values are unknown so we will drop these (less than 5% are known)"
   ]
  },
  {
   "cell_type": "code",
   "execution_count": 8,
   "id": "461cb800",
   "metadata": {},
   "outputs": [
    {
     "data": {
      "text/plain": [
       "Index(['v1', 'v2', 'Unnamed: 2', 'Unnamed: 3', 'Unnamed: 4'], dtype='object')"
      ]
     },
     "execution_count": 8,
     "metadata": {},
     "output_type": "execute_result"
    }
   ],
   "source": [
    "email_data.columns"
   ]
  },
  {
   "cell_type": "code",
   "execution_count": 9,
   "id": "9433bfcf",
   "metadata": {},
   "outputs": [],
   "source": [
    "email_data.drop(columns=['Unnamed: 2', 'Unnamed: 3', 'Unnamed: 4'], inplace=True)"
   ]
  },
  {
   "cell_type": "code",
   "execution_count": 10,
   "id": "eec562fb",
   "metadata": {
    "scrolled": true
   },
   "outputs": [
    {
     "data": {
      "text/html": [
       "<div>\n",
       "<style scoped>\n",
       "    .dataframe tbody tr th:only-of-type {\n",
       "        vertical-align: middle;\n",
       "    }\n",
       "\n",
       "    .dataframe tbody tr th {\n",
       "        vertical-align: top;\n",
       "    }\n",
       "\n",
       "    .dataframe thead th {\n",
       "        text-align: right;\n",
       "    }\n",
       "</style>\n",
       "<table border=\"1\" class=\"dataframe\">\n",
       "  <thead>\n",
       "    <tr style=\"text-align: right;\">\n",
       "      <th></th>\n",
       "      <th>target</th>\n",
       "      <th>text</th>\n",
       "    </tr>\n",
       "  </thead>\n",
       "  <tbody>\n",
       "    <tr>\n",
       "      <th>3086</th>\n",
       "      <td>ham</td>\n",
       "      <td>So i asked how's anthony. Dad. And your bf</td>\n",
       "    </tr>\n",
       "    <tr>\n",
       "      <th>5024</th>\n",
       "      <td>ham</td>\n",
       "      <td>I was gonna ask you lol but i think its at 7</td>\n",
       "    </tr>\n",
       "    <tr>\n",
       "      <th>2283</th>\n",
       "      <td>ham</td>\n",
       "      <td>I reach home safe n sound liao...</td>\n",
       "    </tr>\n",
       "    <tr>\n",
       "      <th>47</th>\n",
       "      <td>ham</td>\n",
       "      <td>Fair enough, anything going on?</td>\n",
       "    </tr>\n",
       "    <tr>\n",
       "      <th>2826</th>\n",
       "      <td>ham</td>\n",
       "      <td>Oh right, ok. I'll make sure that i do loads o...</td>\n",
       "    </tr>\n",
       "  </tbody>\n",
       "</table>\n",
       "</div>"
      ],
      "text/plain": [
       "     target                                               text\n",
       "3086    ham         So i asked how's anthony. Dad. And your bf\n",
       "5024    ham       I was gonna ask you lol but i think its at 7\n",
       "2283    ham                  I reach home safe n sound liao...\n",
       "47      ham                    Fair enough, anything going on?\n",
       "2826    ham  Oh right, ok. I'll make sure that i do loads o..."
      ]
     },
     "execution_count": 10,
     "metadata": {},
     "output_type": "execute_result"
    }
   ],
   "source": [
    "#renaming the cols\n",
    "email_data.rename(columns={\"v1\":\"target\", \"v2\":\"text\"}, inplace=True)\n",
    "email_data.sample(5)"
   ]
  },
  {
   "cell_type": "code",
   "execution_count": 11,
   "id": "fe360e67",
   "metadata": {},
   "outputs": [
    {
     "data": {
      "text/plain": [
       "target                                       ham\n",
       "text      Yep. I do like the pink furniture tho.\n",
       "Name: 3859, dtype: object"
      ]
     },
     "execution_count": 11,
     "metadata": {},
     "output_type": "execute_result"
    }
   ],
   "source": [
    "email_data.loc[3859,:]"
   ]
  },
  {
   "cell_type": "code",
   "execution_count": 12,
   "id": "91e44bd0",
   "metadata": {},
   "outputs": [
    {
     "data": {
      "text/plain": [
       "target                                           ham\n",
       "text      I'm really not up to it still tonight babe\n",
       "Name: 88, dtype: object"
      ]
     },
     "execution_count": 12,
     "metadata": {},
     "output_type": "execute_result"
    }
   ],
   "source": [
    "email_data.loc[88,:]"
   ]
  },
  {
   "cell_type": "code",
   "execution_count": 13,
   "id": "7a93fe1f",
   "metadata": {},
   "outputs": [],
   "source": [
    "from sklearn.preprocessing import LabelEncoder\n",
    "encoder = LabelEncoder()"
   ]
  },
  {
   "cell_type": "code",
   "execution_count": 14,
   "id": "8def0c4c",
   "metadata": {},
   "outputs": [
    {
     "data": {
      "text/plain": [
       "array([0, 0, 1, ..., 0, 0, 0])"
      ]
     },
     "execution_count": 14,
     "metadata": {},
     "output_type": "execute_result"
    }
   ],
   "source": [
    "encoder.fit_transform(email_data[\"target\"])"
   ]
  },
  {
   "cell_type": "code",
   "execution_count": 15,
   "id": "ac37dc9b",
   "metadata": {},
   "outputs": [],
   "source": [
    "email_data[\"target\"] = encoder.fit_transform(email_data[\"target\"])"
   ]
  },
  {
   "cell_type": "code",
   "execution_count": 16,
   "id": "4dc6fba2",
   "metadata": {},
   "outputs": [
    {
     "data": {
      "text/html": [
       "<div>\n",
       "<style scoped>\n",
       "    .dataframe tbody tr th:only-of-type {\n",
       "        vertical-align: middle;\n",
       "    }\n",
       "\n",
       "    .dataframe tbody tr th {\n",
       "        vertical-align: top;\n",
       "    }\n",
       "\n",
       "    .dataframe thead th {\n",
       "        text-align: right;\n",
       "    }\n",
       "</style>\n",
       "<table border=\"1\" class=\"dataframe\">\n",
       "  <thead>\n",
       "    <tr style=\"text-align: right;\">\n",
       "      <th></th>\n",
       "      <th>target</th>\n",
       "      <th>text</th>\n",
       "    </tr>\n",
       "  </thead>\n",
       "  <tbody>\n",
       "    <tr>\n",
       "      <th>984</th>\n",
       "      <td>0</td>\n",
       "      <td>Yo guess what I just dropped</td>\n",
       "    </tr>\n",
       "    <tr>\n",
       "      <th>4896</th>\n",
       "      <td>0</td>\n",
       "      <td>I cant pick the phone right now. Pls send a me...</td>\n",
       "    </tr>\n",
       "    <tr>\n",
       "      <th>3987</th>\n",
       "      <td>0</td>\n",
       "      <td>Hello. Sort of out in town already. That . So ...</td>\n",
       "    </tr>\n",
       "    <tr>\n",
       "      <th>2346</th>\n",
       "      <td>0</td>\n",
       "      <td>Its posible dnt live in  &amp;lt;#&amp;gt; century cm ...</td>\n",
       "    </tr>\n",
       "    <tr>\n",
       "      <th>4823</th>\n",
       "      <td>0</td>\n",
       "      <td>Not thought bout it... || Drink in tap &amp; spile...</td>\n",
       "    </tr>\n",
       "  </tbody>\n",
       "</table>\n",
       "</div>"
      ],
      "text/plain": [
       "      target                                               text\n",
       "984        0                       Yo guess what I just dropped\n",
       "4896       0  I cant pick the phone right now. Pls send a me...\n",
       "3987       0  Hello. Sort of out in town already. That . So ...\n",
       "2346       0  Its posible dnt live in  &lt;#&gt; century cm ...\n",
       "4823       0  Not thought bout it... || Drink in tap & spile..."
      ]
     },
     "execution_count": 16,
     "metadata": {},
     "output_type": "execute_result"
    }
   ],
   "source": [
    "email_data.sample(5)"
   ]
  },
  {
   "cell_type": "code",
   "execution_count": 17,
   "id": "1aacf84c",
   "metadata": {},
   "outputs": [
    {
     "data": {
      "text/plain": [
       "target    0\n",
       "text      0\n",
       "dtype: int64"
      ]
     },
     "execution_count": 17,
     "metadata": {},
     "output_type": "execute_result"
    }
   ],
   "source": [
    "email_data.isnull().sum()"
   ]
  },
  {
   "cell_type": "code",
   "execution_count": 18,
   "id": "f6aeaa3b",
   "metadata": {},
   "outputs": [
    {
     "data": {
      "text/plain": [
       "403"
      ]
     },
     "execution_count": 18,
     "metadata": {},
     "output_type": "execute_result"
    }
   ],
   "source": [
    "#check for duplicate valeus\n",
    "email_data.duplicated().sum()"
   ]
  },
  {
   "cell_type": "raw",
   "id": "d61f4dda",
   "metadata": {},
   "source": [
    "We will remove the duplicate rows"
   ]
  },
  {
   "cell_type": "code",
   "execution_count": 19,
   "id": "45156540",
   "metadata": {},
   "outputs": [
    {
     "data": {
      "text/html": [
       "<div>\n",
       "<style scoped>\n",
       "    .dataframe tbody tr th:only-of-type {\n",
       "        vertical-align: middle;\n",
       "    }\n",
       "\n",
       "    .dataframe tbody tr th {\n",
       "        vertical-align: top;\n",
       "    }\n",
       "\n",
       "    .dataframe thead th {\n",
       "        text-align: right;\n",
       "    }\n",
       "</style>\n",
       "<table border=\"1\" class=\"dataframe\">\n",
       "  <thead>\n",
       "    <tr style=\"text-align: right;\">\n",
       "      <th></th>\n",
       "      <th>target</th>\n",
       "      <th>text</th>\n",
       "    </tr>\n",
       "  </thead>\n",
       "  <tbody>\n",
       "    <tr>\n",
       "      <th>0</th>\n",
       "      <td>0</td>\n",
       "      <td>Go until jurong point, crazy.. Available only ...</td>\n",
       "    </tr>\n",
       "    <tr>\n",
       "      <th>1</th>\n",
       "      <td>0</td>\n",
       "      <td>Ok lar... Joking wif u oni...</td>\n",
       "    </tr>\n",
       "    <tr>\n",
       "      <th>2</th>\n",
       "      <td>1</td>\n",
       "      <td>Free entry in 2 a wkly comp to win FA Cup fina...</td>\n",
       "    </tr>\n",
       "    <tr>\n",
       "      <th>3</th>\n",
       "      <td>0</td>\n",
       "      <td>U dun say so early hor... U c already then say...</td>\n",
       "    </tr>\n",
       "    <tr>\n",
       "      <th>4</th>\n",
       "      <td>0</td>\n",
       "      <td>Nah I don't think he goes to usf, he lives aro...</td>\n",
       "    </tr>\n",
       "    <tr>\n",
       "      <th>...</th>\n",
       "      <td>...</td>\n",
       "      <td>...</td>\n",
       "    </tr>\n",
       "    <tr>\n",
       "      <th>5567</th>\n",
       "      <td>1</td>\n",
       "      <td>This is the 2nd time we have tried 2 contact u...</td>\n",
       "    </tr>\n",
       "    <tr>\n",
       "      <th>5568</th>\n",
       "      <td>0</td>\n",
       "      <td>Will Ì_ b going to esplanade fr home?</td>\n",
       "    </tr>\n",
       "    <tr>\n",
       "      <th>5569</th>\n",
       "      <td>0</td>\n",
       "      <td>Pity, * was in mood for that. So...any other s...</td>\n",
       "    </tr>\n",
       "    <tr>\n",
       "      <th>5570</th>\n",
       "      <td>0</td>\n",
       "      <td>The guy did some bitching but I acted like i'd...</td>\n",
       "    </tr>\n",
       "    <tr>\n",
       "      <th>5571</th>\n",
       "      <td>0</td>\n",
       "      <td>Rofl. Its true to its name</td>\n",
       "    </tr>\n",
       "  </tbody>\n",
       "</table>\n",
       "<p>5169 rows × 2 columns</p>\n",
       "</div>"
      ],
      "text/plain": [
       "      target                                               text\n",
       "0          0  Go until jurong point, crazy.. Available only ...\n",
       "1          0                      Ok lar... Joking wif u oni...\n",
       "2          1  Free entry in 2 a wkly comp to win FA Cup fina...\n",
       "3          0  U dun say so early hor... U c already then say...\n",
       "4          0  Nah I don't think he goes to usf, he lives aro...\n",
       "...      ...                                                ...\n",
       "5567       1  This is the 2nd time we have tried 2 contact u...\n",
       "5568       0              Will Ì_ b going to esplanade fr home?\n",
       "5569       0  Pity, * was in mood for that. So...any other s...\n",
       "5570       0  The guy did some bitching but I acted like i'd...\n",
       "5571       0                         Rofl. Its true to its name\n",
       "\n",
       "[5169 rows x 2 columns]"
      ]
     },
     "execution_count": 19,
     "metadata": {},
     "output_type": "execute_result"
    }
   ],
   "source": [
    "email_data.drop_duplicates()"
   ]
  },
  {
   "cell_type": "code",
   "execution_count": 20,
   "id": "32acb681",
   "metadata": {},
   "outputs": [],
   "source": [
    "email_data = email_data.drop_duplicates()"
   ]
  },
  {
   "cell_type": "code",
   "execution_count": 21,
   "id": "e6c7fe12",
   "metadata": {},
   "outputs": [
    {
     "data": {
      "text/plain": [
       "0"
      ]
     },
     "execution_count": 21,
     "metadata": {},
     "output_type": "execute_result"
    }
   ],
   "source": [
    "email_data.duplicated().sum()"
   ]
  },
  {
   "cell_type": "code",
   "execution_count": 22,
   "id": "c2aef082",
   "metadata": {},
   "outputs": [
    {
     "data": {
      "text/plain": [
       "(5169, 2)"
      ]
     },
     "execution_count": 22,
     "metadata": {},
     "output_type": "execute_result"
    }
   ],
   "source": [
    "email_data.shape"
   ]
  },
  {
   "cell_type": "code",
   "execution_count": 23,
   "id": "7f0c6d98",
   "metadata": {},
   "outputs": [
    {
     "data": {
      "text/plain": [
       "0    4516\n",
       "1     653\n",
       "Name: target, dtype: int64"
      ]
     },
     "execution_count": 23,
     "metadata": {},
     "output_type": "execute_result"
    }
   ],
   "source": [
    "email_data[\"target\"].value_counts()"
   ]
  },
  {
   "cell_type": "code",
   "execution_count": 24,
   "id": "a58bf66c",
   "metadata": {},
   "outputs": [
    {
     "data": {
      "image/png": "[encoded data removed]",
      "text/plain": [
       "<Figure size 432x288 with 1 Axes>"
      ]
     },
     "metadata": {},
     "output_type": "display_data"
    }
   ],
   "source": [
    "import matplotlib.pyplot as plt \n",
    "plt.pie(email_data[\"target\"].value_counts(), labels=[\"ham\",\"spam\"], autopct=\"%0.2f\")\n",
    "plt.show()"
   ]
  },
  {
   "cell_type": "raw",
   "id": "7e5ce159",
   "metadata": {},
   "source": [
    "Here the amount of spam is very less comparative to ham. We have unbalanced data"
   ]
  },
  {
   "cell_type": "raw",
   "id": "1c0e4626",
   "metadata": {},
   "source": [
    "Now we will start the deeper analysis furthur "
   ]
  },
  {
   "cell_type": "code",
   "execution_count": 25,
   "id": "674b0555",
   "metadata": {},
   "outputs": [],
   "source": [
    "import nltk #natural library tool kit "
   ]
  },
  {
   "cell_type": "code",
   "execution_count": 26,
   "id": "7e7dd1dd",
   "metadata": {
    "scrolled": true
   },
   "outputs": [
    {
     "name": "stderr",
     "output_type": "stream",
     "text": [
      "[nltk_data] Downloading package punkt to\n",
      "[nltk_data]     C:\\Users\\banba\\AppData\\Roaming\\nltk_data...\n",
      "[nltk_data]   Package punkt is already up-to-date!\n"
     ]
    },
    {
     "data": {
      "text/plain": [
       "True"
      ]
     },
     "execution_count": 26,
     "metadata": {},
     "output_type": "execute_result"
    }
   ],
   "source": [
    "nltk.download(\"punkt\")\n",
    "#nltk.download(\"punkt\")is command used to download the Punkt tokenizer models,which are pre-trained models for tokenizing text.\n"
   ]
  },
  {
   "cell_type": "code",
   "execution_count": 27,
   "id": "37bb91d9",
   "metadata": {},
   "outputs": [
    {
     "data": {
      "text/plain": [
       "0       111\n",
       "1        29\n",
       "2       155\n",
       "3        49\n",
       "4        61\n",
       "       ... \n",
       "5567    161\n",
       "5568     37\n",
       "5569     57\n",
       "5570    125\n",
       "5571     26\n",
       "Name: text, Length: 5169, dtype: int64"
      ]
     },
     "execution_count": 27,
     "metadata": {},
     "output_type": "execute_result"
    }
   ],
   "source": [
    "# New Column: num of characters\n",
    "email_data[\"text\"].apply(len)"
   ]
  },
  {
   "cell_type": "code",
   "execution_count": 28,
   "id": "2d498238",
   "metadata": {},
   "outputs": [],
   "source": [
    "email_data[\"num_characters\"] = email_data[\"text\"].apply(len)"
   ]
  },
  {
   "cell_type": "code",
   "execution_count": 29,
   "id": "a85bc2f7",
   "metadata": {},
   "outputs": [
    {
     "data": {
      "text/html": [
       "<div>\n",
       "<style scoped>\n",
       "    .dataframe tbody tr th:only-of-type {\n",
       "        vertical-align: middle;\n",
       "    }\n",
       "\n",
       "    .dataframe tbody tr th {\n",
       "        vertical-align: top;\n",
       "    }\n",
       "\n",
       "    .dataframe thead th {\n",
       "        text-align: right;\n",
       "    }\n",
       "</style>\n",
       "<table border=\"1\" class=\"dataframe\">\n",
       "  <thead>\n",
       "    <tr style=\"text-align: right;\">\n",
       "      <th></th>\n",
       "      <th>target</th>\n",
       "      <th>text</th>\n",
       "      <th>num_characters</th>\n",
       "    </tr>\n",
       "  </thead>\n",
       "  <tbody>\n",
       "    <tr>\n",
       "      <th>2210</th>\n",
       "      <td>0</td>\n",
       "      <td>Just wanted to say holy shit you guys weren't ...</td>\n",
       "      <td>68</td>\n",
       "    </tr>\n",
       "    <tr>\n",
       "      <th>2487</th>\n",
       "      <td>0</td>\n",
       "      <td>K ill drink.pa then what doing. I need srs mod...</td>\n",
       "      <td>78</td>\n",
       "    </tr>\n",
       "    <tr>\n",
       "      <th>2228</th>\n",
       "      <td>0</td>\n",
       "      <td>Those were my exact intentions</td>\n",
       "      <td>30</td>\n",
       "    </tr>\n",
       "    <tr>\n",
       "      <th>2006</th>\n",
       "      <td>0</td>\n",
       "      <td>Shopping lor. Them raining mah hard 2 leave or...</td>\n",
       "      <td>52</td>\n",
       "    </tr>\n",
       "    <tr>\n",
       "      <th>2414</th>\n",
       "      <td>0</td>\n",
       "      <td>O was not into fps then.</td>\n",
       "      <td>24</td>\n",
       "    </tr>\n",
       "  </tbody>\n",
       "</table>\n",
       "</div>"
      ],
      "text/plain": [
       "      target                                               text  \\\n",
       "2210       0  Just wanted to say holy shit you guys weren't ...   \n",
       "2487       0  K ill drink.pa then what doing. I need srs mod...   \n",
       "2228       0                     Those were my exact intentions   \n",
       "2006       0  Shopping lor. Them raining mah hard 2 leave or...   \n",
       "2414       0                           O was not into fps then.   \n",
       "\n",
       "      num_characters  \n",
       "2210              68  \n",
       "2487              78  \n",
       "2228              30  \n",
       "2006              52  \n",
       "2414              24  "
      ]
     },
     "execution_count": 29,
     "metadata": {},
     "output_type": "execute_result"
    }
   ],
   "source": [
    "email_data.sample(5)"
   ]
  },
  {
   "cell_type": "code",
   "execution_count": 30,
   "id": "d52e8ffc",
   "metadata": {},
   "outputs": [
    {
     "data": {
      "text/plain": [
       "0       [Go, until, jurong, point, ,, crazy, .., Avail...\n",
       "1                [Ok, lar, ..., Joking, wif, u, oni, ...]\n",
       "2       [Free, entry, in, 2, a, wkly, comp, to, win, F...\n",
       "3       [U, dun, say, so, early, hor, ..., U, c, alrea...\n",
       "4       [Nah, I, do, n't, think, he, goes, to, usf, ,,...\n",
       "                              ...                        \n",
       "5567    [This, is, the, 2nd, time, we, have, tried, 2,...\n",
       "5568     [Will, Ì_, b, going, to, esplanade, fr, home, ?]\n",
       "5569    [Pity, ,, *, was, in, mood, for, that, ., So, ...\n",
       "5570    [The, guy, did, some, bitching, but, I, acted,...\n",
       "5571                  [Rofl, ., Its, true, to, its, name]\n",
       "Name: text, Length: 5169, dtype: object"
      ]
     },
     "execution_count": 30,
     "metadata": {},
     "output_type": "execute_result"
    }
   ],
   "source": [
    "# New Column: num of words \n",
    "email_data[\"text\"].apply(lambda x:nltk.word_tokenize(x))"
   ]
  },
  {
   "cell_type": "code",
   "execution_count": 31,
   "id": "1e7100bf",
   "metadata": {
    "scrolled": false
   },
   "outputs": [
    {
     "data": {
      "text/plain": [
       "0       24\n",
       "1        8\n",
       "2       37\n",
       "3       13\n",
       "4       15\n",
       "        ..\n",
       "5567    35\n",
       "5568     9\n",
       "5569    15\n",
       "5570    27\n",
       "5571     7\n",
       "Name: text, Length: 5169, dtype: int64"
      ]
     },
     "execution_count": 31,
     "metadata": {},
     "output_type": "execute_result"
    }
   ],
   "source": [
    "email_data[\"text\"].apply(lambda x:len(nltk.word_tokenize(x)))"
   ]
  },
  {
   "cell_type": "code",
   "execution_count": 32,
   "id": "0a2352c5",
   "metadata": {},
   "outputs": [],
   "source": [
    "# New Column: num of words \n",
    "email_data[\"num_words\"] = email_data[\"text\"].apply(lambda x:len(nltk.word_tokenize(x)))"
   ]
  },
  {
   "cell_type": "code",
   "execution_count": 33,
   "id": "570197d0",
   "metadata": {},
   "outputs": [
    {
     "data": {
      "text/html": [
       "<div>\n",
       "<style scoped>\n",
       "    .dataframe tbody tr th:only-of-type {\n",
       "        vertical-align: middle;\n",
       "    }\n",
       "\n",
       "    .dataframe tbody tr th {\n",
       "        vertical-align: top;\n",
       "    }\n",
       "\n",
       "    .dataframe thead th {\n",
       "        text-align: right;\n",
       "    }\n",
       "</style>\n",
       "<table border=\"1\" class=\"dataframe\">\n",
       "  <thead>\n",
       "    <tr style=\"text-align: right;\">\n",
       "      <th></th>\n",
       "      <th>target</th>\n",
       "      <th>text</th>\n",
       "      <th>num_characters</th>\n",
       "      <th>num_words</th>\n",
       "    </tr>\n",
       "  </thead>\n",
       "  <tbody>\n",
       "    <tr>\n",
       "      <th>2184</th>\n",
       "      <td>0</td>\n",
       "      <td>I know a few people I can hit up and fuck to t...</td>\n",
       "      <td>52</td>\n",
       "      <td>14</td>\n",
       "    </tr>\n",
       "    <tr>\n",
       "      <th>3941</th>\n",
       "      <td>0</td>\n",
       "      <td>She's borderline but yeah whatever.</td>\n",
       "      <td>35</td>\n",
       "      <td>7</td>\n",
       "    </tr>\n",
       "    <tr>\n",
       "      <th>5152</th>\n",
       "      <td>0</td>\n",
       "      <td>Idk. I'm sitting here in a stop and shop parki...</td>\n",
       "      <td>184</td>\n",
       "      <td>43</td>\n",
       "    </tr>\n",
       "    <tr>\n",
       "      <th>466</th>\n",
       "      <td>0</td>\n",
       "      <td>They don't put that stuff on the roads to keep...</td>\n",
       "      <td>83</td>\n",
       "      <td>18</td>\n",
       "    </tr>\n",
       "    <tr>\n",
       "      <th>395</th>\n",
       "      <td>0</td>\n",
       "      <td>From here after The performance award is calcu...</td>\n",
       "      <td>102</td>\n",
       "      <td>17</td>\n",
       "    </tr>\n",
       "  </tbody>\n",
       "</table>\n",
       "</div>"
      ],
      "text/plain": [
       "      target                                               text  \\\n",
       "2184       0  I know a few people I can hit up and fuck to t...   \n",
       "3941       0                She's borderline but yeah whatever.   \n",
       "5152       0  Idk. I'm sitting here in a stop and shop parki...   \n",
       "466        0  They don't put that stuff on the roads to keep...   \n",
       "395        0  From here after The performance award is calcu...   \n",
       "\n",
       "      num_characters  num_words  \n",
       "2184              52         14  \n",
       "3941              35          7  \n",
       "5152             184         43  \n",
       "466               83         18  \n",
       "395              102         17  "
      ]
     },
     "execution_count": 33,
     "metadata": {},
     "output_type": "execute_result"
    }
   ],
   "source": [
    "email_data.sample(5)"
   ]
  },
  {
   "cell_type": "code",
   "execution_count": 34,
   "id": "a642de07",
   "metadata": {},
   "outputs": [],
   "source": [
    "#New Column: Num Of Sentences \n",
    "email_data[\"num_sentences\"] = email_data[\"text\"].apply(lambda x:len(nltk.sent_tokenize(x)))"
   ]
  },
  {
   "cell_type": "code",
   "execution_count": 35,
   "id": "d0bd06fe",
   "metadata": {},
   "outputs": [
    {
     "data": {
      "text/html": [
       "<div>\n",
       "<style scoped>\n",
       "    .dataframe tbody tr th:only-of-type {\n",
       "        vertical-align: middle;\n",
       "    }\n",
       "\n",
       "    .dataframe tbody tr th {\n",
       "        vertical-align: top;\n",
       "    }\n",
       "\n",
       "    .dataframe thead th {\n",
       "        text-align: right;\n",
       "    }\n",
       "</style>\n",
       "<table border=\"1\" class=\"dataframe\">\n",
       "  <thead>\n",
       "    <tr style=\"text-align: right;\">\n",
       "      <th></th>\n",
       "      <th>target</th>\n",
       "      <th>text</th>\n",
       "      <th>num_characters</th>\n",
       "      <th>num_words</th>\n",
       "      <th>num_sentences</th>\n",
       "    </tr>\n",
       "  </thead>\n",
       "  <tbody>\n",
       "    <tr>\n",
       "      <th>0</th>\n",
       "      <td>0</td>\n",
       "      <td>Go until jurong point, crazy.. Available only ...</td>\n",
       "      <td>111</td>\n",
       "      <td>24</td>\n",
       "      <td>2</td>\n",
       "    </tr>\n",
       "    <tr>\n",
       "      <th>1</th>\n",
       "      <td>0</td>\n",
       "      <td>Ok lar... Joking wif u oni...</td>\n",
       "      <td>29</td>\n",
       "      <td>8</td>\n",
       "      <td>2</td>\n",
       "    </tr>\n",
       "    <tr>\n",
       "      <th>2</th>\n",
       "      <td>1</td>\n",
       "      <td>Free entry in 2 a wkly comp to win FA Cup fina...</td>\n",
       "      <td>155</td>\n",
       "      <td>37</td>\n",
       "      <td>2</td>\n",
       "    </tr>\n",
       "    <tr>\n",
       "      <th>3</th>\n",
       "      <td>0</td>\n",
       "      <td>U dun say so early hor... U c already then say...</td>\n",
       "      <td>49</td>\n",
       "      <td>13</td>\n",
       "      <td>1</td>\n",
       "    </tr>\n",
       "    <tr>\n",
       "      <th>4</th>\n",
       "      <td>0</td>\n",
       "      <td>Nah I don't think he goes to usf, he lives aro...</td>\n",
       "      <td>61</td>\n",
       "      <td>15</td>\n",
       "      <td>1</td>\n",
       "    </tr>\n",
       "  </tbody>\n",
       "</table>\n",
       "</div>"
      ],
      "text/plain": [
       "   target                                               text  num_characters  \\\n",
       "0       0  Go until jurong point, crazy.. Available only ...             111   \n",
       "1       0                      Ok lar... Joking wif u oni...              29   \n",
       "2       1  Free entry in 2 a wkly comp to win FA Cup fina...             155   \n",
       "3       0  U dun say so early hor... U c already then say...              49   \n",
       "4       0  Nah I don't think he goes to usf, he lives aro...              61   \n",
       "\n",
       "   num_words  num_sentences  \n",
       "0         24              2  \n",
       "1          8              2  \n",
       "2         37              2  \n",
       "3         13              1  \n",
       "4         15              1  "
      ]
     },
     "execution_count": 35,
     "metadata": {},
     "output_type": "execute_result"
    }
   ],
   "source": [
    "email_data.head(5)"
   ]
  },
  {
   "cell_type": "code",
   "execution_count": 36,
   "id": "044e7464",
   "metadata": {},
   "outputs": [
    {
     "data": {
      "text/plain": [
       "Index(['target', 'text', 'num_characters', 'num_words', 'num_sentences'], dtype='object')"
      ]
     },
     "execution_count": 36,
     "metadata": {},
     "output_type": "execute_result"
    }
   ],
   "source": [
    "email_data.columns"
   ]
  },
  {
   "cell_type": "code",
   "execution_count": 38,
   "id": "ced7dc13",
   "metadata": {},
   "outputs": [
    {
     "data": {
      "text/html": [
       "<div>\n",
       "<style scoped>\n",
       "    .dataframe tbody tr th:only-of-type {\n",
       "        vertical-align: middle;\n",
       "    }\n",
       "\n",
       "    .dataframe tbody tr th {\n",
       "        vertical-align: top;\n",
       "    }\n",
       "\n",
       "    .dataframe thead th {\n",
       "        text-align: right;\n",
       "    }\n",
       "</style>\n",
       "<table border=\"1\" class=\"dataframe\">\n",
       "  <thead>\n",
       "    <tr style=\"text-align: right;\">\n",
       "      <th></th>\n",
       "      <th>num_characters</th>\n",
       "      <th>num_words</th>\n",
       "      <th>num_sentences</th>\n",
       "    </tr>\n",
       "  </thead>\n",
       "  <tbody>\n",
       "    <tr>\n",
       "      <th>count</th>\n",
       "      <td>4516.000000</td>\n",
       "      <td>4516.000000</td>\n",
       "      <td>4516.000000</td>\n",
       "    </tr>\n",
       "    <tr>\n",
       "      <th>mean</th>\n",
       "      <td>70.459256</td>\n",
       "      <td>17.120903</td>\n",
       "      <td>1.799601</td>\n",
       "    </tr>\n",
       "    <tr>\n",
       "      <th>std</th>\n",
       "      <td>56.358207</td>\n",
       "      <td>13.493725</td>\n",
       "      <td>1.278465</td>\n",
       "    </tr>\n",
       "    <tr>\n",
       "      <th>min</th>\n",
       "      <td>2.000000</td>\n",
       "      <td>1.000000</td>\n",
       "      <td>1.000000</td>\n",
       "    </tr>\n",
       "    <tr>\n",
       "      <th>25%</th>\n",
       "      <td>34.000000</td>\n",
       "      <td>8.000000</td>\n",
       "      <td>1.000000</td>\n",
       "    </tr>\n",
       "    <tr>\n",
       "      <th>50%</th>\n",
       "      <td>52.000000</td>\n",
       "      <td>13.000000</td>\n",
       "      <td>1.000000</td>\n",
       "    </tr>\n",
       "    <tr>\n",
       "      <th>75%</th>\n",
       "      <td>90.000000</td>\n",
       "      <td>22.000000</td>\n",
       "      <td>2.000000</td>\n",
       "    </tr>\n",
       "    <tr>\n",
       "      <th>max</th>\n",
       "      <td>910.000000</td>\n",
       "      <td>220.000000</td>\n",
       "      <td>28.000000</td>\n",
       "    </tr>\n",
       "  </tbody>\n",
       "</table>\n",
       "</div>"
      ],
      "text/plain": [
       "       num_characters    num_words  num_sentences\n",
       "count     4516.000000  4516.000000    4516.000000\n",
       "mean        70.459256    17.120903       1.799601\n",
       "std         56.358207    13.493725       1.278465\n",
       "min          2.000000     1.000000       1.000000\n",
       "25%         34.000000     8.000000       1.000000\n",
       "50%         52.000000    13.000000       1.000000\n",
       "75%         90.000000    22.000000       2.000000\n",
       "max        910.000000   220.000000      28.000000"
      ]
     },
     "execution_count": 38,
     "metadata": {},
     "output_type": "execute_result"
    }
   ],
   "source": [
    "#for ham messages \n",
    "email_data[email_data[\"target\"]==0][['num_characters', 'num_words', 'num_sentences']].describe()"
   ]
  },
  {
   "cell_type": "code",
   "execution_count": 39,
   "id": "73c2428f",
   "metadata": {},
   "outputs": [
    {
     "data": {
      "text/html": [
       "<div>\n",
       "<style scoped>\n",
       "    .dataframe tbody tr th:only-of-type {\n",
       "        vertical-align: middle;\n",
       "    }\n",
       "\n",
       "    .dataframe tbody tr th {\n",
       "        vertical-align: top;\n",
       "    }\n",
       "\n",
       "    .dataframe thead th {\n",
       "        text-align: right;\n",
       "    }\n",
       "</style>\n",
       "<table border=\"1\" class=\"dataframe\">\n",
       "  <thead>\n",
       "    <tr style=\"text-align: right;\">\n",
       "      <th></th>\n",
       "      <th>num_characters</th>\n",
       "      <th>num_words</th>\n",
       "      <th>num_sentences</th>\n",
       "    </tr>\n",
       "  </thead>\n",
       "  <tbody>\n",
       "    <tr>\n",
       "      <th>count</th>\n",
       "      <td>653.000000</td>\n",
       "      <td>653.000000</td>\n",
       "      <td>653.000000</td>\n",
       "    </tr>\n",
       "    <tr>\n",
       "      <th>mean</th>\n",
       "      <td>137.891271</td>\n",
       "      <td>27.667688</td>\n",
       "      <td>2.967841</td>\n",
       "    </tr>\n",
       "    <tr>\n",
       "      <th>std</th>\n",
       "      <td>30.137753</td>\n",
       "      <td>7.008418</td>\n",
       "      <td>1.483201</td>\n",
       "    </tr>\n",
       "    <tr>\n",
       "      <th>min</th>\n",
       "      <td>13.000000</td>\n",
       "      <td>2.000000</td>\n",
       "      <td>1.000000</td>\n",
       "    </tr>\n",
       "    <tr>\n",
       "      <th>25%</th>\n",
       "      <td>132.000000</td>\n",
       "      <td>25.000000</td>\n",
       "      <td>2.000000</td>\n",
       "    </tr>\n",
       "    <tr>\n",
       "      <th>50%</th>\n",
       "      <td>149.000000</td>\n",
       "      <td>29.000000</td>\n",
       "      <td>3.000000</td>\n",
       "    </tr>\n",
       "    <tr>\n",
       "      <th>75%</th>\n",
       "      <td>157.000000</td>\n",
       "      <td>32.000000</td>\n",
       "      <td>4.000000</td>\n",
       "    </tr>\n",
       "    <tr>\n",
       "      <th>max</th>\n",
       "      <td>224.000000</td>\n",
       "      <td>46.000000</td>\n",
       "      <td>8.000000</td>\n",
       "    </tr>\n",
       "  </tbody>\n",
       "</table>\n",
       "</div>"
      ],
      "text/plain": [
       "       num_characters   num_words  num_sentences\n",
       "count      653.000000  653.000000     653.000000\n",
       "mean       137.891271   27.667688       2.967841\n",
       "std         30.137753    7.008418       1.483201\n",
       "min         13.000000    2.000000       1.000000\n",
       "25%        132.000000   25.000000       2.000000\n",
       "50%        149.000000   29.000000       3.000000\n",
       "75%        157.000000   32.000000       4.000000\n",
       "max        224.000000   46.000000       8.000000"
      ]
     },
     "execution_count": 39,
     "metadata": {},
     "output_type": "execute_result"
    }
   ],
   "source": [
    "email_data[email_data[\"target\"]==1][['num_characters', 'num_words', 'num_sentences']].describe()"
   ]
  },
  {
   "cell_type": "raw",
   "id": "cdfc1c2f",
   "metadata": {},
   "source": [
    "we can observe the spam messages are comparatively longer than the ham messages\n",
    "mean num_characters for Ham < mean num_characters for Spam "
   ]
  },
  {
   "cell_type": "code",
   "execution_count": 40,
   "id": "d71478a6",
   "metadata": {},
   "outputs": [
    {
     "data": {
      "text/plain": [
       "<AxesSubplot:xlabel='num_characters', ylabel='Count'>"
      ]
     },
     "execution_count": 40,
     "metadata": {},
     "output_type": "execute_result"
    },
    {
     "data": {
      "image/png": "[encoded data removed]",
      "text/plain": [
       "<Figure size 864x432 with 1 Axes>"
      ]
     },
     "metadata": {
      "needs_background": "light"
     },
     "output_type": "display_data"
    }
   ],
   "source": [
    "plt.figure(figsize=(12,6))\n",
    "sns.histplot(email_data[email_data[\"target\"]==0][\"num_characters\"])\n",
    "sns.histplot(email_data[email_data[\"target\"]==1][\"num_characters\"],color=\"red\")"
   ]
  },
  {
   "cell_type": "code",
   "execution_count": 41,
   "id": "87895fd5",
   "metadata": {},
   "outputs": [
    {
     "data": {
      "text/plain": [
       "<AxesSubplot:xlabel='num_words', ylabel='Count'>"
      ]
     },
     "execution_count": 41,
     "metadata": {},
     "output_type": "execute_result"
    },
    {
     "data": {
      "image/png": "[encoded data removed]",
      "text/plain": [
       "<Figure size 864x432 with 1 Axes>"
      ]
     },
     "metadata": {
      "needs_background": "light"
     },
     "output_type": "display_data"
    }
   ],
   "source": [
    "plt.figure(figsize=(12,6))\n",
    "sns.histplot(email_data[email_data[\"target\"]==0][\"num_words\"])\n",
    "sns.histplot(email_data[email_data[\"target\"]==1][\"num_words\"],color=\"red\")"
   ]
  },
  {
   "cell_type": "code",
   "execution_count": 42,
   "id": "8f86f5f8",
   "metadata": {},
   "outputs": [
    {
     "data": {
      "text/plain": [
       "<seaborn.axisgrid.PairGrid at 0x23096f4ac10>"
      ]
     },
     "execution_count": 42,
     "metadata": {},
     "output_type": "execute_result"
    },
    {
     "data": {
      "image/png": "[encoded data removed]",
      "text/plain": [
       "<Figure size 582.375x540 with 12 Axes>"
      ]
     },
     "metadata": {
      "needs_background": "light"
     },
     "output_type": "display_data"
    }
   ],
   "source": [
    "sns.pairplot(email_data, hue=\"target\")"
   ]
  },
  {
   "cell_type": "raw",
   "id": "9e75ff6a",
   "metadata": {},
   "source": [
    "there are outliers in ham messages# "
   ]
  },
  {
   "cell_type": "code",
   "execution_count": 43,
   "id": "29011150",
   "metadata": {
    "scrolled": true
   },
   "outputs": [
    {
     "data": {
      "text/html": [
       "<div>\n",
       "<style scoped>\n",
       "    .dataframe tbody tr th:only-of-type {\n",
       "        vertical-align: middle;\n",
       "    }\n",
       "\n",
       "    .dataframe tbody tr th {\n",
       "        vertical-align: top;\n",
       "    }\n",
       "\n",
       "    .dataframe thead th {\n",
       "        text-align: right;\n",
       "    }\n",
       "</style>\n",
       "<table border=\"1\" class=\"dataframe\">\n",
       "  <thead>\n",
       "    <tr style=\"text-align: right;\">\n",
       "      <th></th>\n",
       "      <th>target</th>\n",
       "      <th>num_characters</th>\n",
       "      <th>num_words</th>\n",
       "      <th>num_sentences</th>\n",
       "    </tr>\n",
       "  </thead>\n",
       "  <tbody>\n",
       "    <tr>\n",
       "      <th>target</th>\n",
       "      <td>1.000000</td>\n",
       "      <td>0.384717</td>\n",
       "      <td>0.262984</td>\n",
       "      <td>0.284901</td>\n",
       "    </tr>\n",
       "    <tr>\n",
       "      <th>num_characters</th>\n",
       "      <td>0.384717</td>\n",
       "      <td>1.000000</td>\n",
       "      <td>0.965770</td>\n",
       "      <td>0.638143</td>\n",
       "    </tr>\n",
       "    <tr>\n",
       "      <th>num_words</th>\n",
       "      <td>0.262984</td>\n",
       "      <td>0.965770</td>\n",
       "      <td>1.000000</td>\n",
       "      <td>0.684541</td>\n",
       "    </tr>\n",
       "    <tr>\n",
       "      <th>num_sentences</th>\n",
       "      <td>0.284901</td>\n",
       "      <td>0.638143</td>\n",
       "      <td>0.684541</td>\n",
       "      <td>1.000000</td>\n",
       "    </tr>\n",
       "  </tbody>\n",
       "</table>\n",
       "</div>"
      ],
      "text/plain": [
       "                  target  num_characters  num_words  num_sentences\n",
       "target          1.000000        0.384717   0.262984       0.284901\n",
       "num_characters  0.384717        1.000000   0.965770       0.638143\n",
       "num_words       0.262984        0.965770   1.000000       0.684541\n",
       "num_sentences   0.284901        0.638143   0.684541       1.000000"
      ]
     },
     "execution_count": 43,
     "metadata": {},
     "output_type": "execute_result"
    }
   ],
   "source": [
    "email_data.corr()"
   ]
  },
  {
   "cell_type": "code",
   "execution_count": 44,
   "id": "1a0f4e7b",
   "metadata": {},
   "outputs": [
    {
     "data": {
      "text/plain": [
       "<AxesSubplot:>"
      ]
     },
     "execution_count": 44,
     "metadata": {},
     "output_type": "execute_result"
    },
    {
     "data": {
      "image/png": "[encoded data removed]",
      "text/plain": [
       "<Figure size 432x288 with 2 Axes>"
      ]
     },
     "metadata": {
      "needs_background": "light"
     },
     "output_type": "display_data"
    }
   ],
   "source": [
    "sns.heatmap(email_data.corr(), annot=True)"
   ]
  },
  {
   "cell_type": "raw",
   "id": "571a817c",
   "metadata": {},
   "source": [
    "There is multicollinearity in this dataset as high correlation between num_characters and num_words. Here, We will keep one of these 3 columns. we will keep only num_characters only as having 0.38 higher correlation."
   ]
  },
  {
   "cell_type": "markdown",
   "id": "58dfebb2",
   "metadata": {},
   "source": [
    "# 3. Data Preprocessing "
   ]
  },
  {
   "cell_type": "raw",
   "id": "d3c2ac55",
   "metadata": {},
   "source": [
    "Lower Case(converting in lower case to all mail)\n",
    "Tokenization(breaking in words)\n",
    "Removing special characters(removing %, $,_u etc as no importance in meaning)\n",
    "Removing stop words and punctuation(removing those words which are required in sentence formation but no meaning)\n",
    "stemming(also called limitization,removes those words which are repeated as they having same meaning)"
   ]
  },
  {
   "cell_type": "code",
   "execution_count": 45,
   "id": "b6f54bce",
   "metadata": {},
   "outputs": [
    {
     "data": {
      "text/plain": [
       "['a',\n",
       " 'about',\n",
       " 'above',\n",
       " 'after',\n",
       " 'again',\n",
       " 'against',\n",
       " 'ain',\n",
       " 'all',\n",
       " 'am',\n",
       " 'an',\n",
       " 'and',\n",
       " 'any',\n",
       " 'are',\n",
       " 'aren',\n",
       " \"aren't\",\n",
       " 'as',\n",
       " 'at',\n",
       " 'be',\n",
       " 'because',\n",
       " 'been',\n",
       " 'before',\n",
       " 'being',\n",
       " 'below',\n",
       " 'between',\n",
       " 'both',\n",
       " 'but',\n",
       " 'by',\n",
       " 'can',\n",
       " 'couldn',\n",
       " \"couldn't\",\n",
       " 'd',\n",
       " 'did',\n",
       " 'didn',\n",
       " \"didn't\",\n",
       " 'do',\n",
       " 'does',\n",
       " 'doesn',\n",
       " \"doesn't\",\n",
       " 'doing',\n",
       " 'don',\n",
       " \"don't\",\n",
       " 'down',\n",
       " 'during',\n",
       " 'each',\n",
       " 'few',\n",
       " 'for',\n",
       " 'from',\n",
       " 'further',\n",
       " 'had',\n",
       " 'hadn',\n",
       " \"hadn't\",\n",
       " 'has',\n",
       " 'hasn',\n",
       " \"hasn't\",\n",
       " 'have',\n",
       " 'haven',\n",
       " \"haven't\",\n",
       " 'having',\n",
       " 'he',\n",
       " \"he'd\",\n",
       " \"he'll\",\n",
       " 'her',\n",
       " 'here',\n",
       " 'hers',\n",
       " 'herself',\n",
       " \"he's\",\n",
       " 'him',\n",
       " 'himself',\n",
       " 'his',\n",
       " 'how',\n",
       " 'i',\n",
       " \"i'd\",\n",
       " 'if',\n",
       " \"i'll\",\n",
       " \"i'm\",\n",
       " 'in',\n",
       " 'into',\n",
       " 'is',\n",
       " 'isn',\n",
       " \"isn't\",\n",
       " 'it',\n",
       " \"it'd\",\n",
       " \"it'll\",\n",
       " \"it's\",\n",
       " 'its',\n",
       " 'itself',\n",
       " \"i've\",\n",
       " 'just',\n",
       " 'll',\n",
       " 'm',\n",
       " 'ma',\n",
       " 'me',\n",
       " 'mightn',\n",
       " \"mightn't\",\n",
       " 'more',\n",
       " 'most',\n",
       " 'mustn',\n",
       " \"mustn't\",\n",
       " 'my',\n",
       " 'myself',\n",
       " 'needn',\n",
       " \"needn't\",\n",
       " 'no',\n",
       " 'nor',\n",
       " 'not',\n",
       " 'now',\n",
       " 'o',\n",
       " 'of',\n",
       " 'off',\n",
       " 'on',\n",
       " 'once',\n",
       " 'only',\n",
       " 'or',\n",
       " 'other',\n",
       " 'our',\n",
       " 'ours',\n",
       " 'ourselves',\n",
       " 'out',\n",
       " 'over',\n",
       " 'own',\n",
       " 're',\n",
       " 's',\n",
       " 'same',\n",
       " 'shan',\n",
       " \"shan't\",\n",
       " 'she',\n",
       " \"she'd\",\n",
       " \"she'll\",\n",
       " \"she's\",\n",
       " 'should',\n",
       " 'shouldn',\n",
       " \"shouldn't\",\n",
       " \"should've\",\n",
       " 'so',\n",
       " 'some',\n",
       " 'such',\n",
       " 't',\n",
       " 'than',\n",
       " 'that',\n",
       " \"that'll\",\n",
       " 'the',\n",
       " 'their',\n",
       " 'theirs',\n",
       " 'them',\n",
       " 'themselves',\n",
       " 'then',\n",
       " 'there',\n",
       " 'these',\n",
       " 'they',\n",
       " \"they'd\",\n",
       " \"they'll\",\n",
       " \"they're\",\n",
       " \"they've\",\n",
       " 'this',\n",
       " 'those',\n",
       " 'through',\n",
       " 'to',\n",
       " 'too',\n",
       " 'under',\n",
       " 'until',\n",
       " 'up',\n",
       " 've',\n",
       " 'very',\n",
       " 'was',\n",
       " 'wasn',\n",
       " \"wasn't\",\n",
       " 'we',\n",
       " \"we'd\",\n",
       " \"we'll\",\n",
       " \"we're\",\n",
       " 'were',\n",
       " 'weren',\n",
       " \"weren't\",\n",
       " \"we've\",\n",
       " 'what',\n",
       " 'when',\n",
       " 'where',\n",
       " 'which',\n",
       " 'while',\n",
       " 'who',\n",
       " 'whom',\n",
       " 'why',\n",
       " 'will',\n",
       " 'with',\n",
       " 'won',\n",
       " \"won't\",\n",
       " 'wouldn',\n",
       " \"wouldn't\",\n",
       " 'y',\n",
       " 'you',\n",
       " \"you'd\",\n",
       " \"you'll\",\n",
       " 'your',\n",
       " \"you're\",\n",
       " 'yours',\n",
       " 'yourself',\n",
       " 'yourselves',\n",
       " \"you've\"]"
      ]
     },
     "execution_count": 45,
     "metadata": {},
     "output_type": "execute_result"
    }
   ],
   "source": [
    "from nltk.corpus import stopwords\n",
    "stopwords.words('english')"
   ]
  },
  {
   "cell_type": "code",
   "execution_count": 46,
   "id": "98be918d",
   "metadata": {},
   "outputs": [
    {
     "name": "stderr",
     "output_type": "stream",
     "text": [
      "[nltk_data] Downloading package stopwords to\n",
      "[nltk_data]     C:\\Users\\banba\\AppData\\Roaming\\nltk_data...\n",
      "[nltk_data]   Package stopwords is already up-to-date!\n"
     ]
    },
    {
     "data": {
      "text/plain": [
       "True"
      ]
     },
     "execution_count": 46,
     "metadata": {},
     "output_type": "execute_result"
    }
   ],
   "source": [
    "import nltk\n",
    "nltk.download('stopwords')"
   ]
  },
  {
   "cell_type": "code",
   "execution_count": 47,
   "id": "deb28bcd",
   "metadata": {},
   "outputs": [
    {
     "data": {
      "text/plain": [
       "'!\"#$%&\\'()*+,-./:;<=>?@[\\\\]^_`{|}~'"
      ]
     },
     "execution_count": 47,
     "metadata": {},
     "output_type": "execute_result"
    }
   ],
   "source": [
    "import string\n",
    "string.punctuation"
   ]
  },
  {
   "cell_type": "code",
   "execution_count": 48,
   "id": "d5d8788a",
   "metadata": {},
   "outputs": [
    {
     "data": {
      "text/plain": [
       "'danc'"
      ]
     },
     "execution_count": 48,
     "metadata": {},
     "output_type": "execute_result"
    }
   ],
   "source": [
    "from nltk.stem.porter import PorterStemmer\n",
    "ps = PorterStemmer()\n",
    "ps.stem(\"dancing\")"
   ]
  },
  {
   "cell_type": "code",
   "execution_count": 49,
   "id": "54f690c4",
   "metadata": {},
   "outputs": [],
   "source": [
    "def transform_text(text):#####\n",
    "    text = text.lower()\n",
    "    text = nltk.word_tokenize(text)\n",
    "    y =[]\n",
    "    for i in text:\n",
    "        if i.isalnum():\n",
    "            y.append(i)\n",
    "    txt = y[:]\n",
    "    y.clear()\n",
    "    for i in txt:\n",
    "        if i not in stopwords.words('english') and i not in string.punctuation:\n",
    "            y.append(i)\n",
    "    txt2 = y[:]\n",
    "    y.clear()\n",
    "    for i in txt2:\n",
    "        y.append(ps.stem(i))\n",
    "    return \" \".join(y)"
   ]
  },
  {
   "cell_type": "code",
   "execution_count": 50,
   "id": "885aa2eb",
   "metadata": {},
   "outputs": [
    {
     "data": {
      "text/plain": [
       "0       go jurong point crazi avail bugi n great world...\n",
       "1                                   ok lar joke wif u oni\n",
       "2       free entri 2 wkli comp win fa cup final tkt 21...\n",
       "3                     u dun say earli hor u c alreadi say\n",
       "4                    nah think goe usf live around though\n",
       "                              ...                        \n",
       "5567    2nd time tri 2 contact u pound prize 2 claim e...\n",
       "5568                                b go esplanad fr home\n",
       "5569                                    piti mood suggest\n",
       "5570    guy bitch act like interest buy someth els nex...\n",
       "5571                                       rofl true name\n",
       "Name: text, Length: 5169, dtype: object"
      ]
     },
     "execution_count": 50,
     "metadata": {},
     "output_type": "execute_result"
    }
   ],
   "source": [
    "email_data[\"text\"].apply(transform_text)"
   ]
  },
  {
   "cell_type": "code",
   "execution_count": 51,
   "id": "ad6ea14f",
   "metadata": {},
   "outputs": [
    {
     "data": {
      "text/plain": [
       "'ok lar joke wif u oni'"
      ]
     },
     "execution_count": 51,
     "metadata": {},
     "output_type": "execute_result"
    }
   ],
   "source": [
    "transform_text(email_data[\"text\"].iloc[1])"
   ]
  },
  {
   "cell_type": "code",
   "execution_count": 52,
   "id": "a262784e",
   "metadata": {},
   "outputs": [
    {
     "data": {
      "text/plain": [
       "'Ok lar... Joking wif u oni...'"
      ]
     },
     "execution_count": 52,
     "metadata": {},
     "output_type": "execute_result"
    }
   ],
   "source": [
    "email_data[\"text\"].iloc[1]"
   ]
  },
  {
   "cell_type": "code",
   "execution_count": 53,
   "id": "7cc4ed1b",
   "metadata": {},
   "outputs": [
    {
     "data": {
      "text/plain": [
       "'Ok lar... Joking wif u oni...'"
      ]
     },
     "execution_count": 53,
     "metadata": {},
     "output_type": "execute_result"
    }
   ],
   "source": [
    "email_data.loc[1, \"text\"]"
   ]
  },
  {
   "cell_type": "code",
   "execution_count": 54,
   "id": "d643d95d",
   "metadata": {},
   "outputs": [
    {
     "data": {
      "text/plain": [
       "'ok lar joke wif u oni'"
      ]
     },
     "execution_count": 54,
     "metadata": {},
     "output_type": "execute_result"
    }
   ],
   "source": [
    "transform_text(email_data[\"text\"].iloc[1])"
   ]
  },
  {
   "cell_type": "code",
   "execution_count": 55,
   "id": "d0b591cd",
   "metadata": {},
   "outputs": [],
   "source": [
    "email_data[\"transformed_text\"] = email_data[\"text\"].apply(transform_text)"
   ]
  },
  {
   "cell_type": "raw",
   "id": "fb613edb",
   "metadata": {},
   "source": [
    "Now, We will make Word Cloud "
   ]
  },
  {
   "cell_type": "code",
   "execution_count": 56,
   "id": "f6abfa2d",
   "metadata": {},
   "outputs": [],
   "source": [
    "from wordcloud import WordCloud\n",
    "wc = WordCloud(width=500, height=500,min_font_size=10,background_color=\"white\")"
   ]
  },
  {
   "cell_type": "code",
   "execution_count": 57,
   "id": "fa042c9c",
   "metadata": {
    "scrolled": true
   },
   "outputs": [],
   "source": [
    "#spam_wc = wc.generate(email_data[email_data[\"target\"]==1][\"transformed_text\"].str.cat(sep= \" \")) \n",
    "#plt.imshow(spam_wc)"
   ]
  },
  {
   "cell_type": "code",
   "execution_count": 58,
   "id": "db07dccf",
   "metadata": {},
   "outputs": [],
   "source": [
    "#ham_wc = wc.generate(email_data[email_data[\"target\"]==0][\"transformed_text\"].str.cat(sep= \" \")) \n",
    "#plt.imshow(ham_wc)"
   ]
  },
  {
   "cell_type": "code",
   "execution_count": null,
   "id": "fac98408",
   "metadata": {},
   "outputs": [],
   "source": [
    "# Now we will check for top words in spam and ham"
   ]
  },
  {
   "cell_type": "code",
   "execution_count": 59,
   "id": "0ea52cbb",
   "metadata": {},
   "outputs": [],
   "source": [
    "spam_words = []\n",
    "for msg in email_data[email_data[\"target\"]==1][\"transformed_text\"].tolist():\n",
    "    for word in msg.split():\n",
    "        spam_words.append(word)"
   ]
  },
  {
   "cell_type": "code",
   "execution_count": 60,
   "id": "3585b844",
   "metadata": {},
   "outputs": [
    {
     "name": "stdout",
     "output_type": "stream",
     "text": [
      "['free', 'entri', '2', 'wkli', 'comp', 'win', 'fa', 'cup', 'final', 'tkt', '21st', 'may', 'text', 'fa', '87121', 'receiv', 'entri', 'question', 'std', 'txt', 'rate', 'c', 'appli', '08452810075over18', 'freemsg', 'hey', 'darl', '3', 'week', 'word', 'back', 'like', 'fun', 'still', 'tb', 'ok', 'xxx', 'std', 'chg', 'send', 'rcv', 'winner', 'valu', 'network', 'custom', 'select', 'receivea', 'prize', 'reward', 'claim', 'call', 'claim', 'code', 'kl341', 'valid', '12', 'hour', 'mobil', '11', 'month', 'u', 'r', 'entitl', 'updat', 'latest', 'colour', 'mobil', 'camera', 'free', 'call', 'mobil', 'updat', 'co', 'free', '08002986030', 'six', 'chanc', 'win', 'cash', '100', 'pound', 'txt', 'csh11', 'send', 'cost', '6day', 'tsandc', 'appli', 'repli', 'hl', '4', 'info', 'urgent', '1', 'week', 'free', 'membership', 'prize', 'jackpot', 'txt', 'word', 'claim', '81010', 'c', 'lccltd', 'pobox', '4403ldnw1a7rw18', 'xxxmobilemovieclub', 'use', 'credit', 'click', 'wap', 'link', 'next', 'txt', 'messag', 'click', 'http', 'england', 'v', 'macedonia', 'dont', 'miss', 'news', 'txt', 'ur', 'nation', 'team', '87077', 'eg', 'england', '87077', 'tri', 'wale', 'scotland', 'poboxox36504w45wq', 'thank', 'subscript', 'rington', 'uk', 'mobil', 'charg', 'pleas', 'confirm', 'repli', 'ye', 'repli', 'charg', '07732584351', 'rodger', 'burn', 'msg', 'tri', 'call', 'repli', 'sm', 'free', 'nokia', 'mobil', 'free', 'camcord', 'pleas', 'call', '08000930705', 'deliveri', 'tomorrow', 'sm', 'ac', 'sptv', 'new', 'jersey', 'devil', 'detroit', 'red', 'wing', 'play', 'ice', 'hockey', 'correct', 'incorrect', 'end', 'repli', 'end', 'sptv', 'congrat', '1', 'year', 'special', 'cinema', 'pass', '2', 'call', '09061209465', 'c', 'suprman', 'v', 'matrix3', 'starwars3', 'etc', '4', 'free', '150pm', 'dont', 'miss', 'valu', 'custom', 'pleas', 'advis', 'follow', 'recent', 'review', 'mob', 'award', 'bonu', 'prize', 'call', '09066364589', 'urgent', 'ur', 'award', 'complimentari', 'trip', 'eurodisinc', 'trav', 'aco', 'entry41', 'claim', 'txt', 'di', '87121', 'morefrmmob', 'shracomorsglsuplt', '10', 'ls1', '3aj', 'hear', 'new', 'come', 'ken', 'stuff', 'pleas', 'call', 'custom', 'servic', 'repres', '0800', '169', '6031', 'guarante', 'cash', 'prize', 'free', 'rington', 'wait', 'collect', 'simpli', 'text', 'password', '85069', 'verifi', 'get', 'usher', 'britney', 'fml', 'gent', 'tri', 'contact', 'last', 'weekend', 'draw', 'show', 'prize', 'guarante', 'call', 'claim', 'code', 'k52', 'valid', '12hr', '150ppm', 'winner', 'u', 'special', 'select', '2', 'receiv', '4', 'holiday', 'flight', 'inc', 'speak', 'live', 'oper', '2', 'claim', 'privat', '2004', 'account', 'statement', '07742676969', 'show', '786', 'unredeem', 'bonu', 'point', 'claim', 'call', '08719180248', 'identifi', 'code', '45239', 'expir', 'urgent', 'mobil', 'award', 'bonu', 'caller', 'prize', 'final', 'tri', 'contact', 'u', 'call', 'landlin', '09064019788', 'box42wr29c', '150ppm', 'today', 'voda', 'number', 'end', '7548', 'select', 'receiv', '350', 'award', 'match', 'pleas', 'call', '08712300220', 'quot', 'claim', 'code', '4041', 'standard', 'rate', 'app', 'sunshin', 'quiz', 'wkli', 'q', 'win', 'top', 'soni', 'dvd', 'player', 'u', 'know', 'countri', 'algarv', 'txt', 'ansr', 'sp', 'tyron', 'want', '2', 'get', 'laid', 'tonight', 'want', 'real', 'dog', 'locat', 'sent', 'direct', '2', 'ur', 'mob', 'join', 'uk', 'largest', 'dog', 'network', 'bt', 'txting', 'gravel', '69888', 'nt', 'ec2a', '150p', 'rcv', 'msg', 'chat', 'svc', 'free', 'hardcor', 'servic', 'text', 'go', '69988', 'u', 'get', 'noth', 'u', 'must', 'age', 'verifi', 'yr', 'network', 'tri', 'freemsg', 'repli', 'text', 'randi', 'sexi', 'femal', 'live', 'local', 'luv', 'hear', 'netcollex', 'ltd', '08700621170150p', 'per', 'msg', 'repli', 'stop', 'end', 'custom', 'servic', 'annonc', 'new', 'year', 'deliveri', 'wait', 'pleas', 'call', '07046744435', 'arrang', 'deliveri', 'winner', 'u', 'special', 'select', '2', 'receiv', 'cash', '4', 'holiday', 'flight', 'inc', 'speak', 'live', 'oper', '2', 'claim', '0871277810810', 'stop', 'bootydeli', 'invit', 'friend', 'repli', 'see', 'stop', 'send', 'stop', 'frnd', '62468', 'bangbab', 'ur', 'order', 'way', 'u', 'receiv', 'servic', 'msg', '2', 'download', 'ur', 'content', 'u', 'goto', 'wap', 'bangb', 'tv', 'ur', 'mobil', 'menu', 'urgent', 'tri', 'contact', 'last', 'weekend', 'draw', 'show', 'prize', 'guarante', 'call', 'claim', 'code', 's89', 'valid', '12hr', 'pleas', 'call', 'custom', 'servic', 'repres', 'freephon', '0808', '145', '4742', 'guarante', 'cash', 'prize', 'uniqu', 'enough', 'find', '30th', 'august', '500', 'new', 'mobil', '2004', 'must', 'go', 'txt', 'nokia', '89545', 'collect', 'today', '2optout', 'u', 'meet', 'ur', 'dream', 'partner', 'soon', 'ur', 'career', '2', 'flyng', 'start', '2', 'find', 'free', 'txt', 'horo', 'follow', 'ur', 'star', 'sign', 'horo', 'ari', 'text', 'meet', 'someon', 'sexi', 'today', 'u', 'find', 'date', 'even', 'flirt', 'join', '4', '10p', 'repli', 'name', 'age', 'eg', 'sam', '25', '18', 'recd', 'thirtyeight', 'penc', 'u', '447801259231', 'secret', 'admir', 'look', '2', 'make', 'contact', 'r', 'reveal', 'think', 'ur', '09058094597', 'congratul', 'ur', 'award', '500', 'cd', 'voucher', '125gift', 'guarante', 'free', 'entri', '2', '100', 'wkli', 'draw', 'txt', 'music', '87066', 'tnc', 'tri', 'contact', 'repli', 'offer', 'video', 'handset', '750', 'anytim', 'network', 'min', 'unlimit', 'text', 'camcord', 'repli', 'call', '08000930705', 'hey', 'realli', 'horni', 'want', 'chat', 'see', 'nake', 'text', 'hot', '69698', 'text', 'charg', '150pm', 'unsubscrib', 'text', 'stop', '69698', 'ur', 'rington', 'servic', 'chang', '25', 'free', 'credit', 'go', 'choos', 'content', 'stop', 'txt', 'club', 'stop', '87070', 'club4', 'po', 'box1146', 'mk45', '2wt', 'rington', 'club', 'get', 'uk', 'singl', 'chart', 'mobil', 'week', 'choos', 'top', 'qualiti', 'rington', 'messag', 'free', 'charg', 'hmv', 'bonu', 'special', '500', 'pound', 'genuin', 'hmv', 'voucher', 'answer', '4', 'easi', 'question', 'play', 'send', 'hmv', '86688', 'info', 'custom', 'may', 'claim', 'free', 'camera', 'phone', 'upgrad', 'pay', 'go', 'sim', 'card', 'loyalti', 'call', '0845', '021', 'end', 'c', 'appli', 'sm', 'ac', 'blind', 'date', '4u', 'rodds1', 'aberdeen', 'unit', 'kingdom', 'check', 'http', 'sm', 'blind', 'date', 'send', 'hide', 'themob', 'check', 'newest', 'select', 'content', 'game', 'tone', 'gossip', 'babe', 'sport', 'keep', 'mobil', 'fit', 'funki', 'text', 'wap', '82468', 'think', 'ur', 'smart', 'win', 'week', 'weekli', 'quiz', 'text', 'play', '85222', 'cs', 'winnersclub', 'po', 'box', '84', 'm26', '3uz', 'decemb', 'mobil', 'entitl', 'updat', 'latest', 'colour', 'camera', 'mobil', 'free', 'call', 'mobil', 'updat', 'co', 'free', '08002986906', 'call', 'germani', '1', 'penc', 'per', 'minut', 'call', 'fix', 'line', 'via', 'access', 'number', '0844', '861', '85', 'prepay', 'direct', 'access', 'valentin', 'day', 'special', 'win', 'quiz', 'take', 'partner', 'trip', 'lifetim', 'send', 'go', '83600', 'rcvd', 'fanci', 'shag', 'txt', 'xxuk', 'suzi', 'txt', 'cost', 'per', 'msg', 'tnc', 'websit', 'x', 'ur', 'current', '500', 'pound', 'maxim', 'ur', 'send', 'cash', '86688', 'cc', '08708800282', 'xma', 'offer', 'latest', 'motorola', 'sonyericsson', 'nokia', 'free', 'bluetooth', 'doubl', 'min', '1000', 'txt', 'orang', 'call', 'mobileupd8', '08000839402', 'discount', 'code', 'rp176781', 'stop', 'messag', 'repli', 'stop', 'custom', 'servic', '08717205546', 'thank', 'rington', 'order', 'refer', 't91', 'charg', 'gbp', '4', 'per', 'week', 'unsubscrib', 'anytim', 'call', 'custom', 'servic', '09057039994', 'doubl', 'min', 'txt', '4', '6month', 'free', 'bluetooth', 'orang', 'avail', 'soni', 'nokia', 'motorola', 'phone', 'call', 'mobileupd8', '08000839402', '4mth', 'half', 'price', 'orang', 'line', 'rental', 'latest', 'camera', 'phone', '4', 'free', 'phone', '11mth', 'call', 'mobilesdirect', 'free', '08000938767', 'updat', 'or2stoptxt', 'free', 'rington', 'text', 'first', '87131', 'poli', 'text', 'get', '87131', 'true', 'tone', 'help', '0845', '2814032', '16', '1st', 'free', 'tone', 'txt', 'stop', '100', 'date', 'servic', 'cal', 'l', '09064012103', 'box334sk38ch', 'free', 'entri', 'weekli', 'competit', 'text', 'word', 'win', '80086', '18', 'c', 'send', 'logo', '2', 'ur', 'lover', '2', 'name', 'join', 'heart', 'txt', 'love', 'name1', 'name2', 'mobno', 'eg', 'love', 'adam', 'eve', '07123456789', '87077', 'yahoo', 'pobox36504w45wq', 'txtno', '4', 'ad', '150p', 'someon', 'contact', 'date', 'servic', 'enter', 'phone', 'fanci', 'find', 'call', 'landlin', '09111032124', 'pobox12n146tf150p', 'urgent', 'mobil', 'number', 'award', 'prize', 'guarante', 'call', '09058094455', 'land', 'line', 'claim', 'valid', '12hr', 'congrat', 'nokia', '3650', 'video', 'camera', 'phone', 'call', '09066382422', 'call', 'cost', '150ppm', 'ave', 'call', '3min', 'vari', 'mobil', 'close', '300603', 'post', 'bcm4284', 'ldn', 'wc1n3xx', 'loan', 'purpos', 'homeown', 'tenant', 'welcom', 'previous', 'refus', 'still', 'help', 'call', 'free', '0800', '1956669', 'text', 'back', 'upgrdcentr', 'orang', 'custom', 'may', 'claim', 'free', 'camera', 'phone', 'upgrad', 'loyalti', 'call', '0207', '153', 'offer', 'end', '26th', 'juli', 'c', 'appli', 'avail', 'okmail', 'dear', 'dave', 'final', 'notic', 'collect', '4', 'tenerif', 'holiday', '5000', 'cash', 'award', 'call', '09061743806', 'landlin', 'tc', 'sae', 'box326', 'cw25wx', '150ppm', 'want', '2', 'get', 'laid', 'tonight', 'want', 'real', 'dog', 'locat', 'sent', 'direct', '2', 'ur', 'mob', 'join', 'uk', 'largest', 'dog', 'network', 'txting', 'moan', '69888nyt', 'ec2a', '150p', 'free', 'messag', 'activ', '500', 'free', 'text', 'messag', 'repli', 'messag', 'word', 'free', 'term', 'condit', 'visit', 'congrat', '1', 'year', 'special', 'cinema', 'pass', '2', 'call', '09061209465', 'c', 'suprman', 'v', 'matrix3', 'starwars3', 'etc', '4', 'free', '150pm', 'dont', 'miss', 'congratul', 'week', 'competit', 'draw', 'u', 'prize', 'claim', 'call', '09050002311', 'b4280703', 'sm', '18', '150ppm', 'guarante', 'latest', 'nokia', 'phone', '40gb', 'ipod', 'mp3', 'player', 'prize', 'txt', 'word', 'collect', '83355', 'ibhltd', 'ldnw15h', 'boltblu', 'tone', '150p', 'repli', 'poli', 'mono', 'eg', 'poly3', 'cha', 'cha', 'slide', 'yeah', 'slow', 'jamz', 'toxic', 'come', 'stop', '4', 'tone', 'txt', 'credit', 'top', 'http', 'renew', 'pin', 'tgxxrz', 'urgent', 'mobil', 'award', 'bonu', 'caller', 'prize', '2nd', 'attempt', 'contact', 'call', 'box95qu', 'today', 'offer', 'claim', 'ur', 'worth', 'discount', 'voucher', 'text', 'ye', '85023', 'savamob', 'member', 'offer', 'mobil', 'cs', 'sub', '16', 'unsub', 'repli', 'x', 'reciev', 'tone', 'within', 'next', '24hr', 'term', 'condit', 'pleas', 'see', 'channel', 'u', 'teletext', 'pg', '750', 'privat', '2003', 'account', 'statement', '07815296484', 'show', '800', 'point', 'call', '08718738001', 'identifi', 'code', '41782', 'expir', 'monthlysubscript', 'csc', 'web', 'age16', '2stop', 'txt', 'stop', 'gent', 'tri', 'contact', 'last', 'weekend', 'draw', 'show', 'prize', 'guarante', 'call', 'claim', 'code', 'k52', 'valid', '12hr', '150ppm', 'cash', 'prize', 'claim', 'call09050000327', 'mobil', 'number', 'claim', 'call', 'us', 'back', 'ring', 'claim', 'hot', 'line', '09050005321', 'tri', 'contact', 'repli', 'offer', '750', 'min', '150', 'textand', 'new', 'video', 'phone', 'call', '08002988890', 'repli', 'free', 'deliveri', 'tomorrow', 'ur', 'chanc', 'win', 'wkli', 'shop', 'spree', 'txt', 'shop', 'c', 'custcar', '08715705022', 'special', 'select', 'receiv', '2000', 'pound', 'award', 'call', '08712402050', 'line', 'close', 'cost', '10ppm', 'cs', 'appli', 'ag', 'promo', 'privat', '2003', 'account', 'statement', '07753741225', 'show', '800', 'point', 'call', '08715203677', 'identifi', 'code', '42478', 'expir', 'import', 'custom', 'servic', 'announc', 'call', 'freephon', '0800', '542', '0825', 'xclusiv', 'clubsaisai', '2morow', 'soire', 'special', 'zouk', 'nichol', 'rose', '2', 'ladi', 'info', '22', 'day', 'kick', 'euro2004', 'u', 'kept', 'date', 'latest', 'news', 'result', 'daili', 'remov', 'send', 'get', 'txt', 'stop', '83222', 'new', 'textbuddi', 'chat', '2', 'horni', 'guy', 'ur', 'area', '4', '25p', 'free', '2', 'receiv', 'search', 'postcod', 'txt', 'one', 'name', '89693', 'today', 'vodafon', 'number', 'end', '4882', 'select', 'receiv', 'award', 'number', 'match', 'call', '09064019014', 'receiv', 'award', 'dear', 'voucher', 'holder', '2', 'claim', 'week', 'offer', 'pc', 'go', 'http', 'ts', 'cs', 'stop', 'text', 'txt', 'stop', '80062', 'privat', '2003', 'account', 'statement', 'show', '800', 'point', 'call', '08715203694', 'identifi', 'code', '40533', 'expir', 'cash', 'prize', 'claim', 'call09050000327', 'c', 'rstm', 'sw7', '3ss', '150ppm', '88800', '89034', 'premium', 'phone', 'servic', 'call', '08718711108', 'sm', 'ac', 'sun0819', 'post', 'hello', 'seem', 'cool', 'get', 'ur', '1st', 'rington', 'free', 'repli', 'msg', 'tone', 'gr8', 'top', '20', 'tone', 'phone', 'everi', 'week', 'per', 'wk', '2', 'opt', 'send', 'stop', '08452810071', '16', 'hi', 'sue', '20', 'year', 'old', 'work', 'lapdanc', 'love', 'sex', 'text', 'live', 'bedroom', 'text', 'sue', 'textoper', 'g2', '1da', '150ppmsg', 'forward', '448712404000', 'pleas', 'call', '08712404000', 'immedi', 'urgent', 'messag', 'wait', 'review', 'keep', 'fantast', 'nokia', 'game', 'deck', 'club', 'nokia', 'go', '2', 'unsubscrib', 'alert', 'repli', 'word', '4mth', 'half', 'price', 'orang', 'line', 'rental', 'latest', 'camera', 'phone', '4', 'free', 'phone', 'call', 'mobilesdirect', 'free', '08000938767', 'updat', 'or2stoptxt', 'cs', '08714712388', 'cost', '10p', 'urgent', '2nd', 'attempt', 'contact', 'u', 'u', 'call', '09071512433', 'b4', '050703', 'csbcm4235wc1n3xx', 'callcost', '150ppm', 'mobilesvari', '50', 'guarante', 'cash', 'prize', 'claim', 'yr', 'prize', 'call', 'custom', 'servic', 'repres', '08714712394', 'email', 'alertfrom', 'jeri', 'stewarts', '2kbsubject', 'prescripiton', 'drvgsto', 'listen', 'email', 'call', '123', 'hi', 'custom', 'loyalti', 'offer', 'new', 'nokia6650', 'mobil', 'txtauction', 'txt', 'word', 'start', '81151', 'get', '4t', 'ctxt', 'tc', 'u', 'subscrib', 'best', 'mobil', 'content', 'servic', 'uk', 'per', '10', 'day', 'send', 'stop', 'helplin', '08706091795', 'realiz', '40', 'year', 'thousand', 'old', 'ladi', 'run', 'around', 'tattoo', 'import', 'custom', 'servic', 'announc', 'premier', 'romant', 'pari', '2', 'night', '2', 'flight', 'book', '4', 'next', 'year', 'call', '08704439680t', 'cs', 'appli', 'urgent', 'ur', 'guarante', 'award', 'still', 'unclaim', 'call', '09066368327', 'claimcod', 'm39m51', 'ur', 'award', 'citi', 'break', 'could', 'win', 'summer', 'shop', 'spree', 'everi', 'wk', 'txt', 'store', '88039', 'skilgm', 'tscs087147403231winawk', 'age16', 'import', 'custom', 'servic', 'announc', 'premier', 'call', 'freephon', '0800', '542', '0578', 'ever', 'thought', 'live', 'good', 'life', 'perfect', 'partner', 'txt', 'back', 'name', 'age', 'join', 'mobil', 'commun', '5', 'free', 'top', 'polyphon', 'tone', 'call', '087018728737', 'nation', 'rate', 'get', 'toppoli', 'tune', 'sent', 'everi', 'week', 'text', 'subpoli', '81618', 'per', 'pole', 'unsub', '08718727870', 'orang', 'custom', 'may', 'claim', 'free', 'camera', 'phone', 'upgrad', 'loyalti', 'call', '0207', '153', 'offer', 'end', '14thmarch', 'c', 'appli', 'availa', 'last', 'chanc', 'claim', 'ur', 'worth', 'discount', 'voucher', 'today', 'text', 'shop', '85023', 'savamob', 'offer', 'mobil', 'cs', 'savamob', 'pobox84', 'm263uz', 'sub', '16', 'free', '1st', 'week', 'no1', 'nokia', 'tone', '4', 'ur', 'mobil', 'everi', 'week', 'txt', 'nokia', '8077', 'get', 'txting', 'tell', 'ur', 'mate', 'pobox', '36504', 'w45wq', 'guarante', 'award', 'even', 'cashto', 'claim', 'ur', 'award', 'call', 'free', '08000407165', '2', 'stop', 'getstop', '88222', 'php', 'rg21', '4jx', 'congratul', 'ur', 'award', 'either', 'cd', 'gift', 'voucher', 'free', 'entri', '2', 'weekli', 'draw', 'txt', 'music', '87066', 'tnc', 'u', 'outbid', 'simonwatson5120', 'shinco', 'dvd', 'plyr', '2', 'bid', 'visit', 'sm', '2', 'end', 'bid', 'notif', 'repli', 'end', 'smsservic', 'yourinclus', 'text', 'credit', 'pl', 'goto', '3qxj9', 'unsubscrib', 'stop', 'extra', 'charg', 'help', '9ae', '25p', '4', 'alfi', 'moon', 'children', 'need', 'song', 'ur', 'mob', 'tell', 'ur', 'm8', 'txt', 'tone', 'chariti', '8007', 'nokia', 'poli', 'chariti', 'poli', 'zed', '08701417012', 'profit', '2', 'chariti', 'u', 'secret', 'admir', 'reveal', 'think', 'u', 'r', 'special', 'call', 'opt', 'repli', 'reveal', 'stop', 'per', 'msg', 'recd', 'cust', 'care', '07821230901', 'dear', 'voucher', 'holder', 'claim', 'week', 'offer', 'pc', 'pleas', 'go', 'http', 'ts', 'cs', 'appli', 'stop', 'text', 'txt', 'stop', '80062', 'want', '750', 'anytim', 'network', 'min', '150', 'text', 'new', 'video', 'phone', 'five', 'pound', 'per', 'week', 'call', '08002888812', 'repli', 'deliveri', 'tomorrow', 'tri', 'contact', 'offer', 'new', 'video', 'phone', '750', 'anytim', 'network', 'min', 'half', 'price', 'rental', 'camcord', 'call', '08000930705', 'repli', 'deliveri', 'wed', 'last', 'chanc', '2', 'claim', 'ur', 'worth', 'discount', 'ye', '85023', 'offer', 'mobil', 'cs', 'sub', '16', 'remov', 'txt', 'x', 'stop', 'urgent', 'call', '09066350750', 'landlin', 'complimentari', '4', 'ibiza', 'holiday', 'cash', 'await', 'collect', 'sae', 'cs', 'po', 'box', '434', 'sk3', '8wp', '150', 'ppm', 'talk', 'sexi', 'make', 'new', 'friend', 'fall', 'love', 'world', 'discreet', 'text', 'date', 'servic', 'text', 'vip', '83110', 'see', 'could', 'meet', 'congratul', 'ur', 'award', 'either', 'yr', 'suppli', 'cd', 'virgin', 'record', 'mysteri', 'gift', 'guarante', 'call', '09061104283', 'ts', 'cs', 'approx', '3min', 'privat', '2003', 'account', 'statement', '07808', 'xxxxxx', 'show', '800', 'point', 'call', '08719899217', 'identifi', 'code', '41685', 'expir', 'hello', 'need', 'posh', 'bird', 'chap', 'user', 'trial', 'prod', 'champney', 'put', 'need', 'address', 'dob', 'asap', 'ta', 'r', 'u', 'want', 'xma', '100', 'free', 'text', 'messag', 'new', 'video', 'phone', 'half', 'price', 'line', 'rental', 'call', 'free', '0800', '0721072', 'find', 'shop', 'till', 'u', 'drop', 'either', '10k', '5k', 'cash', 'travel', 'voucher', 'call', 'ntt', 'po', 'box', 'cr01327bt', 'fixedlin', 'cost', '150ppm', 'mobil', 'vari', 'sunshin', 'quiz', 'wkli', 'q', 'win', 'top', 'soni', 'dvd', 'player', 'u', 'know', 'countri', 'liverpool', 'play', 'mid', 'week', 'txt', 'ansr', 'sp', 'tyron', 'u', 'secret', 'admir', 'look', '2', 'make', 'contact', 'r', 'reveal', 'think', 'ur', '09058094565', 'u', 'secret', 'admir', 'look', '2', 'make', 'contact', 'r', 'reveal', 'think', 'ur', 'remind', 'download', 'content', 'alreadi', 'paid', 'goto', 'http', 'mymobi', 'collect', 'content', 'lastest', 'stereophon', 'marley', 'dizze', 'racal', 'libertin', 'stroke', 'win', 'nookii', 'game', 'flirt', 'click', 'themob', 'wap', 'bookmark', 'text', 'wap', '82468', 'januari', 'male', 'sale', 'hot', 'gay', 'chat', 'cheaper', 'call', 'nation', 'rate', 'cheap', 'peak', 'stop', 'text', 'call', '08712460324', 'money', 'r', 'lucki', 'winner', '2', 'claim', 'prize', 'text', 'money', '2', '88600', 'give', 'away', 'text', 'rate', 'box403', 'w1t1ji', 'dear', 'matthew', 'pleas', 'call', '09063440451', 'landlin', 'complimentari', '4', 'lux', 'tenerif', 'holiday', 'cash', 'await', 'collect', 'ppm150', 'sae', 'cs', 'box334', 'sk38xh', 'urgent', 'call', '09061749602', 'landlin', 'complimentari', '4', 'tenerif', 'holiday', 'cash', 'await', 'collect', 'sae', 'cs', 'box', '528', 'hp20', '1yf', '150ppm', 'get', 'touch', 'folk', 'wait', 'compani', 'txt', 'back', 'name', 'age', 'opt', 'enjoy', 'commun', 'ur', 'current', '500', 'pound', 'maxim', 'ur', 'send', 'go', '86688', 'cc', '08718720201', 'po', 'box', 'filthi', 'stori', 'girl', 'wait', 'urgent', 'tri', 'contact', 'today', 'draw', 'show', 'prize', 'guarante', 'call', '09050001808', 'land', 'line', 'claim', 'm95', 'valid12hr', 'congrat', '2', 'mobil', '3g', 'videophon', 'r', 'call', '09063458130', 'videochat', 'wid', 'mate', 'play', 'java', 'game', 'dload', 'polyph', 'music', 'nolin', 'rentl', 'panason', 'bluetoothhdset', 'free', 'nokia', 'free', 'motorola', 'free', 'doublemin', 'doubletxt', 'orang', 'contract', 'call', 'mobileupd8', '08000839402', 'call', '2optout', 'free', '1st', 'week', 'no1', 'nokia', 'tone', '4', 'ur', 'mob', 'everi', 'week', 'txt', 'nokia', '8007', 'get', 'txting', 'tell', 'ur', 'mate', 'pobox', '36504', 'w45wq', 'guess', 'somebodi', 'know', 'secretli', 'fanci', 'wan', 'na', 'find', 'give', 'us', 'call', '09065394514', 'landlin', 'datebox1282essexcm61xn', '18', 'know', 'someon', 'know', 'fanci', 'call', '09058097218', 'find', 'pobox', '6', 'ls15hb', '150p', '1000', 'flirt', 'txt', 'girl', 'bloke', 'ur', 'name', 'age', 'eg', 'girl', 'zoe', '18', '8007', 'join', 'get', 'chat', '18', 'day', 'euro2004', 'kickoff', 'u', 'kept', 'inform', 'latest', 'news', 'result', 'daili', 'unsubscrib', 'send', 'get', 'euro', 'stop', '83222', 'eastend', 'tv', 'quiz', 'flower', 'dot', 'compar', 'violet', 'tulip', 'lili', 'txt', 'e', 'f', '84025', '4', 'chanc', '2', 'win', 'cash', 'new', 'local', 'date', 'area', 'lot', 'new', 'peopl', 'regist', 'area', 'repli', 'date', 'start', '18', 'replys150', 'someon', 'u', 'know', 'ask', 'date', 'servic', '2', 'contact', 'cant', 'guess', 'call', '09058091854', 'reveal', 'po', 'box385', 'm6', '6wu', 'urgent', 'tri', 'contact', 'today', 'draw', 'show', 'prize', 'guarante', 'call', '09050003091', 'land', 'line', 'claim', 'c52', 'valid12hr', 'dear', 'u', 'invit', 'xchat', 'final', 'attempt', 'contact', 'u', 'txt', 'chat', '86688', 'award', 'sipix', 'digit', 'camera', 'call', '09061221061', 'landlin', 'deliveri', 'within', '28day', 'cs', 'box177', 'm221bp', '2yr', 'warranti', '150ppm', '16', 'p', 'win', 'urgent', 'mobil', 'number', 'award', 'prize', 'guarante', 'call', '09061790121', 'land', 'line', 'claim', '3030', 'valid', '12hr', '150ppm', 'dear', 'subscrib', 'ur', 'draw', '4', 'gift', 'voucher', 'b', 'enter', 'receipt', 'correct', 'an', 'elvi', 'presley', 'birthday', 'txt', 'answer', '80062', 'messag', 'import', 'inform', 'o2', 'user', 'today', 'lucki', 'day', '2', 'find', 'log', 'onto', 'http', 'fantast', 'surpris', 'await', '449050000301', 'price', 'claim', 'call', '09050000301', 'bore', 'speed', 'date', 'tri', 'speedchat', 'txt', 'speedchat', '80155', 'like', 'em', 'txt', 'swap', 'get', 'new', 'chatter', 'chat80155', 'pobox36504w45wq', 'rcd', '16', 'want', '750', 'anytim', 'network', 'min', '150', 'text', 'new', 'video', 'phone', 'five', 'pound', 'per', 'week', 'call', '08000776320', 'repli', 'deliveri', 'tomorrow', 'take', 'part', 'mobil', 'survey', 'yesterday', '500', 'text', '2', 'use', 'howev', 'wish', '2', 'get', 'txt', 'send', 'txt', '80160', 'c', 'ur', 'hmv', 'quiz', 'current', 'maxim', 'ur', 'send', 'hmv1', '86688', 'dont', 'forget', 'place', 'mani', 'free', 'request', 'wish', 'inform', 'call', '08707808226', 'know', 'u', 'u', 'know', 'send', 'chat', '86688', 'let', 'find', 'rcvd', 'ldn', '18', 'year', 'thank', 'winner', 'notifi', 'sm', 'good', 'luck', 'futur', 'market', 'repli', 'stop', '84122', 'custom', 'servic', '08450542832', '1000', 'girl', 'mani', 'local', '2', 'u', 'r', 'virgin', '2', 'r', 'readi', '2', '4fil', 'ur', 'everi', 'sexual', 'need', 'u', '4fil', 'text', 'cute', '69911', 'got', 'take', '2', 'take', 'part', 'wrc', 'ralli', 'oz', 'u', 'lucozad', 'energi', 'text', 'ralli', 'le', '61200', '25p', 'see', 'pack', 'itcould', 'u', 'sex', 'ur', 'mobil', 'free', 'sexi', 'pic', 'jordan', 'text', 'babe', 'everi', 'wk', 'get', 'sexi', 'celeb', '4', 'pic', '16', '087016248', '1', 'new', 'voicemail', 'pleas', 'call', '08719181503', 'win', 'year', 'suppli', 'cd', '4', 'store', 'ur', 'choic', 'worth', 'enter', 'weekli', 'draw', 'txt', 'music', '87066', 'ts', 'cs', 'sim', 'subscrib', 'select', 'receiv', 'bonu', 'get', 'deliv', 'door', 'txt', 'word', 'ok', '88600', 'claim', 'exp', '30apr', '1', 'new', 'voicemail', 'pleas', 'call', '08719181513', '1', 'nokia', 'tone', '4', 'ur', 'mob', 'everi', 'week', 'txt', 'nok', '87021', '1st', 'tone', 'free', 'get', 'txtin', 'tell', 'ur', 'friend', '16', 'repli', 'hl', '4info', 'repli', 'name', 'address', 'receiv', 'post', 'week', 'complet', 'free', 'accommod', 'variou', 'global', 'locat', 'free', 'entri', 'weekli', 'comp', 'send', 'word', 'enter', '84128', '18', 'c', 'cust', 'care', '08712405020', 'pleas', 'call', '08712402779', 'immedi', 'urgent', 'messag', 'wait', 'hungri', 'gay', 'guy', 'feel', 'hungri', '4', 'call', '08718730555', 'stop', 'text', 'call', '08712460324', 'u', 'get', '2', 'phone', 'wan', 'na', 'chat', '2', 'set', 'meet', 'call', '09096102316', 'u', 'cum', '2moro', 'luv', 'jane', 'xx', 'network', 'oper', 'servic', 'free', 'c', 'visit', 'enjoy', 'jamster', 'videosound', 'gold', 'club', 'credit', '2', 'new', 'get', 'fun', 'help', 'call', '09701213186', 'get', '3', 'lion', 'england', 'tone', 'repli', 'lionm', '4', 'mono', 'lionp', '4', 'poli', '4', 'go', '2', 'origin', 'n', 'best', 'tone', '3gbp', 'network', 'oper', 'rate', 'appli', 'win', 'newest', 'potter', 'order', 'phoenix', 'book', '5', 'repli', 'harri', 'answer', '5', 'question', 'chanc', 'first', 'among', 'reader', 'ur', 'balanc', 'ur', 'next', 'question', 'sang', 'girl', '80', '2', 'answer', 'txt', 'ur', 'answer', 'good', 'luck', 'free2day', 'sexi', 'st', 'georg', 'day', 'pic', 'jordan', 'txt', 'pic', '89080', 'dont', 'miss', 'everi', 'wk', 'sauci', 'celeb', '4', 'pic', 'c', '0870241182716', 'hot', 'live', 'fantasi', 'call', '08707509020', '20p', 'per', 'min', 'ntt', 'ltd', 'po', 'box', '1327', 'croydon', 'cr9', '5wb', '0870', 'k', 'bear', 'pic', 'nick', 'tom', 'pete', 'dick', 'fact', 'type', 'tri', 'gay', 'chat', 'photo', 'upload', 'call', '08718730666', '2', 'stop', 'text', 'call', '08712460324', '500', 'new', 'mobil', '2004', 'must', 'go', 'txt', 'nokia', '89545', 'collect', 'today', '2optout', 'txtauction', 'doubl', 'min', 'doubl', 'txt', 'price', 'linerent', 'latest', 'orang', 'bluetooth', 'mobil', 'call', 'mobileupd8', 'latest', 'offer', '08000839402', 'urgent', 'import', 'inform', 'o2', 'user', 'today', 'lucki', 'day', '2', 'find', 'log', 'onto', 'http', 'fantast', 'surpris', 'await', 'dear', 'u', 'invit', 'xchat', 'final', 'attempt', 'contact', 'u', 'txt', 'chat', '86688', 'ldn', '18', 'yr', 'congratul', 'ur', 'award', 'either', 'cd', 'gift', 'voucher', 'free', 'entri', '2', 'weekli', 'draw', 'txt', 'music', '87066', 'tnc', '1', 'win150ppmx3age16', 'sale', 'arsen', 'dartboard', 'good', 'condit', 'doubl', 'trebl', 'free', '1st', 'week', 'entri', '2', 'textpod', '4', 'chanc', '2', 'win', '40gb', 'ipod', 'cash', 'everi', 'wk', 'txt', 'pod', '84128', 'ts', 'cs', 'custcar', '08712405020', 'regist', 'optin', 'subscrib', 'ur', 'draw', '4', 'gift', 'voucher', 'enter', 'receipt', 'correct', 'an', '80062', 'what', 'no1', 'bbc', 'chart', 'summer', 'final', 'fanci', 'chat', 'flirt', 'sexi', 'singl', 'yr', 'area', 'get', 'match', 'repli', 'summer', 'free', '2', 'join', 'optout', 'txt', 'stop', 'help08714742804', 'clair', 'havin', 'borin', 'time', 'alon', 'u', 'wan', 'na', 'cum', '2nite', 'chat', '09099725823', 'hope', '2', 'c', 'u', 'luv', 'clair', 'xx', 'bought', 'one', 'rington', 'get', 'text', 'cost', '3', 'pound', 'offer', 'tone', 'etc', '09066362231', 'urgent', 'mobil', '07xxxxxxxxx', 'bonu', 'caller', 'prize', '2nd', 'attempt', 'reach', 'call', '09066362231', 'asap', '07801543489', 'guarante', 'latest', 'nokia', 'phone', '40gb', 'ipod', 'mp3', 'player', 'prize', 'txt', 'word', 'collect', 'hi', 'luci', 'hubbi', 'meetin', 'day', 'fri', 'b', 'alon', 'hotel', 'u', 'fanci', 'cumin', 'pl', 'leav', 'msg', '2day', '09099726395', 'luci', 'x', 'account', 'credit', '500', 'free', 'text', 'messag', 'activ', 'txt', 'word', 'credit', '80488', 'cs', 'sm', 'ac', 'jsco', 'energi', 'high', 'u', 'may', 'know', '2channel', '2day', 'ur', 'leadership', 'skill', 'r', 'strong', 'psychic', 'repli', 'an', 'end', 'repli', 'end', 'jsco', 'hot', 'live', 'fantasi', 'call', '08707509020', '20p', 'per', 'min', 'ntt', 'ltd', 'po', 'box', '1327', 'croydon', 'cr9', '5wb', '0870', 'nation', 'rate', 'call', 'thank', 'vote', 'sing', 'along', 'star', 'karaok', 'mobil', 'free', 'link', 'repli', 'sing', 'brand', 'new', 'mobil', 'music', 'servic', 'live', 'free', 'music', 'player', 'arriv', 'shortli', 'instal', 'phone', 'brows', 'content', 'top', 'artist', 'urgent', 'mobil', 'award', 'bonu', 'caller', 'prize', '2nd', 'attempt', 'contact', 'call', 'box95qu', 'bt', 'nation', 'rate', 'nokia', '7250i', 'get', 'win', 'free', 'auction', 'take', 'part', 'send', 'nokia', '86021', 'hello', 'orang', '1', 'month', 'free', 'access', 'game', 'news', 'sport', 'plu', '10', 'free', 'text', '20', 'photo', 'messag', 'repli', 'ye', 'term', 'appli', 'ur', 'current', '500', 'pound', 'maxim', 'ur', 'send', 'go', '86688', 'cc', '08718720201', 'sm', 'auction', 'brand', 'new', 'nokia', '7250', '4', 'auction', 'today', 'auction', 'free', '2', 'join', 'take', 'part', 'txt', 'nokia', '86021', 'privat', '2003', 'account', 'statement', 'show', '800', 'point', 'call', '08719899230', 'identifi', 'code', '41685', 'expir', 'regist', 'subscrib', 'yr', 'draw', '4', 'gift', 'voucher', 'b', 'enter', 'receipt', 'correct', 'an', 'next', 'olymp', 'txt', 'an', '80062', 'urgent', 'mobil', 'number', 'award', 'prize', 'guarante', 'call', '09061790121', 'land', 'line', 'claim', 'valid', '12hr', '150ppm', 'pro', 'video', 'club', 'need', 'help', 'info', 'call', '08701237397', 'must', 'club', 'credit', 'redeem', 'enjoy', 'u', 'secret', 'admir', 'look', '2', 'make', 'contact', 'r', 'reveal', 'think', 'ur', '09058094599', '500', 'free', 'text', 'msg', 'text', 'ok', '80488', 'credit', 'account', 'select', 'stay', '1', '250', 'top', 'british', 'hotel', 'noth', 'holiday', 'worth', 'claim', 'call', 'london', 'bx', '526', 'sw73ss', 'eeri', 'nokia', 'tone', '4u', 'rpli', 'tone', 'titl', '8007', 'eg', 'tone', 'dracula', '8007', 'titl', 'ghost', 'addamsfa', 'munster', 'exorcist', 'twilight', 'pobox36504w45wq', '150p', '0a', 'network', 'allow', 'compani', 'bill', 'sm', 'respons', 'freemsg', 'feelin', 'kinda', 'lnli', 'hope', 'u', 'like', '2', 'keep', 'compani', 'jst', 'got', 'cam', 'mobi', 'wan', 'na', 'c', 'pic', 'txt', 'repli', 'date', '82242', 'msg150p', '2rcv', 'hlp', '08712317606', 'stop', '82242', 'ur', 'chanc', 'win', 'cash', 'everi', 'wk', 'txt', 'action', 'c', 'custcar', '08712405022', 'rgent', '2nd', 'attempt', 'contact', 'u', 'u', 'call', '09071512433', 'b4', '050703', 'csbcm4235wc1n3xx', 'callcost', '150ppm', 'mobilesvari', '50', 'hi', 'ur', 'lookin', '4', 'sauci', 'daytim', 'fun', 'wiv', 'busti', 'marri', 'woman', 'free', 'next', 'week', 'chat', '2', 'sort', 'time', '09099726429', 'janinexx', 'urgent', 'tri', 'contact', 'today', 'draw', 'show', 'prize', 'guarante', 'call', '09050001295', 'land', 'line', 'claim', 'a21', 'valid', '12hr', 'monthli', 'password', 'wap', 'use', 'wap', 'phone', 'pc', 'today', 'vodafon', 'number', 'end', '0089', 'last', 'four', 'digit', 'select', 'receiv', 'award', 'number', 'match', 'pleas', 'call', '09063442151', 'claim', 'award', 'free', 'top', 'rington', 'weekli', '1st', 'week', 'subpoli', '3', 'per', 'free', 'msg', 'sorri', 'servic', 'order', '81303', 'could', 'deliv', 'suffici', 'credit', 'pleas', 'top', 'receiv', 'servic', 'hard', 'live', '121', 'chat', 'choos', 'girl', 'connect', 'live', 'call', '09094646899', 'cheap', 'chat', 'uk', 'biggest', 'live', 'servic', 'vu', 'bcm1896wc1n3xx', 'wow', 'boy', 'r', 'back', 'take', '2007', 'uk', 'tour', 'win', 'vip', 'ticket', 'vip', 'club', 'txt', 'club', 'trackmarqu', 'ltd', 'info', 'vipclub4u', 'hi', 'mandi', 'sullivan', 'call', 'hotmix', 'fm', 'chosen', 'receiv', 'easter', 'prize', 'draw', 'pleas', 'telephon', '09041940223', 'claim', 'prize', 'transfer', 'someon', 'els', 'ur', 'go', '2', 'bahama', 'callfreefon', '08081560665', 'speak', 'live', 'oper', 'claim', 'either', 'bahama', 'cruis', 'cash', 'opt', 'txt', 'x', '07786200117', 'someon', 'conact', 'date', 'servic', 'enter', 'phone', 'fanci', 'find', 'call', 'landlin', 'pobox12n146tf15', 'hi', '07734396839', 'ibh', 'custom', 'loyalti', 'offer', 'new', 'nokia6600', 'mobil', 'txtauction', 'txt', 'word', 'start', 'get', '4t', 'sm', 'auction', 'nokia', '7250i', 'get', 'win', 'free', 'auction', 'take', 'part', 'send', 'nokia', '86021', 'call', 'freephon', '0800', '542', '0578', 'buy', 'space', 'invad', '4', 'chanc', '2', 'win', 'orig', 'arcad', 'game', 'consol', 'press', '0', 'game', 'arcad', 'std', 'wap', 'charg', 'see', '4', 'term', 'set', 'purchas', 'big', 'brother', 'alert', 'comput', 'select', 'u', '10k', 'cash', '150', 'voucher', 'call', 'ntt', 'po', 'box', 'cro1327', 'bt', 'landlin', 'cost', '150ppm', 'mobil', 'vari', 'win', 'winner', 'foley', 'ipod', 'excit', 'prize', 'soon', 'keep', 'eye', 'ur', 'mobil', 'visit', 'today', 'voda', 'number', 'end', '1225', 'select', 'receiv', 'match', 'pleas', 'call', '08712300220', 'quot', 'claim', 'code', '3100', 'standard', 'rate', 'app', 'hottest', 'pic', 'straight', 'phone', 'see', 'get', 'wet', 'want', 'xx', 'text', 'pic', '89555', 'txt', 'cost', '150p', 'textoper', 'g696ga', '18', 'xxx', 'hack', 'chat', 'get', 'backdoor', 'entri', '121', 'chat', 'room', 'fraction', 'cost', 'repli', 'neo69', 'call', '09050280520', 'subscrib', '25p', 'pm', 'dp', 'bcm', 'box', '8027', 'ldn', 'wc1n3xx', 'free', 'nokia', 'motorola', 'upto', '12mth', 'linerent', '500', 'free', 'min', 'free', 'call', 'mobileupd8', '08001950382', 'call', '2nd', 'time', 'tri', '2', 'contact', 'u', '750', 'pound', 'prize', '2', 'claim', 'easi', 'call', '08718726970', '10p', 'per', 'min', 'guarante', 'cash', 'claim', 'yr', 'prize', 'call', 'custom', 'servic', 'repres', 'would', 'like', 'see', 'xxx', 'pic', 'hot', 'nearli', 'ban', 'uk', 'u', 'secret', 'admir', 'look', '2', 'make', 'contact', 'r', 'reveal', 'think', 'ur', '09058094594', 'dear', '0776xxxxxxx', 'u', 'invit', 'xchat', 'final', 'attempt', 'contact', 'u', 'txt', 'chat', '86688', 'ldn', '18yr', 'urgent', 'pleas', 'call', '09061743811', 'landlin', 'abta', 'complimentari', '4', 'tenerif', 'holiday', 'cash', 'await', 'collect', 'sae', 'cs', 'box', '326', 'cw25wx', '150ppm', 'call', '09090900040', 'listen', 'extrem', 'dirti', 'live', 'chat', 'go', 'offic', 'right', 'total', 'privaci', 'one', 'know', 'sic', 'listen', '60p', 'min', 'freemsg', 'hey', 'u', 'got', '1', 'fone', 'repli', 'wild', 'txt', 'ill', 'send', 'u', 'pic', 'hurri', 'im', 'bore', 'work', 'xxx', '18', 'stop2stop', 'free', 'entri', '2', 'weekli', 'comp', 'chanc', 'win', 'ipod', 'txt', 'pod', '80182', 'get', 'entri', 'std', 'txt', 'rate', 'c', 'appli', '08452810073', 'detail', 'new', 'textbuddi', 'chat', '2', 'horni', 'guy', 'ur', 'area', '4', '25p', 'free', '2', 'receiv', 'search', 'postcod', 'txt', 'one', 'name', '89693', '08715500022', 'rpl', 'stop', '2', 'cnl', 'call', '08702490080', 'tell', 'u', '2', 'call', '09066358152', 'claim', 'prize', 'u', '2', 'enter', 'ur', 'mobil', 'person', 'detail', 'prompt', 'care', 'free', '1st', 'week', 'entri', '2', 'textpod', '4', 'chanc', '2', 'win', '40gb', 'ipod', 'cash', 'everi', 'wk', 'txt', 'vpod', '81303', 'ts', 'cs', 'custcar', '08712405020', 'peopl', 'dog', 'area', 'call', '09090204448', 'join', 'like', 'mind', 'guy', 'arrang', '1', '1', 'even', 'minapn', 'ls278bb', 'well', 'done', '4', 'costa', 'del', 'sol', 'holiday', 'await', 'collect', 'call', '09050090044', 'toclaim', 'sae', 'tc', 'pobox334', 'stockport', 'sk38xh', 'max10min', 'guess', 'somebodi', 'know', 'secretli', 'fanci', 'wan', 'na', 'find', 'give', 'us', 'call', '09065394973', 'landlin', 'datebox1282essexcm61xn', '18', '500', 'free', 'text', 'messag', 'valid', '31', 'decemb', '2005', 'guarante', 'award', 'even', 'cashto', 'claim', 'ur', 'award', 'call', 'free', '08000407165', '2', 'stop', 'getstop', '88222', 'php', 'repli', 'win', 'weekli', '2006', 'fifa', 'world', 'cup', 'held', 'send', 'stop', '87239', 'end', 'servic', 'urgent', 'pleas', 'call', '09061743810', 'landlin', 'abta', 'complimentari', '4', 'tenerif', 'holiday', '5000', 'cash', 'await', 'collect', 'sae', 'cs', 'box', '326', 'cw25wx', '150', 'ppm', 'free', 'tone', 'hope', 'enjoy', 'new', 'content', 'text', 'stop', '61610', 'unsubscrib', 'provid', 'themob', 'yo', 'yo', 'come', 'new', 'select', 'hot', 'download', 'member', 'get', 'free', 'click', 'open', 'next', 'link', 'sent', 'ur', 'fone', 'great', 'news', 'call', 'freefon', '08006344447', 'claim', 'guarante', 'cash', 'gift', 'speak', 'live', 'oper', 'u', 'win', 'music', 'gift', 'voucher', 'everi', 'week', 'start', 'txt', 'word', 'draw', '87066', 'tsc', 'call', '09094100151', 'use', 'ur', 'min', 'call', 'cast', 'mob', 'vari', 'servic', 'provid', 'aom', 'aom', 'box61', 'm60', '1er', 'u', 'stop', 'age', 'urgent', 'mobil', 'bonu', 'caller', 'prize', '2nd', 'attempt', 'reach', 'call', '09066362220', 'asap', 'box97n7qp', '150ppm', 'eeri', 'nokia', 'tone', '4u', 'rpli', 'tone', 'titl', '8007', 'eg', 'tone', 'dracula', '8007', 'titl', 'ghost', 'addamsfa', 'munster', 'exorcist', 'twilight', 'pobox36504w45wq', '150p', 'sexi', 'singl', 'wait', 'text', 'age', 'follow', 'gender', 'wither', 'f', 'gay', 'men', 'text', 'age', 'follow', 'freemsg', 'claim', 'ur', '250', 'sm', 'ok', '84025', 'use', 'web2mobil', '2', 'ur', 'mate', 'etc', 'join', 'c', 'box139', 'la32wu', '16', 'remov', 'txtx', 'stop', '85233', 'free', 'rington', 'repli', 'real', 'well', 'done', 'england', 'get', 'offici', 'poli', 'rington', 'colour', 'flag', 'yer', 'mobil', 'text', 'tone', 'flag', '84199', 'txt', 'eng', 'stop', 'box39822', 'w111wx', 'final', 'chanc', 'claim', 'ur', 'worth', 'discount', 'voucher', 'today', 'text', 'ye', '85023', 'savamob', 'member', 'offer', 'mobil', 'cs', 'savamob', 'pobox84', 'm263uz', 'sub', '16', 'sm', 'servic', 'inclus', 'text', 'credit', 'pl', 'goto', 'unsubscrib', 'stop', 'extra', 'charg', 'po', 'box420', 'ip4', '5we', 'winner', 'special', 'select', 'receiv', 'cash', 'award', 'speak', 'live', 'oper', 'claim', 'call', 'cost', '10p', 'sunshin', 'hol', 'claim', 'ur', 'med', 'holiday', 'send', 'stamp', 'self', 'address', 'envelop', 'drink', 'us', 'uk', 'po', 'box', '113', 'bray', 'wicklow', 'eir', 'quiz', 'start', 'saturday', 'unsub', 'stop', 'u', 'win', 'music', 'gift', 'voucher', 'everi', 'week', 'start', 'txt', 'word', 'draw', '87066', 'tsc', 'skillgam', '1winaweek', 'age16', '150ppermesssubscript', 'b4u', 'voucher', 'marsm', 'log', 'onto', 'discount', 'credit', 'opt', 'repli', 'stop', 'custom', 'care', 'call', '08717168528', 'freemsg', 'hey', 'buffi', '25', 'love', 'satisfi', 'men', 'home', 'alon', 'feel', 'randi', 'repli', '2', 'c', 'pix', 'qlynnbv', 'help08700621170150p', 'msg', 'send', 'stop', 'stop', 'txt', 'free', '1st', 'week', 'no1', 'nokia', 'tone', '4', 'ur', 'mob', 'everi', 'week', 'txt', 'nokia', '87077', 'get', 'txting', 'tell', 'ur', 'mate', 'zed', 'pobox', '36504', 'w45wq', 'free', 'camera', 'phone', 'linerent', '750', 'cross', 'ntwk', 'min', 'price', 'txt', 'bundl', 'deal', 'also', 'avbl', 'call', '08001950382', 'mf', 'urgent', 'mobil', '07xxxxxxxxx', 'bonu', 'caller', 'prize', '2nd', 'attempt', 'reach', 'call', '09066362231', 'asap', 'box97n7qp', '150ppm', 'urgent', '4', 'costa', 'del', 'sol', 'holiday', 'await', 'collect', 'call', '09050090044', 'toclaim', 'sae', 'tc', 'pobox334', 'stockport', 'sk38xh', 'max10min', 'guarante', 'cash', 'prize', 'claim', 'yr', 'prize', 'call', 'custom', 'servic', 'repres', '08714712379', 'cost', '10p', 'thank', 'rington', 'order', 'ref', 'number', 'k718', 'mobil', 'charg', 'tone', 'arriv', 'pleas', 'call', 'custom', 'servic', '09065069120', 'hi', 'ya', 'babe', 'x', 'u', '4goten', 'bout', 'scammer', 'get', 'smart', 'though', 'regular', 'vodafon', 'respond', 'get', 'prem', 'rate', 'no', 'use', 'also', 'bewar', 'back', '2', 'work', '2morro', 'half', 'term', 'u', 'c', '2nite', '4', 'sexi', 'passion', 'b4', '2', 'go', 'back', 'chat', '09099726481', 'luv', 'dena', 'call', 'thank', 'rington', 'order', 'ref', 'number', 'r836', 'mobil', 'charg', 'tone', 'arriv', 'pleas', 'call', 'custom', 'servic', '09065069154', 'splashmobil', 'choos', '1000', 'gr8', 'tone', 'wk', 'subscrit', 'servic', 'weekli', 'tone', 'cost', '300p', 'u', 'one', 'credit', 'kick', 'back', 'enjoy', 'heard', 'u4', 'call', '4', 'rude', 'chat', 'privat', 'line', '01223585334', 'cum', 'wan', '2c', 'pic', 'gettin', 'shag', 'text', 'pix', '8552', '2end', 'send', 'stop', '8552', 'sam', 'xxx', 'forward', '88877', 'free', 'entri', 'weekli', 'comp', 'send', 'word', 'enter', '88877', '18', 'c', '88066', '88066', 'lost', '3pound', 'help', 'mobil', '11mth', 'updat', 'free', 'orang', 'latest', 'colour', 'camera', 'mobil', 'unlimit', 'weekend', 'call', 'call', 'mobil', 'upd8', 'freefon', '08000839402', '2stoptx', '1', 'new', 'messag', 'pleas', 'call', '08718738034', 'forward', '21870000', 'hi', 'mailbox', 'messag', 'sm', 'alert', '4', 'messag', '21', 'match', 'pleas', 'call', 'back', '09056242159', 'retriev', 'messag', 'match', 'mobi', 'pub', 'high', 'street', 'prize', 'u', 'know', 'new', 'duchess', 'cornwal', 'txt', 'first', 'name', 'stop', '008704050406', 'sp', 'arrow', 'nokia', '7250i', 'get', 'win', 'free', 'auction', 'take', 'part', 'send', 'nokia', '86021', 'congratul', 'thank', 'good', 'friend', 'u', 'xma', 'prize', '2', 'claim', 'easi', 'call', '08718726971', '10p', 'per', 'minut', 'tddnewslett', 'game', 'thedailydraw', 'dear', 'helen', 'dozen', 'free', 'game', 'great', 'prizeswith', 'urgent', 'mobil', 'number', 'bonu', 'caller', 'prize', '2nd', 'attempt', 'reach', 'call', '09066368753', 'asap', 'box', '97n7qp', '150ppm', 'doubl', 'min', 'txt', 'orang', 'price', 'linerent', 'motorola', 'sonyericsson', 'free', 'call', 'mobileupd8', '08000839402', 'download', 'mani', 'rington', 'u', 'like', 'restrict', '1000', '2', 'choos', 'u', 'even', 'send', '2', 'yr', 'buddi', 'txt', 'sir', '80082', 'pleas', 'call', '08712402902', 'immedi', 'urgent', 'messag', 'wait', 'spook', 'mob', 'halloween', 'collect', 'logo', 'pic', 'messag', 'plu', 'free', 'eeri', 'tone', 'txt', 'card', 'spook', '8007', 'zed', '08701417012150p', 'per', 'fantasi', 'footbal', 'back', 'tv', 'go', 'sky', 'gamestar', 'sky', 'activ', 'play', 'dream', 'team', 'score', 'start', 'saturday', 'regist', 'sky', 'opt', '88088', 'tone', 'club', 'sub', 'expir', '2', 'repli', 'monoc', '4', 'mono', 'polyc', '4', 'poli', '1', 'weekli', '150p', 'per', 'week', 'txt', 'stop', '2', 'stop', 'msg', 'free', 'stream', '0871212025016', 'xma', 'prize', 'draw', 'tri', 'contact', 'today', 'draw', 'show', 'prize', 'guarante', 'call', '09058094565', 'land', 'line', 'valid', '12hr', 'ye', 'place', 'town', 'meet', 'excit', 'adult', 'singl', 'uk', 'txt', 'chat', '86688', 'someon', 'contact', 'date', 'servic', 'enter', 'phone', 'becausethey', 'fanci', 'find', 'call', 'landlin', 'pobox1', 'w14rg', '150p', 'babe', 'u', 'want', 'dont', 'u', 'babi', 'im', 'nasti', 'thing', '4', 'filthyguy', 'fanci', 'rude', 'time', 'sexi', 'bitch', 'go', 'slo', 'n', 'hard', 'txt', 'xxx', 'slo', '4msg', 'sm', 'servic', 'inclus', 'text', 'credit', 'pl', 'gotto', 'login', '3qxj9', 'unsubscrib', 'stop', 'extra', 'charg', 'help', '08702840625', '9ae', 'valentin', 'day', 'special', 'win', 'quiz', 'take', 'partner', 'trip', 'lifetim', 'send', 'go', '83600', 'rcvd', 'guess', 'first', 'time', 'creat', 'web', 'page', 'read', 'wrote', 'wait', 'opinion', 'want', 'friend', 'ur', 'chanc', 'win', 'cash', 'everi', 'wk', 'txt', 'play', 'c', 'custcar', '08715705022', 'sppok', 'ur', 'mob', 'halloween', 'collect', 'nokia', 'logo', 'pic', 'messag', 'plu', 'free', 'eeri', 'tone', 'txt', 'card', 'spook', '8007', 'urgent', 'call', '09066612661', 'landlin', 'complementari', '4', 'tenerif', 'holiday', 'cash', 'await', 'collect', 'sae', 'cs', 'po', 'box', '3', 'wa14', '2px', '150ppm', 'sender', 'hol', 'offer', 'winner', 'valu', 'network', 'custom', 'hvae', 'select', 'receiv', 'reward', 'collect', 'call', 'valid', '24', 'hour', 'acl03530150pm', 'u', 'nokia', '6230', 'plu', 'free', 'digit', 'camera', 'u', 'get', 'u', 'win', 'free', 'auction', 'take', 'part', 'send', 'nokia', '83383', '16', 'free', 'entri', 'weekli', 'comp', 'send', 'word', 'win', '80086', '18', 'c', 'text82228', 'get', 'rington', 'logo', 'game', 'question', 'info', 'freemsg', 'award', 'free', 'mini', 'digit', 'camera', 'repli', 'snap', 'collect', 'prize', 'quizclub', 'opt', 'stop', 'sp', 'rwm', 'messag', 'brought', 'gmw', 'connect', 'congrat', '2', 'mobil', '3g', 'videophon', 'r', 'call', '09063458130', 'videochat', 'wid', 'ur', 'mate', 'play', 'java', 'game', 'dload', 'polyph', 'music', 'nolin', 'rentl', 'bx420', 'ip4', '5we', '150p', 'next', 'amaz', 'xxx', 'picsfree1', 'video', 'sent', 'enjoy', 'one', 'vid', 'enough', '2day', 'text', 'back', 'keyword', 'picsfree1', 'get', 'next', 'video', 'u', 'subscrib', 'best', 'mobil', 'content', 'servic', 'uk', 'per', 'ten', 'day', 'send', 'stop', 'helplin', '08706091795', '3', 'free', 'tarot', 'text', 'find', 'love', 'life', 'tri', '3', 'free', 'text', 'chanc', '85555', '16', '3', 'free', 'msg', 'join', 'uk', 'horniest', 'dog', 'servic', 'u', 'sex', '2nite', 'sign', 'follow', 'instruct', 'txt', 'entri', '69888', '150p', 'knock', 'knock', 'txt', 'whose', '80082', 'enter', 'r', 'weekli', 'draw', '4', 'gift', 'voucher', '4', 'store', 'yr', 'choic', 'cs', 'age16', 'forward', '21870000', 'hi', 'mailbox', 'messag', 'sm', 'alert', '40', 'match', 'pleas', 'call', 'back', '09056242159', 'retriev', 'messag', 'match', 'free', 'ring', 'tone', 'text', 'everi', 'week', 'get', 'new', 'tone', '0870737910216yr', 'urgent', 'mobil', '077xxx', 'bonu', 'caller', 'prize', '2nd', 'attempt', 'reach', 'call', '09066362206', 'asap', 'box97n7qp', '150ppm', 'guarante', 'latest', 'nokia', 'phone', '40gb', 'ipod', 'mp3', 'player', 'prize', 'txt', 'word', 'collect', '83355', 'ibhltd', 'ldnw15h', 'hello', 'darl', 'today', 'would', 'love', 'chat', 'dont', 'tell', 'look', 'like', 'sexi', '8007', 'free', '1st', 'week', 'no1', 'nokia', 'tone', '4', 'ur', 'mob', 'everi', 'week', 'txt', 'nokia', '8007', 'get', 'txting', 'tell', 'ur', 'mate', 'pobox', '36504', 'w4', '5wq', 'norm', 'wan', 'na', 'get', 'laid', '2nite', 'want', 'real', 'dog', 'locat', 'sent', 'direct', 'ur', 'mobil', 'join', 'uk', 'largest', 'dog', 'network', 'txt', 'park', '69696', 'nyt', 'ec2a', '3lp', 'tri', 'contact', 'respons', 'offer', 'new', 'nokia', 'fone', 'camcord', 'hit', 'repli', 'call', '08000930705', 'deliveri', 'new', 'tone', 'week', 'includ', '1', 'ab', '2', 'sara', '3', 'order', 'follow', 'instruct', 'next', 'messag', 'urgent', 'tri', 'contact', 'today', 'draw', 'show', 'prize', 'guarante', 'call', '09050003091', 'land', 'line', 'claim', 'c52', 'valid', '12hr', 'sport', 'fan', 'get', 'latest', 'sport', 'news', 'str', '2', 'ur', 'mobil', '1', 'wk', 'free', 'plu', 'free', 'tone', 'txt', 'sport', '8007', 'norm', 'urgent', 'urgent', '800', 'free', 'flight', 'europ', 'give', 'away', 'call', 'b4', '10th', 'sept', 'take', 'friend', '4', 'free', 'call', 'claim', 'ba128nnfwfly150ppm', '88066', 'lost', 'help', 'freemsg', 'fanci', 'flirt', 'repli', 'date', 'join', 'uk', 'fastest', 'grow', 'mobil', 'date', 'servic', 'msg', 'rcvd', '25p', 'optout', 'txt', 'stop', 'repli', 'date', 'great', 'new', 'offer', 'doubl', 'min', 'doubl', 'txt', 'best', 'orang', 'tariff', 'get', 'latest', 'camera', 'phone', '4', 'free', 'call', 'mobileupd8', 'free', '08000839402', '2stoptxt', 'cs', 'hope', 'enjoy', 'new', 'content', 'text', 'stop', '61610', 'unsubscrib', 'provid', 'urgent', 'pleas', 'call', '09066612661', 'landlin', 'cash', 'luxuri', '4', 'canari', 'island', 'holiday', 'await', 'collect', 'cs', 'sae', 'award', '20m12aq', '150ppm', 'urgent', 'pleas', 'call', '09066612661', 'landlin', 'complimentari', '4', 'lux', 'costa', 'del', 'sol', 'holiday', 'cash', 'await', 'collect', 'ppm', '150', 'sae', 'cs', 'jame', '28', 'eh74rr', 'marri', 'local', 'women', 'look', 'discreet', 'action', '5', 'real', 'match', 'instantli', 'phone', 'text', 'match', '69969', 'msg', 'cost', '150p', '2', 'stop', 'txt', 'stop', 'bcmsfwc1n3xx', 'burger', 'king', 'wan', 'na', 'play', 'footi', 'top', 'stadium', 'get', '2', 'burger', 'king', '1st', 'sept', 'go', 'larg', 'super', 'walk', 'winner', 'come', 'take', 'littl', 'time', 'child', 'afraid', 'dark', 'becom', 'teenag', 'want', 'stay', 'night', 'ur', 'chanc', 'win', 'cash', 'everi', 'wk', 'txt', 'action', 'c', 'custcar', '08712405022', 'bin', 'award', 'play', '4', 'instant', 'cash', 'call', '08715203028', 'claim', 'everi', '9th', 'player', 'win', 'min', 'optout', '08718727870', 'freemsg', 'fav', 'xma', 'tone', 'repli', 'real', 'decemb', 'mobil', 'entitl', 'updat', 'latest', 'colour', 'camera', 'mobil', 'free', 'call', 'mobil', 'updat', 'co', 'free', '08002986906', 'gr8', 'poli', 'tone', '4', 'mob', 'direct', '2u', 'rpli', 'poli', 'titl', '8007', 'eg', 'poli', 'breathe1', 'titl', 'crazyin', 'sleepingwith', 'finest', 'ymca', 'pobox365o4w45wq', '300p', 'interflora', 'åòit', 'late', 'order', 'interflora', 'flower', 'christma', 'call', '0800', '505060', 'place', 'order', 'midnight', 'tomorrow', 'romcapspam', 'everyon', 'around', 'respond', 'well', 'presenc', 'sinc', 'warm', 'outgo', 'bring', 'real', 'breath', 'sunshin', 'congratul', 'thank', 'good', 'friend', 'u', 'xma', 'prize', '2', 'claim', 'easi', 'call', '08712103738', '10p', 'per', 'minut', 'send', 'logo', '2', 'ur', 'lover', '2', 'name', 'join', 'heart', 'txt', 'love', 'name1', 'name2', 'mobno', 'eg', 'love', 'adam', 'eve', '07123456789', '87077', 'yahoo', 'pobox36504w45wq', 'txtno', '4', 'ad', '150p', 'tkt', 'euro2004', 'cup', 'final', 'cash', 'collect', 'call', '09058099801', 'b4190604', 'pobox', '7876150ppm', 'jamster', 'get', 'crazi', 'frog', 'sound', 'poli', 'text', 'mad1', 'real', 'text', 'mad2', '88888', '6', 'crazi', 'sound', '3', 'c', 'appli', 'chanc', 'realiti', 'fantasi', 'show', 'call', '08707509020', '20p', 'per', 'min', 'ntt', 'ltd', 'po', 'box', '1327', 'croydon', 'cr9', '5wb', '0870', 'nation', 'rate', 'call', 'adult', '18', 'content', 'video', 'shortli', 'chanc', 'realiti', 'fantasi', 'show', 'call', '08707509020', '20p', 'per', 'min', 'ntt', 'ltd', 'po', 'box', '1327', 'croydon', 'cr9', '5wb', '0870', 'nation', 'rate', 'call', 'hey', 'boy', 'want', 'hot', 'xxx', 'pic', 'sent', 'direct', '2', 'ur', 'phone', 'txt', 'porn', '69855', '24hr', 'free', '50p', 'per', 'day', 'stop', 'text', 'stopbcm', 'sf', 'wc1n3xx', 'doubl', 'min', '1000', 'txt', 'orang', 'tariff', 'latest', 'motorola', 'sonyericsson', 'nokia', 'bluetooth', 'free', 'call', 'mobileupd8', '08000839402', 'yhl', 'ur', 'current', '500', 'pound', 'maxim', 'ur', 'send', 'cash', '86688', 'cc', '08718720201', 'po', 'box', 'urgent', 'mobil', 'number', 'award', 'prize', 'guarante', 'call', '09058094454', 'land', 'line', 'claim', 'valid', '12hr', 'sorri', 'u', 'unsubscrib', 'yet', 'mob', 'offer', 'packag', 'min', 'term', '54', 'week', 'pl', 'resubmit', 'request', 'expiri', 'repli', 'themob', 'help', '4', 'info', '1', 'new', 'messag', 'pleas', 'call', '08712400200', 'current', 'messag', 'await', 'collect', 'collect', 'messag', 'call', '08718723815', 'urgent', 'mobil', 'award', 'bonu', 'caller', 'prize', 'final', 'attempt', '2', 'contact', 'u', 'call', '08714714011', 'ever', 'notic', 'drive', 'anyon', 'go', 'slower', 'idiot', 'everyon', 'drive', 'faster', 'maniac', 'xma', 'offer', 'latest', 'motorola', 'sonyericsson', 'nokia', 'free', 'bluetooth', 'dvd', 'doubl', 'min', '1000', 'txt', 'orang', 'call', 'mobileupd8', '08000839402', 'repli', 'win', 'weekli', 'profession', 'sport', 'tiger', 'wood', 'play', 'send', 'stop', '87239', 'end', 'servic', '1', 'polyphon', 'tone', '4', 'ur', 'mob', 'everi', 'week', 'txt', 'pt2', '87575', '1st', 'tone', 'free', 'get', 'txtin', 'tell', 'ur', 'friend', '16', 'repli', 'hl', '4info', 'messag', 'free', 'welcom', 'new', 'improv', 'sex', 'dog', 'club', 'unsubscrib', 'servic', 'repli', 'stop', 'msg', '150p', '12mth', 'half', 'price', 'orang', 'line', 'rental', '400min', 'call', 'mobileupd8', '08000839402', 'free', 'unlimit', 'hardcor', 'porn', 'direct', '2', 'mobil', 'txt', 'porn', '69200', 'get', 'free', 'access', '24', 'hr', 'chrgd', '50p', 'per', 'day', 'txt', 'stop', '2exit', 'msg', 'free', 'unsubscrib', 'servic', 'get', 'ton', 'sexi', 'babe', 'hunk', 'straight', 'phone', 'go', 'http', 'subscript', 'hi', 'babe', 'jordan', 'r', 'u', 'im', 'home', 'abroad', 'lone', 'text', 'back', 'u', 'wan', 'na', 'chat', 'xxsp', 'text', 'stop', 'stopcost', '150p', '08712400603', 'get', 'brand', 'new', 'mobil', 'phone', 'agent', 'mob', 'plu', 'load', 'goodi', 'info', 'text', 'mat', '87021', 'lord', 'ring', 'return', 'king', 'store', 'repli', 'lotr', '2', 'june', '4', 'chanc', '2', 'win', 'lotr', 'soundtrack', 'cd', 'stdtxtrate', 'repli', 'stop', 'end', 'txt', 'good', 'luck', 'draw', 'take', 'place', '28th', 'feb', 'good', 'luck', 'remov', 'send', 'stop', '87239', 'custom', 'servic', '08708034412', '1st', 'wk', 'free', 'gr8', 'tone', 'str8', '2', 'u', 'wk', 'txt', 'nokia', '8007', 'classic', 'nokia', 'tone', 'hit', '8007', 'poli', 'lookatm', 'thank', 'purchas', 'video', 'clip', 'lookatm', 'charg', '35p', 'think', 'better', 'send', 'video', 'mmsto', '32323', 'sexi', 'sexi', 'cum', 'text', 'im', 'wet', 'warm', 'readi', 'porn', 'u', 'fun', 'msg', 'free', 'recd', 'msg', '150p', 'inc', 'vat', '2', 'cancel', 'text', 'stop', '2nd', 'time', 'tri', 'contact', 'u', 'prize', 'claim', 'call', '09053750005', 'b4', 'sm', '08718725756', '140ppm', 'dear', 'voucher', 'holder', 'claim', 'week', 'offer', 'pc', 'pleas', 'go', 'http', 'ts', 'cs', 'appli', '2nd', 'time', 'tri', '2', 'contact', 'u', '750', 'pound', 'prize', '2', 'claim', 'easi', 'call', '08712101358', '10p', 'per', 'min', 'ur', 'award', 'citi', 'break', 'could', 'win', 'summer', 'shop', 'spree', 'everi', 'wk', 'txt', 'store', 'urgent', 'tri', 'contact', 'today', 'draw', 'show', 'prize', 'guarante', 'call', '09066358361', 'land', 'line', 'claim', 'y87', 'valid', '12hr', 'thank', 'rington', 'order', 'refer', 'number', 'x29', 'mobil', 'charg', 'tone', 'arriv', 'pleas', 'call', 'custom', 'servic', '09065989180', 'ur', 'current', '500', 'pound', 'maxim', 'ur', 'send', 'collect', '83600', 'cc', '08718720201', 'po', 'box', 'congratul', 'thank', 'good', 'friend', 'u', 'xma', 'prize', '2', 'claim', 'easi', 'call', '08718726978', '10p', 'per', 'minut', '44', '7732584351', 'want', 'new', 'nokia', '3510i', 'colour', 'phone', 'deliveredtomorrow', '300', 'free', 'minut', 'mobil', '100', 'free', 'text', 'free', 'camcord', 'repli', 'call', '08000930705', 'someon', 'u', 'know', 'ask', 'date', 'servic', '2', 'contact', 'cant', 'guess', 'call', '09058097189', 'reveal', 'pobox', '6', 'ls15hb', '150p', 'camera', 'award', 'sipix', 'digit', 'camera', 'call', '09061221066', 'fromm', 'landlin', 'deliveri', 'within', '28', 'day', 'today', 'voda', 'number', 'end', '5226', 'select', 'receiv', '350', 'award', 'hava', 'match', 'pleas', 'call', '08712300220', 'quot', 'claim', 'code', '1131', 'standard', 'rate', 'app', 'messag', 'free', 'welcom', 'new', 'improv', 'sex', 'dog', 'club', 'unsubscrib', 'servic', 'repli', 'stop', 'msg', '150p', '18', 'rct', 'thnq', 'adrian', 'u', 'text', 'rgd', 'vatian', 'contact', 'date', 'servic', 'someon', 'know', 'find', 'call', 'land', 'line', 'pobox45w2tg150p', 'sorri', 'miss', 'call', 'let', 'talk', 'time', '07090201529', 'complimentari', '4', 'star', 'ibiza', 'holiday', 'cash', 'need', 'urgent', 'collect', '09066364349', 'landlin', 'lose', 'free', 'msg', 'bill', 'mobil', 'number', 'mistak', 'shortcod', 'call', '08081263000', 'charg', 'call', 'free', 'bt', 'landlin', 'pleas', 'call', '08712402972', 'immedi', 'urgent', 'messag', 'wait', 'urgent', 'mobil', 'number', 'award', 'bonu', 'caller', 'prize', 'call', '09058095201', 'land', 'line', 'valid', '12hr', 'want', 'new', 'nokia', '3510i', 'colour', 'phone', 'deliveredtomorrow', '300', 'free', 'minut', 'mobil', '100', 'free', 'text', 'free', 'camcord', 'repli', 'call', '08000930705', 'life', 'never', 'much', 'fun', 'great', 'came', 'made', 'truli', 'special', 'wo', 'forget', 'enjoy', 'one', 'want', 'new', 'video', 'phone', '600', 'anytim', 'network', 'min', '400', 'inclus', 'video', 'call', 'download', '5', 'per', 'week', 'free', 'deltomorrow', 'call', '08002888812', 'repli', 'valu', 'custom', 'pleas', 'advis', 'follow', 'recent', 'review', 'mob', 'award', 'bonu', 'prize', 'call', '09066368470', 'welcom', 'pleas', 'repli', 'age', 'gender', 'begin', '24m', 'freemsg', 'unlimit', 'free', 'call', 'activ', 'smartcal', 'txt', 'call', 'unlimit', 'call', 'help', '08448714184', 'stop', 'txt', 'stop', 'landlineonli', 'mobil', '10', 'mth', 'updat', 'latest', 'orang', 'phone', 'free', 'save', 'free', 'call', 'text', 'ye', 'callback', 'orno', 'opt', 'new', '2', 'club', 'dont', 'fink', 'met', 'yet', 'b', 'gr8', '2', 'c', 'u', 'pleas', 'leav', 'msg', '2day', 'wiv', 'ur', 'area', '09099726553', 'repli', 'promis', 'carli', 'x', 'lkpobox177hp51fl', 'camera', 'award', 'sipix', 'digit', 'camera', 'call', '09061221066', 'fromm', 'landlin', 'deliveri', 'within', '28', 'day', 'get', 'free', 'mobil', 'video', 'player', 'free', 'movi', 'collect', 'text', 'go', 'free', 'extra', 'film', 'order', 'c', 'appli', '18', 'yr', 'save', 'money', 'wed', 'lingeri', 'choos', 'superb', 'select', 'nation', 'deliveri', 'brought', 'weddingfriend', 'heard', 'u4', 'call', 'night', 'knicker', 'make', 'beg', 'like', 'u', 'last', 'time', '01223585236', 'xx', 'luv', 'bloomberg', 'center', 'wait', 'appli', 'futur', 'http', 'want', 'new', 'video', 'phone750', 'anytim', 'network', 'min', '150', 'text', 'five', 'pound', 'per', 'week', 'call', '08000776320', 'repli', 'deliveri', 'tomorrow', 'contact', 'date', 'servic', 'someon', 'know', 'find', 'call', 'land', 'line', 'pobox45w2tg150p', 'wan2', 'win', 'westlif', '4', 'u', 'm8', 'current', 'tour', '1', 'unbreak', '2', 'untam', '3', 'unkempt', 'text', '3', 'cost', '50p', 'text', 'dorothi', 'bank', 'granit', 'issu', 'explos', 'pick', 'member', '300', 'nasdaq', 'symbol', 'cdgt', 'per', 'winner', 'guarante', 'caller', 'prize', 'final', 'attempt', 'contact', 'claim', 'call', '09071517866', '150ppmpobox10183bhamb64x', 'xma', 'new', 'year', 'eve', 'ticket', 'sale', 'club', 'day', '10am', 'till', '8pm', 'thur', 'fri', 'sat', 'night', 'week', 'sell', 'fast', 'rock', 'yr', 'chik', 'get', '100', 'filthi', 'film', 'xxx', 'pic', 'yr', 'phone', 'rpli', 'filth', 'saristar', 'ltd', 'e14', '9yt', '08701752560', '450p', 'per', '5', 'day', 'stop2', 'cancel', 'next', 'month', 'get', 'upto', '50', 'call', '4', 'ur', 'standard', 'network', 'charg', '2', 'activ', 'call', '9061100010', 'c', '1st4term', 'pobox84', 'm26', '3uz', 'cost', 'min', 'mobcudb', 'urgent', 'tri', 'contact', 'u', 'today', 'draw', 'show', 'prize', 'guarante', 'call', '09050000460', 'land', 'line', 'claim', 'j89', 'po', 'box245c2150pm', 'text', 'banneduk', '89555', 'see', 'cost', '150p', 'textoper', 'g696ga', 'xxx', 'auction', 'round', 'highest', 'bid', 'next', 'maximum', 'bid', 'bid', 'send', 'bid', '10', 'bid', 'good', 'luck', 'collect', 'valentin', 'weekend', 'pari', 'inc', 'flight', 'hotel', 'prize', 'guarante', 'text', 'pari', 'custom', 'loyalti', 'offer', 'new', 'nokia6650', 'mobil', 'txtauction', 'txt', 'word', 'start', '81151', 'get', '4t', 'ctxt', 'tc', 'wo', 'believ', 'true', 'incred', 'txt', 'repli', 'g', 'learn', 'truli', 'amaz', 'thing', 'blow', 'mind', 'o2fwd', 'hot', 'n', 'horni', 'will', 'live', 'local', 'text', 'repli', 'hear', 'strt', 'back', '150p', 'per', 'msg', 'netcollex', 'ltdhelpdesk', '02085076972', 'repli', 'stop', 'end', 'want', 'new', 'nokia', '3510i', 'colour', 'phone', 'deliv', 'tomorrow', '200', 'free', 'minut', 'mobil', '100', 'free', 'text', 'free', 'camcord', 'repli', 'call', '08000930705', 'congratul', 'winner', 'august', 'prize', 'draw', 'call', '09066660100', 'prize', 'code', '2309', '8007', '25p', '4', 'alfi', 'moon', 'children', 'need', 'song', 'ur', 'mob', 'tell', 'ur', 'm8', 'txt', 'tone', 'chariti', '8007', 'nokia', 'poli', 'chariti', 'poli', 'zed', '08701417012', 'profit', '2', 'chariti', 'get', 'offici', 'england', 'poli', 'rington', 'colour', 'flag', 'yer', 'mobil', 'tonight', 'game', 'text', 'tone', 'flag', 'optout', 'txt', 'eng', 'stop', 'box39822', 'w111wx', 'custom', 'servic', 'announc', 'recent', 'tri', 'make', 'deliveri', 'unabl', 'pleas', 'call', '07090298926', 'stop', 'club', 'tone', 'repli', 'see', 'html', 'term', 'club', 'tone', 'cost', 'mfl', 'wamma', 'get', 'laid', 'want', 'real', 'doggin', 'locat', 'sent', 'direct', 'mobil', 'join', 'uk', 'largest', 'dog', 'network', 'txt', 'dog', '69696', 'nyt', 'ec2a', '3lp', 'promot', 'number', '8714714', 'ur', 'award', 'citi', 'break', 'could', 'win', 'summer', 'shop', 'spree', 'everi', 'wk', 'txt', 'store', '88039', 'skilgm', 'tscs087147403231winawk', 'age16', 'winner', 'special', 'select', 'receiv', 'cash', 'award', 'speak', 'live', 'oper', 'claim', 'call', 'cost', '10p', 'thank', 'rington', 'order', 'refer', 'number', 'x49', 'mobil', 'charg', 'tone', 'arriv', 'pleas', 'call', 'custom', 'servic', 'text', 'txtstar', 'hi', '2night', 'ur', 'lucki', 'night', 'uve', 'invit', '2', 'xchat', 'uk', 'wildest', 'chat', 'txt', 'chat', '86688', 'ldn', '18yr', '146tf150p', 'dear', 'voucher', 'holder', '2', 'claim', '1st', 'class', 'airport', 'loung', 'pass', 'use', 'holiday', 'voucher', 'call', 'book', 'quot', '1st', 'class', 'x', '2', 'someon', 'u', 'know', 'ask', 'date', 'servic', '2', 'contact', 'cant', 'guess', 'call', '09058095107', 'reveal', 'pobox', '7', 's3xi', '150p', 'mila', 'age23', 'blond', 'new', 'uk', 'look', 'sex', 'uk', 'guy', 'u', 'like', 'fun', 'text', 'mtalk', '1st', '5free', 'increment', 'help08718728876', 'claim', '200', 'shop', 'spree', 'call', '08717895698', 'mobstorequiz10ppm', 'want', 'funk', 'ur', 'fone', 'weekli', 'new', 'tone', 'repli', 'tones2u', '2', 'text', 'origin', 'n', 'best', 'tone', '3gbp', 'network', 'oper', 'rate', 'appli', 'twink', 'bear', 'scalli', 'skin', 'jock', 'call', 'miss', 'weekend', 'fun', 'call', '08712466669', '2', 'stop', 'text', 'call', '08712460324', 'nat', 'rate', 'tri', 'contact', 'repli', 'offer', 'video', 'handset', '750', 'anytim', 'network', 'min', 'unlimit', 'text', 'camcord', 'repli', 'call', '08000930705', 'urgent', 'tri', 'contact', 'last', 'weekend', 'draw', 'show', 'prize', 'guarante', 'call', 'claim', 'code', 'k61', 'valid', '12hour', '74355', 'xma', 'iscom', 'ur', 'award', 'either', 'cd', 'gift', 'voucher', 'free', 'entri', '2', 'r', 'weekli', 'draw', 'txt', 'music', '87066', 'tnc', 'congratul', 'u', 'claim', '2', 'vip', 'row', 'ticket', '2', 'c', 'blu', 'concert', 'novemb', 'blu', 'gift', 'guarante', 'call', '09061104276', 'claim', 'ts', 'cs', 'free', 'msg', 'singl', 'find', 'partner', 'area', '1000', 'real', 'peopl', 'wait', 'chat', 'send', 'chat', '62220cncl', 'send', 'stopc', 'per', 'msg', 'win', 'newest', 'åòharri', 'potter', 'order', 'phoenix', 'book', '5', 'repli', 'harri', 'answer', '5', 'question', 'chanc', 'first', 'among', 'reader', 'free', 'msg', 'rington', 'http', 'wml', '37819', 'oh', 'god', 'found', 'number', 'glad', 'text', 'back', 'xafter', 'msg', 'cst', 'std', 'ntwk', 'chg', 'link', 'pictur', 'sent', 'also', 'use', 'http', 'doubl', 'min', '1000', 'txt', 'orang', 'tariff', 'latest', 'motorola', 'sonyericsson', 'nokia', 'bluetooth', 'free', 'call', 'mobileupd8', '08000839402', 'urgent', '2nd', 'attempt', 'contact', 'prize', 'yesterday', 'still', 'await', 'collect', 'claim', 'call', 'acl03530150pm', 'dear', 'dave', 'final', 'notic', 'collect', '4', 'tenerif', 'holiday', '5000', 'cash', 'award', 'call', '09061743806', 'landlin', 'tc', 'sae', 'box326', 'cw25wx', '150ppm', 'tell', 'u', '2', 'call', '09066358152', 'claim', 'prize', 'u', '2', 'enter', 'ur', 'mobil', 'person', 'detail', 'prompt', 'care', '2004', 'account', '07xxxxxxxxx', 'show', '786', 'unredeem', 'point', 'claim', 'call', '08719181259', 'identifi', 'code', 'xxxxx', 'expir', 'want', 'new', 'video', 'handset', '750', 'anytim', 'network', 'min', 'half', 'price', 'line', 'rental', 'camcord', 'repli', 'call', '08000930705', 'deliveri', 'tomorrow', 'free', 'rington', 'repli', 'real', 'poli', 'eg', 'real1', 'pushbutton', 'dontcha', 'babygoodby', 'golddigg', 'webeburnin', '1st', 'tone', 'free', '6', 'u', 'join', 'free', 'msg', 'get', 'gnarl', 'barkley', 'rington', 'total', 'free', 'repli', 'go', 'messag', 'right', 'refus', 'loan', 'secur', 'unsecur', 'ca', 'get', 'credit', 'call', 'free', '0800', '195', '6669', 'text', 'back', 'special', 'select', 'receiv', 'award', 'call', '08712402050', 'line', 'close', 'cost', '10ppm', 'cs', 'appli', 'ag', 'promo', 'valu', 'vodafon', 'custom', 'comput', 'pick', 'win', 'prize', 'collect', 'easi', 'call', '09061743386', 'free', 'video', 'camera', 'phone', 'half', 'price', 'line', 'rental', '12', 'mth', '500', 'cross', 'ntwk', 'min', '100', 'txt', 'call', 'mobileupd8', '08001950382', 'ringtonek', '84484', 'rington', 'club', 'gr8', 'new', 'poli', 'direct', 'mobil', 'everi', 'week', 'bank', 'granit', 'issu', 'explos', 'pick', 'member', '300', 'nasdaq', 'symbol', 'cdgt', 'per', 'bore', 'housew', 'chat', 'n', 'date', 'rate', 'landlin', 'tri', 'call', 'repli', 'sm', 'video', 'mobil', '750', 'min', 'unlimit', 'text', 'free', 'camcord', 'repli', 'call', '08000930705', 'del', 'thur', '2nd', 'time', 'tri', 'contact', 'u', 'prize', '2', 'claim', 'easi', 'call', '087104711148', '10p', 'per', 'minut', 'receiv', 'week', 'tripl', 'echo', 'rington', 'shortli', 'enjoy', 'u', 'select', 'stay', '1', '250', 'top', 'british', 'hotel', 'noth', 'holiday', 'valu', 'dial', '08712300220', 'claim', 'nation', 'rate', 'call', 'bx526', 'sw73ss', 'chosen', 'receiv', 'award', 'pl', 'call', 'claim', 'number', '09066364311', 'collect', 'award', 'select', 'receiv', 'valu', 'mobil', 'custom', 'win', 'cash', 'prize', 'prize', 'worth', 'thank', 'rington', 'order', 'refer', 'number', 'mobil', 'charg', 'tone', 'arriv', 'pleas', 'call', 'custom', 'servic', '09065989182', 'mobi', 'pub', 'high', 'street', 'prize', 'u', 'know', 'new', 'duchess', 'cornwal', 'txt', 'first', 'name', 'stop', '008704050406', 'sp', 'week', 'savamob', 'member', 'offer', 'access', 'call', '08709501522', 'detail', 'savamob', 'pobox', '139', 'la3', '2wu', 'savamob', 'offer', 'mobil', 'contact', 'date', 'servic', 'someon', 'know', 'find', 'call', 'mobil', 'landlin', '09064017305', 'pobox75ldns7', 'chase', 'us', 'sinc', 'sept', 'definit', 'pay', 'thank', 'inform', 'ignor', 'kath', 'manchest', 'loan', 'purpos', 'even', 'bad', 'credit', 'tenant', 'welcom', 'call', '08717111821', '87077', 'kick', 'new', 'season', '2wk', 'free', 'goal', 'news', 'ur', 'mobil', 'txt', 'ur', 'club', 'name', '87077', 'eg', 'villa', '87077', 'orang', 'bring', 'rington', 'time', 'chart', 'hero', 'free', 'hit', 'week', 'go', 'rington', 'pic', 'wap', 'stop', 'receiv', 'tip', 'repli', 'stop', 'privat', '2003', 'account', 'statement', '07973788240', 'show', '800', 'point', 'call', '08715203649', 'identifi', 'code', '40533', 'expir', 'tri', 'call', 'repli', 'sm', 'video', 'mobil', '750', 'min', 'unlimit', 'text', 'free', 'camcord', 'repli', 'call', '08000930705', 'gsoh', 'good', 'spam', 'ladi', 'u', 'could', 'b', 'male', 'gigolo', '2', 'join', 'uk', 'fastest', 'grow', 'men', 'club', 'repli', 'oncal', 'mjzgroup', 'repli', 'stop', 'msg', 'hot', 'live', 'fantasi', 'call', '08707500020', '20p', 'per', 'min', 'ntt', 'ltd', 'po', 'box', '1327', 'croydon', 'cr9', '5wb', '0870', 'nation', 'rate', 'call', 'urgent', 'mobil', 'number', 'award', 'ukp', '2000', 'prize', 'guarante', 'call', '09061790125', 'landlin', 'claim', 'valid', '12hr', '150ppm', 'spjanuari', 'male', 'sale', 'hot', 'gay', 'chat', 'cheaper', 'call', 'nation', 'rate', 'cheap', 'peak', 'stop', 'text', 'call', '08712460324', 'freemsg', 'today', 'day', 'readi', 'horni', 'live', 'town', 'love', 'sex', 'fun', 'game', 'netcollex', 'ltd', '08700621170150p', 'per', 'msg', 'repli', 'stop', 'end', 'simpson', 'movi', 'releas', 'juli', '2007', 'name', 'band', 'die', 'start', 'film', 'day', 'day', 'day', 'send', 'b', 'c', 'pleas', 'call', 'amanda', 'regard', 'renew', 'upgrad', 'current', 'handset', 'free', 'charg', 'offer', 'end', 'today', 'tel', '0845', '021', '3680', 'subject', 'c', 'want', 'new', 'video', 'phone', '750', 'anytim', 'network', 'min', 'half', 'price', 'line', 'rental', 'free', 'text', '3', 'month', 'repli', 'call', '08000930705', 'free', 'deliveri', 'dear', 'voucher', 'holder', 'claim', 'week', 'offer', 'pc', 'pleas', 'go', 'http', 'ts', 'cs', 'appli', 'urgent', 'pleas', 'call', 'abta', 'complimentari', '4', 'spanish', 'holiday', 'cash', 'await', 'collect', 'sae', 'cs', 'box', '47', 'po19', '2ez', '150ppm', 'cmon', 'babe', 'make', 'horni', 'turn', 'txt', 'fantasi', 'babe', 'im', 'hot', 'sticki', 'need', 'repli', 'cost', '2', 'cancel', 'send', 'stop', 'import', 'inform', '4', 'orang', 'user', '0796xxxxxx', 'today', 'ur', 'lucki', 'day', '2', 'find', 'log', 'onto', 'http', 'fantast', 'prizeawait', 'miss', 'call', 'alert', 'number', 'call', 'left', 'messag', '07008009200', 'freemsg', 'record', 'indic', 'may', 'entitl', '3750', 'pound', 'accid', 'claim', 'free', 'repli', 'ye', 'msg', 'opt', 'text', 'stop', 'show', 'ur', 'colour', 'euro', '2004', 'offer', 'get', 'england', 'flag', '3lion', 'tone', 'ur', 'phone', 'click', 'follow', 'servic', 'messag', 'info', 'text', 'pass', '69669', 'collect', 'polyphon', 'rington', 'normal', 'gpr', 'charg', 'appli', 'enjoy', 'tone', 'accordingli', 'repeat', 'text', 'word', 'ok', 'mobil', 'phone', 'send', 'block', 'breaker', 'come', 'delux', 'format', 'new', 'featur', 'great', 'graphic', 'buy', 'repli', 'get', 'bbdelux', 'take', 'challeng', 'import', 'inform', '4', 'orang', 'user', 'today', 'lucki', 'day', '2find', 'log', 'onto', 'http', 'fantast', 'surpris', 'await', 'natalja', 'invit', 'friend', 'repli', 'see', 'stop', 'send', 'stop', 'frnd', '62468', 'urgent', 'import', 'inform', '02', 'user', 'today', 'lucki', 'day', '2', 'find', 'log', 'onto', 'http', 'fantast', 'surpris', 'await', 'kit', 'strip', 'bill', '150p', 'netcollex', 'po', 'box', '1013', 'ig11', 'oja', 'pleas', 'call', '08712402578', 'immedi', 'urgent', 'messag', 'wait', 'let', 'send', 'free', 'anonym', 'mask', 'messag', 'im', 'send', 'messag', 'see', 'potenti', 'abus', 'congrat', '2', 'mobil', '3g', 'videophon', 'r', 'call', '09061744553', 'videochat', 'wid', 'ur', 'mate', 'play', 'java', 'game', 'dload', 'polyh', 'music', 'nolin', 'rentl', 'bx420', 'ip4', '5we', '150pm', 'import', 'inform', '4', 'orang', 'user', '0789xxxxxxx', 'today', 'lucki', 'day', '2find', 'log', 'onto', 'http', 'fantast', 'surpris', 'await', 'date', 'servic', 'ask', '2', 'contact', 'u', 'someon', 'shi', 'call', '09058091870', 'reveal', 'pobox84', 'm26', '3uz', '150p', 'want', 'new', 'video', 'handset', '750', 'time', 'network', 'min', 'unlimit', 'text', 'camcord', 'repli', 'call', '08000930705', 'del', 'sat', 'ur', 'balanc', 'next', 'question', 'complet', 'landmark', 'big', 'bob', 'barri', 'ben', 'text', 'b', 'c', 'good', 'luck', 'ur', 'tonex', 'subscript', 'renew', 'charg', 'choos', '10', 'poli', 'month', 'bill', 'msg', 'prize', 'go', 'anoth', 'custom', 'c', 'polo', 'ltd', 'suit', '373', 'london', 'w1j', '6hl', 'pleas', 'call', 'back', 'busi', 'want', 'new', 'nokia', '3510i', 'colour', 'phone', 'deliv', 'tomorrow', '200', 'free', 'minut', 'mobil', '100', 'free', 'text', 'free', 'camcord', 'repli', 'call', '8000930705', 'recpt', 'order', 'rington', 'order', 'process', 'one', 'regist', 'subscrib', 'u', 'enter', 'draw', '4', '100', 'gift', 'voucher', 'repli', 'enter', 'unsubscrib', 'text', 'stop', 'chanc', 'win', 'free', 'bluetooth', 'headset', 'simpli', 'repli', 'back', 'b', 'floppi', 'b', 'snappi', 'happi', 'gay', 'chat', 'servic', 'photo', 'upload', 'call', '08718730666', '2', 'stop', 'text', 'call', '08712460324', 'welcom', 'msg', 'free', 'give', 'free', 'call', 'futur', 'mg', 'bill', '150p', 'daili', 'cancel', 'send', '89123', 'receiv', 'mobil', 'content', 'enjoy', 'want', 'explicit', 'sex', '30', 'sec', 'ring', '02073162414', 'cost', 'latest', 'nokia', 'mobil', 'ipod', 'mp3', 'player', 'proze', 'guarante', 'repli', 'win', '83355', 'norcorp', 'sm', 'servic', 'inclus', 'text', 'credit', 'pl', 'goto', '3qxj9', 'unsubscrib', 'stop', 'extra', 'charg', 'help', '9ae', 'mobil', 'club', 'choos', 'top', 'qualiti', 'item', 'mobil', '7cfca1a', 'money', 'wine', 'number', '946', 'wot', 'next', 'want', 'cock', 'hubbi', 'away', 'need', 'real', 'man', '2', 'satisfi', 'txt', 'wife', '89938', 'string', 'action', 'txt', 'stop', '2', 'end', 'txt', 'rec', 'otbox', '731', 'la1', '7w', 'gr8', 'new', 'servic', 'live', 'sex', 'video', 'chat', 'mob', 'see', 'sexiest', 'dirtiest', 'girl', 'live', 'ur', 'phone', '4', 'detail', 'text', 'horni', '89070', 'cancel', 'send', 'stop', '89070', 'freemsg', 'hi', 'babi', 'wow', 'got', 'new', 'cam', 'mobi', 'wan', 'na', 'c', 'hot', 'pic', 'fanci', 'chat', 'im', 'w8in', '4utxt', 'rpli', 'chat', '82242', 'hlp', '08712317606', 'msg150p', '2rcv', 'wan', 'na', 'laugh', 'tri', 'mobil', 'logon', 'txting', 'word', 'chat', 'send', '8883', 'cm', 'po', 'box', '4217', 'london', 'w1a', '6zf', 'rcvd', '2nd', 'attempt', 'contact', 'u', 'u', '09071512432', 'b4', '300603t', 'congratul', 'ur', 'award', '500', 'cd', 'voucher', '125gift', 'guarante', 'free', 'entri', '2', '100', 'wkli', 'draw', 'txt', 'music', '87066', 'contract', 'mobil', '11', 'mnth', 'latest', 'motorola', 'nokia', 'etc', 'free', 'doubl', 'min', 'text', 'orang', 'tariff', 'text', 'ye', 'callback', 'remov', 'record', 'urgent', 'call', '09066350750', 'landlin', 'complimentari', '4', 'ibiza', 'holiday', 'cash', 'await', 'collect', 'sae', 'cs', 'po', 'box', '434', 'sk3', '8wp', '150', 'ppm', 'u', 'secret', 'admir', 'look', '2', 'make', 'contact', 'r', 'reveal', 'think', 'ur', 'freemsg', 'txt', 'call', '86888', 'claim', 'reward', '3', 'hour', 'talk', 'time', 'use', 'phone', 'inc', '3hr', '16', 'stop', 'txtstop', 'sunshin', 'quiz', 'win', 'super', 'soni', 'dvd', 'record', 'cannam', 'capit', 'australia', 'text', 'mquiz', 'b', 'today', 'voda', 'number', 'end', '7634', 'select', 'receiv', 'reward', 'match', 'pleas', 'call', '08712300220', 'quot', 'claim', 'code', '7684', 'standard', 'rate', 'appli', 'rip', 'get', 'mobil', 'content', 'call', '08717509990', 'six', 'download', '3', 'tri', 'contact', 'repli', 'offer', 'video', 'phone', '750', 'anytim', 'network', 'min', 'half', 'price', 'line', 'rental', 'camcord', 'repli', 'call', '08000930705', 'xma', 'reward', 'wait', 'comput', 'randomli', 'pick', 'loyal', 'mobil', 'custom', 'receiv', 'reward', 'call', '09066380611', 'privat', '2003', 'account', 'statement', 'show', '800', 'point', 'call', '08718738002', 'identifi', 'code', '48922', 'expir', 'custom', 'servic', 'announc', 'recent', 'tri', 'make', 'deliveri', 'unabl', 'pleas', 'call', '07099833605', 'hi', 'babe', 'chloe', 'r', 'u', 'smash', 'saturday', 'night', 'great', 'weekend', 'u', 'miss', 'sp', 'text', 'stop', 'stop', 'urgent', 'mobil', '07808726822', 'award', 'bonu', 'caller', 'prize', '2nd', 'attempt', 'contact', 'call', 'box95qu', 'free', 'game', 'get', 'rayman', 'golf', '4', 'free', 'o2', 'game', 'arcad', '1st', 'get', 'ur', 'game', 'set', 'repli', 'post', 'save', 'activ8', 'press', '0', 'key', 'arcad', 'termsappli', 'mobil', '10', 'mth', 'updat', 'latest', 'phone', 'free', 'keep', 'ur', 'number', 'get', 'extra', 'free', 'text', 'ye', 'call', 'weekli', 'tone', 'readi', 'download', 'week', 'new', 'tone', 'includ', '1', 'crazi', 'f', '2', '3', 'black', 'p', 'info', 'n', 'get', 'lot', 'cash', 'weekend', 'dear', 'welcom', 'weekend', 'got', 'biggest', 'best', 'ever', 'cash', 'give', 'away', 'thank', '4', 'continu', 'support', 'question', 'week', 'enter', 'u', 'in2', 'draw', '4', 'cash', 'name', 'new', 'us', 'presid', 'txt', 'an', '80082', 'uniqu', 'user', 'id', 'remov', 'send', 'stop', '87239', 'custom', 'servic', '08708034412', 'urgent', '09066649731from', 'landlin', 'complimentari', '4', 'ibiza', 'holiday', 'cash', 'await', 'collect', 'sae', 'cs', 'po', 'box', '434', 'sk3', '8wp', '150ppm', 'urgent', '2nd', 'attempt', 'contact', 'prize', 'yesterday', 'still', 'await', 'collect', 'claim', 'call', '09061702893', 'santa', 'call', 'would', 'littl', 'one', 'like', 'call', 'santa', 'xma', 'eve', 'call', '09077818151', 'book', 'time', 'last', '3min', '30', 'c', 'privat', '2004', 'account', 'statement', '078498', '7', 'show', '786', 'unredeem', 'bonu', 'point', 'claim', 'call', '08719180219', 'identifi', 'code', '45239', 'expir', 'check', 'choos', 'babe', 'video', 'fgkslpopw', 'fgkslpo', 'u', 'r', 'winner', 'u', 'ave', 'special', 'select', '2', 'receiv', 'cash', '4', 'holiday', 'flight', 'inc', 'speak', 'live', 'oper', '2', 'claim', '18', 'new', 'mobil', '2004', 'must', 'go', 'txt', 'nokia', '89545', 'collect', 'today', '2optout', 'txtauction', 'privat', '2003', 'account', 'statement', 'show', '800', 'point', 'call', '08715203652', 'identifi', 'code', '42810', 'expir', 'valu', 'vodafon', 'custom', 'comput', 'pick', 'win', 'prize', 'collect', 'easi', 'call', '09061743386', 'free', 'messag', 'thank', 'use', 'auction', 'subscript', 'servic', '18', '2', 'skip', 'auction', 'txt', '2', 'unsubscrib', 'txt', 'stop', 'customercar', '08718726270', 'lyricalladi', 'invit', 'friend', 'repli', 'see', 'stop', 'send', 'stop', 'frnd', '62468', 'want', 'latest', 'video', 'handset', '750', 'anytim', 'network', 'min', 'half', 'price', 'line', 'rental', 'repli', 'call', '08000930705', 'deliveri', 'tomorrow', 'ou', 'guarante', 'latest', 'nokia', 'phone', '40gb', 'ipod', 'mp3', 'player', 'prize', 'txt', 'word', 'collect', '83355', 'ibhltd', 'ldnw15h', 'free', 'polyphon', 'rington', 'text', 'super', '87131', 'get', 'free', 'poli', 'tone', 'week', '16', 'sn', 'pobox202', 'nr31', '7z', 'subscript', '450pw', 'warner', 'villag', '83118', 'c', 'colin', 'farrel', 'swat', 'wkend', 'warner', 'villag', 'get', '1', 'free', 'med', 'popcorn', 'show', 'c', 'c', 'kiosk', 'repli', 'soni', '4', 'mre', 'film', 'offer', 'goal', 'arsen', '4', 'henri', '7', 'v', 'liverpool', '2', 'henri', 'score', 'simpl', 'shot', '6', 'yard', 'pass', 'bergkamp', 'give', 'arsen', '2', 'goal', 'margin', '78', 'min', 'hi', 'sexychat', 'girl', 'wait', 'text', 'text', 'great', 'night', 'chat', 'send', 'stop', 'stop', 'servic', 'hi', 'ami', 'send', 'free', 'phone', 'number', 'coupl', 'day', 'give', 'access', 'adult', 'parti', 'welcom', 'select', 'o2', 'servic', 'ad', 'benefit', 'call', 'special', 'train', 'advisor', 'free', 'mobil', 'diall', '402', 'dear', 'voucher', 'holder', 'next', 'meal', 'us', 'use', 'follow', 'link', 'pc', '2', 'enjoy', '2', '4', '1', 'dine', 'experiencehttp', 'urgent', 'tri', 'contact', 'today', 'draw', 'show', 'prize', 'guarante', 'call', '09058094507', 'land', 'line', 'claim', 'valid', '12hr', 'donat', 'unicef', 'asian', 'tsunami', 'disast', 'support', 'fund', 'text', 'donat', 'ad', 'next', 'bill', 'goldvik', 'invit', 'friend', 'repli', 'see', 'stop', 'send', 'stop', 'frnd', '62468', 'phoni', 'award', 'today', 'voda', 'number', 'end', 'xxxx', 'select', 'receiv', 'award', 'match', 'pleas', 'call', '08712300220', 'quot', 'claim', 'code', '3100', 'standard', 'rate', 'app', 'cd', '4u', 'congratul', 'ur', 'award', 'cd', 'gift', 'voucher', 'gift', 'guarante', 'freeentri', '2', 'wkli', 'draw', 'xt', 'music', '87066', 'tnc', 'guarante', 'cash', 'prize', 'claim', 'yr', 'prize', 'call', 'custom', 'servic', 'repres', '08714712412', 'cost', '10p', 'dear', '0776xxxxxxx', 'u', 'invit', 'xchat', 'final', 'attempt', 'contact', 'u', 'txt', 'chat', '86688', 'ldn', '18yr', 'ur', 'current', '500', 'pound', 'maxim', 'ur', 'send', 'go', '86688', 'cc', '08718720201', 'privat', '2003', 'account', 'statement', 'show', '800', 'point', 'call', '08715203685', 'identifi', 'expir', 'like', 'tell', 'deepest', 'darkest', 'fantasi', 'call', '09094646631', 'stop', 'text', 'call', '08712460324', 'nat', 'rate', 'natali', 'invit', 'friend', 'repli', 'see', 'stop', 'send', 'stop', 'frnd', '62468', 'jamster', 'get', 'free', 'wallpap', 'text', 'heart', '88888', 'c', 'appli', '16', 'need', 'help', 'call', '08701213186', 'free', 'video', 'camera', 'phone', 'half', 'price', 'line', 'rental', '12', 'mth', '500', 'cross', 'ntwk', 'min', '100', 'txt', 'call', 'mobileupd8', '08001950382', '83039', 'uk', 'break', 'accommodationvouch', 'term', 'condit', 'appli', '2', 'claim', 'mustprovid', 'claim', 'number', '15541', '5p', '4', 'alfi', 'moon', 'children', 'need', 'song', 'ur', 'mob', 'tell', 'ur', 'm8', 'txt', 'tone', 'chariti', '8007', 'nokia', 'poli', 'chariti', 'poli', 'zed', '08701417012', 'profit', '2', 'chariti', 'win', 'shop', 'spree', 'everi', 'week', 'start', '2', 'play', 'text', 'store', 'skilgm', 'tscs08714740323', '1winawk', 'age16', '2nd', 'attempt', 'contract', 'u', 'week', 'top', 'prize', 'either', 'cash', 'prize', 'call', '09066361921', 'want', 'new', 'nokia', '3510i', 'colour', 'phone', 'deliveredtomorrow', '300', 'free', 'minut', 'mobil', '100', 'free', 'text', 'free', 'camcord', 'repli', 'call', '08000930705', 'themob', 'hit', 'link', 'get', 'premium', 'pink', 'panther', 'game', 'new', '1', 'sugabab', 'crazi', 'zebra', 'anim', 'badass', 'hoodi', '4', 'free', 'msg', 'mobil', 'content', 'order', 'resent', 'previou', 'attempt', 'fail', 'due', 'network', 'error', 'queri', 'customersqueri', '1', 'new', 'messag', 'pleas', 'call', '08715205273', 'decemb', 'mobil', 'entitl', 'updat', 'latest', 'colour', 'camera', 'mobil', 'free', 'call', 'mobil', 'updat', 'vco', 'free', '08002986906', 'get', '3', 'lion', 'england', 'tone', 'repli', 'lionm', '4', 'mono', 'lionp', '4', 'poli', '4', 'go', '2', 'origin', 'n', 'best', 'tone', '3gbp', 'network', 'oper', 'rate', 'appli', 'privat', '2003', 'account', 'statement', '078', '4', 'costa', 'del', 'sol', 'holiday', 'await', 'collect', 'call', '09050090044', 'toclaim', 'sae', 'tc', 'pobox334', 'stockport', 'sk38xh', 'max10min', 'get', 'garden', 'readi', 'summer', 'free', 'select', 'summer', 'bulb', 'seed', 'worth', 'scotsman', 'saturday', 'stop', 'go2', 'sm', 'auction', 'brand', 'new', 'nokia', '7250', '4', 'auction', 'today', 'auction', 'free', '2', 'join', 'take', 'part', 'txt', 'nokia', '86021', 'ree', 'entri', '2', 'weekli', 'comp', 'chanc', 'win', 'ipod', 'txt', 'pod', '80182', 'get', 'entri', 'std', 'txt', 'rate', 'c', 'appli', '08452810073', 'detail', 'record', 'indic', 'u', 'mayb', 'entitl', '5000', 'pound', 'compens', 'accid', 'claim', '4', 'free', 'repli', 'claim', 'msg', '2', 'stop', 'txt', 'stop', 'spook', 'mob', 'halloween', 'collect', 'logo', 'pic', 'messag', 'plu', 'free', 'eeri', 'tone', 'txt', 'card', 'spook', '8007', 'zed', '08701417012150p', 'per', 'call', 'germani', '1', 'penc', 'per', 'minut', 'call', 'fix', 'line', 'via', 'access', 'number', '0844', '861', '85', 'prepay', 'direct', 'access', 'mobil', '11mth', 'updat', 'free', 'orang', 'latest', 'colour', 'camera', 'mobil', 'unlimit', 'weekend', 'call', 'call', 'mobil', 'upd8', 'freefon', '08000839402', '2stoptxt', 'privat', '2003', 'account', 'statement', 'fone', 'show', '800', 'point', 'call', '08715203656', 'identifi', 'code', '42049', 'expir', 'someonon', 'know', 'tri', 'contact', 'via', 'date', 'servic', 'find', 'could', 'call', 'mobil', 'landlin', '09064015307', 'box334sk38ch', 'urgent', 'pleas', 'call', '09061213237', 'landlin', 'cash', '4', 'holiday', 'await', 'collect', 'cs', 'sae', 'po', 'box', '177', 'm227xi', 'prize', 'go', 'anoth', 'custom', 'c', 'polo', 'ltd', 'suit', '373', 'london', 'w1j', '6hl', 'pleas', 'call', 'back', 'busi', 'urgent', 'mobil', 'number', 'award', 'prize', 'guarante', 'call', '09061790126', 'land', 'line', 'claim', 'valid', '12hr', '150ppm', 'urgent', 'pleas', 'call', '09061213237', 'landlin', 'cash', 'luxuri', '4', 'canari', 'island', 'holiday', 'await', 'collect', 'cs', 'sae', 'po', 'box', 'm227xi', '150ppm', 'xma', 'iscom', 'ur', 'award', 'either', 'cd', 'gift', 'voucher', 'free', 'entri', '2', 'r', 'weekli', 'draw', 'txt', 'music', '87066', 'tnc', 'u', 'r', 'subscrib', '2', 'textcomp', '250', 'wkli', 'comp', '1st', 'wk', 'free', 'question', 'follow', 'subsequ', 'wk', 'charg', 'unsubscrib', 'txt', 'stop', '2', '84128', 'custcar', '08712405020', 'call', '09095350301', 'send', 'girl', 'erot', 'ecstaci', 'stop', 'text', 'call', '08712460324', 'nat', 'rate', 'xma', 'reward', 'wait', 'comput', 'randomli', 'pick', 'loyal', 'mobil', 'custom', 'receiv', 'reward', 'call', '09066380611', 'import', 'messag', 'final', 'contact', 'attempt', 'import', 'messag', 'wait', 'custom', 'claim', 'dept', 'expir', 'call', '08717507382', 'date', 'two', 'start', 'sent', 'text', 'talk', 'sport', 'radio', 'last', 'week', 'connect', 'think', 'coincid', 'current', 'lead', 'bid', 'paus', 'auction', 'send', 'custom', 'care', '08718726270', 'free', 'entri', 'gr8prize', 'wkli', 'comp', '4', 'chanc', 'win', 'latest', 'nokia', '8800', 'psp', 'cash', 'everi', 'great', '80878', '08715705022', '1', 'new', 'messag', 'call', 'santa', 'call', 'would', 'littl', 'one', 'like', 'call', 'santa', 'xma', 'eve', 'call', '09058094583', 'book', 'time', 'guarante', '32000', 'award', 'mayb', 'even', 'cash', 'claim', 'ur', 'award', 'call', 'free', '0800', 'legitimat', 'efreefon', 'number', 'wat', 'u', 'think', 'latest', 'news', 'polic', 'station', 'toilet', 'stolen', 'cop', 'noth', 'go', 'sparkl', 'shop', 'break', '45', 'per', 'person', 'call', '0121', '2025050', 'visit', 'txt', 'call', '86888', 'claim', 'reward', '3', 'hour', 'talk', 'time', 'use', 'phone', 'inc', '3hr', '16', 'stop', 'txtstop', 'wml', 'c', 'ringtoneåá', 'urgent', 'last', 'weekend', 'draw', 'show', 'cash', 'spanish', 'holiday', 'call', '09050000332', 'claim', 'c', 'rstm', 'sw7', '3ss', '150ppm', 'urgent', 'tri', 'contact', 'last', 'weekend', 'draw', 'show', 'u', 'prize', 'guarante', 'call', '09064017295', 'claim', 'code', 'k52', 'valid', '12hr', '150p', 'pm', '2p', 'per', 'min', 'call', 'germani', '08448350055', 'bt', 'line', '2p', 'per', 'min', 'check', 'info', 'c', 'text', 'stop', 'opt', 'marvel', 'mobil', 'play', 'offici', 'ultim', 'game', 'ur', 'mobil', 'right', 'text', 'spider', '83338', 'game', 'send', 'u', 'free', '8ball', 'wallpap', 'privat', '2003', 'account', 'statement', '07808247860', 'show', '800', 'point', 'call', '08719899229', 'identifi', 'code', '40411', 'expir', 'privat', '2003', 'account', 'statement', 'show', '800', 'point', 'call', '08718738001', 'identifi', 'code', '49557', 'expir', 'want', 'explicit', 'sex', '30', 'sec', 'ring', '02073162414', 'cost', 'gsex', 'pobox', '2667', 'wc1n', '3xx', 'ask', '3mobil', '0870', 'chatlin', 'inclu', 'free', 'min', 'india', 'cust', 'serv', 'sed', 'ye', 'l8er', 'got', 'mega', 'bill', '3', 'dont', 'giv', 'shit', 'bailiff', 'due', 'day', '3', 'want', 'contract', 'mobil', '11', 'mnth', 'latest', 'motorola', 'nokia', 'etc', 'free', 'doubl', 'min', 'text', 'orang', 'tariff', 'text', 'ye', 'callback', 'remov', 'record', 'remind', 'o2', 'get', 'pound', 'free', 'call', 'credit', 'detail', 'great', 'offer', 'pl', 'repli', '2', 'text', 'valid', 'name', 'hous', 'postcod', '2nd', 'time', 'tri', '2', 'contact', 'u', 'pound', 'prize', '2', 'claim', 'easi', 'call', '087187272008', 'now1', '10p', 'per', 'minut']\n"
     ]
    }
   ],
   "source": [
    "print(spam_words)"
   ]
  },
  {
   "cell_type": "code",
   "execution_count": 61,
   "id": "45a3576b",
   "metadata": {},
   "outputs": [],
   "source": [
    "from collections import Counter\n",
    "dict_count = Counter(spam_words)"
   ]
  },
  {
   "cell_type": "code",
   "execution_count": 62,
   "id": "028e3375",
   "metadata": {},
   "outputs": [],
   "source": [
    "list_words = sorted(dict_count.items(), key = lambda item:item[1], reverse=True)"
   ]
  },
  {
   "cell_type": "code",
   "execution_count": 63,
   "id": "47c764cf",
   "metadata": {},
   "outputs": [],
   "source": [
    "top_50_spam_words = list_words[0:50]"
   ]
  },
  {
   "cell_type": "code",
   "execution_count": 64,
   "id": "cc084837",
   "metadata": {},
   "outputs": [
    {
     "name": "stdout",
     "output_type": "stream",
     "text": [
      "[('call', 320), ('free', 191), ('2', 155), ('txt', 141), ('text', 122), ('u', 119), ('ur', 119), ('mobil', 114), ('stop', 104), ('repli', 103), ('claim', 98), ('4', 97), ('prize', 82), ('get', 74), ('new', 64), ('servic', 64), ('tone', 63), ('send', 60), ('urgent', 57), ('nokia', 57), ('contact', 56), ('award', 55), ('phone', 52), ('cash', 51), ('pleas', 51), ('week', 49), ('win', 48), ('c', 45), ('collect', 45), ('min', 45), ('custom', 42), ('messag', 42), ('guarante', 42), ('per', 41), ('chat', 38), ('tri', 37), ('msg', 35), ('draw', 35), ('number', 35), ('cs', 35), ('show', 33), ('today', 33), ('offer', 33), ('line', 33), ('go', 32), ('receiv', 31), ('want', 31), ('latest', 30), ('rington', 30), ('landlin', 30)]\n"
     ]
    }
   ],
   "source": [
    "print(top_50_spam_words)"
   ]
  },
  {
   "cell_type": "code",
   "execution_count": 65,
   "id": "36e3c444",
   "metadata": {},
   "outputs": [
    {
     "name": "stdout",
     "output_type": "stream",
     "text": [
      "['call', 'free', '2', 'txt', 'text', 'u', 'ur', 'mobil', 'stop', 'repli', 'claim', '4', 'prize', 'get', 'new', 'servic', 'tone', 'send', 'urgent', 'nokia', 'contact', 'award', 'phone', 'cash', 'pleas', 'week', 'win', 'c', 'collect', 'min', 'custom', 'messag', 'guarante', 'per', 'chat', 'tri', 'msg', 'draw', 'number', 'cs', 'show', 'today', 'offer', 'line', 'go', 'receiv', 'want', 'latest', 'rington', 'landlin']\n"
     ]
    }
   ],
   "source": [
    "print([word for word, freq in top_50_spam_words])"
   ]
  },
  {
   "cell_type": "code",
   "execution_count": 66,
   "id": "93944d98",
   "metadata": {},
   "outputs": [],
   "source": [
    "ham_words = []\n",
    "for msg in email_data[email_data[\"target\"]==0][\"transformed_text\"].tolist():\n",
    "    for word in msg.split():\n",
    "        ham_words.append(word)"
   ]
  },
  {
   "cell_type": "code",
   "execution_count": 67,
   "id": "2f2d948f",
   "metadata": {},
   "outputs": [
    {
     "name": "stdout",
     "output_type": "stream",
     "text": [
      "['go', 'jurong', 'point', 'crazi', 'avail', 'bugi', 'n', 'great', 'world', 'la', 'e', 'buffet', 'cine', 'got', 'amor', 'wat', 'ok', 'lar', 'joke', 'wif', 'u', 'oni', 'u', 'dun', 'say', 'earli', 'hor', 'u', 'c', 'alreadi', 'say', 'nah', 'think', 'goe', 'usf', 'live', 'around', 'though', 'even', 'brother', 'like', 'speak', 'treat', 'like', 'aid', 'patent', 'per', 'request', 'mell', 'oru', 'minnaminungint', 'nurungu', 'vettam', 'set', 'callertun', 'caller', 'press', '9', 'copi', 'friend', 'callertun', 'gon', 'na', 'home', 'soon', 'want', 'talk', 'stuff', 'anymor', 'tonight', 'k', 'cri', 'enough', 'today', 'search', 'right', 'word', 'thank', 'breather', 'promis', 'wont', 'take', 'help', 'grant', 'fulfil', 'promis', 'wonder', 'bless', 'time', 'date', 'sunday', 'oh', 'k', 'watch', 'eh', 'u', 'rememb', '2', 'spell', 'name', 'ye', 'v', 'naughti', 'make', 'v', 'wet', 'fine', 'thatåõ', 'way', 'u', 'feel', 'thatåõ', 'way', 'gota', 'b', 'serious', 'spell', 'name', 'go', 'tri', '2', 'month', 'ha', 'ha', 'joke', 'pay', 'first', 'lar', 'da', 'stock', 'comin', 'aft', 'finish', 'lunch', 'go', 'str', 'lor', 'ard', '3', 'smth', 'lor', 'u', 'finish', 'ur', 'lunch', 'alreadi', 'ffffffffff', 'alright', 'way', 'meet', 'sooner', 'forc', 'eat', 'slice', 'realli', 'hungri', 'tho', 'suck', 'mark', 'get', 'worri', 'know', 'sick', 'turn', 'pizza', 'lol', 'lol', 'alway', 'convinc', 'catch', 'bu', 'fri', 'egg', 'make', 'tea', 'eat', 'mom', 'left', 'dinner', 'feel', 'love', 'back', 'amp', 'pack', 'car', 'let', 'know', 'room', 'ahhh', 'work', 'vagu', 'rememb', 'feel', 'like', 'lol', 'wait', 'still', 'clear', 'sure', 'sarcast', 'x', 'want', 'live', 'us', 'yeah', 'got', '2', 'v', 'apologet', 'n', 'fallen', 'actin', 'like', 'spoilt', 'child', 'got', 'caught', 'till', '2', 'wo', 'go', 'badli', 'cheer', 'k', 'tell', 'anyth', 'fear', 'faint', 'housework', 'quick', 'cuppa', 'yup', 'ok', 'go', 'home', 'look', 'time', 'msg', 'xuhui', 'go', 'learn', '2nd', 'may', 'lesson', '8am', 'oop', 'let', 'know', 'roommat', 'done', 'see', 'letter', 'b', 'car', 'anyth', 'lor', 'u', 'decid', 'hello', 'saturday', 'go', 'text', 'see', 'decid', 'anyth', 'tomo', 'tri', 'invit', 'anyth', 'pl', 'go', 'ahead', 'watt', 'want', 'sure', 'great', 'weekend', 'abiola', 'forget', 'tell', 'want', 'need', 'crave', 'love', 'sweet', 'arabian', 'steed', 'mmmmmm', 'yummi', 'see', 'great', 'hope', 'like', 'man', 'well', 'endow', 'lt', 'gt', 'inch', 'call', 'messag', 'miss', 'call', 'get', 'hep', 'b', 'immunis', 'nigeria', 'fair', 'enough', 'anyth', 'go', 'yeah', 'hope', 'tyler', 'ca', 'could', 'mayb', 'ask', 'around', 'bit', 'u', 'know', 'stubborn', 'even', 'want', 'go', 'hospit', 'kept', 'tell', 'mark', 'weak', 'sucker', 'hospit', 'weak', 'sucker', 'think', 'first', 'time', 'saw', 'class', 'gram', 'usual', 'run', 'like', 'lt', 'gt', 'half', 'eighth', 'smarter', 'though', 'get', 'almost', 'whole', 'second', 'gram', 'lt', 'gt', 'k', 'fyi', 'x', 'ride', 'earli', 'tomorrow', 'morn', 'crash', 'place', 'tonight', 'wow', 'never', 'realiz', 'embarass', 'accomod', 'thought', 'like', 'sinc', 'best', 'could', 'alway', 'seem', 'happi', 'sorri', 'give', 'sorri', 'offer', 'sorri', 'room', 'embarass', 'know', 'mallika', 'sherawat', 'yesterday', 'find', 'lt', 'url', 'gt', 'sorri', 'call', 'later', 'meet', 'tell', 'reach', 'ye', 'gauti', 'sehwag', 'odi', 'seri', 'gon', 'na', 'pick', '1', 'burger', 'way', 'home', 'ca', 'even', 'move', 'pain', 'kill', 'ha', 'ha', 'ha', 'good', 'joke', 'girl', 'situat', 'seeker', 'part', 'check', 'iq', 'sorri', 'roommat', 'took', 'forev', 'ok', 'come', 'ok', 'lar', 'doubl', 'check', 'wif', 'da', 'hair', 'dresser', 'alreadi', 'said', 'wun', 'cut', 'v', 'short', 'said', 'cut', 'look', 'nice', 'today', 'dedic', 'day', 'song', 'u', 'dedic', 'send', 'ur', 'valuabl', 'frnd', 'first', 'rpli', 'plane', 'give', 'month', 'end', 'wah', 'lucki', 'man', 'save', 'money', 'hee', 'finish', 'class', 'hi', 'babe', 'im', 'home', 'wan', 'na', 'someth', 'xx', 'k', 'k', 'perform', 'u', 'call', 'wait', 'machan', 'call', 'free', 'that', 'cool', 'gentleman', 'treat', 'digniti', 'respect', 'like', 'peopl', 'much', 'shi', 'pa', 'oper', 'lt', 'gt', 'still', 'look', 'job', 'much', 'ta', 'earn', 'sorri', 'call', 'later', 'call', 'ah', 'ok', 'way', 'home', 'hi', 'hi', 'place', 'man', 'yup', 'next', 'stop', 'call', 'later', 'network', 'urgnt', 'sm', 'real', 'u', 'get', 'yo', 'need', '2', 'ticket', 'one', 'jacket', 'done', 'alreadi', 'use', 'multi', 'ye', 'start', 'send', 'request', 'make', 'pain', 'came', 'back', 'back', 'bed', 'doubl', 'coin', 'factori', 'got', 'ta', 'cash', 'nitro', 'realli', 'still', 'tonight', 'babe', 'ela', 'il', 'download', 'come', 'wen', 'ur', 'free', 'yeah', 'stand', 'close', 'catch', 'someth', 'sorri', 'pain', 'ok', 'meet', 'anoth', 'night', 'spent', 'late', 'afternoon', 'casualti', 'mean', 'done', 'stuff42moro', 'includ', 'time', 'sheet', 'sorri', 'smile', 'pleasur', 'smile', 'pain', 'smile', 'troubl', 'pour', 'like', 'rain', 'smile', 'sum1', 'hurt', 'u', 'smile', 'becoz', 'someon', 'still', 'love', 'see', 'u', 'smile', 'havent', 'plan', 'buy', 'later', 'check', 'alreadi', 'lido', 'got', '530', 'show', 'e', 'afternoon', 'u', 'finish', 'work', 'alreadi', 'watch', 'telugu', 'movi', 'wat', 'abt', 'u', 'see', 'finish', 'load', 'loan', 'pay', 'hi', 'wk', 'ok', 'hol', 'ye', 'bit', 'run', 'forgot', 'hairdress', 'appoint', 'four', 'need', 'get', 'home', 'n', 'shower', 'beforehand', 'caus', 'prob', 'u', 'ham', 'pleas', 'text', 'anymor', 'noth', 'els', 'say', 'okay', 'name', 'ur', 'price', 'long', 'legal', 'wen', 'pick', 'u', 'ave', 'x', 'am', 'xx', 'still', 'look', 'car', 'buy', 'gone', '4the', 'drive', 'test', 'yet', 'wow', 'right', 'mean', 'guess', 'gave', 'boston', 'men', 'chang', 'search', 'locat', 'nyc', 'someth', 'chang', 'cuz', 'signin', 'page', 'still', 'say', 'boston', 'umma', 'life', 'vava', 'umma', 'love', 'lot', 'dear', 'thank', 'lot', 'wish', 'birthday', 'thank', 'make', 'birthday', 'truli', 'memor', 'aight', 'hit', 'get', 'cash', 'would', 'ip', 'address', 'test', 'consid', 'comput', 'minecraft', 'server', 'know', 'grumpi', 'old', 'peopl', 'mom', 'like', 'better', 'lie', 'alway', 'one', 'play', 'joke', 'dont', 'worri', 'guess', 'busi', 'plural', 'noun', 'research', 'go', 'ok', 'wif', 'co', 'like', '2', 'tri', 'new', 'thing', 'scare', 'u', 'dun', 'like', 'mah', 'co', 'u', 'said', 'loud', 'wa', 'ur', 'openin', 'sentenc', 'formal', 'anyway', 'fine', 'juz', 'tt', 'eatin', 'much', 'n', 'puttin', 'weight', 'haha', 'anythin', 'special', 'happen', 'enter', 'cabin', 'pa', 'said', 'happi', 'boss', 'felt', 'special', 'askd', '4', 'lunch', 'lunch', 'invit', 'apart', 'went', 'goodo', 'ye', 'must', 'speak', 'friday', 'ratio', 'tortilla', 'need', 'hmm', 'uncl', 'inform', 'pay', 'school', 'directli', 'pl', 'buy', 'food', 'new', 'address', 'pair', 'malarki', 'go', 'sao', 'mu', 'today', 'done', '12', 'ìï', 'predict', 'wat', 'time', 'finish', 'buy', 'good', 'stuff', 'know', 'yetund', 'sent', 'money', 'yet', 'sent', 'text', 'bother', 'send', 'dont', 'involv', 'anyth', 'impos', 'anyth', 'first', 'place', 'apologis', 'room', 'hey', 'girl', 'r', 'u', 'hope', 'u', 'r', 'well', 'del', 'r', 'bak', 'long', 'time', 'c', 'give', 'call', 'sum', 'time', 'lucyxx', 'k', 'k', 'much', 'cost', 'home', 'dear', 'call', 'accomod', 'first', 'answer', 'question', 'haf', 'msn', 'yiju', 'call', 'meet', 'check', 'room', 'befor', 'activ', 'got', 'c', 'lazi', 'type', 'forgot', 'lect', 'saw', 'pouch', 'like', 'v', 'nice', 'k', 'text', 'way', 'sir', 'wait', 'mail', 'swt', 'thought', 'get', 'tire', 'littl', 'thing', '4', 'lovabl', 'person', 'coz', 'somtim', 'littl', 'thing', 'occupi', 'biggest', 'part', 'heart', 'gud', 'ni8', 'know', 'pl', 'open', 'back', 'ye', 'see', 'ya', 'dot', 'what', 'staff', 'name', 'take', 'class', 'us', 'call', 'check', 'life', 'begin', 'qatar', 'pl', 'pray', 'hard', 'k', 'delet', 'contact', 'sindu', 'got', 'job', 'birla', 'soft', 'wine', 'flow', 'never', 'yup', 'thk', 'cine', 'better', 'co', 'need', '2', 'go', '2', 'plaza', 'mah', 'ok', 'ur', 'typic', 'repli', 'everywher', 'dirt', 'floor', 'window', 'even', 'shirt', 'sometim', 'open', 'mouth', 'come', 'flow', 'dream', 'world', 'without', 'half', 'chore', 'time', 'joy', 'lot', 'tv', 'show', 'see', 'guess', 'like', 'thing', 'must', 'exist', 'like', 'rain', 'hail', 'mist', 'time', 'done', 'becom', 'one', 'aaooooright', 'work', 'leav', 'hous', 'hello', 'love', 'get', 'interview', 'today', 'happi', 'good', 'boy', 'think', 'miss', 'keep', 'safe', 'need', 'miss', 'alreadi', 'envi', 'everyon', 'see', 'real', 'life', 'new', 'car', 'hous', 'parent', 'new', 'job', 'hand', 'love', 'excit', 'day', 'spend', 'make', 'happi', 'place', 'ur', 'point', 'e', 'cultur', 'modul', 'alreadi', 'hi', 'frnd', 'best', 'way', 'avoid', 'missunderstd', 'wit', 'belov', 'one', 'great', 'escap', 'fanci', 'bridg', 'need', 'lager', 'see', 'tomo', 'ye', 'complet', 'form', 'clark', 'also', 'utter', 'wast', 'sir', 'need', 'axi', 'bank', 'account', 'bank', 'address', 'hmmm', 'thk', 'sure', 'got', 'time', 'hop', 'ard', 'ya', 'go', '4', 'free', 'abt', 'muz', 'call', 'u', 'discuss', 'liao', 'time', 'come', 'later', 'bloodi', 'hell', 'cant', 'believ', 'forgot', 'surnam', 'mr', 'ill', 'give', 'u', 'clue', 'spanish', 'begin', 'well', 'gon', 'na', 'finish', 'bath', 'good', 'fine', 'night', 'let', 'know', 'got', 'money', 'carlo', 'make', 'call', 'u', 'still', 'go', 'mall', 'turn', 'friend', 'stay', 'whole', 'show', 'wo', 'back', 'til', 'lt', 'gt', 'feel', 'free', 'go', 'ahead', 'smoke', 'lt', 'gt', 'worth', 'text', 'doesnt', 'repli', 'let', 'know', 'log', 'hi', 'spoke', 'maneesha', 'like', 'know', 'satisfi', 'experi', 'repli', 'toll', 'free', 'ye', 'lift', 'hope', 'offer', 'money', 'need', 'especi', 'end', 'month', 'approach', 'hurt', 'studi', 'anyway', 'gr8', 'weekend', 'lol', 'u', 'trust', 'gentleman', 'treat', 'digniti', 'respect', 'guy', 'close', 'go', 'noth', 'hello', 'handsom', 'find', 'job', 'lazi', 'work', 'toward', 'get', 'back', 'net', 'mummi', 'boytoy', 'miss', 'haha', 'awesom', 'minut', 'got', 'xma', 'radio', 'time', 'get', 'ju', 'reach', 'home', 'go', 'bath', 'first', 'si', 'use', 'net', 'tell', 'u', 'finish', 'k', 'sorri', 'join', 'leagu', 'peopl', 'dont', 'keep', 'touch', 'mean', 'great', 'deal', 'friend', 'time', 'even', 'great', 'person', 'cost', 'great', 'hi', 'final', 'complet', 'cours', 'stop', 'howev', 'suggest', 'stay', 'someon', 'abl', 'give', 'or', 'everi', 'stool', 'hope', 'settl', 'new', 'school', 'year', 'wishin', 'gr8', 'day', 'gud', 'mrng', 'dear', 'hav', 'nice', 'day', 'u', 'got', 'person', 'stori', 'hamster', 'dead', 'hey', 'tmr', 'meet', '1pm', 'orchard', 'mrt', 'hi', 'kate', 'even', 'hope', 'see', 'tomorrow', 'bit', 'bloodi', 'babyjontet', 'txt', 'back', 'u', 'xxx', 'found', 'enc', 'lt', 'gt', 'sent', 'lt', 'gt', 'buck', 'hello', 'darlin', 'ive', 'finish', 'colleg', 'txt', 'u', 'finish', 'u', 'love', 'kate', 'xxx', 'account', 'refil', 'success', 'inr', 'lt', 'decim', 'gt', 'keralacircl', 'prepaid', 'account', 'balanc', 'rs', 'lt', 'decim', 'gt', 'transact', 'id', 'kr', 'lt', 'gt', 'goodmorn', 'sleep', 'ga', 'u', 'call', 'alter', '11', 'ok', 'ìï', 'say', 'like', 'dat', 'dun', 'buy', 'ericsson', 'oso', 'oredi', 'lar', 'aight', 'yo', 'dat', 'straight', 'dogg', 'pleas', 'give', 'us', 'connect', 'today', 'lt', 'decim', 'gt', 'refund', 'bill', 'shoot', 'big', 'load', 'get', 'readi', 'bruv', 'hope', 'great', 'break', 'reward', 'semest', 'home', 'alway', 'chat', 'k', 'k', 'good', 'studi', 'well', 'yup', 'noe', 'leh', 'sound', 'great', 'home', 'final', 'match', 'head', 'toward', 'draw', 'predict', 'tire', 'slept', 'well', 'past', 'night', 'easi', 'ah', 'sen', 'got', 'select', 'mean', 'good', 'take', 'exam', 'march', '3', 'yeah', 'think', 'use', 'gt', 'atm', 'regist', 'sure', 'anyway', 'help', 'let', 'know', 'sure', 'readi', 'ok', 'prob', 'take', 'ur', 'time', 'os', 'call', 'ubandu', 'run', 'without', 'instal', 'hard', 'disk', 'use', 'os', 'copi', 'import', 'file', 'system', 'give', 'repair', 'shop', 'u', 'say', 'leh', 'cours', 'noth', 'happen', 'lar', 'say', 'v', 'romant', 'ju', 'bit', 'lor', 'thk', 'e', 'nite', 'sceneri', 'nice', 'leh', 'would', 'realli', 'appreci', 'call', 'need', 'someon', 'talk', 'hey', 'compani', 'elama', 'po', 'mudyadhu', 'life', 'strict', 'teacher', 'bcoz', 'teacher', 'teach', 'lesson', 'amp', 'conduct', 'exam', 'life', 'first', 'conduct', 'exam', 'amp', 'teach', 'lesson', 'happi', 'dear', 'good', 'morn', 'get', 'gandhipuram', 'walk', 'cross', 'cut', 'road', 'right', 'side', 'lt', 'gt', 'street', 'road', 'turn', 'first', 'right', 'dear', 'go', 'rubber', 'place', 'sorri', 'batteri', 'die', 'yeah', 'ye', 'tv', 'alway', 'avail', 'work', 'place', 'print', 'oh', 'lt', 'gt', 'come', 'upstair', 'ill', 'littl', 'closer', 'like', 'bu', 'stop', 'street', 'wil', 'reach', 'new', 'theori', 'argument', 'win', 'situat', 'lose', 'person', 'dont', 'argu', 'ur', 'friend', 'kick', 'amp', 'say', 'alway', 'correct', 'tomarrow', 'final', 'hear', 'laptop', 'case', 'cant', 'pleassssssseeeee', 'tel', 'v', 'avent', 'done', 'sportsx', 'okay', 'shine', 'meant', 'sign', 'sound', 'better', 'although', 'told', 'u', 'dat', 'baig', 'face', 'watch', 'realli', 'like', 'e', 'watch', 'u', 'gave', 'co', 'fr', 'thanx', '4', 'everyth', 'dat', 'u', 'done', 'today', 'touch', 'u', 'rememb', 'old', 'commerci', 'late', 'said', 'websit', 'dont', 'slipper', 'ask', 'call', 'ok', 'kalli', 'wont', 'bat', '2nd', 'inning', 'didnt', 'work', 'oh', 'ok', 'goodnight', 'fix', 'readi', 'time', 'wake', 'dearli', 'miss', 'good', 'night', 'sleep', 'ranjith', 'cal', 'drpd', 'deeraj', 'deepak', '5min', 'hold', 'wen', 'ur', 'lovabl', 'bcum', 'angri', 'wid', 'u', 'dnt', 'take', 'serious', 'coz', 'angri', 'childish', 'n', 'true', 'way', 'show', 'deep', 'affect', 'care', 'n', 'luv', 'kettoda', 'manda', 'nice', 'day', 'da', 'up', '3day', 'also', 'ship', 'compani', 'take', '2wk', 'way', 'usp', 'take', 'week', 'get', 'lag', 'may', 'bribe', 'nipost', 'get', 'stuff', 'back', 'lem', 'know', 'readi', 'necessarili', 'expect', 'done', 'get', 'back', 'though', 'headin', 'mmm', 'yummi', 'babe', 'nice', 'jolt', 'suzi', 'lover', 'need', 'park', 'next', 'mini', 'come', 'today', 'think', 'yup', 'anyway', 'go', 'shop', 'co', 'si', 'done', 'yet', 'dun', 'disturb', 'u', 'liao', 'luton', '0125698789', 'ring', 'ur', 'around', 'h', 'dint', 'come', 'us', 'wana', 'plan', 'trip', 'sometm', 'sure', 'yet', 'still', 'tri', 'get', 'hold', 'evo', 'download', 'flash', 'jealou', 'come', 'mu', 'sort', 'narcot', 'situat', 'night', 'end', 'anoth', 'day', 'morn', 'come', 'special', 'way', 'may', 'smile', 'like', 'sunni', 'ray', 'leav', 'worri', 'blue', 'blue', 'bay', 'usf', 'guess', 'might', 'well', 'take', '1', 'car', 'object', 'bf', 'come', 'thanx', 'tell', 'rob', 'mack', 'gf', 'theater', 'awesom', 'see', 'bit', 'sent', 'type', 'food', 'like', 'done', 'hand', 'celebr', 'full', 'swing', 'yet', 'got', 'call', 'tool', 'u', 'miss', 'someon', 'ask', 'money', 'far', 'oki', 'yeah', 'think', 'usual', 'guy', 'still', 'pass', 'last', 'night', 'get', 'ahold', 'anybodi', 'let', 'know', 'throw', 'k', 'might', 'come', 'tonight', 'class', 'let', 'earli', 'ok', 'hi', 'babi', 'im', 'cruisin', 'girl', 'friend', 'r', 'u', '2', 'give', 'call', 'hour', 'home', 'that', 'alright', 'fone', 'fone', 'love', 'jenni', 'xxx', 'life', 'mean', 'lot', 'love', 'life', 'love', 'peopl', 'life', 'world', 'call', 'friend', 'call', 'world', 'ge', 'dear', 'shall', 'mail', 'street', 'shall', 'updat', 'look', 'edukkukaye', 'raksha', 'good', 'one', 'real', 'sens', 'hey', 'told', 'name', 'gautham', 'ah', 'haf', 'u', 'found', 'feel', 'stupid', 'da', 'v', 'cam', 'work', 'oop', '4', 'got', 'bit', 'much', 'buzi', 'accident', 'delet', 'messag', 'resend', 'pleas', 'unless', 'situat', 'go', 'gurl', 'would', 'appropri', 'hurt', 'teas', 'make', 'cri', 'end', 'life', 'die', 'plz', 'keep', 'one', 'rose', 'grave', 'say', 'stupid', 'miss', 'u', 'nice', 'day', 'bslvyl', 'cant', 'pick', 'phone', 'right', 'pl', 'send', 'messag', 'need', 'coffe', 'run', 'tomo', 'ca', 'believ', 'time', 'week', 'alreadi', 'awesom', 'rememb', 'last', 'time', 'got', 'somebodi', 'high', 'first', 'time', 'diesel', 'v', 'shit', 'realli', 'shock', 'scari', 'cant', 'imagin', 'second', 'def', 'night', 'u', 'think', 'somewher', 'could', 'crash', 'night', 'save', 'taxi', 'oh', 'way', 'food', 'fridg', 'want', 'go', 'meal', 'tonight', 'womdarful', 'actor', 'yup', 'remb', 'think', 'book', 'jo', 'ask', 'u', 'wana', 'meet', 'lol', 'ye', 'friendship', 'hang', 'thread', 'caus', 'u', 'wo', 'buy', 'stuff', 'garag', 'key', 'bookshelf', 'today', 'accept', 'day', 'u', 'accept', 'brother', 'sister', 'lover', 'dear1', 'best1', 'clos1', 'lvblefrnd', 'jstfrnd', 'cutefrnd', 'lifpartnr', 'belovd', 'swtheart', 'bstfrnd', 'rpli', 'mean', 'enemi', 'say', 'give', 'call', 'friend', 'got', 'money', 'definit', 'buy', 'end', 'week', 'hi', 'way', 'u', '2day', 'normal', 'way', 'real', 'ur', 'uniqu', 'hope', 'know', 'u', '4', 'rest', 'mylif', 'hope', 'u', 'find', 'wot', 'lost', 'made', 'day', 'great', 'day', 'advanc', 'happi', 'pongal', 'hmmm', 'guess', 'go', '4', 'kb', 'n', 'power', 'yoga', 'haha', 'dunno', 'tahan', 'power', 'yoga', 'anot', 'thk', 'got', 'lo', 'oso', 'forgot', 'liao', 'realli', 'dude', 'friend', 'afraid', 'coffe', 'cake', 'guess', 'merri', 'christma', 'babe', 'love', 'ya', 'kiss', 'hey', 'dont', 'go', 'watch', 'x', 'men', 'lunch', 'haha', 'cud', 'u', 'tell', 'ppl', 'im', 'gona', 'b', 'bit', 'l8', 'co', '2', 'buse', 'hav', 'gon', 'past', 'co', 'full', 'im', 'still', 'waitin', '4', 'pete', 'x', 'would', 'great', 'guild', 'could', 'meet', 'bristol', 'road', 'somewher', 'get', 'touch', 'weekend', 'plan', 'take', 'flight', 'good', 'week', 'problem', 'hi', 'da', 'today', 'class', 'say', 'good', 'sign', 'well', 'know', 'track', 'record', 'read', 'women', 'cool', 'text', 'park', 'read', 'text', 'sent', 'meant', 'joke', 'read', 'light', 'apo', 'movi', 'mayb', 'could', 'get', 'book', 'tomo', 'return', 'immedi', 'someth', 'chanc', 'might', 'evapor', 'soon', 'violat', 'privaci', 'steal', 'phone', 'number', 'employ', 'paperwork', 'cool', 'pleas', 'contact', 'report', 'supervisor', 'home', 'babe', 'still', 'cool', 'come', 'havent', 'wine', 'dine', 'sleep', 'surf', 'u', 'call', 'right', 'call', 'hand', 'phone', 'ok', 'great', 'thanx', 'lot', 'take', 'post', 'come', 'must', '1000', 'text', 'happi', 'read', 'one', 'wiv', 'hello', 'carolin', 'end', 'favourit', 'bless', 'u', 'hide', 'stranger', 'interest', 'like', 'sister', 'clear', 'two', 'round', 'birla', 'soft', 'yesterday', 'gudnit', 'tc', 'practic', 'go', 'di', 'yiju', 'ju', 'saw', 'ur', 'mail', 'case', 'huim', 'havent', 'sent', 'u', 'num', 'di', 'num', 'one', 'small', 'prestig', 'problem', 'check', 'realli', 'miss', 'see', 'jeremiah', 'great', 'month', 'nah', 'ca', 'help', 'never', 'iphon', 'car', 'hour', 'half', 'go', 'apeshit', 'today', 'sorri', 'ever', 'angri', 'ever', 'misbehav', 'hurt', 'plz', 'plz', 'slap', 'urself', 'bcoz', 'ur', 'fault', 'basic', 'good', 'yo', 'guy', 'ever', 'figur', 'much', 'need', 'alcohol', 'jay', 'tri', 'figur', 'much', 'safe', 'spend', 'weed', 'lt', 'gt', 'ish', 'minut', '5', 'minut', 'ago', 'wtf', 'thank', 'say', 'happi', 'onam', 'fine', 'rememb', 'met', 'insur', 'qatar', 'insha', 'ex', 'tata', 'aig', 'join', 'tissco', 'tayseer', 'actor', 'work', 'work', 'even', 'sleep', 'late', 'sinc', 'unemploy', 'moment', 'alway', 'sleep', 'late', 'unemploy', 'everi', 'day', 'saturday', 'hello', 'got', 'st', 'long', 'way', 'cold', 'keep', 'post', 'ha', 'ha', 'cool', 'cool', 'chikku', 'chikku', 'oh', 'ok', 'prob', 'check', 'audrey', 'statu', 'right', 'busi', 'tri', 'finish', 'new', 'year', 'look', 'forward', 'final', 'meet', 'good', 'afternoon', 'sunshin', 'dawn', 'day', 'refresh', 'happi', 'aliv', 'breath', 'air', 'smile', 'think', 'love', 'alway', 'well', 'know', 'z', 'take', 'care', 'worri', 'wat', 'uniform', 'get', 'cool', 'text', 'readi', 'hello', 'boytoy', 'geeee', 'miss', 'alreadi', 'woke', 'wish', 'bed', 'cuddl', 'love', 'spoil', 'bed', 'well', 'go', 'bath', 'msg', 'next', 'lt', 'gt', 'min', 'cant', 'keep', 'talk', 'peopl', 'sure', 'pay', 'agre', 'price', 'pl', 'tell', 'want', 'realli', 'buy', 'much', 'will', 'pay', 'say', 'happen', 'could', 'seen', 'recognis', 'face', 'well', 'lot', 'thing', 'happen', 'lindsay', 'new', 'year', 'sigh', 'bar', 'ptbo', 'blue', 'heron', 'someth', 'go', 'keep', 'payasam', 'rinu', 'bring', 'taught', 'ranjith', 'sir', 'call', 'sm', 'like', 'becau', 'he', 'verifi', 'project', 'prabu', 'told', 'today', 'pa', 'dont', 'mistak', 'guess', 'worri', 'must', 'know', 'way', 'bodi', 'repair', 'quit', 'sure', 'worri', 'take', 'slow', 'first', 'test', 'guid', 'ovul', 'relax', 'noth', 'said', 'reason', 'worri', 'keep', 'followin', 'yeah', 'sure', 'give', 'coupl', 'minut', 'track', 'wallet', 'hey', 'leav', 'big', 'deal', 'take', 'care', 'hey', 'late', 'ah', 'meet', 'took', 'mr', 'owl', '3', 'lick', 'custom', 'place', 'call', 'mm', 'time', 'dont', 'like', 'fun', 'yup', 'lunch', 'buffet', 'u', 'eat', 'alreadi', 'huh', 'late', 'fr', 'dinner', 'hey', 'sat', 'go', 'intro', 'pilat', 'kickbox', 'morn', 'ok', 'ye', 'think', 'offic', 'lap', 'room', 'think', 'that', 'last', 'day', 'didnt', 'shut', 'pick', 'bout', 'time', 'go', 'perform', 'award', 'calcul', 'everi', 'two', 'current', 'one', 'month', 'period', 'actual', 'sleep', 'still', 'might', 'u', 'call', 'back', 'text', 'gr8', 'rock', 'si', 'send', 'u', 'text', 'wen', 'wake', 'alway', 'put', 'busi', 'put', 'pictur', 'ass', 'facebook', 'one', 'open', 'peopl', 'ever', 'met', 'would', 'think', 'pictur', 'room', 'would', 'hurt', 'make', 'feel', 'violat', 'good', 'even', 'sir', 'al', 'salam', 'happi', 'grace', 'god', 'got', 'offer', 'tayseer', 'tissco', 'allah', 'meet', 'visitor', 'india', 'hmmm', 'k', 'want', 'chang', 'field', 'quickli', 'da', 'wan', 'na', 'get', 'system', 'administr', 'network', 'administr', 'dear', 'chechi', 'talk', 'hair', 'cream', 'ship', 'none', 'happen', 'til', 'get', 'though', 'yep', 'great', 'loxahatche', 'xma', 'tree', 'burn', 'lt', 'gt', 'start', 'hour', 'haha', 'get', 'use', 'drive', 'usf', 'man', 'know', 'lot', 'stoner', 'well', 'slightli', 'disastr', 'class', 'pm', 'fav', 'darl', 'hope', 'day', 'coffe', 'wld', 'good', 'ca', 'stay', 'late', 'tomorrow', 'time', 'place', 'alway', 'hello', 'good', 'week', 'fanci', 'drink', 'someth', 'later', 'headin', 'toward', 'busetop', 'messag', 'text', 'miss', 'sender', 'name', 'miss', 'number', 'miss', 'sent', 'date', 'miss', 'miss', 'u', 'lot', 'that', 'everyth', 'miss', 'sent', 'via', 'come', 'room', 'point', 'iron', 'plan', 'weekend', 'co', 'want', 'thing', 'oki', 'go', 'yan', 'jiu', 'skip', 'ard', 'oso', 'go', 'cine', 'den', 'go', 'mrt', 'one', 'blah', 'blah', 'blah', 'bring', 'home', 'wendi', 'whatsup', 'dont', 'u', 'want', 'sleep', 'alright', 'new', 'goal', 'alright', 'head', 'minut', 'text', 'meet', 'ye', 'last', 'week', 'take', 'live', 'call', 'siva', 'hostel', 'aha', 'send', 'ur', 'friend', 'receiv', 'someth', 'ur', 'voic', 'speak', 'express', 'attitud', 'lt', 'gt', 'lt', 'gt', 'repli', 'guess', 'aathi', 'dear', 'pain', 'urin', 'thing', 'els', '7', 'esplanad', 'mind', 'give', 'lift', 'co', 'got', 'car', 'today', 'wnt', 'buy', 'bmw', 'car', 'urgent', 'vri', 'hv', 'shortag', 'lt', 'gt', 'sourc', 'arng', 'di', 'amt', 'lt', 'gt', 'lac', 'that', 'prob', 'home', 'watch', 'tv', 'lor', 'usual', 'take', 'fifteen', 'fuck', 'minut', 'respond', 'ye', 'question', 'book', 'ticket', 'pongal', 'avail', 'like', 'right', 'around', 'hillsborough', 'amp', 'lt', 'gt', 'th', 'messag', 'sent', 'askin', 'lt', 'gt', 'dollar', 'shoul', 'pay', 'lt', 'gt', 'lt', 'gt', 'ask', 'g', 'iouri', 'told', 'stori', 'like', 'ten', 'time', 'alreadi', 'long', 'applebe', 'fuck', 'take', 'hi', 'hope', 'u', 'get', 'hasnt', 'gd', '50', 'min', 'late', 'think', 'like', 'love', 'arrang', 'ye', 'realli', 'great', 'bhaji', 'told', 'kalli', 'best', 'cricket', 'sachin', 'world', 'tough', 'get', 'suppos', 'wake', 'gt', 'oic', 'saw', 'tot', 'din', 'c', 'found', 'group', 'liao', 'hey', 'wereth', 'monkeespeopl', 'say', 'monkeyaround', 'howdi', 'gorgeou', 'sorri', 'batteri', 'die', 'come', 'get', 'gram', 'place', 'well', 'done', 'blimey', 'exercis', 'yeah', 'kinda', 'rememb', 'wot', 'hmm', 'wont', 'get', 'concentr', 'dear', 'know', 'mind', 'everyth', 'lol', 'made', 'plan', 'new', 'year', '10', 'min', 'later', 'k', 'hank', 'lotsli', 'thank', 'hope', 'good', 'day', 'today', 'k', 'k', 'detail', 'want', 'transfer', 'acc', 'enough', 'ok', 'tell', 'stay', 'yeah', 'tough', 'optimist', 'thing', 'improv', 'month', 'si', 'si', 'think', 'ill', 'go', 'make', 'oreo', 'truffl', 'look', 'ami', 'ure', 'beauti', 'intellig', 'woman', 'like', 'u', 'lot', 'know', 'u', 'donåõt', 'like', 'like', 'donåõt', 'worri', 'hope', 'result', 'consist', 'intellig', 'kind', 'start', 'ask', 'practicum', 'link', 'keep', 'ear', 'open', 'best', 'ttyl', 'call', 'cost', 'guess', 'isnt', 'bad', 'miss', 'ya', 'need', 'ya', 'want', 'ya', 'love', 'ya', 'go', 'thru', 'differ', 'decis', 'cope', 'heal', 'everyth', 'believ', 'u', 'go', 'phone', 'gon', 'na', 'die', 'stay', 'great', 'never', 'better', 'day', 'give', 'even', 'reason', 'thank', 'god', 'sorri', 'call', 'later', 'ok', 'bye', 'ok', 'way', 'railway', 'great', 'princess', 'love', 'give', 'receiv', 'oral', 'doggi', 'style', 'fave', 'posit', 'enjoy', 'make', 'love', 'lt', 'gt', 'time', 'per', 'night', 'put', 'stuff', 'road', 'keep', 'get', 'slipperi', 'go', 'ride', 'bike', 'yup', 'need', 'ju', 'wait', '4', 'e', 'rain', '2', 'stop', 'mani', 'compani', 'tell', 'languag', 'long', 'sinc', 'scream', 'princess', 'noth', 'meant', 'money', 'enter', 'account', 'bank', 'remov', 'flat', 'rate', 'someon', 'transfer', 'lt', 'gt', 'account', 'lt', 'gt', 'dollar', 'got', 'remov', 'bank', 'differ', 'charg', 'also', 'sure', 'trust', '9ja', 'person', 'send', 'account', 'detail', 'co', 'nice', 'line', 'said', 'broken', 'plz', 'cum', '1', 'time', 'infront', 'wise', 'trust', 'u', 'good', '9t', 'ok', 'gon', 'na', 'head', 'usf', 'like', 'fifteen', 'minut', 'love', 'aathi', 'love', 'u', 'lot', 'tension', 'ah', 'machi', 'problem', 'k', 'pick', 'anoth', '8th', 'done', 'guy', 'get', 'back', 'g', 'said', 'think', 'stay', 'mcr', 'almost', 'see', 'u', 'sec', 'yo', 'carlo', 'friend', 'alreadi', 'ask', 'work', 'weekend', 'watch', 'tv', 'lor', 'thank', 'babi', 'cant', 'wait', 'tast', 'real', 'thing', 'chang', 'fb', 'jaykwon', 'thuglyf', 'falconerf', 'win', 'realli', '1', 'side', 'long', 'time', 'dear', 'reach', 'railway', 'happen', 'depend', 'qualiti', 'want', 'type', 'sent', 'boy', 'fade', 'glori', 'want', 'ralph', 'mayb', '2', 'think', 'fix', 'send', 'test', 'messag', 'sorri', 'man', 'account', 'dri', 'would', 'want', 'could', 'trade', 'back', 'half', 'could', 'buy', 'shit', 'credit', 'card', 'sorri', 'meet', 'call', 'later', 'class', 'lt', 'gt', 'reunion', 'free', 'call', 'got', 'meh', 'nope', 'think', 'go', 'monday', 'sorri', 'repli', 'late', 'told', 'accentur', 'confirm', 'true', 'kate', 'jackson', 'rec', 'center', '7ish', 'right', 'dear', 'reach', 'room', 'fight', 'world', 'easi', 'u', 'either', 'win', 'lose', 'bt', 'fightng', 'some1', 'close', 'u', 'dificult', 'u', 'lose', 'u', 'lose', 'u', 'win', 'u', 'still', 'lose', 'come', 'check', 'nuerologist', 'lolnic', 'went', 'fish', 'water', 'wait', 'e', 'car', 'dat', 'bore', 'wat', 'co', 'wait', 'outsid', 'got', 'noth', '2', 'home', 'stuff', 'watch', 'tv', 'wat', 'mayb', 'westshor', 'hyde', 'park', 'villag', 'place', 'near', 'hous', 'know', 'anthoni', 'bring', 'money', 'school', 'fee', 'pay', 'rent', 'stuff', 'like', 'that', 'need', 'help', 'friend', 'need', 'signific', 'opinion', 'jada', 'kusruthi', 'lovabl', 'silent', 'spl', 'charact', 'matur', 'stylish', 'simpl', 'pl', 'repli', '8', 'latest', 'g', 'still', 'scroung', 'ammo', 'want', 'give', 'new', 'ak', 'tri', 'prabha', 'soryda', 'reali', 'frm', 'heart', 'sori', 'lol', 'ok', 'forgiven', 'jst', 'chang', 'tat', 'competit', 'way', 'transport', 'less', 'problemat', 'sat', 'night', 'way', 'u', 'want', 'ask', 'n', 'join', 'bday', 'feel', 'free', 'need', 'know', 'definit', 'no', 'book', 'fri', 'usual', 'person', 'unconsci', 'children', 'adult', 'may', 'behav', 'abnorm', 'call', 'ebay', 'might', 'less', 'elsewher', 'shall', 'come', 'get', 'pickl', 'gon', 'na', 'go', 'get', 'taco', 'rude', 'campu', 'hi', 'wo', 'b', 'ard', '4', 'christma', 'enjoy', 'n', 'merri', 'ye', 'pretti', 'ladi', 'like', 'singl', 'jay', 'say', 'sunday', 'holiday', 'work', 'late', 'call', 'hope', 'l8r', 'malaria', 'know', 'miss', 'guy', 'miss', 'bani', 'big', 'pl', 'give', 'love', 'especi', 'great', 'day', 'good', 'afternoon', 'love', 'goe', 'day', 'hope', 'mayb', 'got', 'lead', 'job', 'think', 'boytoy', 'send', 'passion', 'kiss', 'across', 'sea', 'probabl', 'gon', 'na', 'see', 'later', 'tonight', 'lt', 'mayb', 'fat', 'finger', 'press', 'button', 'know', 'ummmmmaah', 'mani', 'mani', 'happi', 'return', 'day', 'dear', 'sweet', 'heart', 'happi', 'birthday', 'dear', 'tirupur', 'da', 'start', 'offic', 'call', 'famou', 'quot', 'develop', 'abil', 'listen', 'uncondit', 'without', 'lose', 'temper', 'self', 'confid', 'mean', 'go', 'colleg', 'els', 'ill', 'come', 'self', 'pa', '4', 'oclock', 'mine', 'bash', 'flat', 'plan', 'girl', 'stay', 'bed', 'girl', 'need', 'recoveri', 'time', 'id', 'rather', 'pass', 'fun', 'coop', 'bed', 'special', 'know', 'need', 'get', 'hotel', 'got', 'invit', 'apologis', 'cali', 'sweet', 'come', 'english', 'bloke', 'weddin', 'sorri', 'took', 'long', 'omw', 'wait', 'lt', 'gt', 'min', 'ok', 'give', '5', 'minut', 'think', 'see', 'btw', 'alibi', 'cut', 'hair', 'whole', 'time', 'imagin', 'final', 'get', 'sink', 'bath', 'put', 'pace', 'mayb', 'even', 'eat', 'left', 'also', 'imagin', 'feel', 'cage', 'cock', 'surround', 'bath', 'water', 'remind', 'alway', 'own', 'enjoy', 'cuck', 'hurri', 'like', 'three', 'day', 'sure', 'get', 'acknowledg', 'astoundingli', 'tactless', 'gener', 'faggi', 'demand', 'blood', 'oath', 'fo', 'everi', 'night', 'take', 'warm', 'bath', 'drink', 'cup', 'milk', 'see', 'work', 'magic', 'still', 'need', 'loos', 'weight', 'know', 'look', 'fri', 'pan', 'case', 'cheap', 'book', 'perhap', 'silli', 'fri', 'pan', 'like', 'book', 'well', 'uv', 'caus', 'mutat', 'sunscreen', 'like', 'essenti', 'theseday', 'lunch', 'onlin', 'know', 'friend', 'alreadi', 'told', 'hi', 'princess', 'thank', 'pic', 'pretti', 'aiyo', 'u', 'alway', 'c', 'ex', 'one', 'dunno', 'abt', 'mei', 'repli', 'first', 'time', 'u', 'repli', 'fast', 'lucki', 'workin', 'huh', 'got', 'bao', 'ur', 'sugardad', 'ah', 'gee', 'hi', 'msg', 'offic', 'thanx', '4', 'e', 'browni', 'v', 'nice', 'geeeee', 'love', 'much', 'bare', 'stand', 'fuck', 'babe', 'miss', 'alreadi', 'know', 'ca', 'let', 'send', 'money', 'toward', 'net', 'need', 'want', 'crave', 'ill', 'call', 'u', '2mrw', 'ninish', 'address', 'icki', 'american', 'freek', 'wont', 'stop', 'callin', '2', 'bad', 'jen', 'k', 'eh', 'oooh', 'bed', 'ridden', 'ey', 'think', 'anyway', 'go', 'gym', 'whatev', 'love', 'smile', 'hope', 'ok', 'good', 'day', 'babe', 'miss', 'much', 'alreadi', 'love', 'daddi', 'make', 'scream', 'pleasur', 'go', 'slap', 'ass', 'dick', 'wot', 'u', 'wan', 'na', 'missi', 'yar', 'lor', 'wait', '4', 'mum', '2', 'finish', 'sch', 'lunch', 'lor', 'whole', 'morn', 'stay', 'home', 'clean', 'room', 'room', 'quit', 'clean', 'hee', 'know', 'lab', 'goggl', 'went', 'open', 'door', 'wait', 'call', 'nope', 'wait', 'sch', '4', 'daddi', 'tire', 'argu', 'week', 'week', 'want', 'ìï', 'wait', '4', 'sch', 'finish', 'ard', '5', 'arngd', 'marriag', 'u', 'r', 'walkin', 'unfortuntli', 'snake', 'bite', 'bt', 'love', 'marriag', 'danc', 'frnt', 'snake', 'amp', 'sayin', 'bite', 'bite', 'huh', 'earli', 'dinner', 'outsid', 'izzit', 'ok', 'anyway', 'need', 'chang', 'said', 'abl', 'kid', 'want', 'kid', 'one', 'day', 'scotland', 'hope', 'show', 'jjc', 'tendenc', 'take', 'care', 'live', 'dream', 'tell', 'u', 'headach', 'want', 'use', '1', 'hour', 'sick', 'time', 'dun', 'thk', 'quit', 'yet', 'hmmm', 'go', 'jazz', 'yogasana', 'oso', 'go', 'meet', 'em', 'lesson', 'den', 'pleas', 'ring', 'meiv', 'hardli', 'gotani', 'ya', 'srsli', 'better', 'yi', 'tho', 'meet', 'call', 'later', 'still', 'grand', 'prix', 'met', 'stranger', 'choos', 'friend', 'long', 'world', 'stand', 'friendship', 'never', 'end', 'let', 'friend', 'forev', 'gud', 'nitz', 'great', 'gud', 'mrng', 'dear', 'nice', 'day', 'exhaust', 'train', 'morn', 'much', 'wine', 'pie', 'sleep', 'well', 'go', 'buy', 'mum', 'present', 'ar', 'mind', 'blastin', 'tsunami', 'occur', 'rajnik', 'stop', 'swim', 'indian', 'ocean', 'u', 'send', 'home', 'first', 'ok', 'lor', 'readi', 'yet', 'speak', 'cash', 'yet', 'happi', 'come', 'noon', 'meet', 'lunch', 'la', 'take', 'care', 'n', 'get', 'well', 'soon', 'meant', 'say', 'cant', 'wait', 'see', 'u', 'get', 'bore', 'bridgwat', 'banter', 'neva', 'mind', 'ok', 'fine', 'imma', 'get', 'drink', 'somethin', 'want', 'come', 'find', 'valentin', 'game', 'send', 'di', 'msg', 'ur', 'friend', '5', 'answer', 'r', 'someon', 'realli', 'love', 'colour', 'suit', 'best', 'rpli', 'mani', 'depend', 'thanx4', 'today', 'cer', 'nice', '2', 'catch', 'ave', '2', 'find', 'time', 'often', 'oh', 'well', 'take', 'care', 'c', 'u', 'call', 'said', 'choos', 'futur', 'valentin', 'know', 'earli', 'hundr', 'handsom', 'beauti', 'wish', 'thought', 'finish', 'aunti', 'uncl', '1st', 'like', 'v', 'shock', 'leh', 'co', 'tell', 'shuhui', 'like', 'tell', 'leona', 'also', 'like', 'dat', 'almost', 'know', 'liao', 'got', 'ask', 'abt', 'ur', 'reaction', 'lor', 'famili', 'happi', 'come', 'n', 'pick', 'come', 'immedi', 'aft', 'ur', 'lesson', 'let', 'snow', 'let', 'snow', 'kind', 'weather', 'bring', 'ppl', 'togeth', 'friendship', 'grow', 'dear', 'got', 'lt', 'gt', 'dollar', 'hi', 'hi', 'good', 'word', 'word', 'may', 'leav', 'u', 'dismay', 'mani', 'time', 'make', 'sure', 'alex', 'know', 'birthday', 'fifteen', 'minut', 'far', 'concern', 'sorri', 'got', 'thing', 'may', 'pub', 'later', 'nah', 'straight', 'bring', 'bud', 'drink', 'someth', 'actual', 'littl', 'use', 'straight', 'cash', 'haha', 'good', 'hear', 'offici', 'paid', 'market', '8th', 'mani', 'lick', 'take', 'get', 'center', 'tootsi', 'pop', 'yup', 'thk', 'r', 'e', 'teacher', 'said', 'make', 'face', 'look', 'longer', 'darren', 'ask', '2', 'cut', 'short', 'pleas', 'dont', 'say', 'like', 'hi', 'hi', 'hi', 'thank', 'u', 'oh', 'forward', 'messag', 'thought', 'send', 'got', 'seventeen', 'pound', 'seven', 'hundr', 'ml', 'hope', 'ok', 'n', 'funni', 'sweetheart', 'hope', 'kind', 'day', 'one', 'load', 'reason', 'smile', 'biola', 'login', 'dat', 'time', 'dad', 'fetch', 'home', 'shower', 'babi', 'askd', 'u', 'question', 'hour', 'answer', 'well', 'imma', 'definit', 'need', 'restock', 'thanksgiv', 'let', 'know', 'said', 'kiss', 'kiss', 'ca', 'sound', 'effect', 'gorgeou', 'man', 'kind', 'person', 'need', 'smile', 'brighten', 'day', 'probabl', 'gon', 'na', 'swing', 'wee', 'bit', 'ya', 'readi', 'thursday', 'allo', 'brave', 'buse', 'taken', 'train', 'triumph', 'mean', 'jolli', 'good', 'rest', 'week', 'watch', 'cartoon', 'listen', 'music', 'amp', 'eve', 'go', 'templ', 'amp', 'church', 'u', 'mind', 'ask', 'happen', 'dont', 'say', 'uncomfort', 'prob', 'send', 'email', 'that', 'cool', 'sometim', 'slow', 'gentl', 'sonetim', 'rough', 'hard', 'gon', 'na', 'say', 'sorri', 'would', 'normal', 'start', 'panic', 'time', 'sorri', 'see', 'tuesday', 'wait', 'know', 'wesley', 'town', 'bet', 'hella', 'drug', 'fine', 'miss', 'much', 'tell', 'drug', 'dealer', 'get', 'impati', 'sun', 'cant', 'come', 'earth', 'send', 'luv', 'ray', 'cloud', 'cant', 'come', 'river', 'send', 'luv', 'rain', 'cant', 'come', 'meet', 'u', 'send', 'care', 'msg', 'gud', 'evng', 'doesnt', 'make', 'sens', 'take', 'unless', 'free', 'need', 'know', 'sea', 'lay', 'rock', 'rock', 'envelop', 'envelop', 'paper', 'paper', '3', 'word', 'mum', 'repent', 'sorri', 'go', 'home', 'first', 'daddi', 'come', 'fetch', 'later', 'leav', 'de', 'start', 'prepar', 'next', 'ye', 'babi', 'studi', 'posit', 'kama', 'sutra', 'en', 'chikku', 'nang', 'bakra', 'msg', 'kalstiya', 'carlo', 'minut', 'still', 'need', 'buy', 'pay', 'lt', 'decim', 'gt', 'lakh', 'good', 'even', 'ttyl', 'u', 'receiv', 'msg', 'ho', 'ho', 'big', 'belli', 'laugh', 'see', 'ya', 'tomo', 'ditto', 'wo', 'worri', 'say', 'anyth', 'anymor', 'like', 'said', 'last', 'night', 'whatev', 'want', 'peac', 'got', 'lt', 'gt', 'way', 'could', 'pick', 'dont', 'knw', 'pa', 'drink', 'milk', 'mayb', 'say', 'hi', 'find', 'got', 'card', 'great', 'escap', 'wetherspoon', 'piggi', 'r', 'u', 'awak', 'bet', 'u', 'still', 'sleep', 'go', '4', 'lunch', 'caus', 'freaki', 'lol', 'miss', 'call', 'caus', 'yell', 'scrappi', 'miss', 'ca', 'wait', 'u', 'come', 'home', 'lone', 'today', 'place', 'talk', 'explain', 'ìï', 'log', '4', 'wat', 'sdryb8i', 'xy', 'go', '4', 'e', 'lunch', 'want', 'ask', 'wait', '4', 'finish', 'lect', 'co', 'lect', 'finish', 'hour', 'anyway', 'finish', 'work', 'yet', 'everi', 'king', 'cri', 'babi', 'everi', 'great', 'build', 'map', 'imprtant', 'u', 'r', 'today', 'u', 'wil', 'reach', 'tomorw', 'gud', 'ni8', 'dear', 'case', 'u', 'r', 'come', 'cochin', 'pl', 'call', 'bfore', 'u', 'shall', 'also', 'reach', 'tell', 'day', 'u', 'r', 'engag', 'an', 'holiday', 'thank', 'love', 'torch', 'bold', 'farm', 'open', 'sorri', 'troubl', 'u', 'buy', '4d', 'dad', '1405', '1680', '2', 'big', '1', 'small', 'sat', 'n', 'sun', 'thanx', 'sister', 'law', 'hope', 'great', 'month', 'say', 'hey', 'abiola', 'purchas', 'stuff', 'today', 'mail', 'po', 'box', 'number', 'ah', 'poop', 'look', 'like', 'ill', 'prob', 'send', 'laptop', 'get', 'fix', 'cuz', 'gpu', 'problem', 'good', 'good', 'job', 'like', 'entrepreneur', 'aight', 'close', 'still', 'around', 'alex', 'place', 'meet', 'corpor', 'st', 'outsid', 'gap', 'see', 'mind', 'work', 'mum', 'ask', 'buy', 'food', 'home', 'k', 'u', 'also', 'dont', 'msg', 'repli', 'msg', 'much', 'r', 'will', 'pay', 'import', 'prevent', 'dehydr', 'give', 'enough', 'fluid', 'that', 'bit', 'weird', 'even', 'suppos', 'happen', 'good', 'idea', 'sure', 'pub', 'true', 'dear', 'sat', 'pray', 'even', 'felt', 'sm', 'time', 'think', 'get', 'away', 'trek', 'long', 'famili', 'town', 'sorri', 'wan', 'na', 'gym', 'harri', 'quit', 'late', 'lar', 'ard', '12', 'anyway', 'wun', 'b', 'drivin', 'height', 'confid', 'aeronaut', 'professor', 'wer', 'calld', 'amp', 'wer', 'askd', '2', 'sit', 'aeroplan', 'aftr', 'sat', 'wer', 'told', 'dat', 'plane', 'ws', 'made', 'student', 'dey', 'hurri', 'plane', 'bt', '1', 'didnt', 'move', 'said', 'made', 'student', 'seem', 'like', 'weird', 'time', 'night', 'g', 'want', 'come', 'smoke', 'day', 'shitstorm', 'attribut', 'alway', 'come', 'make', 'everyon', 'smoke', 'save', 'stress', 'person', 'dorm', 'account', 'send', 'account', 'detail', 'money', 'sent', 'also', 'know', 'lunch', 'menu', 'know', 'stuff', 'sell', 'tell', 'book', 'lesson', 'msg', 'call', 'work', 'sth', 'go', 'get', 'spec', 'membership', 'px3748', 'macha', 'dont', 'feel', 'assum', 'one', 'even', 'wonder', 'plan', 'life', 'begin', 'anytim', 'oh', 'send', 'address', 'anytim', 'best', 'wondar', 'full', 'flim', 'ya', 'even', 'cooki', 'jelli', 'world', 'run', 'feel', 'admit', 'correct', 'let', 'call', 'keep', 'run', 'world', 'may', 'u', 'r', 'also', 'run', 'got', 'look', 'scrumptiou', 'daddi', 'want', 'eat', 'night', 'long', 'co', 'lar', 'ba', 'dao', 'ok', '1', 'pm', 'lor', 'u', 'never', 'ask', 'go', 'ah', 'said', 'u', 'would', 'ask', 'fri', 'said', 'u', 'ask', 'today', 'alright', 'omw', 'got', 'ta', 'chang', 'order', 'half8th', 'exactli', 'anyway', 'far', 'jide', 'studi', 'visit', 'dunno', 'u', 'ask', 'spring', 'come', 'earli', 'yay', 'lol', 'wo', 'feel', 'bad', 'use', 'money', 'take', 'steak', 'dinner', 'even', 'u', 'dont', 'get', 'troubl', 'convinc', 'tel', 'twice', 'tel', 'neglect', 'msg', 'dont', 'c', 'read', 'dont', 'repli', 'leav', 'qatar', 'tonit', 'search', 'went', 'add', 'ur', 'prayer', 'one', 'talk', 'thank', 'look', 'realli', 'appreci', 'wish', 'haha', 'mayb', 'u', 'rite', 'u', 'know', 'well', 'da', 'feel', 'like', 'someon', 'gd', 'lor', 'u', 'faster', 'go', 'find', 'one', 'gal', 'group', 'attach', 'liao', 'ye', 'glad', 'made', 'well', 'littl', 'time', 'thing', 'good', 'time', 'ahead', 'got', 'room', 'soon', 'put', 'clock', 'back', 'til', '8', 'shout', 'everyon', 'get', 'realis', 'wahay', 'anoth', 'hour', 'bed', 'may', 'free', 'gym', 'men', 'like', 'shorter', 'ladi', 'gaze', 'eye', 'dunno', 'ju', 'say', 'go', 'lido', 'time', '930', 'promis', 'take', 'good', 'care', 'princess', 'run', 'pleas', 'send', 'pic', 'get', 'chanc', 'ttyl', 'reason', 'spoken', 'year', 'anyway', 'great', 'week', 'best', 'exam', 'monday', 'next', 'week', 'give', 'full', 'gist', 'dont', 'gim', 'lip', 'caveboy', 'get', 'librari', 'reali', 'recognis', 'number', 'confus', 'r', 'u', 'pleas', 'didnt', 'holla', 'cant', 'think', 'anyon', 'spare', 'room', 'top', 'head', 'faith', 'make', 'thing', 'possibl', 'hope', 'make', 'thing', 'work', 'love', 'make', 'thing', 'beauti', 'may', 'three', 'christma', 'merri', 'christma', 'u', 'made', 'appoint', 'call', 'phone', 'vibrat', 'act', 'might', 'hear', 'text', 'grandma', 'oh', 'dear', 'u', 'still', 'ill', 'felt', 'shit', 'morn', 'think', 'hungov', 'anoth', 'night', 'leav', 'sat', 'noth', 'ju', 'tot', 'u', 'would', 'ask', 'co', 'u', 'ba', 'gua', 'went', 'mt', 'faber', 'yest', 'yest', 'ju', 'went', 'alreadi', 'mah', 'today', 'go', 'ju', 'call', 'lor', 'wish', 'famili', 'merri', 'ma', 'happi', 'new', 'year', 'advanc', 'nt', 'goin', 'got', 'somethin', 'unless', 'meetin', '4', 'dinner', 'lor', 'haha', 'wonder', 'go', 'ti', 'time', 'lol', 'know', 'dramat', 'school', 'alreadi', 'close', 'tomorrow', 'appar', 'ca', 'drive', 'inch', 'snow', 'suppos', 'get', 'get', 'anywher', 'damn', 'job', 'hunt', 'lol', 'u', 'drunkard', 'hair', 'moment', 'yeah', 'still', '4', 'tonight', 'wat', 'plan', 'idc', 'get', 'weasel', 'way', 'shit', 'twice', 'row', 'wil', 'lt', 'gt', 'minut', 'got', 'space', 'thank', 'pick', 'trash', 'go', 'tell', 'friend', 'sure', 'want', 'live', 'smoke', 'much', 'spend', 'hour', 'beg', 'come', 'smoke', 'kate', 'love', 'see', 'tonight', 'ill', 'phone', 'tomorrow', 'got', 'sing', 'guy', 'gave', 'card', 'happi', 'new', 'year', 'dear', 'brother', 'realli', 'miss', 'got', 'number', 'decid', 'send', 'text', 'wish', 'happi', 'abiola', 'mean', 'get', 'door', 'hmmm', 'thought', 'said', '2', 'hour', 'slave', '3', 'late', 'punish', 'beerag', 'dont', 'think', 'turn', 'like', 'randomlli', 'within', '5min', 'open', 'suppos', 'could', 'make', 'still', 'town', 'though', 'time', 'fix', 'spell', 'sometim', 'get', 'complet', 'diff', 'word', 'go', 'figur', 'hope', 'enjoy', 'game', 'yesterday', 'sorri', 'touch', 'pl', 'know', 'fondli', 'bein', 'thot', 'great', 'week', 'abiola', 'e', 'best', '4', 'ur', 'drive', 'tmr', 'u', 'dogbreath', 'sound', 'like', 'jan', 'c', 'thatåõ', 'al', 'omg', 'want', 'scream', 'weigh', 'lost', 'weight', 'woohoo', 'gener', 'one', 'uncount', 'noun', 'u', 'dictionari', 'piec', 'research', 'realli', 'get', 'hang', 'around', 'boy', 'wherear', 'friendsar', 'thekingshead', 'come', 'canlov', 'ok', 'msg', 'u', 'b4', 'leav', 'hous', 'gim', 'lt', 'gt', 'minut', 'ago', 'appt', 'lt', 'time', 'gt', 'fault', 'u', 'listen', 'told', 'u', 'twice', 'k', '4', 'dled', '3d', 'imp', 'sure', 'make', 'sure', 'know', 'ai', 'smokin', 'yet', 'boooo', 'alway', 'work', 'quit', 'take', 'half', 'day', 'leav', 'bec', 'well', 'ugh', 'wan', 'na', 'get', 'bed', 'warm', 'lt', 'gt', 'ring', 'come', 'guy', 'costum', 'gift', 'futur', 'yowif', 'hint', 'hint', 'borrow', 'ur', 'bag', 'ok', 'boytoy', 'miss', 'happen', 'lot', 'use', 'one', 'babe', 'model', 'help', 'youi', 'bring', 'match', 'also', 'bring', 'galileo', 'dobbi', 'respond', 'babe', 'u', 'enjoyin', 'yourjob', 'u', 'seem', '2', 'b', 'gettin', 'well', 'hunni', 'hope', 'ure', 'ok', 'take', 'care', 'iåõllspeak', '2u', 'soonlot', 'lovem', 'good', 'afternoon', 'starshin', 'boytoy', 'crave', 'yet', 'ach', 'fuck', 'sip', 'cappuccino', 'miss', 'babe', 'teas', 'kiss', 'road', 'cant', 'txt', 'hmm', 'bit', 'piec', 'lol', 'sigh', 'hahaha', 'use', 'brain', 'dear', 'hey', 'got', 'mail', 'sorri', 'light', 'turn', 'green', 'meant', 'anoth', 'friend', 'want', 'lt', 'gt', 'worth', 'may', 'around', 'thank', 'yesterday', 'sir', 'wonder', 'hope', 'enjoy', 'burial', 'mojibiola', 'hi', 'mate', 'rv', 'u', 'hav', 'nice', 'hol', 'messag', '3', 'say', 'hello', 'coz', 'havenåõt', 'sent', 'u', '1', 'age', 'start', 'drive', 'stay', 'road', 'rvx', 'thank', 'much', 'skype', 'wit', 'kz', 'sura', 'didnt', 'get', 'pleasur', 'compani', 'hope', 'good', 'given', 'ultimatum', 'oh', 'countin', 'aburo', 'enjoy', 'messag', 'sent', 'day', 'ago', 'sure', 'result', 'offer', 'good', 'morn', 'dear', 'great', 'amp', 'success', 'day', 'sir', 'late', 'pay', 'rent', 'past', 'month', 'pay', 'lt', 'gt', 'charg', 'felt', 'would', 'inconsider', 'nag', 'someth', 'give', 'great', 'cost', 'didnt', 'speak', 'howev', 'recess', 'wont', 'abl', 'pay', 'charg', 'month', 'henc', 'askin', 'well', 'ahead', 'month', 'end', 'pleas', 'help', 'thank', 'luv', 'u', 'soo', 'much', 'u', 'donåõt', 'understand', 'special', 'u', 'r', '2', 'ring', 'u', '2morrow', 'luv', 'u', 'xxx', 'pl', 'send', 'comprehens', 'mail', 'pay', 'much', 'prashanthettan', 'mother', 'pass', 'away', 'last', 'night', 'pray', 'famili', 'go', 'meanwhil', 'shit', 'suit', 'xavier', 'decid', 'give', 'us', 'lt', 'gt', 'second', 'warn', 'samantha', 'come', 'play', 'jay', 'guitar', 'impress', 'shit', 'also', 'think', 'doug', 'realiz', 'live', 'anymor', 'stomach', 'thru', 'much', 'trauma', 'swear', 'ca', 'eat', 'better', 'lose', 'weight', 'offic', 'what', 'matter', 'msg', 'call', 'break', 'yeah', 'bare', 'enough', 'room', 'two', 'us', 'x', 'mani', 'fuck', 'shoe', 'sorri', 'man', 'see', 'later', 'u', 'reach', 'orchard', 'alreadi', 'u', 'wan', '2', 'go', 'buy', 'ticket', 'first', 'real', 'babi', 'want', 'bring', 'inner', 'tigress', 'da', 'run', 'activ', 'full', 'version', 'da', 'poor', 'babi', 'hope', 'urfeel', 'bettersn', 'luv', 'probthat', 'overdos', 'work', 'hey', 'go', 'care', 'spk', '2', 'u', 'sn', 'lot', 'lovejen', 'stop', 'stori', 'told', 'return', 'say', 'order', 'go', 'take', 'babe', 'hai', 'ana', 'tomarrow', 'come', 'morn', 'lt', 'decim', 'gt', 'ill', 'sathi', 'go', 'rto', 'offic', 'repli', 'came', 'home', 'spoon', 'okay', 'say', 'somebodi', 'name', 'tampa', 'work', 'go', 'min', 'brother', 'geniu', 'sorri', 'guess', 'whenev', 'get', 'hold', 'connect', 'mayb', 'hour', 'two', 'text', 'u', 'find', 'time', 'bu', 'coz', 'need', 'sort', 'stuff', 'dude', 'ive', 'see', 'lotta', 'corvett', 'late', 'consid', 'wall', 'bunker', 'shit', 'import', 'never', 'play', 'peac', 'guess', 'place', 'high', 'enough', 'matter', 'well', 'offici', 'philosoph', 'hole', 'u', 'wan', 'na', 'call', 'home', 'readi', 'save', 'go', 'good', 'problem', 'still', 'need', 'littl', 'experi', 'understand', 'american', 'custom', 'voic', 'text', 'drop', 'x', 'ugh', 'long', 'day', 'exhaust', 'want', 'cuddl', 'take', 'nap', 'talk', 'atleast', 'day', 'otherwis', 'miss', 'best', 'friend', 'world', 'shesil', 'lt', 'gt', 'castor', 'need', 'see', 'someth', 'see', 'knew', 'give', 'break', 'time', 'woul', 'lead', 'alway', 'want', 'miss', 'curfew', 'gon', 'na', 'gibe', 'one', 'midnight', 'movi', 'gon', 'na', 'get', 'til', 'need', 'come', 'home', 'need', 'getsleep', 'anyth', 'need', 'b', 'studdi', 'ear', 'train', 'love', 'give', 'massag', 'use', 'lot', 'babi', 'oil', 'fave', 'posit', 'dude', 'go', 'sup', 'yoyyooo', 'u', 'know', 'chang', 'permiss', 'drive', 'mac', 'usb', 'flash', 'drive', 'gibb', 'hussey', 'like', 'talk', 'pa', 'abl', 'dont', 'know', 'dun', 'cut', 'short', 'leh', 'u', 'dun', 'like', 'ah', 'fail', 'quit', 'sad', 'unbeliev', 'faglord', 'knew', 'time', 'murder', 'exactli', 'ask', 'princess', 'great', 'princess', 'think', 'nutter', 'cutter', 'ctter', 'cttergg', 'cttargg', 'ctargg', 'ctagg', 'ie', 'ok', 'noe', 'u', 'busi', 'realli', 'bore', 'msg', 'oso', 'dunno', 'wat', 'colour', 'choos', '4', 'one', 'g', 'class', 'earli', 'tomorrow', 'thu', 'tri', 'smoke', 'lt', 'gt', 'superb', 'grate', 'u', 'dont', 'everyth', 'u', 'want', 'mean', 'u', 'still', 'opportun', 'happier', 'tomorrow', 'u', 'hope', 'good', 'week', 'check', 'use', 'hope', 'agent', 'drop', 'sinc', 'book', 'thing', 'year', 'whole', 'boston', 'nyc', 'experi', 'thursday', 'night', 'yeah', 'sure', 'thing', 'work', 'probabl', 'money', 'worri', 'thing', 'come', 'due', 'sever', 'outstand', 'invoic', 'work', 'two', 'three', 'month', 'ago', 'possibl', 'teach', 'wonder', 'phone', 'batteri', 'went', 'dead', 'tell', 'love', 'babe', 'love', 'smell', 'bu', 'ai', 'tobacco', 'get', 'worri', 'derek', 'taylor', 'alreadi', 'assum', 'worst', 'hey', 'charl', 'sorri', 'late', 'repli', 'give', 'plu', 'said', 'grinul', 'greet', 'whenev', 'speak', 'white', 'fudg', 'oreo', 'store', 'love', 'come', 'took', 'long', 'leav', 'zaher', 'got', 'word', 'ym', 'happi', 'see', 'sad', 'left', 'miss', 'sorri', 'hurt', 'ca', 'feel', 'nauseou', 'piss', 'eat', 'sweet', 'week', 'caus', 'today', 'plan', 'pig', 'diet', 'week', 'hungri', 'ok', 'lor', 'earli', 'still', 'project', 'meet', 'call', 'da', 'wait', 'call', 'could', 'ask', 'carlo', 'could', 'get', 'anybodi', 'els', 'chip', 'actual', 'send', 'remind', 'today', 'wonder', 'weekend', 'peopl', 'see', 'msg', 'think', 'iam', 'addict', 'msging', 'wrong', 'bcoz', 'know', 'iam', 'addict', 'sweet', 'friend', 'bslvyl', 'hey', 'gave', 'photo', 'regist', 'drive', 'ah', 'tmr', 'wan', 'na', 'meet', 'yck', 'dont', 'talk', 'ever', 'ok', 'word', 'u', 'wana', 'see', 'way', 'school', 'pl', 'send', 'ashley', 'number', 'shall', 'fine', 'avalarr', 'hollalat', 'went', 'attend', 'anoth', 'two', 'round', 'today', 'still', 'reach', 'home', 'actual', 'delet', 'old', 'websit', 'blog', 'k', 'wait', 'chikku', 'il', 'send', 'aftr', 'lt', 'gt', 'min', 'diet', 'ate', '1', 'mani', 'slice', 'pizza', 'yesterday', 'ugh', 'alway', 'diet', 'k', 'give', 'kvb', 'acc', 'detail', 'oh', 'come', 'ah', 'realli', 'sorri', 'wo', 'b', 'abl', '2', 'u', 'find', 'yr', 'term', 'go', 'ok', 'congratul', 'ore', 'mo', 'owo', 'wa', 'enjoy', 'wish', 'mani', 'happi', 'moment', 'fro', 'wherev', 'go', 'samu', 'shoulder', 'yet', 'time', 'think', 'need', 'know', 'near', 'campu', 'dun', 'wear', 'jean', 'lor', 'sinc', 'side', 'fever', 'vomitin', 'k', 'colleg', 'better', 'made', 'friday', 'stuf', 'like', 'pig', 'yesterday', 'feel', 'bleh', 'least', 'writh', 'pain', 'kind', 'bleh', 'sell', 'ton', 'coin', 'sell', 'coin', 'someon', 'thru', 'paypal', 'voila', 'money', 'back', 'life', 'pocket', 'theyr', 'lot', 'place', 'hospit', 'medic', 'place', 'safe', 'also', 'sorta', 'blown', 'coupl', 'time', 'recent', 'id', 'rather', 'text', 'blue', 'look', 'weed', 'sent', 'score', 'sopha', 'secondari', 'applic', 'school', 'think', 'think', 'appli', 'research', 'cost', 'also', 'contact', 'joke', 'ogunrind', 'school', 'one', 'less', 'expens', 'one', 'cant', 'wait', 'see', 'photo', 'use', 'hey', 'book', 'kb', 'sat', 'alreadi', 'lesson', 'go', 'ah', 'keep', 'sat', 'night', 'free', 'need', 'meet', 'confirm', 'lodg', 'chk', 'ur', 'belovd', 'ms', 'dict', 'time', 'want', 'come', 'awesom', 'lem', 'know', 'whenev', 'around', 'shb', 'b', 'ok', 'lor', 'thanx', 'beauti', 'truth', 'graviti', 'read', 'care', 'heart', 'feel', 'light', 'someon', 'feel', 'heavi', 'someon', 'leav', 'good', 'night', 'also', 'rememb', 'get', 'dobbi', 'bowl', 'car', 'sorri', 'c', 'ur', 'msg', 'yar', 'lor', 'poor', 'thing', '4', 'one', 'night', 'tmr', 'u', 'brand', 'new', 'room', '2', 'sleep', 'love', 'decis', 'feel', 'could', 'decid', 'love', 'life', 'would', 'much', 'simpler', 'less', 'magic', 'welp', 'appar', 'retir', 'sort', 'code', 'acc', 'bank', 'natwest', 'repli', 'confirm', 'sent', 'right', 'person', 'u', 'sure', 'u', 'ca', 'take', 'sick', 'time', 'yo', 'chad', 'gymnast', 'class', 'wan', 'na', 'take', 'site', 'say', 'christian', 'class', 'full', 'better', 'still', 'catch', 'let', 'ask', 'sell', 'lt', 'gt', 'sure', 'night', 'menu', 'know', 'noon', 'menu', 'u', 'want', 'come', 'back', 'beauti', 'necklac', 'token', 'heart', 'give', 'wife', 'see', 'one', 'give', 'call', 'wait', 'till', 'come', 'will', 'go', 'aptitud', 'class', 'wont', 'b', 'tri', '2', 'sort', 'hous', 'ok', 'yar', 'lor', 'wan', '2', 'go', 'c', 'hors', 'race', 'today', 'mah', 'eat', 'earlier', 'lor', 'ate', 'chicken', 'rice', 'u', 'haha', 'awesom', 'omw', 'back', 'yup', 'thk', 'e', 'shop', 'close', 'lor', 'account', 'number', 'eh', 'u', 'send', 'wrongli', 'lar', 'hey', 'ad', 'crap', 'nite', 'borin', 'without', 'ya', '2', 'boggi', 'u', 'bore', 'biatch', 'thanx', 'u', 'wait', 'til', 'nxt', 'time', 'il', 'ave', 'ya', 'ok', 'shall', 'talk', 'dont', 'hesit', 'know', 'second', 'time', 'weak', 'like', 'keep', 'notebook', 'eat', 'day', 'anyth', 'chang', 'day', 'sure', 'noth', 'hey', 'pay', 'salari', 'de', 'lt', 'gt', 'anoth', 'month', 'need', 'chocol', 'weed', 'alcohol', 'start', 'search', 'get', 'job', 'great', 'potenti', 'talent', 'reckon', 'need', 'town', 'eightish', 'walk', 'carpark', 'look', 'fuckin', 'time', 'fuck', 'think', 'yo', 'guess', 'drop', 'carlo', 'say', 'mu', 'lt', 'gt', 'minut', 'offic', 'call', 'lt', 'gt', 'min', 'geeee', 'miss', 'alreadi', 'know', 'think', 'fuck', 'ca', 'wait', 'till', 'next', 'year', 'togeth', 'love', 'kiss', 'yun', 'ubi', 'one', 'say', 'wan', 'call', '67441233', 'look', 'got', 'ubi', 'cre', 'ubi', 'tech', '1st', '5wkg', 'ugh', 'got', 'ta', 'drive', 'back', 'sd', 'la', 'butt', 'sore', '26th', 'juli', 'hi', 'im', 'relax', 'time', 'ever', 'get', '7am', 'everi', 'day', 'parti', 'good', 'night', 'get', 'home', 'tomorrow', '5ish', 'ìï', 'wan', 'come', 'come', 'lor', 'din', 'c', 'stripe', 'skirt', 'xma', 'stori', 'peac', 'xma', 'msg', 'love', 'xma', 'miracl', 'jesu', 'hav', 'bless', 'month', 'ahead', 'amp', 'wish', 'u', 'merri', 'xma', 'ca', 'number', 'chang', 'e', 'one', 'next', 'escal', 'yetund', 'class', 'run', 'water', 'make', 'pl', 'lot', 'happen', 'feel', 'quiet', 'beth', 'aunt', 'charli', 'work', 'lot', 'helen', 'mo', 'wait', '4', 'bu', 'stop', 'aft', 'ur', 'lect', 'lar', 'dun', 'c', 'go', 'get', 'car', 'come', 'back', 'n', 'pick', 'aight', 'thank', 'comin', 'heard', 'abt', 'tat', 'lt', 'gt', 'think', 'say', 'syllabu', 'umma', 'say', 'anyth', 'give', 'sec', 'think', 'think', 'quit', 'know', 'still', 'ca', 'get', 'hold', 'anyon', 'cud', 'pick', 'bout', 'see', 'pub', 'poyyarikatur', 'kolathupalayam', 'unjalur', 'post', 'erod', 'di', 'lt', 'gt', 'dear', 'hero', 'leav', 'qatar', 'tonit', 'apt', 'keep', 'touch', 'lt', 'email', 'gt', 'kerala', 'lol', 'would', 'mom', 'would', 'fit', 'tell', 'whole', 'famili', 'crazi', 'terribl', 'got', 'home', 'babe', 'still', 'awak', 'dunno', 'close', 'oredi', 'ìï', 'v', 'fan', 'buy', 'pizza', 'meat', 'lover', 'suprem', 'u', 'get', 'pick', 'ya', 'told', 'ask', 'wat', 'matter', 'dear', 'regret', 'cudnt', 'pick', 'frm', 'ctla', 'cochin', 'mobil', 'car', 'ent', 'style', 'ishtamayoo', 'happi', 'bakrid', 'shall', 'send', 'exe', 'mail', 'id', 'nope', 'watch', 'tv', 'home', 'go', 'v', 'bore', 'know', 'wait', 'check', 'good', 'afternoon', 'gloriou', 'anniversari', 'day', 'sweet', 'j', 'hope', 'find', 'happi', 'content', 'prey', 'think', 'send', 'teas', 'kiss', 'across', 'sea', 'coax', 'imag', 'fond', 'souveni', 'still', 'tonight', 'may', 'call', 'later', 'pl', 'pattern', 'recent', 'crap', 'weekend', 'sore', 'throat', 'scratch', 'talk', 'ye', 'da', 'plm', 'ur', 'offic', 'around', 'still', 'asleep', 'v', 'lol', 'forgot', 'eh', 'ye', 'bring', 'babe', 'good', 'find', 'way', 'use', 'foreign', 'stamp', 'countri', 'good', 'lectur', 'yup', 'bath', 'liao', 'happi', 'new', 'year', 'man', 'oh', 'mr', 'sheffield', 'wan', 'na', 'play', 'game', 'okay', 'boss', 'nanni', 'give', 'rais', 'give', 'one', 'zoe', 'hit', '2', 'im', 'fuck', 'shitin', 'il', 'defo', 'tri', 'hardest', '2', 'cum', '2morow', 'luv', 'u', 'million', 'lekdog', 'hello', 'babi', 'get', 'back', 'mom', 'set', 'comput', 'fill', 'belli', 'goe', 'loverboy', 'miss', 'alreadi', 'sigh', 'blanket', 'suffici', 'thx', 'naughti', 'littl', 'thought', 'better', 'flirt', 'flirt', 'n', 'flirt', 'rather', 'love', 'someon', 'n', 'gettin', 'hurt', 'hurt', 'n', 'hurt', 'gud', 'nyt', 'edison', 'rightli', 'said', 'fool', 'ask', 'question', 'wise', 'man', 'know', 'us', 'speechless', 'viva', 'gm', 'talk', 'that', 'de', 'wont', 'today', 'go', 'colleg', 'abl', 'atten', 'class', 'class', 'holla', 'later', 'mmm', 'that', 'better', 'got', 'roast', 'iåõd', 'b', 'better', 'drink', '2', 'good', 'indian', 'come', 'round', '1', 'thing', 'chang', 'sentenc', 'want', '2', 'concentr', 'educ', 'career', 'im', 'leav', 'walk', 'hour', '2', 'c', 'u', 'doesnåõt', 'show', 'care', 'wont', 'u', 'believ', 'im', 'seriou', 'avail', 'soire', 'june', '3rd', 'u', 'noe', 'wat', 'time', 'e', 'place', 'dat', 'sell', '4d', 'close', 'got', 'anoth', 'job', 'one', 'hospit', 'data', 'analysi', 'someth', 'start', 'monday', 'sure', 'thesi', 'got', 'finish', 'jay', 'get', 'realli', 'impati', 'belliger', 'hiya', 'comin', '2', 'bristol', '1', 'st', 'week', 'april', 'le', 'got', 'rudi', 'new', 'yr', 'eve', 'drunk', 'u', 'bak', 'colleg', 'yet', 'work', 'send', 'ink', '2', 'bath', 'work', 'pleas', 'call', 'u', 'drive', 'lor', 'ard', '515', 'like', 'dat', 'tell', 'femal', 'v', 'throw', 'decid', 'get', 'work', 'technic', 'support', 'voic', 'field', 'might', 'come', 'kerala', '2', 'prepar', 'take', 'leav', 'finalis', 'plan', 'travel', 'finish', 'urgent', 'work', 'sure', 'time', 'tho', 'sure', 'get', 'librari', 'class', 'tri', 'see', 'point', 'good', 'eve', 'fine', 'bitch', 'later', 'mum', 'went', '2', 'dentist', 'free', 'call', 'sir', 'wait', 'meet', 'u', 'work', 'tel', 'shall', 'work', 'tomorrow', 'ju', 'finish', 'bath', 'alright', 'make', 'sure', 'car', 'back', 'tonight', 'lul', 'im', 'gettin', 'juici', 'gossip', 'hospit', 'two', 'nurs', 'talk', 'fat', 'gettin', 'one', 'think', 'she', 'obes', 'oyea', 'aight', 'ill', 'get', 'fb', 'coupl', 'minut', 'oi', 'ami', 'parchi', 'na', 'kicchu', 'kaaj', 'kort', 'iccha', 'korch', 'na', 'phone', 'ta', 'tul', 'na', 'plz', 'plz', 'download', 'clear', 'movi', 'dvd', 'copi', 'yep', 'pretti', 'sculptur', 'convey', 'regard', 'watch', 'surya', 'movi', '6', 'pm', 'vijay', 'movi', 'pokkiri', 'tell', 'happen', 'dont', 'behav', 'like', 'ok', 'need', 'say', 'u', 'get', 'pic', 'msg', 'phone', 'send', 'someon', 'els', 'wat', 'make', 'peopl', 'dearer', 'de', 'happi', 'dat', 'u', 'feel', 'u', 'meet', 'de', 'pain', 'u', 'feel', 'u', 'miss', 'dem', 'love', 'start', 'feel', 'need', 'everi', 'time', 'around', 'first', 'thing', 'come', 'would', 'start', 'day', 'end', 'everi', 'time', 'everi', 'breath', 'life', 'happen', 'around', 'life', 'name', 'would', 'cri', 'give', 'happi', 'take', 'readi', 'fight', 'anyon', 'love', 'craziest', 'thing', 'proov', 'anyon', 'girl', 'beauti', 'ladi', 'whole', 'alway', 'sing', 'prais', 'start', 'make', 'chicken', 'curri', 'end', 'maki', 'beauti', 'get', 'everi', 'morn', 'thank', 'god', 'day', 'would', 'like', 'say', 'lot', 'tell', 'later', 'like', 'needl', 'clock', 'though', 'v', 'r', 'clock', 'v', 'r', 'nt', 'abl', '2', 'met', 'evn', 'v', 'meet', 'itz', '4few', 'second', 'bt', 'v', 'alwi', 'stay', 'conect', 'gud', '9t', 'think', 'spatula', 'hand', 'never', 'noth', 'goodmorn', 'today', 'late', 'lt', 'decim', 'gt', 'min', 'pleas', 'da', 'call', 'mistak', 'side', 'sorri', 'da', 'pl', 'da', 'goto', 'doctor', 'r', 'meet', 'well', 'weather', 'cali', 'great', 'complex', 'great', 'need', 'car', 'move', 'freeli', 'tax', 'outrag', 'great', 'place', 'sad', 'part', 'miss', 'home', 'reach', 'home', 'tire', 'come', 'tomorro', 'ryder', 'gibb', 'fret', 'buy', 'ovul', 'test', 'strip', 'send', 'wont', 'get', 'til', 'like', 'march', 'send', 'postal', 'gift', 'tri', 'get', 'throw', 'cliff', 'someth', 'ne', 'thing', 'interest', 'good', 'birthday', 'u', 'wrking', 'nxt', 'start', 'uni', 'today', 'busi', 'come', 'point', 'figur', 'tomorrow', 'yeah', 'go', 'bore', 'depress', 'sittin', 'waitin', 'phone', 'ring', 'hope', 'wind', 'drop', 'though', 'scari', 'black', 'shirt', 'n', 'blue', 'jean', 'thk', 'c', 'aiyah', 'sorri', 'lor', 'watch', 'tv', 'watch', 'forgot', '2', 'check', 'phone', 'hen', 'night', 'go', 'swing', 'good', 'afternoon', 'love', 'goe', 'day', 'woke', 'earli', 'onlin', 'wait', 'hmmm', 'italian', 'boy', 'onlin', 'see', 'grin', 'someon', 'smoke', 'everi', 'time', 'smoke', 'last', 'two', 'week', 'call', 'text', 'want', 'smoke', 'get', 'headach', 'tri', 'figur', 'u', 'trust', 'math', 'promis', 'first', 'time', 'dhoni', 'rock', 'ok', 'ill', 'tell', 'compani', 'awesom', 'think', 'get', '8th', 'usf', 'time', 'tonight', 'mean', 'still', 'think', 'teju', 'good', 'movi', 'ok', 'leav', 'hourish', 'kalli', 'home', 'home', 'town', 'durban', 'let', 'make', 'saturday', 'monday', 'per', 'conveni', 'hey', 'time', 'drive', 'fri', 'go', 'evalu', 'fri', 'go', '4', 'lunch', 'wif', 'famili', 'aft', 'dat', 'go', 'str', '2', 'orchard', 'lor', 'cancel', 'cheyyamo', 'get', 'money', 'back', 'ok', 'what', 'ur', 'today', 'plan', 'good', 'morn', 'princess', 'aiyar', 'sorri', 'lor', 'forgot', '2', 'tell', 'u', 'tonight', 'mate', 'catch', 'sleep', 'new', 'number', 'way', 'height', 'shit', 'situat', 'guy', 'throw', 'luv', 'letter', 'gal', 'fall', 'brother', 'head', 'who', 'gay', 'check', 'error', 'difficulti', 'correct', 'howz', 'pain', 'hope', 'u', 'r', 'fine', 'u', 'wake', 'alreadi', 'thanx', '4', 'e', 'tau', 'sar', 'piah', 'quit', 'nice', 'k', 'need', 'login', 'anyth', 'lol', 'busi', 'u', 'wear', 'oh', 'usual', 'vijay', 'film', 'differ', 'good', 'day', 'mine', 'realli', 'busi', 'much', 'tomorrow', 'night', 'way', 'send', 'shade', 'stuff', 'wonder', 'realli', 'tot', 'ur', 'paper', 'end', 'long', 'ago', 'wat', 'u', 'copi', 'ju', 'got', 'use', 'u', 'happi', 'lar', 'still', 'haf', '2', 'studi', 'babe', 'lost', 'ok', 'help', 'ask', 'work', 'tmr', 'drive', 'rain', 'get', 'caught', 'e', 'mrt', 'station', 'lor', 'drop', 'tank', 'said', 'text', 'one', 'time', 'ok', 'go', 'chang', 'also', 'u', 'find', 'sitter', 'kaitlyn', 'sick', 'slept', 'day', 'yesterday', 'sorri', 'man', 'accident', 'left', 'phone', 'silent', 'last', 'night', 'check', 'til', 'got', 'hey', 'someth', 'came', 'last', 'min', 'think', 'wun', 'sign', 'tmr', 'hee', 'adult', 'would', 'learn', 'experi', 'real', 'danger', 'dont', 'like', 'peep', 'use', 'drug', 'dont', 'need', 'comment', 'hey', 'veggi', 'pizza', 'yun', 'buy', 'school', 'got', 'offer', '2000', 'plu', 'sure', 'neighbor', 'didnt', 'pick', 'sent', 'well', 'im', 'computerless', 'time', 'make', 'oreo', 'truffl', 'haha', 'yeah', 'see', 'sec', 'number', 'sir', 'lol', 'hot', 'air', 'balloon', 'ok', 'come', 'soon', 'come', 'otherwis', 'tomorrow', 'msg', 'r', 'time', 'silent', 'say', 'think', 'u', 'right', 'also', 'make', 'u', 'think', 'least', '4', 'moment', 'gd', 'drm', 'shesil', 'yeah', 'probabl', 'swing', 'roommat', 'finish', 'girl', 'happi', 'new', 'year', 'melodi', 'ìï', 'dun', 'need', 'pick', 'ur', 'gf', 'yay', 'better', 'told', '5', 'girl', 'either', 'horribl', 'u', 'eat', 'mac', 'eat', 'u', 'forgot', 'abt', 'alreadi', 'rite', 'u', 'take', 'long', '2', 'repli', 'thk', 'toot', 'b4', 'b', 'prepar', 'wat', 'shall', 'eat', 'say', 'fantast', 'chanc', 'anyth', 'need', 'bigger', 'life', 'lift', 'lose', '2', 'live', 'think', 'would', 'first', 'person', '2', 'die', 'n', 'v', 'q', 'nw', 'came', 'hme', 'da', 'outsid', 'island', 'head', 'toward', 'hard', 'rock', 'run', 'day', 'class', 'class', 'chennai', 'velacheri', 'flippin', 'shit', 'yet', 'k', 'give', 'sec', 'break', 'lt', 'gt', 'cstore', 'much', 'bad', 'avoid', 'like', 'yo', 'around', 'got', 'car', 'back', 'annoy', 'goodmorn', 'today', 'late', 'lt', 'gt', 'min', 'point', 'hangin', 'mr', 'right', 'makin', 'u', 'happi', 'come', 'correct', 'good', 'look', 'figur', 'case', 'guess', 'see', 'campu', 'lodg', 'done', 'come', 'home', 'one', 'last', 'time', 'wont', 'anyth', 'trust', 'night', 'worri', 'appt', 'shame', 'miss', 'girl', 'night', 'quizz', 'popcorn', 'hair', 'ok', 'c', 'ya', 'said', 'matter', 'mind', 'say', 'matter', 'al', 'moan', 'n', 'e', 'thin', 'goe', 'wrong', 'fault', 'al', 'de', 'argument', 'r', 'fault', 'fed', 'himso', 'bother', 'hav', '2go', 'neft', 'transact', 'refer', 'number', 'lt', 'gt', 'rs', 'lt', 'decim', 'gt', 'credit', 'beneficiari', 'account', 'lt', 'gt', 'lt', 'time', 'gt', 'lt', 'gt', 'otherwis', 'part', 'time', 'job', 'know', 'call', 'also', 'da', 'feel', 'yesterday', 'night', 'wait', 'til', '2day', 'night', 'dear', 'thank', 'understand', 'tri', 'tell', 'sura', 'whole', 'car', 'appreci', 'last', 'two', 'dad', 'map', 'read', 'semi', 'argument', 'apart', 'thing', 'go', 'p', 'need', 'strong', 'arm', 'also', 'maaaan', 'miss', 'bday', 'real', 'april', 'guessin', 'ai', 'gon', 'na', '9', 'ok', 'come', 'ur', 'home', 'half', 'hour', 'yo', 'game', 'almost', 'want', 'go', 'walmart', 'soon', 'yeah', 'probabl', 'sure', 'ilol', 'let', 'u', 'know', 'person', 'wuldnt', 'bother', 'ur', 'goin', 'mite', 'well', 'text', 'creepi', 'like', 'wo', 'think', 'forgot', 'would', 'good', 'phone', 'tomo', 'lunchtim', 'shall', 'organis', 'someth', 'damn', 'make', 'tonight', 'want', 'wait', 'til', 'tomorrow', 'k', 'k', 'also', 'fine', 'complet', 'cours', 'true', 'passabl', 'get', 'high', 'score', 'appli', 'phd', 'get', '5year', 'salari', 'make', 'life', 'easier', 'prakesh', 'know', 'teach', 'app', 'da', 'come', 'colleg', 'rofl', 'betta', 'invest', 'anti', 'age', 'product', 'sir', 'receiv', 'account', 'anoth', '1hr', 'time', 'sorri', 'delay', 'submit', 'da', 'project', 'tmr', 'rite', 'ju', 'an', 'lar', 'u', 'noe', 'later', 'want', 'send', 'someth', 'sell', 'fast', 'lt', 'gt', 'k', 'easi', 'money', 'got', 'thing', 'may', 'pub', 'later', '1', 'finish', 'meet', 'call', 'lol', 'snatch', 'purs', 'edrunk', 'sorri', 'iff', 'pthi', 'make', 'dancc', '2', 'drum', 'n', 'basq', 'ihav', 'fun', '2nhite', 'x', 'ro', 'much', 'get', 'ur', 'paper', 'e', 'morn', 'aft', 'tmr', 'dear', 'reliev', 'westonzoyland', 'go', 'plan', 'end', 'hope', 'great', 'new', 'semest', 'wish', 'best', 'made', 'great', 'oh', 'ye', 'speak', 'txt', '2', 'u', 'hmm', 'u', 'get', 'email', 'want', 'show', 'world', 'princess', 'europ', 'nobodi', 'decid', 'eat', 'dad', 'want', 'chines', 'shoot', 'doc', 'wait', 'room', 'go', '4', 'dinner', 'soon', 'hello', 'site', 'download', 'song', 'urgent', 'pl', 'know', 'u', 'mean', 'king', 'havin', 'credit', 'goin2b', 'night', 'night', 'sweet', 'only1mor', 'sleep', 'horribl', 'gal', 'sch', 'stuff', 'come', 'u', 'got', 'mc', 'hi', 'hun', 'im', 'comin', 'every1', 'im', 'sorri', '4', 'hope', 'u', 'ava', 'goodtim', 'oli', 'rang', 'melnit', 'ifink', 'mite', 'b', 'sort', 'il', 'explain', 'everythin', 'yeah', 'like', 'goe', 'like', 'friend', 'imma', 'flip', 'shit', 'like', 'half', 'hour', 'mum', 'say', 'wan', 'go', 'go', 'shun', 'bian', 'watch', 'da', 'glass', 'exhibit', 'plan', 'pongal', 'wait', 'till', 'end', 'march', 'el', 'nino', 'get', 'oh', 'yet', 'chikku', 'go', 'room', 'nw', 'bu', 'also', 'cbe', 'pay', 'honey', 'boo', 'miss', 'u', 'sent', 'jd', 'custom', 'servic', 'cum', 'account', 'execut', 'ur', 'mail', 'id', 'detail', 'contact', 'us', 'yo', 'parent', 'gettin', 'cash', 'good', 'news', 'pick', 'downstem', 'thank', 'much', 'skype', 'wit', 'kz', 'sura', 'didnt', 'get', 'pleasur', 'compani', 'hope', 'good', 'given', 'ultimatum', 'oh', 'countin', 'aburo', 'enjoy', 'wahala', 'rememb', 'friend', 'need', 'see', 'half', 'hour', 'im', 'inperialmus', 'listening2th', 'weirdest', 'track', 'ever', 'byåóleafcutt', 'like', 'insect', 'molest', 'someon', 'plumb', 'remix', 'evil', 'men', 'acid', 'sorri', 'didntgiv', 'ya', 'bellearli', 'hunni', 'serious', 'tell', 'exact', 'word', 'right', 'tee', 'hee', 'lectur', 'cheeri', 'bye', 'bye', 'sorri', 'chikku', 'cell', 'got', 'problem', 'tht', 'nt', 'abl', 'repli', 'u', 'msg', 'u', 'still', 'havent', 'collect', 'dough', 'pl', 'let', 'know', 'go', 'place', 'sent', 'get', 'control', 'number', 'ok', 'let', 'know', 'contact', 'settl', 'room', 'let', 'know', 'ok', 'wot', 'u', '2', 'u', 'weirdo', 'lor', 'dont', 'put', 'phone', 'silent', 'mode', 'ok', 'meet', '5', '4', 'depend', 'wan', '2', 'lor', 'wait', '4', 'tv', 'show', '2', 'start', 'lor', 'u', 'leh', 'still', 'busi', 'ur', 'report', 'oh', 'ho', 'first', 'time', 'u', 'use', 'type', 'word', 'one', 'stalk', 'profil', 'ever', 'green', 'quot', 'ever', 'told', 'jerri', 'cartoon', 'person', 'irrit', 'u', 'alway', 'one', 'love', 'u', 'vri', 'much', 'fail', 'express', 'gud', 'nyt', 'ye', 'thought', 'thank', 'drinkin', 'ok', 'wonder', 'other', 'took', 'night', 'end', 'anoth', 'day', 'morn', 'come', 'special', 'way', 'may', 'smile', 'like', 'sunni', 'ray', 'leav', 'worri', 'blue', 'blue', 'bay', 'gud', 'mrng', 'dog', 'must', 'alway', 'wait', 'till', 'end', 'day', 'word', 'run', 'time', 'cell', 'alreadi', 'happi', 'new', 'year', 'u', 'hey', 'great', 'deal', 'farm', 'tour', '9am', '5pm', '50', 'deposit', '16', 'may', 'eat', 'jap', 'done', 'oso', 'aft', 'ur', 'lect', 'wat', 'ìï', 'got', 'lect', '12', 'rite', 'hey', 'babe', 'saw', 'came', 'onlin', 'second', 'disappear', 'happen', 'da', 'birthdat', 'certif', 'april', 'real', 'date', 'today', 'dont', 'publish', 'shall', 'give', 'special', 'treat', 'keep', 'secret', 'way', 'thank', 'wish', 'happi', 'birthday', 'may', 'ur', 'dream', 'come', 'true', 'aiyah', 'u', 'ok', 'alreadi', 'lar', 'e', 'nydc', 'wheellock', 'tell', 'said', 'eat', 'shit', 'sure', 'drive', 'reach', 'destin', 'soon', 'k', 'much', '8th', 'fifti', 'daili', 'text', 'favour', 'time', 'great', 'hear', 'settl', 'well', 'happenin', 'wit', 'ola', 'cocksuck', 'make', 'feel', 'better', 'ipad', 'worthless', 'garbag', 'novelti', 'item', 'feel', 'bad', 'even', 'want', 'one', 'tot', 'u', 'reach', 'liao', 'said', 'fran', 'decid', '2', 'go', 'n', 'e', 'way', 'im', 'complet', 'broke', 'knacker', 'got', 'bout', '3', 'c', 'u', '2mrw', 'love', 'janx', 'dad', 'fone', 'credit', 'right', 'make', 'appoint', 'right', 'design', 'softwar', 'develop', 'may', 'get', 'chennai', 'jokin', 'oni', 'lar', 'ìï', 'busi', 'wun', 'disturb', 'ok', 'care', 'text', 'drive', 'alway', 'even', 'spirit', 'get', 'bb', 'soon', 'tri', 'sure', 'need', 'u', 'r', 'much', 'close', 'heart', 'u', 'go', 'away', 'shatter', 'plz', 'stay', 'love', 'u', '2', 'babe', 'r', 'u', 'sure', 'everyth', 'alrit', 'idiot', 'txt', 'bak', 'girli', 'abt', 'make', 'pic', 'bigger', 'got', 'got', '2', 'colour', 'lor', 'one', 'colour', 'quit', 'light', 'n', 'e', 'darker', 'lor', 'actual', 'done', 'style', 'hair', 'whenevr', 'ur', 'sad', 'whenevr', 'ur', 'gray', 'remembr', 'im', '2', 'listn', '2', 'watevr', 'u', 'wan', 'na', 'say', 'ju', 'walk', 'wid', 'littl', 'amp', 'promis', 'bring', 'back', 'ur', 'smile', 'noth', 'ok', 'anyway', 'give', 'treat', 'correct', 'work', 'today', 'sent', 'scream', 'moan', 'bed', 'princess', 'wake', 'long', 'ago', 'alreadi', 'dunno', 'thing', 'oh', 'get', 'even', 'u', 'u', 'thk', '50', 'shd', 'ok', 'said', 'plu', 'minu', '10', 'leav', 'line', 'paragraph', 'call', 'plz', 'number', 'show', 'coveragd', 'area', 'urgnt', 'call', 'vasai', 'amp', 'reach', '4', 'clock', 'call', 'plz', 'yeah', 'jay', 'sort', 'fuck', 'retard', 'sorri', 'bathroom', 'sup', 'exam', 'februari', 'wish', 'great', 'day', 'dont', 'know', 'come', 'ask', 'question', 'like', 'dont', 'mistak', 'aight', 'rush', 'ask', 'jay', 'good', 'morn', 'plz', 'call', 'sir', 'ok', 'lar', 'u', 'sleep', 'earli', 'nite', 'oh', 'icic', 'k', 'lor', 'den', 'meet', 'day', 'oh', 'half', 'hour', 'much', 'longer', 'syria', 'canada', 'eh', 'wow', 'must', 'get', 'much', 'work', 'done', 'day', 'us', 'extra', 'time', 'grin', 'sometim', 'put', 'wall', 'around', 'heart', 'safe', 'get', 'hurt', 'find', 'care', 'enough', 'break', 'wall', 'amp', 'get', 'closer', 'goodnoon', 'sweet', 'may', 'may', 'go', '4u', 'meet', 'carlo', 'gaug', 'patti', 'interest', 'buy', 'today', 'ìï', 'need', 'c', 'meh', 'aight', 'sorri', 'take', 'ten', 'year', 'shower', 'plan', 'everi', 'monday', 'nxt', 'week', 'vl', 'complet', 'might', 'ax', 'well', 'im', 'chill', 'anoth', '6hr', 'could', 'sleep', 'pain', 'surgic', 'emerg', 'see', 'unfold', 'okay', 'yeah', 'tri', 'scroung', 'someth', 'crazi', 'ar', 'marri', 'ìï', 'like', 'gd', 'look', 'guy', 'fren', 'like', 'say', 'korean', 'leona', 'fave', 'dun', 'thk', 'aft', 'think', 'mayb', 'prob', 'go', 'somewher', 'fredericksburg', 'que', 'pase', 'un', 'buen', 'tiempo', 'someth', 'like', 'ok', 'stay', 'night', 'xavier', 'sleep', 'bag', 'get', 'tire', 'doesnt', 'need', 'test', 'noth', 'much', 'chillin', 'home', 'super', 'bowl', 'plan', 'bugi', 'oso', 'near', 'wat', 'yo', 'there', 'class', 'tmrw', 'right', 'let', 'ur', 'heart', 'ur', 'compass', 'ur', 'mind', 'ur', 'map', 'ur', 'soul', 'ur', 'guid', 'u', 'never', 'loos', 'world', 'gnun', 'sent', 'via', 'goodnight', 'sleep', 'well', 'da', 'pleas', 'take', 'care', 'pleas', 'baaaaab', 'misss', 'youuuuu', 'go', 'teach', 'class', '5', 'u', 'ned', 'convinc', 'tht', 'possibl', 'witot', 'hurt', 'feel', 'main', 'good', 'afternoon', 'loverboy', 'goe', 'day', 'luck', 'come', 'way', 'think', 'sweeti', 'send', 'love', 'across', 'sea', 'make', 'smile', 'happi', 'start', 'send', 'blackberri', 'torch', 'nigeria', 'find', 'buyer', 'like', '4a', 'month', 'tell', 'dad', 'buy', 'bb', 'anyon', 'oh', 'lt', 'gt', 'pple', 'marri', 'lover', 'becz', 'hav', 'gud', 'undrstndng', 'dat', 'avoid', 'problem', 'sent', 'di', '2', 'u', 'u', 'wil', 'get', 'gud', 'news', 'friday', 'person', 'like', 'tomorrow', 'best', 'day', 'life', 'dont', 'break', 'chain', 'break', 'suffer', 'send', 'lt', 'gt', 'frnd', 'lt', 'gt', 'min', 'whn', 'u', 'read', 'yo', 'dude', 'guess', 'got', 'arrest', 'day', 'shuhui', 'say', 'chang', '2', 'suntec', 'steamboat', 'u', 'noe', 'r', 'u', 'danc', 'river', 'yetund', 'sorri', 'moji', 'seem', 'busi', 'abl', 'go', 'shop', 'pleas', 'find', 'way', 'get', 'want', 'us', 'get', 'pleas', 'forgiv', 'repli', 'free', 'via', 'yahoo', 'messeng', 'hey', 'realli', 'pretti', 'late', 'want', 'go', 'lesson', 'first', 'join', 'reach', 'tp', 'mrt', 'bbq', 'sat', 'mine', '6ish', 'ur', 'welcom', '2', 'come', 'know', 'thing', 'wrong', 'everyso', 'often', 'panick', 'start', 'goin', 'bout', 'bein', 'good', 'enough', 'alright', 'good', 'night', 'tri', 'make', 'anoth', 'butt', 'hope', 'feel', 'great', 'pl', 'fill', 'abiola', 'though', 'shd', 'go', 'n', 'fun', 'bar', 'town', 'someth', 'sound', 'ok', '1', 'go', 'write', 'msg', '2', 'put', 'dictionari', 'mode', '3', 'cover', 'screen', 'hand', '4', 'press', 'lt', 'gt', '5', 'gentli', 'remov', 'ur', 'hand', 'interest', 'final', 'readi', 'fyi', 'aunti', 'huai', 'juan', 'never', 'pick', 'phone', 'ya', 'tel', 'wat', 'ur', 'problem', 'dnt', 'wnt', 'tlk', 'wid', 'u', 'spend', 'day', 'wait', 'ideal', 'path', 'appear', 'front', 'us', 'forget', 'made', 'walk', 'wait', 'goodnight', 'ok', 'arm', 'feel', 'weak', 'cuz', 'got', 'shot', 'go', 'anoth', 'time', 'pleas', 'reserv', 'ticket', 'saturday', 'eve', 'chennai', 'thirunelvali', 'tirunelvali', 'chennai', 'sunday', 'eve', 'alreadi', 'see', 'net', 'ticket', 'avail', 'want', 'book', 'ticket', 'tackl', 'storm', 'msg', 'wen', 'u', 'lift', 'phne', 'u', 'say', 'u', 'knw', 'wt', 'real', 'mean', 'hello', 'name', 'girl', 'ye', 'u', 'knw', 'dat', 'girl', 'margaret', 'girlfrnd', 'f', 'grahmbel', 'invnt', 'telphon', 'moral', 'one', '4get', 'name', 'person', 'pop', 'ask', 'bout', 'someth', 'said', 'around', 'tonght', 'wen', 'girl', 'come', 'e', 'best', '4', 'ur', 'exam', 'later', 'hope', 'ur', 'head', 'hurt', '2', 'much', 'plough', 'way', 'pile', 'iron', 'stay', 'chinki', 'tonight', 'come', 'round', 'like', 'oh', 'think', 'wi', 'nz', 'player', 'unsold', 'haha', 'got', 'fast', 'lose', 'weight', 'thk', 'muz', 'go', '4', 'month', 'den', 'got', 'effect', 'gee', 'later', 'go', 'aust', 'put', 'bk', 'e', 'weight', 'wonder', 'got', 'onlin', 'love', 'gone', 'net', 'cafe', 'get', 'phone', 'recharg', 'friend', 'net', 'think', 'boytoy', 'haha', 'kid', 'papa', 'need', 'drug', 'thk', 'shld', 'b', 'ya', 'wana', 'go', '4', 'lesson', 'haha', 'go', 'one', 'whole', 'stretch', 'oh', 'ok', 'r', 'still', 'meet', '4', 'dinner', 'tonight', 'that', 'cool', 'gentleman', 'treat', 'digniti', 'respect', 'shall', 'start', 'hear', 'wait', '4', 'u', 'lor', 'need', '2', 'feel', 'bad', 'lar', 'check', 'got', 'detail', 'messag', 'regist', 'sinco', 'paye', 'log', 'enter', 'urn', 'lt', 'gt', 'confirm', 'bewar', 'fraud', 'share', 'disclos', 'urn', 'anyon', 'decid', 'peopl', 'care', 'stuff', 'vote', 'care', 'stuff', 'loser', 'kaiez', 'enjoy', 'ur', 'tuition', 'gee', 'thk', 'e', 'second', 'option', 'sound', 'beta', 'go', 'yan', 'jiu', 'den', 'msg', 'u', 'cool', 'fun', 'practic', 'make', 'babi', 'actual', 'get', 'readi', 'leav', 'hous', 'k', 'k', 'special', 'today', 'got', 'ta', 'got', 'ten', 'buck', 'jay', 'noncomitt', 'hungri', 'pl', 'speak', 'custom', 'machan', 'somewher', 'beneath', 'pale', 'moon', 'light', 'someon', 'think', 'u', 'dream', 'come', 'true', 'goodnit', 'amp', 'sweet', 'dream', 'wat', 'ur', 'opinion', 'abt', 'abt', 'charact', 'jay', 'snicker', 'tell', 'x', 'total', 'fuck', 'chord', 'speak', 'hour', 'hair', 'cut', 'wonder', 'co', 'dun', 'rem', 'see', 'silver', 'car', 'thk', 'saw', 'black', 'one', 'lmao', 'take', 'pic', 'send', 'feel', 'word', 'better', 'silenc', 'gud', 'mrng', 'current', 'scotland', 'work', 'week', 'lol', 'great', 'im', 'get', 'hungri', 'ye', 'saw', 'messag', 'mu', 'like', 'lt', 'gt', 'second', 'thing', 'r', 'good', 'thanx', 'got', 'exam', 'march', 'ive', 'done', 'revis', 'fran', 'still', 'boyf', 'ive', 'got', 'ta', 'interviw', '4', 'exet', 'bit', 'worri', 'x', 'tell', 'make', 'littl', 'spreadsheet', 'track', 'whose', 'idea', 'smoke', 'determin', 'entir', 'month', 'februari', 'look', 'back', 'build', 'coat', 'want', 'get', 'sick', 'hurri', 'home', 'wear', 'coat', 'gym', 'pain', 'person', 'alway', 'tri', 'keep', 'everybodi', 'happi', 'time', 'nobodi', 'recognis', 'thank', 'love', 'wish', 'rock', 'intrepid', 'duo', 'great', 'time', 'see', 'soon', 'ask', 'sen', 'come', 'chennai', 'search', 'job', 'dad', 'went', 'oredi', 'ju', 'hope', 'true', 'missin', 'co', 'realli', 'missin', 'done', 'anyth', 'feel', 'guilti', 'yet', 'wat', 'late', 'still', 'earli', 'mah', 'juz', 'go', '4', 'dinner', 'lor', 'aiya', 'dunno', 'arm', 'fine', 'cardiff', 'uni', 'fact', 'leav', 'think', 'addi', 'goe', 'back', 'school', 'tue', 'wed', 'cool', 'breez', 'bright', 'sun', 'fresh', 'flower', 'twitter', 'bird', 'wait', 'wish', 'u', 'amp', 'nice', 'ya', 'go', 'restaur', 'askd', 'u', 'knw', 'tht', 'duck', 'chinchilla', 'marriag', 'function', 'look', 'like', 'u', 'wil', 'b', 'get', 'headstart', 'im', 'leav', 'bout', 'u', 'r', 'desper', 'compani', 'could', 'head', 'goin', 'meet', 'rummer', 'give', 'fli', 'monkey', 'wot', 'think', 'certainli', 'mind', 'friend', 'mine', 'say', 'thanks2', 'msg', 'rajini', 'come', 'ya', 'take', 'ure', 'practic', 'lesson', 'start', 'june', 'good', 'need', 'drug', 'possibl', 'decid', 'faster', 'co', 'si', 'go', 'home', 'liao', 'u', 'sleep', 'go', 'take', 'haha', 'got', 'spi', 'wat', 'onlin', 'check', 'n', 'repli', 'mail', 'lor', 'yalru', 'lyfu', 'astn', 'chikku', 'bt', 'innu', 'mundh', 'lyf', 'ali', 'halla', 'ke', 'bilo', 'marriag', 'program', 'edha', 'lyf', 'nt', 'yet', 'ovr', 'chikku', 'ali', 'vargu', 'lyfu', 'meow', 'meow', 'kinda', 'first', 'one', 'get', 'twelv', 'aah', 'speak', 'tomo', 'ok', 'good', 'later', 'come', 'find', 'c', 'lucki', 'told', 'go', 'earlier', 'later', 'pple', 'take', 'finish', 'wat', 'make', 'u', 'thk', 'fall', 'actual', 'thk', 'quit', 'prone', '2', 'fall', 'lucki', 'dad', 'home', 'ask', 'come', 'n', 'fetch', 'alreadi', 'wont', 'touch', 'permiss', '7', 'wonder', 'world', '7th', '6th', 'ur', 'style', '5th', 'ur', 'smile', '4th', 'ur', 'person', '3rd', 'ur', 'natur', '2nd', 'ur', 'sm', '1st', 'love', 'good', 'morn', 'dear', 'take', 'small', 'dose', 'tablet', 'fever', 'oh', 'u', 'must', 'taken', 'real', 'valentin', 'shop', 'first', 'sent', 'email', 'address', 'incomm', 'right', 'gon', 'na', 'blake', 'night', 'might', 'abl', 'get', 'littl', 'earli', 'friendship', 'game', 'play', 'word', 'say', 'start', 'march', 'end', 'may', 'tomorrow', 'yesterday', 'today', 'e', 'nice', 'wait', 'text', 'right', 'gon', 'na', 'pay', 'ticket', 'ya', 'know', 'watch', 'lotr', 'w', 'si', 'di', 'aft', 'u', 'wan', '2', 'meet', '4', 'dinner', 'nite', 'keep', 'away', 'like', 'think', 'far', 'find', 'check', 'googl', 'map', 'place', 'dorm', 'trip', 'ok', 'quit', 'tire', 'lor', 'uni', 'start', 'today', 'ok', '4', 'co', 'take', 'modul', 'ju', 'concentr', 'final', 'yr', 'project', 'alway', 'say', 'welp', 'guy', 'browsin', 'compulsori', 'puriti', 'friendship', 'two', 'smile', 'read', 'forward', 'messag', 'smile', 'see', 'name', 'gud', 'evng', 'musthu', 'add', 'realli', 'care', 'ca', 'least', 'get', 'dude', 'fuck', 'hey', 'money', 'want', 'hello', 'lover', 'goe', 'new', 'job', 'happi', 'think', 'wake', 'slave', 'send', 'teas', 'kiss', 'across', 'sea', 'told', 'number', 'gautham', 'tell', 'need', 'investig', 'anywher', 'ok', 'juz', 'receiv', 'cant', 'believ', 'said', 'mani', 'thing', 'morn', 'realli', 'want', 'say', 'good', 'morn', 'love', 'beauti', 'morn', 'see', 'librari', 'later', 'end', 'might', 'still', 'vomit', 'okay', 'everyth', 'come', 'money', 'money', 'aint', 'thing', 'sha', 'everyth', 'weather', 'keep', 'extra', 'warm', 'cold', 'noth', 'seriou', 'pl', 'lot', 'vitamin', 'c', 'hey', 'gal', 'anyon', 'u', 'go', 'e', 'drive', 'centr', 'tmr', 'alway', 'yahoo', 'messeng', 'send', 'messag', 'get', 'may', 'send', 'mobil', 'mode', 'sha', 'get', 'repli', 'put', 'readi', 'lt', 'time', 'gt', 'time', 'n', 'smile', 'r', 'two', 'crucial', 'thing', 'life', 'sometim', 'time', 'make', 'us', 'forget', 'smile', 'sometim', 'someon', 'smile', 'make', 'us', 'forget', 'time', 'gud', 'noon', 'idp', 'linux', 'system', 'da', 'what', 'plan', 'ill', 'lt', 'gt', 'ok', 'oh', 'god', 'almost', 'home', 'total', 'video', 'convert', 'free', 'download', 'type', 'googl', 'search', 'sound', 'like', 'someth', 'someon', 'test', 'would', 'sayi', 'u', 'love', 'someon', 'dont', 'make', 'love', 'u', 'much', 'u', 'love', 'much', 'dont', 'want', 'love', 'anyon', 'except', 'gud', 'nit', 'pete', 'phone', 'still', 'jenni', 'colleg', 'oop', 'sorri', 'check', 'mind', 'pick', 'tomo', 'half', 'eight', 'station', 'would', 'ok', 'hey', 'sweet', 'wonder', 'moment', 'might', 'come', 'want', 'send', 'file', 'someon', 'wo', 'go', 'yahoo', 'connect', 'suck', 'rememb', 'set', 'page', 'go', 'download', 'format', 'disc', 'could', 'tell', 'know', 'way', 'download', 'big', 'file', 'download', 'stuff', 'directli', 'internet', 'help', 'would', 'great', 'prey', 'teas', 'kiss', 'how', 'champ', 'leav', 'glasgow', 'k', 'best', 'congrat', 'wonder', 'get', 'text', 'need', 'come', 'home', 'give', 'good', 'lovin', 'shall', 'ask', 'one', 'thing', 'dont', 'mistak', 'check', 'wid', 'corect', 'spele', 'sarcasm', 'angri', 'happen', 'dear', 'thk', 'u', 'dun', 'haf', '2', 'hint', 'e', 'forum', 'alreadi', 'lor', 'co', 'told', 'ron', 'n', 'darren', 'go', '2', 'tell', 'shuhui', 'yup', 'ok', 'thanx', 'hi', 'ct', 'employe', 'pl', 'pl', 'find', 'aunt', 'nike', 'wow', 'love', 'sooo', 'much', 'know', 'bare', 'stand', 'wonder', 'day', 'goe', 'well', 'love', 'think', 'miss', 'scream', 'mean', 'shout', 'hey', 'happen', 'de', 'alright', 'pick', 'receipt', 'someth', 'earlier', 'think', 'chennai', 'well', 'settl', 'oh', 'dang', 'mean', 'send', 'lol', 'unfortun', 'found', 'pick', 'sister', 'airport', 'even', 'think', 'go', 'tri', 'go', 'one', 'th', 'horribl', 'bf', 'v', 'hungri', 'rememb', 'day', 'feel', 'real', 'valentin', 'yo', 'valentin', 'even', 'tho', 'u', 'hardli', 'play', 'sound', 'good', 'finger', 'make', 'difficult', 'type', 'midnight', 'earliest', 'sure', 'tri', 'make', 'xavier', 'smoke', 'want', 'smoke', 'told', 'smoke', 'much', 'k', 'come', 'nordstrom', 'done', 'u', 'konw', 'waht', 'rael', 'friendship', 'im', 'gving', 'yuo', 'exmpel', 'jsut', 'ese', 'tih', 'msg', 'evrey', 'splle', 'tih', 'msg', 'wrnog', 'bt', 'sitll', 'yuo', 'ra', 'wihtuot', 'ayn', 'mitsak', 'goodnight', 'amp', 'nice', 'sleep', 'sweet', 'dream', 'press', 'confer', 'da', 'complet', 'degre', 'use', 'join', 'financ', 'good', 'afternoon', 'love', 'job', 'prospect', 'miss', 'lazi', 'bleak', 'hmmm', 'happi', 'fill', 'love', 'shant', 'disturb', 'u', 'anymor', 'jia', 'bishan', 'lar', 'nearer', 'need', 'buy', 'earli', 'co', 'buy', 'got', 'ta', 'park', 'car', 'dont', 'know', 'oh', 'dude', 'sux', 'snake', 'got', 'old', 'raiden', 'got', 'buff', 'say', 'hi', 'get', 'ass', 'back', 'south', 'tampa', 'prefer', 'kegger', 'e', 'msg', 'ju', 'u', 'said', 'thank', 'gift', 'u', 'ok', 'dear', 'call', 'chechi', 'yeah', 'tote', 'u', 'wan', 'na', 'ok', 'found', 'di', 'pierr', 'cardin', 'one', 'look', 'normal', 'cost', '20', 'sale', 'good', 'sleep', 'rhythm', 'person', 'establish', 'rhythm', 'bodi', 'learn', 'use', 'want', 'know', 'wat', 'r', 'u', 'messag', 'truro', 'hospit', 'ext', 'phone', 'phone', 'side', 'singl', 'line', 'big', 'mean', 'anyth', '4', 'ur', 'best', 'got', 'ga', 'money', 'chanc', 'gang', 'want', 'go', 'grand', 'natur', 'adventur', 'dnt', 'worri', 'use', 'ice', 'piec', 'cloth', 'take', '2', 'tablet', 'dude', 'saw', 'park', 'car', 'sunroof', 'pop', 'sux', 'get', 'readi', 'put', 'excel', 'sub', 'face', 'tmrw', 'im', 'finish', '9', 'door', 'lt', 'gt', 'g', 'saw', 'day', 'ago', 'guy', 'want', 'sell', 'wifi', 'lt', 'gt', '3g', 'lt', 'gt', 'blank', 'late', 'whatev', 'im', 'pretti', 'piss', 'dont', 'much', 'imag', 'class', 'got', 'rumour', 'go', 'buy', 'apart', 'chennai', 'near', 'kalainar', 'tv', 'si', 'catch', 'e', 'show', 'e', 'afternoon', 'watch', 'w', 'c', 'u', 'wan', '2', 'watch', 'today', 'tmr', 'lor', 'sound', 'gd', 'haha', 'wah', 'u', 'yan', 'jiu', 'fast', 'liao', 'nosi', 'guess', 'idk', 'react', 'freak', 'rememb', 'hurt', 'day', 'satan', 'impost', 'pay', 'price', 'destini', 'keep', 'go', 'u', 'said', 'pray', 'get', 'mind', 'get', 'make', 'girl', 'happi', 'difficult', 'make', 'girl', 'happi', 'u', 'need', 'friend', 'companion', 'lover', 'chef', 'lt', 'gt', 'good', 'listen', 'lt', 'gt', 'organ', 'lt', 'gt', 'good', 'boyfriend', 'lt', 'gt', 'clean', 'lt', 'gt', 'sympathet', 'lt', 'gt', 'athlet', 'lt', 'gt', 'warm', 'lt', 'gt', 'courag', 'lt', 'gt', 'determin', 'lt', 'gt', 'true', 'lt', 'gt', 'depend', 'lt', 'gt', 'intellig', 'lt', 'gt', 'psychologist', 'lt', 'gt', 'pest', 'extermin', 'lt', 'gt', 'psychiatrist', 'lt', 'gt', 'healer', 'lt', 'gt', 'stylist', 'lt', 'gt', 'driver', 'aaniy', 'pudunga', 'venaam', 'princess', 'bet', 'brotha', 'chase', 'shall', 'book', 'chez', 'jule', 'half', 'eight', 'ok', 'hhahhaahahah', 'rofl', 'wtf', 'nig', 'leonardo', 'room', 'someth', 'yep', 'derek', 'hous', 'see', 'sunday', 'lt', '3', 'cool', 'let', 'know', 'kick', 'around', 'lt', 'gt', 'day', 'wonder', 'would', 'okay', 'call', 'uncl', 'john', 'let', 'know', 'thing', 'nigeria', 'r', 'lt', 'gt', 'dollar', '2year', 'sent', 'know', 'strain', 'plan', 'pay', 'back', 'everi', 'dime', 'give', 'everi', 'dime', 'expect', 'anyth', 'practic', 'someth', 'like', 'charg', 'transfer', 'charg', 'withdraw', 'anyhow', 'like', 'dont', 'search', 'love', 'let', 'love', 'find', 'that', 'call', 'fall', 'love', 'bcoz', 'u', 'dont', 'forc', 'u', 'fall', 'u', 'know', 'smeon', 'hold', 'u', 'bslvyl', 'let', 'go', 'bill', 'miller', 'love', 'set', 'soul', 'fire', 'spark', 'flame', 'big', 'rawr', 'flame', 'xoxo', 'somewhr', 'someon', 'sure', 'made', '4', 'god', 'decid', 'perfect', 'time', 'make', 'u', 'meet', 'dat', 'till', 'den', 'enjoy', 'ur', 'crush', 'honeymoon', 'outfit', 'help', 'propos', 'go', 'back', 'tomorrow', 'never', 'blame', 'day', 'ur', 'life', 'good', 'day', 'give', 'u', 'happi', 'bad', 'day', 'give', 'u', 'experi', 'essenti', 'life', 'god', 'bless', 'good', 'morn', 'pl', 'confirm', 'time', 'collect', 'chequ', 'daddi', 'take', 'good', 'care', 'yeah', 'probabl', 'still', 'got', 'ta', 'check', 'leo', 'special', 'carlo', 'take', 'sweet', 'time', 'usual', 'let', 'know', 'patti', 'smoke', 'tell', 'haul', 'ass', 'ok', 'noth', 'problem', 'heard', 'job', 'go', 'wildlif', 'talk', 'tonight', 'u', 'want2com', 'that2worzel', 'wizzl', 'whatev', 'god', 'pick', 'flower', 'dippeditinadew', 'lovingli', 'touch', 'itwhichturnedinto', 'u', 'gift', 'tomeandsaid', 'friend', '4u', 'came', 'hostel', 'ok', 'prob', 'come', 'lunch', 'ju', 'tell', 'u', 'dat', 'b', 'leav', '4', 'shanghai', '21st', 'instead', 'haf', 'time', '2', 'meet', 'cya', 'freez', 'home', 'yet', 'rememb', 'kiss', 'mom', 'morn', 'love', 'think', 'miss', 'yet', 'readi', 'big', 'day', 'tomorrow', 'probabl', 'around', 'mu', 'lot', '645', 'thnx', 'dude', 'u', 'guy', '2nite', 'sef', 'dey', 'laugh', 'meanwhil', 'darl', 'anji', 'mm', 'food', 'da', 'k', 'make', 'sens', 'btw', 'carlo', 'difficult', 'guy', 'gon', 'na', 'smoke', 'go', 'pick', 'second', 'batch', 'get', 'ga', 'u', 'download', 'fring', 'app', '2', 'oz', 'guy', 'kinda', 'flaki', 'one', 'friend', 'interest', 'pick', 'lt', 'gt', 'worth', 'tonight', 'possibl', 'friend', 'u', 'stay', 'fb', 'chat', 'fuck', 'babe', 'miss', 'sooooo', 'much', 'wish', 'sleep', 'bed', 'lone', 'go', 'sleep', 'dream', 'love', 'live', 'simpl', 'love', 'also', 'simpl', 'laugh', 'simpl', 'win', 'tooo', 'simpl', 'difficult', 'gud', 'nte', 'ah', 'well', 'confus', 'thing', 'hi', 'dear', 'call', 'urgnt', 'know', 'what', 'problem', 'want', 'work', 'problem', 'least', 'tell', 'wate', 'repli', 'dear', 'ok', 'ye', 'princess', 'want', 'make', 'happi', 'sound', 'like', 'mani', 'talent', 'would', 'like', 'go', 'dinner', 'date', 'next', 'week', 'go', 'film', '2day', 'da', '6pm', 'sorri', 'da', 'watch', 'movi', 'alreadi', 'xy', 'want', '2', 'shop', 'shop', 'w', 'hello', 'littl', 'parti', 'anim', 'thought', 'buzz', 'friend', 'grin', 'remind', 'love', 'send', 'naughti', 'ador', 'kiss', 'yesterday', 'go', 'home', 'come', 'life', 'brought', 'sun', 'shini', 'warm', 'heart', 'put', 'constant', 'smile', 'face', 'make', 'feel', 'love', 'care', 'shit', 'surpris', 'went', 'spent', 'even', 'french', 'guy', 'met', 'town', 'fool', 'around', 'bit', 'let', 'fuck', 'great', 'comedi', 'cant', 'stop', 'laugh', 'da', 'alright', 'set', 'text', 'man', 'hi', 'keen', 'go', 'kind', 'feel', 'go', 'tomo', 'mind', 'sleep', 'nt', 'feel', 'well', 'u', 'switch', 'fone', 'dammit', 'india', 'take', 'lead', 'post', 'l8r', 'class', 'tht', 'wat', 'wright', 'brother', 'fli', 'even', 'v', 'good', 'somewhat', 'event', 'laden', 'fill', 'worri', 'head', 'ok', 'throat', 'wreck', 'see', 'six', 'u', 'laugh', 'realli', 'loud', 'u', 'talk', 'spontan', 'u', 'dont', 'care', 'other', 'feel', 'u', 'probabl', 'dear', 'amp', 'best', 'friend', 'goodeven', 'dear', 'laptop', 'take', 'dont', 'file', 'bag', 'work', 'call', 'tell', 'find', 'anyth', 'room', 'wan', 'earli', 'lei', 'outsid', 'wun', 'b', 'home', 'earli', 'neva', 'mind', 'bugi', 'juz', 'wat', 'walk', 'home', 'oredi', 'ìï', 'late', 'repli', 'oso', 'saw', 'top', 'dat', 'like', 'din', 'buy', 'r', '7', 'go', 'ok', 'na', 'ye', 'post', 'coupl', 'pic', 'fb', 'still', 'snow', 'outsid', 'wake', 'one', 'good', 'partnership', 'go', 'take', 'lead', 'yeah', 'class', 'send', 'bec', 'templ', 'na', 'come', 'home', 'class', 'right', 'need', 'work', 'shower', 'mostli', 'like', 'ìï', 'v', 'fan', 'dunno', 'co', 'v', 'late', 'n', 'reach', 'insid', 'alreadi', 'ate', 'spageddi', 'lor', 'e', 'gal', 'r', 'laugh', 'lor', 'guess', 'spent', 'last', 'night', 'phase', 'fourth', 'dimens', 'dad', 'gon', 'na', 'call', 'get', 'work', 'ask', 'crazi', 'question', 'ye', 'said', 'hurt', 'n', 'meaning', 'line', 'ever', 'compromis', 'everyth', 'love', 'lmao', 'nice', '1', 'glad', 'see', 'repli', 'nah', 'dub', 'je', 'still', 'buff', 'pain', 'thought', 'happi', 'toughest', 'thing', 'earth', 'yeah', 'fine', 'get', 'ok', 'lol', 'u', 'come', 'idea', 'mani', 'peopl', 'seem', 'special', 'first', 'sight', 'remain', 'special', 'till', 'last', 'sight', 'maintain', 'till', 'life', 'end', 'sh', 'ja', 'okay', 'wait', 'ah', 'lei', 'hi', 'babe', 'u', 'r', 'like', 'bed', 'im', 'sorri', 'tonight', 'realli', 'wan', 'na', 'see', 'u', 'tomorrow', 'call', 'love', 'xxx', 'alreadi', 'squat', 'new', 'way', 'walk', 'want', 'bold', '2', 'bb', 'torch', 'cramp', 'stop', 'go', 'back', 'sleep', 'nan', 'sonathaya', 'soladha', 'boss', 'bring', 'tat', 'cd', 'forget', 'know', 'rape', 'dude', 'poker', 'weightloss', 'girl', 'friend', 'make', 'load', 'money', 'ebay', 'someth', 'give', 'thank', 'god', 'gr8', 'see', 'messag', 'r', 'u', 'leav', 'congrat', 'dear', 'school', 'wat', 'r', 'ur', 'plan', 'ìï', 'eatin', 'later', 'eatin', 'wif', 'fren', 'lei', 'ìï', 'go', 'home', 'first', 'finish', 'alreadi', 'yar', 'keep', 'say', 'mushi', 'embarrass', 'ok', 'sorri', 'man', 'stash', 'ran', 'dri', 'last', 'night', 'ca', 'pick', 'sunday', 'hai', 'priya', 'right', 'doctor', 'said', 'pleas', 'ask', 'mummi', 'call', 'father', 'come', 'room', 'come', 'hous', 'co', 'hous', 'still', 'messi', 'haha', 'lost', '10', 'kilo', 'today', 'tast', 'fish', 'curri', 'might', 'accid', 'tookplac', 'somewher', 'ghodbandar', 'rd', 'traffic', 'move', 'slove', 'plz', 'slip', 'amp', 'worri', 'yun', 'wkg', 'btw', 'go', 'nu', 'sc', 'ìï', 'wana', 'specialis', 'wad', 'ye', 'one', 'woman', 'man', 'pleas', 'tell', 'like', 'dislik', 'bed', 'test', 'earlier', 'appreci', 'call', 'tomorrow', 'loverboy', 'keep', 'come', 'queen', 'hmmm', 'ach', 'speak', 'miss', 'despar', 'u', 'meet', 'fren', 'dun', 'wan', 'meet', 'ah', 'muz', 'b', 'guy', 'rite', 'promis', 'though', 'even', 'gotten', 'dinner', 'yet', 'got', 'back', 'dislik', 'bed', 'turn', 'stereo', 'love', 'mi', 'phone', 'unknown', 'album', 'yeah', 'see', 'ask', 'u', 'knw', 'nt', 'may', 'ur', 'frnd', 'classmat', 'sorri', 'earlier', 'put', 'around', 'talk', '9', 'actual', 'life', 'lol', 'missionari', 'hook', 'doggi', 'hook', 'stand', 'u', 'better', 'go', 'sleep', 'dun', 'disturb', 'u', 'liao', 'u', 'wake', 'msg', 'lor', 'watch', 'hous', 'entertain', 'get', 'whole', 'hugh', 'lauri', 'thing', 'even', 'stick', 'inde', 'especi', 'stick', 'thought', 'prap', 'meant', 'anoth', 'one', 'goodo', 'look', 'tomorrow', 'hi', 'jon', 'pete', 'ive', 'bin', '2', 'spain', 'recent', 'hav', 'sum', 'dinero', 'left', 'bill', 'said', 'u', 'ur', 'åôrent', 'mayb', 'interest', 'hav', 'around', 'tb', 'jame', 'bold', '2', 'lt', 'gt', 'know', 'shall', 'speak', 'lt', 'gt', 'minut', 'hunni', 'wot', 'u', '2', '2nite', 'didnt', 'end', 'goin', 'town', 'ju', 'da', 'pub', 'instead', 'ju', 'chillin', 'da', 'mo', 'bedroom', 'love', 'jen', 'went', 'project', 'centr', 'per', 'request', 'alaipayuth', 'set', 'callertun', 'caller', 'press', '9', 'copi', 'friend', 'callertun', 'lol', 'yeah', 'point', 'guess', 'project', 'w', 'fren', 'lor', 'lol', 'well', 'qualiti', 'aint', 'bad', 'aint', 'complain', 'k', 'happen', 'tonight', 'think', 'go', 'finn', 'come', 'tire', 'special', 'come', 'tomorrow', 'di', 'k', 'go', 'sleep', 'well', 'take', 'rest', 'u', 'guy', 'never', 'invit', 'anywher', 'want', 'pleas', 'insid', 'outsid', 'bedroom', 'calm', 'downon', 'theacus', 'itxt', 'u', 'co', 'iwana', 'know', 'wotu', 'r', 'doin', 'haventcn', 'u', 'age', 'ring', 'ur', 'up4', 'neth', 'j', 'love', 'wine', 'dine', 'ladi', 'iåõm', 'cool', 'ta', 'luv', '2', 'caus', 'doin', 'load', 'plan', 'wk', 'got', 'social', 'servic', 'inspect', 'nurseri', 'take', 'care', 'spk', 'sn', 'x', 'know', 'account', 'detail', 'ask', 'mom', 'send', 'mom', 'reach', 'think', 'u', 'wrong', 'number', 'feel', 'alway', 'happi', 'slowli', 'becom', 'habit', 'amp', 'final', 'becom', 'part', 'life', 'follow', 'happi', 'morn', 'amp', 'happi', 'day', 'b', 'late', 'love', 'mum', 'got', 'mail', 'panren', 'paru', 'think', 'chuckin', 'ur', 'red', 'green', 'n', 'black', 'trainner', '2', 'save', 'carryin', 'bac', 'train', 'give', 'one', 'miss', 'number', 'pleas', 'ju', 'came', 'back', 'fr', 'lunch', 'wif', 'si', 'u', 'leh', 'schedul', 'next', 'week', 'town', 'weekend', 'realli', 'good', 'dhanush', 'rock', 'lmao', 'ok', 'wont', 'need', 'u', 'hair', 'anymor', 'miss', 'ya', 'need', 'ya', 'want', 'ya', 'love', 'ya', 'sorri', 'free', 'u', 'ever', 'get', 'song', 'stuck', 'head', 'reason', 'wo', 'go', 'away', 'til', 'u', 'listen', 'like', '5', 'time', 'nt', 'yet', 'chikku', 'simpl', 'habba', 'hw', 'abt', 'u', 'got', 'ur', 'mail', 'muchand', 'look', 'forward', 'lot', 'support', 'less', 'contact', 'rememb', 'one', 'venugop', 'late', 'shall', 'tri', 'come', 'till', 'dear', 'sometim', 'heart', 'remembr', 'someon', 'much', 'forget', 'someon', 'soon', 'bcoz', 'heart', 'like', 'everyon', 'like', 'one', 'rememb', 'everytim', 'bslvyl', 'joy', 'father', 'john', 'john', 'name', 'joy', 'father', 'mandan', 'hi', 'yiju', 'regard', '3230', 'textbook', 'intro', 'algorithm', 'second', 'edit', 'sell', '50', 'k', 'want', 'us', 'come', 'littl', 'difficult', 'simpl', 'way', 'enter', 'place', 'ha', 'us', 'e', 'thing', 'got', 'tv', '2', 'watch', 'u', 'thk', '2', 'go', 'tonight', 'u', 'alreadi', 'haf', 'smth', 'mind', 'dont', 'show', 'far', 'put', 'new', 'pictur', 'facebook', 'watch', 'tv', 'got', 'new', 'job', 'good', 'afternoon', 'sexi', 'bun', 'goe', 'job', 'search', 'wake', 'first', 'thought', 'alway', 'love', 'wish', 'fine', 'happi', 'know', 'ador', 'come', 'whatev', 'want', 'ok', 'chikku', '1', 'favourit', 'song', 'u', 'see', 'post', 'facebook', 'oh', 'well', 'c', 'u', 'later', 'uncl', 'atlanta', 'wish', 'guy', 'great', 'semest', 'dear', 'free', 'messag', 'without', 'recharg', 'hi', 'hi', 'hi', 'dun', 'believ', 'thk', 'u', 'told', 'know', 'god', 'creat', 'gap', 'finger', 'one', 'made', 'come', 'amp', 'fill', 'gap', 'hold', 'hand', 'love', 'ye', 'sura', 'sun', 'tv', 'lol', 'arun', 'u', 'transfr', 'amt', 'takin', 'shower', 'yeah', 'leav', 'done', 'work', 'eye', 'philosophi', 'text', 'u', 'later', 'bit', 'free', 'chat', 'u', 'havenåõt', 'lost', 'ill', 'alway', 'b', 'didnåõt', 'intend', '2', 'hurt', 'u', 'never', 'knew', 'u', 'felt', 'thatåõ', 'itried2tel', 'careabout', 'u', 'bad', 'girl', 'still', 'rememb', 'much', 'gave', 'morn', 'hope', 'alright', 'babe', 'worri', 'might', 'felt', 'bit', 'despar', 'learn', 'job', 'fake', 'wait', 'come', 'back', 'love', 'hey', 'tell', 'blake', 'address', 'carlo', 'want', 'meet', 'got', 'lost', 'answer', 'phone', 'get', 'opinion', 'someth', 'first', 'one', 'week', 'leav', 'put', 'know', 'time', 'hit', 'move', 'excel', 'spent', 'lt', 'gt', 'year', 'air', 'forc', 'iraq', 'afghanistan', 'stabl', 'honest', 'like', 'travel', 'wan', 'na', 'watch', 'movi', 'ok', 'lor', 'thanx', 'ìï', 'school', 'class', 'get', 'text', 'bu', 'leav', 'lt', 'gt', 'god', 'good', 'sleep', 'dear', 'pray', 'nice', 'day', 'today', 'love', 'dearli', 'aiyo', 'bit', 'pai', 'seh', 'noe', 'scare', 'dun', 'rem', 'die', 'hee', 'becom', 'better', 'lookin', 'oredi', 'leh', 'aight', 'ask', 'roommat', 'what', 'hous', 'beer', 'wan', '2', 'meet', 'n', 'combin', 'part', 'da', 'rest', 'da', 'project', 'go', 'ticket', '4', 'walsal', 'tue', '6', 'th', 'march', 'mate', 'get', 'sat', 'ill', 'pay', 'treat', 'want', '2', 'go', 'txt', 'bak', 'ye', 'chat', 'hi', 'jess', 'dont', 'know', 'work', 'call', 'u', 'im', 'home', 'eve', 'xxx', 'sian', 'aft', 'meet', 'supervisor', 'got', 'work', '2', 'liao', 'u', 'work', 'go', 'write', 'ccna', 'exam', 'week', 'well', 'watch', 'shrek', '3d', 'b', 'much', 'dirti', 'fellow', 'dunno', 'dat', 'wat', 'told', 'ok', 'lor', 'probabl', 'tomorrow', 'even', 'later', 'tonight', 'someth', 'go', 'could', 'say', 'die', 'man', 'feel', 'sad', 'go', 'want', 'know', 'would', 'probabl', 'gone', 'late', 'night', 'think', 'lift', 'one', 'u', 'dun', 'wan', 'u', 'dun', 'like', 'alreadi', 'ah', 'wat', 'u', 'still', 'eat', 'sent', 'ur', 'email', 'id', 'soon', 'dude', 'teresa', 'hope', 'okay', 'didnt', 'hear', 'peopl', 'call', 'receiv', 'packag', 'sinc', 'dec', 'lt', 'gt', 'thot', 'like', 'know', 'fantast', 'year', 'best', 'read', 'plu', 'realli', 'realli', 'bam', 'first', 'aid', 'usml', 'work', 'done', 'hey', 'gorgeou', 'man', 'work', 'mobil', 'number', 'good', 'one', 'babe', 'squishi', 'mwah', 'way', 'stay', 'oh', 'thanx', 'take', 'call', 'got', 'job', 'start', 'monday', 'time', 'ur', 'flight', 'tmr', 'come', 'rather', 'promin', 'bite', 'mark', 'right', 'cheek', 'septemb', 'wet', 'right', 'husband', 'norm', 'tomorrow', 'finish', 'co', 'st', 'test', 'need', 'sort', 'librari', 'stuff', 'point', 'tomo', 'got', 'letter', 'today', 'access', 'til', 'end', 'march', 'better', 'get', 'move', 'yeah', 'got', 'list', 'u', 'joanna', 'feel', 'realli', 'anti', 'social', 'offic', 'na', 'comingdown', 'later', 'super', 'da', 'good', 'replac', 'murali', 'da', 'good', 'good', 'unsold', 'hi', 'u', 'want', 'join', 'st', 'later', 'meet', 'five', 'call', 'u', 'class', 'engalnd', 'telli', 'decid', 'wo', 'let', 'watch', 'mia', 'elliot', 'kiss', 'damn', 'dont', 'want', 'hear', 'philosophi', 'say', 'happen', 'got', 'job', 'wipro', 'get', 'everi', 'thing', 'life', '2', '3', 'year', 'cant', 'get', 'da', 'laptop', 'matric', 'card', 'wif', 'lei', 'dunno', 'da', 'next', 'show', 'aft', '6', 'toa', 'payoh', 'got', '650', 'made', 'payment', 'dont', 'much', 'sorri', 'would', 'want', 'fedex', 'way', 'play', 'one', 'day', 'last', 'year', 'know', 'even', 'though', 'good', 'team', 'like', 'india', 'girl', 'wait', 'recept', 'ah', 'say', 'god', 'love', 'amp', 'need', 'clean', 'heart', 'ten', 'special', 'peopl', 'amp', 'u', 'c', 'miracl', 'tomorrow', 'pl', 'pl', 'hate', 'turn', 'fun', 'shop', 'trip', 'annoy', 'day', 'everyth', 'would', 'look', 'hous', 'sir', 'wait', 'call', 'want', 'come', 'onlin', 'could', 'work', 'reach', 'consensu', 'next', 'meet', 'aiyah', 'wait', 'lor', 'u', 'entertain', 'hee', 'last', 'thing', 'ever', 'want', 'hurt', 'think', 'would', 'laugh', 'embarass', 'delet', 'tag', 'keep', 'go', 'far', 'knew', 'even', 'fact', 'even', 'felt', 'like', 'would', 'hurt', 'show', 'realli', 'know', 'messi', 'wednesday', 'bad', 'problem', 'time', 'clean', 'choos', 'skype', 'take', 'pictur', 'sleep', 'want', 'go', 'mind', 'thing', 'make', 'bed', 'throw', 'laundri', 'top', 'ca', 'friend', 'hous', 'embarass', 'underwear', 'bra', 'strewn', 'bed', 'pillow', 'floor', 'someth', 'els', 'use', 'good', 'least', 'make', 'bed', 'let', 'know', 'kick', 'call', 'ok', 'said', 'call', 'call', 'number', 'avail', 'appoint', 'ask', 'connect', 'call', 'wahe', 'fathima', 'go', 'buy', 'wif', 'meet', 'later', 'mmmm', 'fuck', 'fair', 'know', 'weak', 'grin', 'push', 'knee', 'expos', 'belli', 'pull', 'head', 'forget', 'know', 'wick', 'smile', 'today', 'system', 'sh', 'get', 'well', 'also', 'deep', 'well', 'mom', 'want', 'know', 'aight', 'text', 'back', 'dont', 'know', 'support', 'ass', 'srt', 'thnk', 'think', 'ps3', 'play', 'usb', 'oh', 'ok', 'didnt', 'know', 'meant', 'yep', 'babi', 'jontin', 'pen', 'thing', 'beyond', 'joke', 'wont', 'biro', 'master', 'ca', 'ever', 'parti', 'alex', 'nichol', 'see', 'miss', 'call', 'dear', 'brother', 'gr8', 'day', 'ok', 'ìï', 'finish', 'soon', 'sorri', 'ca', 'help', 'come', 'slave', 'go', 'shell', 'unconsci', 'avoid', 'make', 'unhappi', 'love', 'ass', 'enjoy', 'doggi', 'style', 'think', 'ask', 'gym', 'excus', 'lazi', 'peopl', 'jog', 'way', 'home', 'long', 'dri', 'spell', 'season', 'would', 'got', 'ta', 'collect', 'da', 'car', '6', 'lei', 'ok', 'knacker', 'came', 'home', 'went', 'sleep', 'good', 'full', 'time', 'work', 'lark', 'probabl', 'earlier', 'station', 'think', 'uh', 'head', 'much', 'left', 'tot', 'u', 'outsid', 'co', 'darren', 'say', 'u', 'come', 'shop', 'cours', 'nice', 'wat', 'ju', 'went', 'sim', 'lim', 'look', 'mp3', 'player', 'aight', 'sound', 'good', 'want', 'come', 'wat', 'would', 'u', 'like', '4', 'ur', 'birthday', 'love', 'work', 'home', 'miss', 'vday', 'parachut', 'doubl', 'coin', 'u', 'must', 'know', 'well', 'sister', 'got', 'place', 'birla', 'soft', 'da', 'wah', 'oki', 'oki', 'muz', 'make', 'use', 'e', 'unlimit', 'haha', 'peopl', 'mu', 'tabl', 'lambda', 'stop', 'old', 'man', 'get', 'build', 'snowman', 'snow', 'angel', 'snowbal', 'fight', 'ello', 'babe', 'u', 'ok', 'hello', 'beauti', 'r', 'u', 'ok', 'kinda', 'ad', 'row', 'wiv', 'walk', 'pub', 'want', 'night', 'wiv', 'u', 'miss', 'u', 'u', 'go', 'ikea', 'str', 'aft', 'dat', 'becoz', 'lt', 'gt', 'jan', 'whn', 'al', 'post', 'ofic', 'holiday', 'cn', 'go', 'fr', 'post', 'ofic', 'got', 'duffer', 'lol', 'grr', 'mom', 'take', 'forev', 'prescript', 'pharmaci', 'like', '2', 'minut', 'away', 'ugh', 'real', 'tho', 'suck', 'ca', 'even', 'cook', 'whole', 'electr', 'hungri', 'want', 'go', 'time', 'month', 'mid', 'time', 'fffff', 'text', 'kadeem', 'far', 'gone', 'leav', 'yet', 'ok', 'lor', 'go', 'elsewher', 'n', 'eat', 'u', 'thk', 'fujitsu', 'seri', 'lifebook', 'good', 'yar', 'want', '2', 'scold', 'u', 'yest', 'late', 'alreadi', 'got', 'zhong', 'se', 'qing', 'u', 'ask', 'b4', 'ask', 'go', 'w', 'u', 'lor', 'n', 'u', 'still', 'act', 'real', 'dont', 'know', 'bring', 'food', 'current', 'food', 'alon', 'also', 'sch', 'fr', 'dun', 'haf', 'da', 'book', 'sch', 'home', 'hello', 'go', 'villag', 'pub', '8', 'either', 'come', 'accordingli', 'ok', 'ok', 'call', 'like', 'lt', 'gt', 'time', 'oh', 'give', 'us', 'hypertens', 'oh', 'dont', 'give', 'monkey', 'wot', 'think', 'certainli', 'mind', 'friend', 'mine', 'sleep', 'wiv', 'wud', 'annoyin', 'omg', 'could', 'snow', 'tonit', 'carri', 'disturb', 'pa', 'tell', 'went', 'bath', 'ju', 'finish', 'avatar', 'nigro', 'r', 'u', 'scratch', 'hope', 'great', 'day', 'either', 'idea', 'know', 'anyplac', 'someth', 'plan', 'usual', 'stop', 'hella', 'weed', 'fact', 'clean', 'show', 'know', 'upset', 'prioriti', 'constantli', 'want', 'excel', 'readi', 'moan', 'scream', 'ecstasi', 'dude', 'avatar', '3d', 'imp', 'one', 'point', 'thought', 'actual', 'fli', 'room', 'almost', 'tri', 'hittng', 'one', 'reflex', 'k', 'k', 'cant', 'come', 'search', 'job', 'got', 'lousi', 'sleep', 'kept', 'wake', 'everi', '2', 'hour', 'see', 'cat', 'want', 'come', 'worri', 'cold', 'yeah', 'leav', 'coupl', 'minut', 'amp', 'let', 'know', 'get', 'mu', 'call', 'make', 'sure', 'dat', 'woken', 'hey', 'go', 'jazz', 'power', 'yoga', 'hip', 'hop', 'kb', 'yogasana', 'batteri', 'mr', 'adewal', 'uncl', 'aka', 'egbon', 'wait', '2', 'min', 'stand', 'bu', 'stop', 'oh', 'ic', 'thought', 'meant', 'mari', 'jane', 'haha', 'realli', 'oh', 'deduct', 'lesson', 'tmr', 'nah', 'im', 'goin', '2', 'wrk', 'j', 'wot', 'bout', 'u', 'eat', 'shit', 'wait', 'ur', 'monkey', 'face', 'bitch', 'u', 'asshol', 'good', 'night', 'go', 'sleep', 'aight', 'grab', 'someth', 'eat', 'text', 'back', 'mu', 'take', 'someth', 'pain', 'move', 'howev', 'side', 'next', '6hr', 'see', 'doctor', 'lol', 'oh', 'babe', 'wont', 'slide', 'place', 'midnight', 'thank', 'invit', 'howz', 'person', 'stori', 'lol', 'would', 'awesom', 'payback', 'honeybe', 'said', 'sweetest', 'world', 'god', 'laugh', 'amp', 'said', 'wait', 'u', 'havnt', 'met', 'person', 'read', 'msg', 'moral', 'even', 'god', 'crack', 'joke', 'thank', 'tesco', 'quit', 'nice', 'gone', 'speak', 'soon', 'featheri', 'bowa', 'someth', 'guy', 'know', 'even', 'cant', 'close', 'eye', 'vava', 'play', 'umma', '2', 'laptop', 'noe', 'infra', 'slow', 'lar', 'wan', 'fast', 'one', 'nvm', 'ok', 'enjoy', 'ur', 'good', 'night', 'ye', 'meet', 'town', 'co', 'go', 'gep', 'home', 'could', 'text', 'bu', 'stop', 'worri', 'finish', 'march', 'ish', 'that', 'cool', 'cum', 'delhi', 'chennai', 'still', 'silent', 'lol', 'alright', 'thinkin', 'haha', 'boat', 'still', 'mom', 'check', 'yo', 'half', 'nake', 'shhhhh', 'nobodi', 'suppos', 'know', 'sorri', 'call', 'later', 'meet', 'thing', 'relat', 'trade', 'pleas', 'call', 'arul', 'lt', 'gt', 'hey', 'late', 'amk', 'need', 'drink', 'tea', 'coffe', 'length', 'e', 'e', 'top', 'shorter', 'n', 'got', 'fring', 'thk', 'go', 'liao', 'lazi', 'dun', 'wan', '2', 'distract', 'u', 'also', 'antha', 'num', 'corrct', 'dane', 'basket', 'gettin', 'full', 'might', 'tonight', 'hi', 'darlin', 'ive', 'got', 'back', 'realli', 'nice', 'night', 'thank', 'much', 'lift', 'see', 'u', 'tomorrow', 'xxx', 'valentin', 'huh', 'proof', 'fb', 'page', 'ugh', 'glad', 'realli', 'watch', 'rupaul', 'show', 'tool', 'eh', 'den', 'sat', 'u', 'book', 'e', 'kb', 'liao', 'huh', 'practis', 'curtsey', 'lol', 'boo', 'hope', 'laugh', 'def', 'up4', 'someth', 'sat', 'well', 'leav', 'class', 'babe', 'never', 'came', 'back', 'hope', 'nice', 'sleep', 'love', 'lmao', 'fish', 'memori', 'need', 'b', 'go', '2', 'sch', 'mon', 'si', 'need', '2', 'take', 'smth', 'idea', 'soon', 'get', 'convert', 'live', 'india', 'go', 'draw', 'seri', 'mani', 'year', 'south', 'african', 'soil', 'goodmorn', 'today', 'late', 'lt', 'decim', 'gt', 'min', 'ca', 'take', 'major', 'role', 'commun', 'outreach', 'rock', 'mel', 'shop', 'lor', 'rain', 'mah', 'hard', '2', 'leav', 'orchard', 'hi', 'birth', '8lb', '7oz', 'mother', 'babi', 'brilliantli', 'see', 'forward', 'messag', 'proof', 'ca', 'keep', 'go', 'never', 'intent', 'run', 'choos', 'rather', 'keep', 'room', 'clean', 'say', 'visitor', 'mayb', 'best', 'choic', 'ye', 'want', 'embarass', 'mayb', 'feel', 'feel', 'friend', 'want', 'drop', 'buy', 'say', 'happen', 'morn', 'tri', 'everyth', 'know', 'els', 'dunno', 'lei', 'thk', 'mum', 'lazi', 'go', 'neva', 'ask', 'yet', 'whatev', 'want', 'know', 'rule', 'talk', 'earlier', 'week', 'start', 'happen', 'show', 'respons', 'yet', 'everi', 'week', 'bend', 'rule', 'way', 'way', 'whatev', 'tire', 'thia', 'argument', 'everi', 'week', 'lt', 'gt', 'movi', 'doesnt', 'inlud', 'preview', 'still', 'get', '1', 'beauti', 'truth', 'graviti', 'read', 'care', 'heart', 'feel', 'light', 'someon', 'feel', 'heavi', 'someon', 'leav', 'goodmorn', 'ambrith', 'madurai', 'met', 'u', 'arun', 'dha', 'marrg', 'remembr', 'read', 'shame', 'tell', 'take', 'run', 'blame', 'u', '4', 'ever', 'realli', '4', 'ever', 'long', 'time', 'princess', 'kitti', 'shave', 'natur', 'better', 'bb', 'wont', 'use', 'wife', 'doctor', 'ya', 'came', 'ago', 'tomorrow', 'onward', 'eve', '6', '3', 'work', 'anyth', 'lor', 'toa', 'payoh', 'got', 'place', '2', 'walk', 'meh', 'anybodi', 'number', 'still', 'thought', 'tact', 'way', 'ask', 'alex', 'movi', 'theatr', 'go', 'watch', 'unlimit', 'movi', 'pay', 'u', 'lunch', 'alon', 'bore', 'ye', 'obvious', 'potato', 'speak', 'soon', 'nah', 'man', 'car', 'meant', 'cram', 'full', 'peopl', 'got', 'new', 'job', 'bar', 'airport', 'satsgettin', 'hour', 'mean', 'lie', 'keep', 'touch', 'kalli', 'readi', 'bat', '2nd', 'inning', 'thanx', 'birthday', 'alreadi', 'ugh', 'ca', 'u', 'apolog', 'admit', 'u', 'wrong', 'ask', 'take', 'u', 'back', 'noe', 'la', 'u', 'wana', 'pei', 'bf', 'oso', 'rite', 'k', 'lor', 'day', 'den', 'ye', 'small', 'kid', 'boost', 'secret', 'energi', 'im', 'gon', 'na', 'miss', 'u', 'much', 'avatar', 'suppos', 'subtoitl', 'simpli', 'sit', 'watch', 'match', 'offic', 'jot', 'thing', 'want', 'rememb', 'later', 'oh', 'sorri', 'pleas', 'hey', 'go', 'lo', 'lesson', 'gym', 'dont', 'pack', 'buy', 'cereal', 'must', 'pack', 'food', 'pack', 'gari', 'someth', '9ja', 'miss', 'alway', 'make', 'thing', 'bigger', 'ìï', 'dun', 'wan', 'watch', 'infern', 'affair', 'wake', '4', 'afternoon', 'sup', 'send', 'pic', 'like', 'okay', 'book', 'alreadi', 'includ', 'one', 'bugi', 'aight', 'fuck', 'get', 'later', 'de', 'call', 'time', 'ill', 'tell', 'k', 'dont', 'use', 'hook', 'much', 'blackberri', 'bold2', 'nigeria', 'hi', 'home', 'calicut', 'hey', 'darlin', 'pick', 'u', 'colleg', 'u', 'tell', 'wen', '2', 'mt', 'love', 'pete', 'xx', 'oh', 'thkin', 'goin', 'yogasana', '10', 'den', 'nd', 'go', '3', 'den', 'rush', 'parco', '4', 'nb', 'oki', 'lor', 'u', 'call', 'readi', 'late', 'need', 'go', 'n', 'get', 'da', 'laptop', 'sir', 'wait', 'mail', 'charg', 'mobil', 'get', 'morn', 'noth', 'got', 'msg', 'frm', 'tht', 'unknown', 'ugh', 'fuck', 'resub', 'eve', 'see', 'shadow', 'get', 'earli', 'spring', 'yay', 'one', 'slice', 'one', 'breadstick', 'lol', 'hey', 'want', 'crave', 'miss', 'need', 'love', 'ahmad', 'saeed', 'al', 'hallaq', 'train', 'tomorrow', 'pass', 'di', 'ur', 'contact', 'n', 'see', 'wat', 'u', 'get', 'red', 'luv', 'wid', 'blue', 'u', 'put', 'smile', 'face', 'purpl', 'u', 'r', 'reali', 'hot', 'pink', 'u', 'r', 'swt', 'orang', 'thnk', 'lyk', 'green', 'reali', 'wana', 'go', 'wid', 'yelow', 'wnt', 'u', 'bck', 'black', 'jealou', 'brown', 'miss', 'nw', 'plz', 'giv', 'one', 'color', 'co', 'daddi', 'arrang', 'time', 'c', 'wat', 'time', 'fetch', 'mah', 'eldest', 'know', 'say', 'hi', 'drugdeal', 'hard', 'believ', 'thing', 'like', 'say', 'lie', 'think', 'twice', 'say', 'anyth', 'good', 'night', 'dear', 'sleepwel', 'amp', 'take', 'care', 'wondarful', 'song', 'yar', 'lor', 'actual', 'quit', 'fast', 'co', 'da', 'ge', 'slow', 'wat', 'haha', 'must', 'come', 'later', 'normal', 'bath', 'da', 'afternoon', 'mah', 'trust', 'even', 'hey', 'goin', '2', 'meet', 'want', '2go', '4a', 'meal', 'donyt', 'feel', 'like', 'cuz', '2', 'get', 'last', 'bu', 'home', 'he', 'sweet', 'latelyxxx', 'take', 'like', 'noon', 'open', 'mca', 'aight', 'wat', 'happen', 'side', 'done', 'oredi', 'sweet', 'well', 'princess', 'pleas', 'tell', 'like', 'dislik', 'bed', 'wish', 'great', 'semest', 'moji', 'love', 'word', 'rich', 'day', 'dude', 'like', 'buff', 'wind', 'babe', 'ca', 'give', 'everyth', 'want', 'need', 'actual', 'could', 'better', 'yor', 'got', 'money', 'ca', 'get', 'work', 'ca', 'get', 'man', 'ca', 'pay', 'rent', 'ca', 'even', 'fill', 'fuck', 'ga', 'tank', 'ye', 'stress', 'depress', 'even', 'call', 'home', 'thanksgiv', 'cuz', 'tell', 'noth', 'kalli', 'wont', 'play', 'first', 'two', 'odi', 'get', 'cash', 'togeth', 'text', 'jason', 'oh', 'love', 'soooo', 'good', 'hear', 'omg', 'miss', 'much', 'today', 'sorri', 'problem', 'provid', 'thank', 'tming', 'probabl', 'want', 'pick', 'done', 'cutest', 'girl', 'world', 'dice', 'art', 'class', '6', 'thru', '9', 'thank', 'though', 'idea', 'time', 'come', 'tomorrow', 'oh', 'howda', 'gud', 'gud', 'math', 'en', 'samachara', 'chikku', 'thk', '530', 'lor', 'dunno', 'get', 'ticket', 'wat', 'u', 'audri', 'lousi', 'autocorrect', 'site', 'simul', 'test', 'give', 'tough', 'question', 'test', 'readi', 'anyway', 'serious', 'hit', 'back', 'otherwis', 'light', 'armand', 'alway', 'shit', 'vomit', 'fetch', 'yun', 'u', 'fetch', 'thank', 'like', 'well', 'hmmm', 'imagin', 'come', 'home', 'rub', 'feet', 'make', 'dinner', 'help', 'get', 'readi', 'date', 'sure', 'readi', 'kind', 'life', 'lara', 'said', 'loan', 'lt', 'gt', 'spare', 'power', 'suppli', 'yar', 'quit', 'clever', 'aft', 'mani', 'guess', 'lor', 'got', 'ask', '2', 'bring', 'thk', 'darren', 'will', '2', 'go', 'aiya', 'thk', 'leona', 'still', 'attach', 'wat', 'yeah', 'go', 'bed', 'back', 'midnight', 'well', 'avail', 'washob', 'nob', 'last', 'night', 'ask', 'nickey', 'platt', 'instead', 'time', 'week', 'ryan', 'wish', 'u', 'mani', 'mani', 'return', 'day', 'happi', 'birthday', 'vikki', 'hope', 'know', 'still', 'mad', 'argh', '3g', 'spotti', 'anyway', 'thing', 'rememb', 'research', 'provinc', 'sterl', 'place', 'look', 'xam', 'hall', 'boy', 'ask', 'girl', 'tell', 'start', 'term', 'di', 'answer', 'den', 'manag', 'lot', 'hesit', 'n', 'lookin', 'around', 'silent', 'said', 'intha', 'ponnungal', 'ipaditan', 'know', 'result', 'sorri', 'im', 'get', 'feel', 'realli', 'total', 'reject', 'kinda', 'thing', 'got', 'shitload', 'diamond', 'though', 'tessi', 'pl', 'favor', 'pl', 'convey', 'birthday', 'wish', 'nimya', 'pl', 'dnt', 'forget', 'today', 'birthday', 'shija', 'well', 'go', 'aunti', 'mine', 'like', 'fr', 'china', 'noisi', 'later', 'guess', 'needa', 'mcat', 'studi', 'train', 'manual', 'show', 'tech', 'process', 'password', 'reset', 'troubleshoot', 'spoke', 'uncl', 'john', 'today', 'strongli', 'feel', 'need', 'sacrific', 'keep', 'go', 'call', 'beg', 'listen', 'dont', 'make', 'promis', 'make', 'clear', 'thing', 'easi', 'need', 'pleas', 'let', 'us', 'work', 'thing', 'long', 'keep', 'expect', 'help', 'creativ', 'stifl', 'pl', 'keep', 'happi', 'promis', 'part', 'carlo', 'took', 'leav', 'minut', 'well', 'done', 'luv', 'ya', 'came', 'hostel', 'k', 'still', 'love', 'juz', 'rememb', 'got', 'ta', 'bath', 'dog', 'today', 'drug', 'abl', 'eat', 'alright', 'took', 'morphin', 'back', 'yo', 'see', 'requir', 'pleas', 'stayin', 'troubl', 'stranger', 'saw', 'dave', 'day', 'heåõ', 'sort', 'still', 'bloke', 'u', 'gona', 'get', 'girl', 'mr', 'ur', 'mum', 'still', 'think', 'get', '2getha', 'collect', 'ur', 'laptop', 'later', 'show', 'around', 'want', 'cld', 'drink', 'wld', 'prefer', 'spend', 'money', 'nosh', 'mind', 'nxt', 'wk', 'get', 'home', 'waaaat', 'lololo', 'ok', 'next', 'time', 'tabl', 'occupi', 'wait', 'tree', 'sure', 'dont', 'forgot', 'come', 'alway', 'touch', 'hi', 'kindli', 'give', 'us', 'back', 'document', 'submit', 'loan', 'stapati', 'dont', 'shall', 'buy', 'one', 'dear', 'oh', 'god', 'happi', 'see', 'messag', '3', 'day', 'year', 'mani', 'mile', 'hey', 'cuti', 'goe', 'wale', 'kinda', 'like', 'hill', 'shit', 'still', 'avent', 'kill', 'sad', 'stori', 'man', 'last', 'week', 'wife', 'wish', 'parent', 'forgot', 'n', 'kid', 'went', 'work', 'even', 'colleagu', 'wish', 'enter', 'cabin', 'pa', 'said', 'happi', 'boss', 'felt', 'special', 'askd', '4', 'lunch', 'lunch', 'invit', 'apart', 'went', 'said', 'u', 'mind', 'go', 'bedroom', 'minut', 'ok', 'sed', 'sexi', 'mood', 'came', '5', 'minut', 'latr', 'wid', 'cake', 'n', 'wife', 'parent', 'kidz', 'friend', 'n', 'colleagu', 'scream', 'surpris', 'wait', 'sofa', 'nake', 'think', 'go', 'honesti', 'road', 'call', 'bank', 'tomorrow', 'tough', 'decis', 'make', 'us', 'great', 'peopl', 'specialis', 'work', 'slave', 'labor', 'look', 'month', 'sha', 'co', 'shakara', '4', 'beggar', 'repli', 'boy', 'chang', 'phone', 'number', 'hi', 'darlin', 'im', 'way', 'london', 'smash', 'anoth', 'driver', 'big', 'dent', 'im', 'realli', 'miss', 'u', 'u', 'xxx', 'noth', 'realli', 'make', 'sure', 'everybodi', 'speed', 'come', 'home', '4', 'dinner', 'thank', 'way', 'lost', 'good', 'crickit', 'mind', 'thx', 'well', 'month', 'pleas', 'come', 'imin', 'urgoin', 'outl8r', 'wont', 'wat', 'wit', 'guy', 'yavnt', 'tri', 'yet', 'never', 'play', 'origin', 'either', 'hiya', 'good', 'day', 'spoken', 'sinc', 'weekend', 'see', 'thought', 'get', 'readi', 'moan', 'scream', 'oh', 'k', 'got', 'job', 'what', 'think', 'need', 'go', 'late', 'school', 'night', 'especi', 'one', 'class', 'one', 'miss', 'last', 'wednesday', 'probabl', 'fail', 'test', 'friday', 'pop', 'lt', 'gt', 'ibuprofen', 'help', 'babe', 'goe', 'day', 'sip', 'cappuccino', 'think', 'love', 'send', 'kiss', 'across', 'sea', 'ok', 'ps', 'u', 'ur', 'grown', 'right', 'chinatown', 'got', 'porridg', 'claypot', 'rice', 'yam', 'cake', 'fishhead', 'beehoon', 'either', 'eat', 'cheap', 'den', 'go', 'cafe', 'n', 'tok', 'go', 'nydc', 'somethin', 'know', 'peopl', 'hit', 'fuck', 'ye', 'puriti', 'friendship', 'two', 'smile', 'read', 'forward', 'messag', 'smile', 'see', 'name', 'gud', 'evng', 'anyth', 'specif', 'regard', 'jaklin', 'idk', 'fuck', 'oh', 'god', 'gon', 'na', 'googl', 'nearbi', 'cliff', 'yup', 'shd', 'haf', 'ard', '10', 'page', 'add', 'figur', 'ìï', 'got', 'mani', 'page', 'ooh', '4got', 'gon', 'na', 'start', 'belli', 'danc', 'moseley', 'wed', 'u', 'want', '2', 'join', 'cafe', 'thankyou', 'much', 'call', 'appreci', 'care', 'congrat', 'treat', 'mail', '2', 'mail', 'mother', 'mail', 'call', 'one', 'pick', 'e', 'phone', 'ask', 'alreadi', 'said', 'ok', 'hi', 'email', 'address', 'chang', 'happi', 'advanc', 'much', 'textin', 'bout', 'bring', 'got', 'movi', 'call', '4', 'wat', 'sure', 'stomach', 'haha', 'dinner', 'cousin', 'boy', 'late', '2', 'home', 'father', 'man', 'carlo', 'definit', 'come', 'mu', 'tonight', 'excus', 'soon', 'real', 'thing', 'princess', 'make', 'wet', 'raji', 'pl', 'favour', 'pl', 'convey', 'birthday', 'wish', 'nimya', 'pl', 'today', 'birthday', 'haha', 'leg', 'neck', 'kill', 'amigo', 'hope', 'end', 'night', 'burn', 'think', 'could', 'swing', 'like', 'hour', 'usual', 'bodi', 'take', 'care', 'buy', 'make', 'sure', 'doesnt', 'progress', 'pl', 'continu', 'talk', 'saturday', 'hmm', 'well', 'night', 'night', 'want', 'say', 'holi', 'shit', 'guy', 'kid', 'bud', 'gettin', 'bit', 'arti', 'collag', 'mo', 'well', 'tryin', '2', 'ne', 'way', 'got', 'roast', 'min', 'love', 'shall', 'enjoy', 'one', 'day', 'billion', 'class', 'right', 'goodmorn', 'today', 'late', '2hr', 'back', 'pain', 'ok', 'let', 'noe', 'later', 'n', 'ask', 'call', 'u', 'tmr', 'ok', 'walik', 'ard', 'u', 'wan', '2', 'buy', 'anyth', 'go', 'ur', 'hous', 'two', 'carton', 'u', 'pleas', 'shelv', 'nice', 'talk', 'pleas', 'dont', 'forget', 'pix', 'want', 'see', 'realli', 'quit', 'funni', 'lor', 'wat', 'u', 'shd', 'haf', 'run', 'shorter', 'distanc', 'wat', 'notic', 'like', 'look', 'shit', 'mirror', 'your', 'turn', 'right', 'freak', 'great', 'get', 'worri', 'know', 'wonder', 'care', 'person', 'like', 'best', 'life', 'know', 'u', 'r', 'wonder', 'god', 'love', 'prefer', 'free', 'day', 'tue', 'wed', 'fri', 'oso', 'ìï', 'ask', 'workin', 'lor', 'alrit', 'jod', 'how', 'revis', 'goin', 'keri', 'bin', 'doin', 'smidgin', 'n', 'e', 'way', 'u', 'wan', 'na', 'cum', 'colleg', 'xx', 'beliv', 'come', 'home', 'oh', 'take', 'test', 'exact', 'intent', 'haha', 'money', 'leh', 'later', 'got', 'go', 'tuition', 'haha', 'look', 'empti', 'slot', 'drive', 'lesson', 'hey', 'thk', 'juz', 'go', 'accordin', 'wat', 'discuss', 'yest', 'lor', 'except', 'kb', 'sun', 'co', 'nt', 'much', 'lesson', 'go', 'attend', 'kb', 'sat', 'k', 'wen', 'ur', 'free', 'come', 'home', 'also', 'tel', 'vikki', 'hav', 'sent', 'mail', 'also', 'better', 'come', 'even', 'il', 'free', 'today', 'aftr', '6pm', 'noth', 'get', 'msg', 'di', 'name', 'wit', 'differ', 'room', 'number', 'wan', 'na', 'make', 'sure', 'knock', 'right', 'door', 'listened2th', 'plaid', 'gd', 'new', 'air1', 'boughtåóbraindanceåóa', 'aphexåõ', 'abel', 'pl', 'tell', 'nelson', 'bb', 'longer', 'comin', 'money', 'expect', 'aint', 'come', 'give', 'someth', 'drink', 'take', 'vomit', 'temp', 'might', 'drop', 'unmit', 'howev', 'let', 'know', 'think', 'sent', 'text', 'home', 'phone', 'cant', 'display', 'text', 'still', 'want', 'send', 'number', 'everi', 'day', 'use', 'sleep', 'lt', 'gt', 'k', 'call', 'close', 'u', 'buy', 'newspap', 'alreadi', 'nope', 'wif', 'si', 'lor', 'aft', 'bath', 'dog', 'bath', 'look', 'like', 'go', '2', 'rain', 'soon', 'boo', 'way', 'mom', 'make', 'tortilla', 'soup', 'yummmm', 'manag', 'puzzel', 'find', 'way', 'includ', 'detail', 'like', 'spoil', 'get', 'threat', 'sale', 'execut', 'shifad', 'rais', 'complaint', 'offici', 'messag', 'hope', 'thing', 'went', 'well', 'remind', 'still', 'need', 'u', 'c', 'littl', 'thing', 'left', 'loung', 'den', 'wat', 'e', 'schedul', 'b', 'lk', 'sun', 'lol', 'enjoy', 'role', 'play', 'much', 'watch', 'tv', 'lov', 'line', 'truth', 'check', 'head', 'drop', 'stuff', 'got', 'lot', 'hair', 'dresser', 'fr', 'china', 'sad', 'stori', 'man', 'last', 'week', 'wife', 'wish', 'parent', 'forgot', 'n', 'kid', 'went', 'work', 'even', 'colleagu', 'wish', 'ill', 'call', 'even', 'ill', 'idea', 'show', 'wot', 'say', 'could', 'u', 'c', '4', 'dust', 'take', 'lt', 'gt', 'min', 'finish', 'liao', 'u', 'haha', 'think', 'u', 'know', 'watchin', 'lido', 'life', 'spend', 'someon', 'lifetim', 'may', 'meaningless', 'moment', 'spent', 'someon', 'realli', 'love', 'mean', 'life', 'haha', 'awesom', '4u', 'coupl', 'time', 'come', 'cold', 'dont', 'sad', 'dear', 'think', 'could', 'stop', 'like', 'hour', 'roommat', 'look', 'stock', 'trip', 'telli', 'brdget', 'jone', 'hello', 'r', 'u', 'im', 'bore', 'inev', 'thought', 'id', 'get', 'bore', 'tv', 'tell', 'someth', 'excit', 'happen', 'anyth', 'hmm', 'bad', 'news', 'hype', 'park', 'plaza', '700', 'studio', 'taken', 'left', '2', '900', 'sorri', 'call', 'later', 'meet', 'r', 'comin', 'back', 'dinner', 'hav', 'almost', 'reach', 'call', 'unabl', 'connect', 'u', 'wait', 'yesterday', 'reach', 'home', 'safe', 'n', 'sound', 'liao', 'velli', 'good', 'ye', 'pleas', 'hi', 'wkend', 'ok', 'journey', 'terribl', 'wk', 'good', 'huge', 'back', 'log', 'mark', 'two', 'letter', 'copi', 'co', 'one', 'messag', 'speak', 'soon', 'alex', 'know', 'guy', 'sell', 'mid', 'south', 'tampa', 'think', 'could', 'set', 'like', '8', 'dont', 'messag', 'offer', 'hey', 'babe', 'u', 'doin', 'wot', 'u', '2', '2nite', 'love', 'anni', 'x', 'remind', 'get', 'shall', 'v', 'romant', 'hello', 'damn', 'christma', 'thing', 'think', 'decid', 'keep', 'mp3', 'doesnt', 'work', 'hi', 'darlin', 'im', 'missin', 'u', 'hope', 'good', 'time', 'u', 'back', 'time', 'u', 'give', 'call', 'home', 'jess', 'xx', 'draw', 'va', 'dont', 'think', 'dont', 'pick', 'call', 'someth', 'import', 'tell', 'hrishi', 'nothin', 'come', 'mind', 'ìï', 'help', 'buy', 'hanger', 'lor', 'ur', 'laptop', 'heavi', 'lt', 'gt', 'guess', 'easi', 'enough', 'make', 'babi', 'yo', 'tho', 'tell', 'friend', 'come', 'round', 'til', 'like', 'lt', 'gt', 'ish', 'friendship', 'poem', 'dear', 'dear', 'u', 'r', 'near', 'hear', 'dont', 'get', 'fear', 'live', 'cheer', 'tear', 'u', 'r', 'alway', 'dear', 'gud', 'ni8', 'still', 'area', 'restaur', 'ill', 'tri', 'come', 'back', 'soon', 'aight', 'work', 'thank', '2', 'sleep', 'bag', '1', 'blanket', 'paper', 'phone', 'detail', 'anyth', 'els', 'guy', 'also', 'chat', 'awesom', 'make', 'regular', 'unless', 'see', 'person', 'signific', 'dont', 'worri', 'caus', 'old', 'live', 'high', 'waqt', 'se', 'pehl', 'naseeb', 'se', 'zyada', 'kisi', 'ko', 'kuch', 'nahi', 'milta', 'zindgi', 'wo', 'nahi', 'jo', 'hum', 'socht', 'hai', 'zindgi', 'wo', 'hai', 'jo', 'ham', 'jeetey', 'hai', 'way', 'offic', 'da', 'place', 'want', 'da', 'pain', 'could', 'come', 'wors', 'time', 'stalk', 'u', 'sorri', 'dude', 'dont', 'know', 'forgot', 'even', 'dan', 'remind', 'sorri', 'hope', 'guy', 'fun', 'ok', 'lor', 'app', 'class', 'varaya', 'elaya', 'day', 'ask', 'anand', 'number', 'surf', 'onlin', 'store', 'offer', 'want', 'buy', 'thing', 'long', 'beach', 'lor', 'expect', 'u', 'dinner', 'home', 'way', 'fine', 'thank', 'happen', 'tell', 'truth', 'like', 'italian', 'food', 'weird', 'know', 'one', 'point', 'must', 'nearli', 'dead', 'well', 'jez', 'iscom', 'todo', 'workand', 'whilltak', 'forev', 'tell', 'friend', 'plan', 'valentin', 'day', 'lt', 'url', 'gt', 'alright', 'see', 'bit', 'cheer', 'messag', 'zogtoriu', 'iåõv', 'stare', 'phone', 'age', 'decid', 'whether', 'text', 'take', 'care', 'financi', 'help', 'tell', 'dear', 'happen', 'talk', 'like', 'alian', 'hi', 'yiju', 'meet', 'u', '11', 'tmr', 'posibl', 'dnt', 'live', 'lt', 'gt', 'centuri', 'cm', 'frwd', 'n', 'thnk', 'differ', 'dint', 'slept', 'afternoon', 'seem', 'unnecessarili', 'affection', 'yar', 'els', 'thk', 'sort', 'funni', 'thing', 'that', 'cool', 'day', 'r', 'go', 'lt', 'gt', 'bu', 'hello', 'love', 'went', 'day', 'alright', 'think', 'sweet', 'send', 'jolt', 'heart', 'remind', 'love', 'hear', 'scream', 'across', 'sea', 'world', 'hear', 'ahmad', 'al', 'hallaq', 'love', 'own', 'possess', 'passion', 'kiss', 'join', 'today', 'okay', 'well', 'thank', 'clarif', 'talk', 'other', 'probabl', 'come', 'earli', 'tomorrow', 'money', 'issu', 'weigh', 'thank', 'breath', 'easier', 'make', 'sure', 'dont', 'regret', 'thank', 'hi', 'sorri', 'miss', 'call', 'pl', 'call', 'back', 'ok', 'need', 'tell', 'anyth', 'go', 'sleep', 'good', 'night', 'ok', 'tri', 'week', 'end', 'cours', 'coimbator', 'v', 'nice', '2', 'sheffield', 'tom', '2', 'air', 'opinion', 'categori', '2', 'b', 'use', '2', 'measur', 'ethnic', 'next', 'censu', 'busi', 'transcrib', 'r', 'home', 'come', 'within', '5', 'min', 'boy', 'love', 'gal', 'propsd', 'bt', 'didnt', 'mind', 'gv', 'lv', 'lttr', 'bt', 'frnd', 'threw', 'thm', 'boy', 'decid', '2', 'aproach', 'gal', 'dt', 'time', 'truck', 'speed', 'toward', 'gal', 'wn', '2', 'hit', 'girl', 'boy', 'ran', 'like', 'hell', 'n', 'save', 'ask', 'cn', 'u', 'run', 'fast', 'boy', 'repli', 'secret', 'n', 'instantli', 'girl', 'shout', 'n', 'thi', 'live', 'happili', '2gthr', 'drink', 'boost', 'evrydi', 'moral', 'stori', 'hv', 'free', 'msg', 'gud', 'ni8', 'day', 'say', 'cut', 'ur', 'hair', 'paragon', 'call', 'hair', 'sens', 'noe', 'much', 'hair', 'cut', 'hmm', 'mani', 'unfortun', 'pic', 'obvious', 'arent', 'hot', 'cake', 'kinda', 'fun', 'tho', 'watch', 'tv', 'lor', 'funni', 'bluff', '4', 'wat', 'izzit', 'thk', 'imposs', 'us', 'dunno', 'lei', 'neva', 'say', 'thanx', '4', '2day', 'u', 'r', 'goodmat', 'think', 'ur', 'rite', 'sari', 'asusu', '1', 'u', 'cheer', 'love', 'u', 'franyxxxxx', 'way', 'home', 'went', 'chang', 'batt', '4', 'watch', 'go', 'shop', 'bit', 'lor', 'hi', 'mobil', 'lt', 'gt', 'ad', 'contact', 'list', 'great', 'place', 'send', 'free', 'sm', 'peopl', 'visit', 'good', 'even', 'sir', 'hope', 'nice', 'day', 'want', 'bring', 'notic', 'late', 'pay', 'rent', 'past', 'month', 'pay', 'lt', 'gt', 'charg', 'felt', 'would', 'inconsider', 'nag', 'someth', 'give', 'great', 'cost', 'didnt', 'speak', 'howev', 'recess', 'wont', 'abl', 'pay', 'charg', 'month', 'henc', 'askin', 'well', 'ahead', 'month', 'end', 'pleas', 'help', 'thank', 'everyth', 'let', 'want', 'hous', '8am', 'best', 'line', 'said', 'love', 'wait', 'till', 'day', 'forget', 'u', 'day', 'u', 'realiz', 'u', 'forget', 'gn', 'reach', 'ten', 'morn', 'pussi', 'perfect', 'messag', 'responc', 'happend', 'also', 'piec', 'wiskey', 'brandi', 'rum', 'gin', 'beer', 'vodka', 'scotch', 'shampain', 'wine', 'yarasu', 'dhina', 'vaazhthukk', 'boo', 'thing', 'back', 'home', 'littl', 'bore', 'alreadi', 'first', 'gain', 'lt', 'gt', 'kg', 'sinc', 'took', 'second', 'done', 'blood', 'sugar', 'test', 'ok', 'blood', 'pressur', 'within', 'normal', 'limit', 'worri', 'pick', 'ur', 'fone', 'u', 'dumb', 'thank', 'da', 'thangam', 'feel', 'happi', 'dear', 'also', 'miss', 'da', 'okey', 'doke', 'home', 'dress', 'co', 'lay', 'around', 'ill', 'speak', 'later', 'bout', 'time', 'stuff', 'run', 'away', 'frm', 'u', 'walk', 'slowli', 'amp', 'kill', 'u', 'care', 'enough', 'stop', 'babe', 'back', 'come', 'back', 'well', 'told', 'other', 'marri', 'neshanth', 'tel', 'r', 'u', 'yo', 'yo', 'yo', 'byatch', 'whassup', 'oh', 'kay', 'sat', 'right', 'hi', 'roger', 'cl', 'oh', 'oh', 'wast', 'den', 'muz', 'chiong', 'sat', 'n', 'sun', 'liao', 'jesu', 'christ', 'bitch', 'tri', 'give', 'drug', 'answer', 'fuck', 'phone', 'pleas', 'give', '2', 'pick', 'tuesday', 'even', '8', 'ok', 'meet', 'darren', 'one', 'best', 'dialogu', 'cute', 'reltnship', 'die', 'solv', 'case', 'man', 'found', 'murder', 'lt', 'decim', 'gt', 'lt', 'gt', 'afternoon', '1', 'wife', 'call', 'polic', '2', 'polic', 'question', 'everyon', '3', 'wife', 'sir', 'sleep', 'murder', 'took', 'place', 'cook', 'pick', 'veget', 'went', '2', 'post', 'offic', 'went', '2', 'play', 'went', '2', 'marriag', 'polic', 'arrest', 'murder', 'immedi', 'repli', 'reason', 'u', 'r', 'brilliant', 'dear', 'reach', 'aww', 'first', 'time', 'u', 'said', 'u', 'miss', 'without', 'ask', 'miss', 'u', 'first', 'love', 'ok', 'thanx', 'gd', 'nite', '2', 'come', 'right', 'ahmad', 'lol', 'pleas', 'actual', 'send', 'pic', 'right', 'wan', 'na', 'see', 'pose', 'comb', 'hair', 'dryer', 'someth', 'fp', 'huh', 'mean', 'comput', 'scienc', 'like', 'dat', 'one', 'push', 'n', 'could', 'read', 'love', 'answer', 'oh', 'lk', 'tt', 'den', 'take', 'e', 'one', 'tt', 'end', 'cine', 'lor', 'dun', 'wan', 'yogasana', 'oso', 'madam', 'regret', 'receiv', 'refer', 'check', 'dlf', 'rakhesh', 'kerala', 'oic', 'better', 'quickli', 'go', 'bath', 'n', 'settl', 'err', 'cud', 'go', '8pm', 'got', 'way', 'contact', 'bloo', 'bloo', 'bloo', 'miss', 'first', 'bowl', 'lmao', 'fun', 'oh', 'k', 'k', 'big', 'good', 'hey', 'almost', 'forgot', 'happi', 'babe', 'love', 'ya', 'think', 'move', 'lt', 'gt', 'week', 'find', 'sent', 'offlin', 'messag', 'know', 'anjola', 'txting', 'drive', 'good', 'let', 'thank', 'god', 'pleas', 'complet', 'drug', 'lot', 'water', 'beauti', 'day', 'realli', 'dun', 'bluff', 'leh', 'u', 'sleep', 'earli', 'nite', 'indian', 'r', 'poor', 'india', 'poor', 'countri', 'say', 'one', 'swiss', 'bank', 'director', 'say', 'lt', 'gt', 'lac', 'indian', 'money', 'deposit', 'swiss', 'bank', 'use', 'budget', 'lt', 'gt', 'yr', 'give', 'lt', 'gt', 'crore', 'job', 'indian', 'villag', 'delhi', '4', 'lane', 'road', 'forev', 'free', 'power', 'supli', 'lt', 'gt', 'social', 'project', 'everi', 'citizen', 'get', 'monthli', 'lt', 'gt', 'lt', 'gt', 'yr', 'need', 'world', 'bank', 'amp', 'imf', 'loan', 'think', 'money', 'block', 'rich', 'politician', 'full', 'right', 'corrupt', 'politician', 'itna', 'forward', 'karo', 'ki', 'pura', 'india', 'uncl', 'boy', 'need', 'movi', 'oh', 'guid', 'plu', 'know', 'torrent', 'particularli', 'legal', 'system', 'slow', 'gr8', 'day', 'plu', 'start', 'co', 'dont', 'meet', 'onlin', 'honey', 'moon', 'oh', 'ya', 'ya', 'rememb', 'da', 'btw', 'regard', 'realli', 'tri', 'see', 'anyon', 'els', '4th', 'guy', 'commit', 'random', 'dude', 'busi', 'juz', 'dun', 'wan', '2', 'go', 'earli', 'hee', 'rightio', 'well', 'arent', 'bright', 'earli', 'morn', 'great', 'church', 'holla', 'get', 'back', 'brum', 'thank', 'put', 'us', 'keep', 'us', 'happi', 'see', 'soon', 'donno', 'scorabl', 'lt', 'gt', 'great', 'loxahatche', 'xma', 'tree', 'burn', 'updat', 'total', 'see', 'star', 'ye', 'dont', 'care', 'need', 'bad', 'princess', 'guy', 'kadeem', 'sell', 'sinc', 'break', 'know', 'one', 'guy', 'paranoid', 'fuck', 'like', 'sell', 'without', 'ca', 'til', 'late', 'tonight', 'tmr', 'brin', 'lar', 'aiya', 'later', 'come', 'n', 'c', 'lar', 'mayb', 'neva', 'set', 'properli', 'got', 'da', 'help', 'sheet', 'wif', 'u', 'knw', 'di', 'lt', 'gt', 'dun', 'believ', 'wat', 'k', 'give', 'back', 'thank', 'know', 'complain', 'num', 'bettr', 'directli', 'go', 'bsnl', 'offc', 'nd', 'appli', 'okay', 'seen', 'pick', 'friday', 'much', 'pay', 'suganya', 'left', 'dessert', 'u', 'wan', '2', 'go', 'suntec', 'look', '4', 'u', 'abeg', 'make', 'profit', 'start', 'use', 'get', 'sponsor', 'next', 'event', 'onum', 'ela', 'normal', 'sister', 'kid', 'cool', 'text', 'way', 'nope', 'meanwhil', 'talk', 'say', 'make', 'greet', 'cant', 'talk', 'call', 'keep', 'call', 'anyth', 'lar', 'rose', 'need', 'water', 'season', 'need', 'chang', 'poet', 'need', 'imagin', 'phone', 'need', 'ur', 'sm', 'need', 'ur', 'love', 'frndship', 'forev', 'good', 'afternoon', 'babe', 'goe', 'day', 'job', 'prospect', 'yet', 'miss', 'love', 'sigh', 'pick', 'drop', 'problem', 'think', 'wast', 'rr', 'world', 'famamu', 'come', 'friday', 'leav', 'pongal', 'get', 'news', 'work', 'place', 'lol', 'well', 'without', 'could', 'big', 'sale', 'togeth', 'way', 'eat', 'old', 'airport', 'road', '630', 'oredi', 'got', 'lot', 'pple', 'sri', 'ca', 'talk', 'phone', 'parent', 'ok', 'lor', 'wat', 'time', 'finish', 'princess', 'like', 'make', 'love', 'lt', 'gt', 'time', 'per', 'night', 'hope', 'that', 'problem', 'mm', 'way', 'railway', 'done', 'sorri', 'hope', 'next', 'space', 'give', 'everyth', 'want', 'rememb', 'furnitur', 'around', 'move', 'lock', 'lock', 'leav', 'key', 'jenn', 'yet', 'like', 'keep', 'touch', 'easiest', 'way', 'barcelona', 'way', 'ru', 'hous', 'even', 'da', 'urgent', 'pansi', 'live', 'jungl', 'two', 'year', 'drive', 'worri', 'mm', 'kanji', 'dont', 'eat', 'anyth', 'heavi', 'ok', 'promis', 'get', 'soon', 'text', 'morn', 'let', 'know', 'made', 'ok', 'lol', 'differ', 'go', 'tri', 'find', 'everi', 'real', 'life', 'photo', 'ever', 'took', 'dont', 'thnk', 'wrong', 'call', 'us', 'k', 'ill', 'need', 'sr', 'model', 'pl', 'send', 'mail', 'id', 'pa', 'aiyah', 'e', 'rain', 'like', 'quit', 'big', 'leh', 'drizzl', 'least', 'run', 'home', '2', 'doc', 'appoint', 'next', 'week', 'tire', 'shove', 'stuff', 'ugh', 'could', 'normal', 'bodi', 'dun', 'b', 'sad', 'dun', 'thk', 'abt', 'alreadi', 'concentr', 'ur', 'paper', 'k', 'greet', 'consid', 'excus', 'drama', 'enough', 'famili', 'struggl', 'hot', 'sun', 'strang', 'reason', 'ego', 'go', 'invit', 'actual', 'necess', 'seriou', 'reppurcuss', 'releas', 'anoth', 'italian', 'one', 'today', 'cosign', 'option', 'mu', 'tri', 'figur', 'much', 'money', 'everyon', 'ga', 'alcohol', 'jay', 'tri', 'figur', 'weed', 'budget', 'hcl', 'chennai', 'requir', 'fresher', 'voic', 'english', 'upto', 'lt', 'gt', 'lt', 'gt', 'telephon', 'interview', 'dai', 'da', 'send', 'resum', 'id', 'know', 'lt', 'gt', 'around', '5', 'yup', 'finish', 'c', 'rememb', 'ask', 'alex', 'pizza', 'da', 'today', 'also', 'forgot', 'ola', 'would', 'get', 'back', 'mayb', 'today', 'told', 'direct', 'link', 'us', 'get', 'car', 'bid', 'onlin', 'arrang', 'ship', 'get', 'cut', 'u', 'partnership', 'u', 'invest', 'money', 'ship', 'take', 'care', 'rest', 'u', 'wud', 'b', 'self', 'reliant', 'soon', 'dnt', 'worri', 'fwiw', 'reason', 'around', 'time', 'smoke', 'ga', 'afford', 'around', 'someon', 'tell', 'appar', 'happen', 'somebodi', 'want', 'light', 'hello', 'boytoy', 'made', 'home', 'constant', 'thought', 'love', 'hope', 'nice', 'visit', 'ca', 'wait', 'till', 'come', 'home', 'kiss', 'congrat', 'kano', 'whr', 'treat', 'maga', 'u', 'talk', 'yup', 'u', 'wake', 'alreadi', 'wat', 'u', 'u', 'pick', 'us', 'later', 'rite', 'take', 'sq825', 'reach', 'ard', '7', 'smth', '8', 'like', 'dat', 'u', 'check', 'e', 'arriv', 'time', 'c', 'ya', 'soon', 'yunni', 'walk', 'citylink', 'faster', 'come', 'hungri', 'er', 'yep', 'sure', 'prop', 'hiya', 'u', 'pay', 'money', 'account', 'thank', 'got', 'pleasant', 'surpris', 'check', 'balanc', 'c', 'get', 'statement', '4', 'acc', 'ok', 'ill', 'send', 'lt', 'decim', 'gt', 'ok', 'bognor', 'splendid', 'time', 'year', 'offic', 'da', 'ask', 'abt', 'e', 'movi', 'u', 'wan', 'ktv', 'oso', 'misplac', 'number', 'send', 'text', 'old', 'number', 'wonder', 'heard', 'year', 'best', 'mcat', 'got', 'number', 'atlanta', 'friend', 'dunno', 'lei', 'might', 'b', 'eatin', 'wif', 'fren', 'wan', 'eat', 'wait', '4', 'lar', 'u', 'noe', '2', 'send', 'file', '2', 'comput', 'mmmmm', 'love', 'wake', 'word', 'morn', 'miss', 'love', 'hope', 'day', 'goe', 'well', 'happi', 'wait', 'us', 'togeth', 'jay', 'say', 'put', 'lt', 'gt', 'come', 'sec', 'somebodi', 'want', 'see', 'sun', 'anti', 'sleep', 'medicin', 'happen', 'gotten', 'job', 'begun', 'registr', 'perman', 'resid', 'yup', 'ok', 'glad', 'went', 'well', 'come', '11', 'plenti', 'time', 'clair', 'goe', 'work', 'ok', 'enjoy', 'r', 'u', 'home', 'pl', 'pl', 'send', 'mail', 'know', 'rel', 'come', 'deliv', 'know', 'cost', 'risk', 'benefit', 'anyth', 'els', 'thank', 'like', 'haf', 'combin', 'n', 'c', 'lor', 'monthli', 'amount', 'terribl', 'pay', 'anyth', 'till', '6month', 'finish', 'school', 'hmmm', 'mani', 'player', 'select', 'said', 'gon', 'na', 'snow', 'start', 'around', '8', '9', 'pm', 'tonit', 'predict', 'inch', 'accumul', 'dont', 'send', 'plu', 'mode', 'aiyo', 'pleas', 'got', 'time', 'meh', 'packag', 'program', 'well', 'sister', 'belong', '2', 'famili', 'hope', 'tomorrow', 'pray', '4', 'fate', '4', 'shoranur', 'train', 'incid', 'let', 'hold', 'hand', 'togeth', 'amp', 'fuell', 'love', 'amp', 'concern', 'prior', '2', 'grief', 'amp', 'pain', 'pl', 'join', 'di', 'chain', 'amp', 'pass', 'stop', 'violenc', 'women', 'guy', 'ask', 'get', 'slipper', 'gone', 'last', 'year', 'compani', 'terrif', 'food', 'realli', 'nice', 'honestli', 'made', 'love', 'cup', 'tea', 'promptli', 'drop', 'key', 'burnt', 'finger', 'get', 'yup', 'studi', 'surf', 'lor', 'e', 'lazi', 'mode', 'today', 'pleas', 'sen', 'kind', 'advic', 'pleas', 'come', 'tri', 'done', 'c', 'oh', 'fine', 'tonight', 'ìï', 'give', 'time', 'walk', 'reach', 'ard', '20', 'min', 'ok', 'fuck', 'babe', 'happen', 'come', 'never', 'came', 'back', 'friend', 'want', 'drive', 'em', 'someplac', 'probabl', 'take', 'also', 'thk', 'fast', 'xy', 'suggest', 'one', 'u', 'dun', 'wan', 'go', '2', 'rain', 'leh', 'got', 'gd', 'still', 'get', 'good', 'mayb', 'pressi', 'yeah', 'leav', 'mayb', '7ish', 'told', 'dr', 'appt', 'next', 'week', 'think', 'gon', 'na', 'die', 'told', 'check', 'noth', 'worri', 'listen', 'room', 'need', 'dont', 'want', 'hear', 'anyth', 'hey', 'leav', 'friday', 'wait', 'ask', 'superior', 'tell', 'ultim', 'tor', 'motiv', 'tui', 'achiev', 'korli', '5', '2', 'work', 'time', 'worri', 'finish', 'march', 'ish', 'hous', 'water', 'dock', 'boat', 'roll', 'newscast', 'dabbl', 'jazz', 'flute', 'behind', 'wheel', 'that', 'go', 'ruin', 'thesi', 'sch', 'neva', 'mind', 'u', 'eat', '1st', 'lor', 'hey', 'what', 'u', 'sleep', 'morn', 'erm', 'thought', 'contract', 'ran', 'the4th', 'octob', 'dunno', 'let', 'go', 'learn', 'pilat', 'yup', 'elabor', 'safeti', 'aspect', 'issu', 'goodmorn', 'today', 'late', '1hr', 'hi', 'happi', 'birthday', 'hi', 'hi', 'hi', 'hi', 'hi', 'hi', 'hi', 'outsid', 'offic', 'take', 'respond', 'imma', 'assum', 'still', 'asleep', 'imma', 'start', 'call', 'n', 'shit', 'aight', 'see', 'bit', 'superior', 'tell', 'friday', 'leav', 'depart', 'except', 'leav', 'way', 'call', 'wahe', 'fathima', 'hr', 'conform', 'lol', 'take', 'member', 'said', 'aunt', 'flow', 'visit', '6', 'month', 'caus', 'develop', 'ovarian', 'cyst', 'bc', 'way', 'shrink', 'still', 'work', 'go', 'small', 'hous', 'friend', 'got', 'say', 'up', 'order', 'gram', 'got', 'lt', 'gt', 'get', 'tmr', 'timin', 'still', 'da', 'wat', 'co', 'got', 'lesson', '6', 'thing', 'ape', 'u', 'fight', 'death', 'keep', 'someth', 'minut', 'u', 'let', 'go', 'that', 'gon', 'na', 'abl', 'late', 'notic', 'home', 'week', 'anyway', 'plan', 'got', 'fujitsu', 'ibm', 'hp', 'toshiba', 'got', 'lot', 'model', 'say', 'oki', 'thanx', 'gosh', 'pain', 'spose', 'better', 'come', 'usual', 'iam', 'fine', 'happi', 'amp', 'well', 'oki', 'gon', 'na', 'get', 'rimac', 'access', 'arestaur', 'eat', 'squid', 'wan', 'na', 'dosometh', 'late', 'call', 'time', 'job', 'today', 'ok', 'umma', 'ask', 'speed', 'wen', 'u', 'finish', 'fanci', 'meetin', 'wiv', 'u', 'tonit', 'need', 'break', 'dabook', '4', 'hr', 'last', 'today', 'wrk', 'r', 'u', 'sam', 'p', 'eachoth', 'meet', 'go', '2', 'hous', 'yeah', 'lol', 'luckili', 'star', 'role', 'like', 'hello', 'madam', 'awesom', 'text', 'restock', 'ye', 'innoc', 'fun', 'thank', 'send', 'mental', 'abil', 'question', 'sir', 'hope', 'day', 'go', 'smoothli', 'realli', 'hope', 'wont', 'bother', 'bill', 'ca', 'settl', 'month', 'extra', 'cash', 'know', 'challeng', 'time', 'also', 'let', 'know', '2marrow', 'wed', 'lt', 'gt', '2', 'aha', 'went', 'ur', 'hon', 'lab', 'one', 'hey', 'pple', '700', '900', '5', 'night', 'excel', 'locat', 'wif', 'breakfast', 'hamper', 'come', 'lol', 'nah', 'bad', 'thank', 'good', 'b', 'home', 'quit', 'realiti', 'check', 'how', 'ur', 'day', 'u', 'anyth', 'websit', 'ok', 'lor', 'come', 'home', '4', 'dinner', 'da', 'al', 'r', 'lt', 'gt', 'unni', 'thank', 'dear', 'recharg', 'rakhesh', 'know', 'lack', 'particular', 'dramastorm', 'detail', 'part', 'worri', 'haha', 'cant', 'tmr', 'forfeit', 'haha', 'hey', 'glad', 'u', 'r', 'better', 'hear', 'u', 'treat', 'urself', 'digi', 'cam', 'good', 'r', '9pm', 'fab', 'new', 'year', 'c', 'u', 'coupla', 'wk', 'way', 'go', 'back', 'cal', 'sir', 'meet', 'love', 'hear', 'v', 'see', 'sundayish', 'sorri', 'da', 'thangam', 'sorri', 'held', 'prasad', 'tiwari', 'bang', 'kochi', 'thank', 'god', 'bed', 'cancer', 'mom', 'make', 'big', 'deal', 'regular', 'checkup', 'aka', 'pap', 'smear', 'gobi', 'art', 'colleg', 'want', 'talk', 'pandi', 'join', '4w', 'technolog', 'got', 'job', 'tri', 'get', 'lost', 'fact', 'tee', 'hee', 'friend', 'use', 'call', 'em', 'olowoyey', 'great', 'time', 'argentina', 'sad', 'secretari', 'everyth', 'bless', 'taxt', 'massag', 'argh', 'ok', 'lool', 'hi', 'pleas', 'get', 'lt', 'gt', 'dollar', 'loan', 'pay', 'back', 'mid', 'februari', 'pl', 'might', 'want', 'pull', 'case', 'plan', 'spend', 'much', 'confid', 'derek', 'taylor', 'money', 'manag', 'like', 'shake', 'booti', 'danc', 'floor', 'text', 'get', 'call', 'phone', 'problem', 'need', 'drug', 'anymor', 'sorri', 'da', 'thought', 'call', 'lot', 'time', 'lil', 'call', 'noon', 'sarcasm', 'scarcasim', 'great', 'run', 'ttyl', 'feel', 'like', 'tri', 'kadeem', 'v', 'dai', 'lt', 'gt', 'naal', 'eruku', 'yet', 'chikku', 'wat', 'abt', 'u', 'want', 'final', 'lunch', 'today', 'know', 'dad', 'back', 'remain', 'bro', 'amongst', 'bro', 'r', 'u', 'meet', 'da', 'ge', 'nite', 'tmr', 'nice', 'day', 'impress', 'sensibl', 'went', 'home', 'earli', 'feel', 'fine', 'bore', 'ca', 'rememb', 'de', 'look', 'good', 'ye', 'repli', 'mail', 'go', 'manag', 'offic', 'later', 'plu', 'bank', 'later', 'wednesday', 'cool', 'come', 'like', 'lt', 'gt', 'ish', 'super', 'msg', 'da', 'nalla', 'time', 'good', 'afternoon', 'boytoy', 'feel', 'today', 'better', 'hope', 'good', 'boy', 'obedi', 'slave', 'pleas', 'queen', '6', 'good', 'combin', 'sick', 'needi', 'want', 'pout', 'stomp', 'feet', 'pout', 'stomp', 'feet', 'want', 'slave', 'want', 'train', 'back', 'northampton', 'afraid', 'abj', 'serv', 'stay', 'dad', 'alon', 'playng', '9', 'door', 'game', 'gt', 'race', 'phone', 'lol', 'da', 'bu', 'go', 'home', 'got', 'call', 'landlin', 'number', 'ask', 'come', 'anna', 'nagar', 'go', 'afternoon', 'okay', 'chase', 'dream', 'good', 'next', 'yupz', 'oredi', 'book', 'slot', '4', 'weekend', 'liao', 'r', 'mani', 'model', 'soni', 'ericson', 'also', 'der', 'lt', 'gt', 'luk', 'good', 'bt', 'forgot', 'modl', 'ye', 'know', 'cheesi', 'song', 'frosti', 'snowman', 'ya', 'ok', 'vikki', 'vl', 'c', 'witin', 'lt', 'gt', 'min', 'il', 'repli', 'u', 'hey', 'tmr', 'meet', 'bugi', '930', 'nice', 'new', 'shirt', 'thing', 'wear', 'nudist', 'theme', 'mu', 'hey', 'sexi', 'bun', 'day', 'word', 'morn', 'ym', 'think', 'whenev', 'see', 'still', 'hook', 'nope', 'go', 'home', 'go', 'pump', 'petrol', 'lor', 'like', 'go', '2', 'rain', 'soon', 'use', 'foreign', 'stamp', 'whatev', 'send', 'oh', 'babi', 'hous', 'come', 'dont', 'new', 'pictur', 'facebook', 'feb', 'lt', 'gt', 'love', 'day', 'send', 'di', 'ur', 'valu', 'evn', '3', 'come', 'back', 'u', 'gt', 'marri', 'person', 'u', 'luv', 'u', 'ignor', 'di', 'u', 'lose', 'ur', 'luv', '4', 'evr', 'hiya', 'sorri', 'hav', 'signal', 'seen', 'heard', 'neither', 'unusu', 'put', 'case', 'get', 'sort', 'hug', 'snog', 'omw', 'back', 'tampa', 'west', 'palm', 'hear', 'happen', 'yup', 'alreadi', 'thanx', '4', 'print', 'n', 'hand', 'mean', 'come', 'chase', 'state', 'watch', 'mani', 'movi', 'want', 'took', 'tablet', 'reaction', 'morn', 'nah', 'perpetu', 'dd', 'sorri', 'de', 'went', 'shop', 'hey', 'still', 'want', 'go', 'yogasana', 'coz', 'end', 'cine', 'go', 'bath', 'hav', 'steam', 'bath', 'nope', 'drivin', 'neva', 'develop', 'da', 'photo', 'lei', 'think', 'go', 'reg', 'pract', 'lesson', 'flung', 'advanc', 'haha', 'wat', 'time', 'u', 'go', 'cool', 'lt', 'gt', 'inch', 'long', 'hope', 'like', 'big', 'murder', 'coz', 'man', 'murder', 'lt', 'gt', 'th', 'januari', 'public', 'holiday', 'close', 'includ', 'post', 'offic', 'understand', 'oki', 'thanx', 'go', 'n', 'buy', 'juz', 'buy', 'get', 'lar', 'work', 'technic', 'support', 'voic', 'process', 'justbeen', 'overa', 'week', 'sinc', 'broke', 'alreadi', 'brain', 'go', 'mush', 'tund', 'wish', 'great', 'day', 'abiola', 'nope', 'c', 'medic', 'mission', 'nigeria', 'movi', 'laptop', 'havent', 'lei', 'next', 'mon', 'mm', 'feel', 'sleepi', 'today', 'shall', 'get', 'dear', 'dare', 'stupid', 'wont', 'tell', 'anyth', 'hear', 'wont', 'talk', 'noe', 'ben', 'go', 'mag', 'meet', 'avo', 'point', 'meant', 'middl', 'left', 'right', 'realli', 'crash', 'cuddl', 'sofa', 'hi', 'chachi', 'tri', 'call', 'u', 'unabl', 'reach', 'u', 'pl', 'give', 'miss', 'cal', 'u', 'c', 'tiz', 'msg', 'kanagu', 'sent', 'price', 'mean', 'lt', 'gt', 'g', 'noth', 'work', 'ring', 'u', 'thing', 'whole', 'hous', 'scream', 'brat', 'pull', 'hair', 'love', 'u', 'famili', 'respond', 'anyth', 'room', 'went', 'home', 'diwali', 'one', 'call', 'come', 'make', 'feel', 'like', 'die', 'tick', 'tick', 'tick', 'babe', 'r', 'go', '4', 'today', 'meet', 'k', 'da', 'mani', 'page', 'want', 'ya', 'roast', 'send', 'number', 'give', 'repli', 'tomorrow', 'morn', 'said', 'like', 'ok', 'said', 'problem', 'let', 'know', 'ok', 'tell', 'half', 'hr', 'b4', 'u', 'come', 'need', '2', 'prepar', 'play', 'w', 'comput', 'aiyah', 'tok', '2', 'u', 'lor', 'sat', 'right', 'okay', 'thank', 'derp', 'wors', 'dude', 'alway', 'want', 'parti', 'dude', 'file', 'complaint', 'three', 'drug', 'abus', 'live', 'ok', 'chines', 'food', 'way', 'get', 'fat', 'pay', 'lipo', 'r', 'outsid', 'alreadi', 'good', 'trip', 'watch', 'rememb', 'get', 'back', 'must', 'decid', 'easter', 'yo', 'watch', 'movi', 'netflix', 'time', 'prob', '3', 'meh', 'thgt', 'clash', 'realli', 'ah', 'dun', 'mind', 'dun', 'seen', 'lost', 'weight', 'gee', 'arr', 'birthday', 'today', 'wish', 'get', 'oscar', 'open', 'rebtel', 'firefox', 'load', 'put', 'plu', 'sign', 'user', 'name', 'place', 'show', 'two', 'number', 'lower', 'number', 'number', 'pick', 'number', 'pin', 'display', 'okay', 'pick', 'variou', 'point', 'wow', 'v', 'v', 'impress', 'fun', 'shop', 'way', 'ur', 'home', 'problem', 'talk', 'later', 'ur', 'si', 'still', 'custom', 'place', 'dude', 'u', 'knw', 'also', 'telugu', 'tht', 'gud', 'k', 'gud', 'nyt', 'confirm', 'eat', 'esplanad', 'send', 'id', 'password', 'kind', 'took', 'garag', 'centr', 'part', 'exhaust', 'need', 'replac', 'part', 'order', 'n', 'take', 'fix', 'tomo', 'morn', 'well', 'might', 'come', 'long', 'quit', 'get', 'like', '5', 'minut', 'day', 'like', 'call', 'mittelschmertz', 'googl', 'dont', 'paracetamol', 'dont', 'worri', 'go', 'well', 'right', 'gon', 'na', 'get', 'check', 'today', 'steam', 'text', 'want', 'come', 'get', 'arriv', 'see', 'coupl', 'day', 'lt', '3', 'k', 'wat', 'tht', 'incid', 'yeah', 'get', 'unlimit', 'cthen', 'thk', 'shd', 'b', 'enuff', 'still', 'got', 'conclus', 'n', 'content', 'pg', 'n', 'refer', 'b', 'da', 'content', 'pg', 'n', 'cover', 'pg', 'forgot', 'take', '3', 'year', 'shower', 'sorri', 'phone', 'dead', 'yet', 'ìï', 'got', 'wat', 'buy', 'tell', 'us', 'need', 'come', 'big', 'god', 'bring', 'success', 'r', 'stayin', 'extra', 'week', 'back', 'next', 'rugbi', 'weekend', 'hi', 'c', 'u', 'soon', 'ham', 'campu', 'librari', 'affidavit', 'say', 'lt', 'gt', 'e', 'twigg', 'st', 'divis', 'g', 'courtroom', 'lt', 'gt', 'lt', 'time', 'gt', 'doubl', 'check', 'text', 'tomorrow', 'creep', 'get', 'ten', 'billion', 'call', 'text', 'help', 'god', 'told', 'return', 'order', 'murder', 'coz', 'man', 'murder', 'lt', 'gt', 'th', 'januari', 'public', 'holiday', 'close', 'includ', 'post', 'offic', 'depend', 'u', 'go', 'lor', 'smile', 'right', 'go', 'world', 'wonder', 'smile', 'think', 'crazi', 'keep', 'away', 'grin', 'lil', 'fever', 'fine', 'think', 'still', 'car', 'ye', 'princess', 'want', 'catch', 'big', 'strong', 'hand', 'oh', 'yeah', 'forgot', 'u', 'take', '2', 'shop', 'mm', 'ask', 'call', 'radio', 'thinkin', 'someon', 'good', 'drug', 'enjoy', 'shower', 'possess', 'pour', 'u', 'ur', 'love', 'one', 'bcoz', 'world', 'lie', 'golden', 'gift', 'love', 'truli', 'alright', 'sure', 'let', 'know', 'leav', 'last', 'much', '2', 'hour', 'might', 'get', 'lucki', 'geniu', 'brother', 'pl', 'send', 'number', 'skype', 'thk', 'em', 'find', 'wtc', 'far', 'weiyi', 'goin', 'e', 'rest', 'dunno', 'yet', 'r', 'ur', 'goin', '4', 'dinner', 'den', 'might', 'b', 'abl', 'join', 'forget', 'own', 'privat', 'properti', 'good', 'boy', 'alway', 'passion', 'kiss', 'oh', 'god', 'taken', 'teeth', 'pain', 'u', 'ask', 'darren', 'go', 'n', 'pick', 'u', 'lor', 'oso', 'sian', 'tmr', 'haf', '2', 'meet', 'lect', 'need', 'buy', 'lunch', 'eat', 'maggi', 'mee', 'oh', 'right', 'make', 'sure', 'load', 'work', 'day', 'got', 'realli', 'nasti', 'cough', 'today', 'dri', 'n', 'shot', 'realli', 'help', 'thanx', '4', 'send', 'home', 'normal', 'hot', 'mail', 'com', 'see', 'u', 'sick', 'still', 'go', 'shop', 'ya', 'well', 'bbd', 'pooja', 'full', 'pimpl', 'even', 'becom', 'quit', 'black', 'ur', 'rite', 'cold', 'wear', 'sweatter', 'work', '1', 'reach', 'home', 'call', 'tri', 'find', 'chines', 'food', 'place', 'around', 'easi', 'mate', 'guess', 'quick', 'drink', 'bit', 'ambiti', 'babe', 'miiiiiiissssssssss', 'need', 'crave', 'geeee', 'sad', 'without', 'babe', 'love', 'ok', 'thanx', 'tunji', 'queen', 'wish', 'great', 'day', 'abiola', 'today', 'iz', 'yellow', 'rose', 'day', 'u', 'love', 'frndship', 'give', '1', 'misscal', 'amp', 'send', 'ur', 'frndz', 'amp', 'see', 'mani', 'miss', 'call', 'u', 'get', 'u', 'get', '6miss', 'u', 'marri', 'ur', 'lover', 'class', 'hour', 'sorri', 'wat', 'time', 'u', 'finish', 'ur', 'lect', 'today', 'fine', 'good', 'hear', 'dear', 'happi', 'new', 'year', 'oh', 'go', 'wipro', 'interview', 'today', 'tall', 'princess', 'doubt', 'could', 'handl', '5', 'time', 'per', 'night', 'case', 'haha', 'hope', 'hear', 'receipt', 'sound', 'gd', 'luck', 'gon', 'na', 'death', 'gon', 'na', 'leav', 'note', 'say', 'rob', 'fault', 'aveng', 'japanes', 'proverb', 'one', 'u', 'none', 'u', 'must', 'indian', 'version', 'one', 'let', 'none', 'leav', 'final', 'kerala', 'version', 'one', 'stop', 'none', 'make', 'strike', 'today', 'workin', 'free', 'oso', 'gee', 'thgt', 'u', 'workin', 'ur', 'fren', 'shop', 'life', 'face', 'choic', 'toss', 'coin', 'becoz', 'settl', 'question', 'coin', 'air', 'u', 'know', 'heart', 'hope', 'gudni8', 'want', 'kiss', 'feel', 'next', 'happi', 'say', 'ok', 'would', 'b', 'love', 'u', 'r', 'sure', 'think', 'wot', 'u', 'want', 'drinkin', 'dancin', 'eatin', 'cinema', 'u', 'wot', 'say', 'explicitli', 'told', 'nora', 'know', 'someon', 'probabl', 'gon', 'na', 'bother', 'smith', 'wast', 'wan', 'na', 'gayl', 'mum', 'sent', 'mani', 'mani', 'messag', 'sinc', 'got', 'want', 'know', 'actual', 'get', 'enjoy', 'rest', 'day', 'aight', 'tomorrow', 'around', 'lt', 'gt', 'actual', 'first', 'time', 'went', 'bed', 'long', 'spoke', 'woke', 'night', 'see', 'dont', 'understand', 'messag', 'crucifi', 'c', 'told', 'earlier', 'idk', 'keep', 'say', 'sinc', 'move', 'keep', 'but', 'head', 'freedom', 'respons', 'tire', 'much', 'shit', 'deal', 'bare', 'keep', 'togeth', 'get', 'ad', 'fuck', 'cedar', 'key', 'fuck', 'come', 'anyway', 'tho', 'twenti', 'past', 'five', 'said', 'train', 'durham', 'alreadi', 'coz', 'reserv', 'seat', 'u', 'still', 'paint', 'ur', 'wall', 'printer', 'cool', 'mean', 'groovi', 'wine', 'groovi', 'hi', 'harish', 'rent', 'transfr', 'ur', 'acnt', 'anyth', 'lor', 'come', 'cbe', 'realli', 'good', 'nowaday', 'lot', 'shop', 'showroom', 'citi', 'shape', 'good', 'ìï', 'still', 'attend', 'da', 'talk', 'prob', 'hon', 'u', 'doinat', 'mo', 'k', 'take', 'care', 'take', 'phone', 'callon', 'friday', 'assum', 'wo', 'year', 'batteri', 'low', 'babe', 'shuhui', 'bought', 'ron', 'present', 'swatch', 'watch', 'yeah', 'quit', 'bit', 'left', 'swing', 'tomorrow', 'get', 'babe', 'said', '2', 'hour', 'almost', '4', 'internet', 'k', 'sure', 'get', 'noon', 'see', 'k', 'k', 'yesterday', 'cbe', 'went', 'ganesh', 'dress', 'shop', 'ìï', 'collect', 'ur', 'laptop', 'go', 'configur', 'da', 'set', 'izzit', 'aight', '8', 'latest', 'probabl', 'closer', 'jay', 'tyler', 'two', 'trip', 'come', 'aftr', 'lt', 'decim', 'gt', 'clean', 'hous', 'bill', 'letter', 'expect', 'one', 'orang', 'bill', 'may', 'still', 'say', 'orang', 'tell', 'pain', 'de', 'hi', 'darlin', 'hope', 'nice', 'night', 'wish', 'come', 'cant', 'wait', 'see', 'love', 'fran', 'ps', 'want', 'dirti', 'anal', 'sex', 'want', '10', 'man', 'gang', 'bang', 'ha', 'know', 'either', 'clever', 'simpl', 'thing', 'pear', 'day', 'perfect', 'christma', 'helloooo', 'wake', 'full', 'gud', 'alrit', 'must', 'sit', 'around', 'wait', 'summer', 'day', 'celebr', 'magic', 'sight', 'world', 'dress', 'white', 'oooooh', 'let', 'snow', 'guy', 'go', 'see', 'movi', 'side', 'tell', 'think', 'plu', 'go', 'stop', 'run', 'kindli', 'send', 'one', 'flat', 'lt', 'decim', 'gt', 'today', 'noth', 'lor', 'bit', 'bore', 'dun', 'u', 'go', 'home', 'earli', '2', 'sleep', 'today', 'time', 'tell', 'friend', 'around', 'ye', 'fine', 'love', 'safe', 'thank', 'chikku', 'gud', 'nyt', 'xy', 'ur', 'car', 'u', 'pick', 'thanx', '4', 'time', 'weåõv', 'spent', '2geva', 'bin', 'mint', 'ur', 'babi', 'want', 'u', 'xxxx', 'yo', 'way', 'could', 'pick', 'someth', 'tonight', 'sent', 'send', 'fine', 'simpli', 'sit', 'tht', 'god', 'gift', 'bird', 'human', 'hav', 'natur', 'gift', 'frm', 'god', 'come', 'day', 'class', 'im', 'done', 'studyn', 'librari', 'ok', 'u', 'enjoy', 'ur', 'show', 'anyth', 'wuld', 'without', 'babi', 'thought', 'alon', 'mite', 'break', 'donåõt', 'wan', 'na', 'go', 'crazi', 'everyboy', 'need', 'ladi', 'xxxxxxxx', 'wat', 'dear', 'sleep', 'ah', 'hi', 'test', 'lt', 'gt', 'rd', '2', 'student', 'solv', 'cat', 'question', 'lt', 'gt', 'lt', 'gt', 'lt', 'gt', 'tell', 'answer', 'u', 'r', 'brilliant', 'got', 'answr', 'yo', 'know', 'anyon', 'lt', 'gt', 'otherwis', 'abl', 'buy', 'liquor', 'guy', 'flake', 'right', 'get', 'hold', 'somebodi', '4', 'loko', 'night', 'yup', 'n', 'fren', 'lor', 'meet', 'fren', '730', 'yeah', 'got', 'one', 'line', 'us', 'stop', 'wonder', 'ever', 'go', 'stop', 'tm', 'whenev', 'want', 'mine', 'laugh', 'lol', 'yep', 'yesterday', 'alreadi', 'got', 'fireplac', 'anoth', 'icon', 'sit', 'hey', 'book', 'pilat', 'yoga', 'lesson', 'alreadi', 'haha', 'happen', 'behav', 'like', 'supervisor', 'find', '4', 'one', 'lor', 'thk', 'student', 'havent', 'ask', 'yet', 'tell', 'u', 'aft', 'ask', 'hello', 'news', 'job', 'make', 'wait', 'fifth', 'week', 'yeah', 'im', 'woozl', 'weasel', 'exet', 'still', 'home', '3', 'hey', 'babe', 'sorri', 'get', 'sooner', 'gari', 'come', 'fix', 'caus', 'think', 'know', 'go', 'far', 'ptbo', 'say', 'cost', 'lt', 'gt', 'buck', 'know', 'might', 'cheaper', 'find', 'someon', 'second', 'hand', 'machin', 'right', 'let', 'know', 'want', 'babe', 'make', '3', '4', 'fuck', 'sake', 'x', 'leav', 'u', 'alway', 'ignor', 'nope', 'b', 'go', '2', 'sch', 'fri', 'quit', 'earli', 'lor', 'co', 'my', 'si', 'got', 'paper', 'da', 'morn', 'bruce', 'b', 'down', 'amp', 'fletcher', 'said', 'would', 'woke', 'hey', 'free', 'call', 'tell', 'who', 'pl', 'think', 'might', 'give', 'miss', 'teach', 'til', 'twelv', 'lectur', 'two', 'damn', 'work', 'thing', 'id', 'check', 'like', '1', 'bowl', 'worth', 'left', 'ye', 'mani', 'sweet', 'would', 'still', 'cozi', 'exhaust', 'last', 'went', 'school', 'work', 'everyth', 'close', 'buzzzz', 'grin', 'buzz', 'ass', 'buzz', 'chest', 'buzz', 'cock', 'keep', 'phone', 'vibrat', 'feel', 'shake', 'sir', 'send', 'group', 'mail', 'check', 'da', 'intro', 'cover', 'energi', 'trend', 'n', 'pro', 'n', 'con', 'brief', 'descript', 'nuclear', 'fusion', 'n', 'oso', 'brief', 'histori', 'iter', 'n', 'jet', 'got', 'abt', '7', 'n', 'half', 'page', 'nowher', 'ikno', 'doesdiscount', 'dont', 'know', 'jabo', 'abi', 'yet', 'ya', 'sapna', 'aunti', 'maneg', 'hogidh', 'chinnu', 'full', 'weak', 'swalpa', 'black', 'agidhan', 'good', 'babi', 'mostli', 'sport', 'type', 'lyk', 'footbl', 'crckt', 'head', 'dey', 'swell', 'oh', 'thank', 'make', 'day', 'u', 'make', 'fb', 'list', 'sari', 'need', 'tim', 'bollox', 'hurt', 'lot', 'tol', 'happi', 'new', 'year', 'princess', 'text', 'carlo', 'let', 'know', 'hang', 'worri', 'easi', 'ingredi', 'love', 'u', '2', 'littl', 'poci', 'bell', 'sorri', 'love', 'u', 'ok', 'omw', 'castor', 'yar', 'lor', 'keep', 'rain', 'non', 'stop', 'u', 'wan', '2', 'go', 'elsewher', 'u', 'mean', 'u', 'almost', 'done', 'done', 'wif', 'sleep', 'tot', 'u', 'go', 'take', 'nap', 'yup', 'send', 'liao', 'pick', 'ard', '4', 'smth', 'lor', 'tonight', 'yeah', 'eat', 'fo', 'lunch', 'senor', 'said', 'right', 'giggl', 'saw', 'u', 'would', 'possibl', 'first', 'person2di', 'nvq', 'think', 'much', 'could', 'break', 'time', 'one', 'come', 'n', 'get', 'stuff', 'fr', 'see', 'ca', 'see', 'mayb', 'reboot', 'ym', 'seen', 'buzz', 'still', 'grinder', 'see', 'k', 'list', 'buyer', 'idea', 'guess', 'work', 'hour', 'suppos', 'leav', 'sinc', 'usual', 'nobodi', 'interest', 'figur', 'shit', 'last', 'second', 'mm', 'entir', 'sure', 'understood', 'text', 'hey', 'ho', 'weekend', 'releas', 'vday', 'shirt', 'u', 'put', 'make', 'bottom', 'half', 'nake', 'instead', 'white', 'underwear', 'know', 'watch', 'film', 'comput', 'b4', 'thursday', 'oh', 'phone', 'phone', 'disconnect', 'id', 'onluy', 'matter', 'get', 'offcampu', 'excel', 'see', 'riley', 'plan', 'ew', 'one', 'also', 'hi', 'wesley', 'ah', 'see', 'lingo', 'let', 'know', 'wot', 'earth', 'finish', 'make', 'imagin', 'life', 'without', 'see', 'fast', 'u', 'search', 'worri', 'l', 'alway', 'disturb', 'u', 'goodnoon', 'hm', 'good', 'morn', 'headach', 'anyon', 'yeah', 'prob', 'last', 'night', 'obvious', 'catch', 'speak', 'soon', 'might', 'go', '2', 'sch', 'yar', 'e', 'salon', 'v', 'bore', 'lt', 'gt', 'min', 'stop', 'somewher', 'first', 'lt', 'gt', 'fast', 'approach', 'wish', 'u', 'happi', 'new', 'year', 'happi', 'sankranti', 'happi', 'republ', 'day', 'happi', 'valentin', 'day', 'happi', 'shivratri', 'happi', 'ugadi', 'happi', 'fool', 'day', 'happi', 'may', 'day', 'happi', 'independ', 'day', 'happi', 'friendship', 'mother', 'father', 'teacher', 'children', 'day', 'amp', 'happi', 'birthday', '4', 'happi', 'ganesh', 'festiv', 'happi', 'dasara', 'happi', 'diwali', 'happi', 'christma', 'lt', 'gt', 'good', 'morn', 'afternoon', 'even', 'night', 'rememberi', 'first', 'wish', 'u', 'raj', 'one', 'joy', 'lifei', 'wake', 'daywith', 'thought', 'somewheresomeon', 'care', 'enough', 'tosend', 'warm', 'morn', 'greet', 'get', 'second', 'half', 'messag', 'wat', 'time', 'u', 'wan', '2', 'meet', 'later', 'thank', 'much', 'selfless', 'love', 'plenti', 'film', 'ill', 'call', 'later', 'dare', 'chang', 'ring', 'bad', 'girl', 'ladi', 'love', 'ya', 'tri', 'budget', 'money', 'better', 'babe', 'gari', 'would', 'freak', 'knew', 'part', 'understand', 'finish', 'lunch', 'alreadi', 'u', 'wake', 'alreadi', 'still', 'game', 'got', 'tallent', 'wast', 'record', 'one', 'night', 'also', 'sir', 'sent', 'email', 'log', 'usc', 'payment', 'portal', 'send', 'anoth', 'messag', 'explain', 'thing', 'back', 'home', 'great', 'weekend', 'gon', 'na', 'let', 'know', 'co', 'come', 'bak', 'holiday', 'day', 'come', 'number', 'jokin', 'lar', 'depend', 'phone', 'father', 'get', 'lor', 'aight', 'lem', 'know', 'get', 'readi', 'lt', 'gt', 'inch', 'pleasur', 'feel', 'like', 'john', 'lennon', 'co', 'darren', 'say', 'consid', 'mah', 'ask', 'bother', 'trust', 'answer', 'pl', 'one', 'day', 'crab', 'run', 'sea', 'shore', 'wave', 'came', 'n', 'clear', 'footprint', 'crab', 'crab', 'ask', 'frnd', 'r', 'u', 'clear', 'beauti', 'footprint', 'wave', 'repli', 'fox', 'follow', 'ur', 'footprint', 'catch', 'that', 'clear', 'frndsship', 'never', 'let', 'u', 'dwn', 'gud', 'nyt', 'aight', 'time', 'want', 'come', 'slaaaaav', 'must', 'summon', 'time', 'wish', 'come', 'anymor', 'bill', '3', 'that', 'bad', 'let', 'know', 'chang', 'next', '6hr', 'even', 'appendix', 'age', 'rang', 'howev', 'imposs', 'chill', 'let', 'know', '6hr', 'hello', 'yeah', 'got', 'bath', 'need', 'hair', 'come', 'done', 'yeah', 'weather', 'much', 'though', 'h', 'friday', 'cant', 'wait', 'dunno', 'wot', 'hell', 'im', 'gon', 'na', 'anoth', '3', 'week', 'becom', 'oh', 'wait', 'alreadi', 'done', 'die', 'e', 'toot', 'fring', 'lol', 'know', 'awesom', 'phone', 'could', 'click', 'delet', 'right', 'want', 'awesom', 'question', 'cute', 'answer', 'someon', 'ask', 'boy', 'ur', 'life', 'smile', 'amp', 'answer', 'fine', 'gudnit', 'pleas', 'leav', 'topic', 'sorri', 'tell', 'pl', 'send', 'correct', 'name', 'da', 'happen', 'yo', 'date', 'webpag', 'avail', 'woke', 'yeesh', 'late', 'fall', 'asleep', 'til', 'lt', 'gt', 'dear', 'know', 'lt', 'gt', 'th', 'lt', 'gt', 'th', 'birthday', 'love', 'gopalettan', 'plan', 'give', 'small', 'gift', 'day', 'like', 'particip', 'welcom', 'pleas', 'contact', 'admin', 'team', 'detail', 'k', 'k', 'tomorrow', 'onward', 'start', 'ah', 'u', 'talk', 'bout', 'earli', 'morn', 'almost', 'noon', 'fine', 'rememb', 'mani', 'buy', 'sound', 'good', 'keep', 'post', 'april', 'cant', 'wait', 'boy', 'best', 'get', 'yo', 'ass', 'quick', 'ay', 'wana', 'meet', 'sat', 'wkg', 'sat', 'wait', 'till', '2', 'bu', 'pick', 'apart', 'one', 'told', 'yesterday', 'ok', 'lor', 'buy', 'wat', 'somebodi', 'go', 'andro', 'steal', 'ice', 'know', 'msg', 'recent', 'take', 'us', 'shop', 'mark', 'distract', 'mum', 'hope', 'great', 'day', 'hope', 'text', 'meet', 'well', 'full', 'life', 'great', 'day', 'abiola', 'sens', 'foot', 'peni', 'okay', 'thought', 'expert', 'deep', 'sigh', 'miss', 'realli', 'surpris', 'gone', 'net', 'cafe', 'yet', 'get', 'miss', 'thinl', 'role', 'like', 'stand', 'other', 'hit', 'great', 'trip', 'india', 'bring', 'light', 'everyon', 'project', 'everyon', 'lucki', 'see', 'smile', 'bye', 'abiola', 'importantli', 'discuss', 'u', 'k', 'k', 'train', 'process', 'ok', 'lor', 'ned', '2', 'go', 'toa', 'payoh', '4', '2', 'return', 'smth', 'u', 'wan', '2', 'send', 'wat', 'da', 'car', 'park', 'wish', 'hold', 'tightli', 'make', 'see', 'import', 'much', 'mean', 'much', 'need', 'life', 'ask', 'anthoni', 'dad', 'bf', 'wana', 'fal', 'luv', 'vth', 'book', 'bed', 'fal', 'luv', 'vth', 'yen', 'madodu', 'nav', 'pretsorginta', 'nammanna', 'pretsovru', 'import', 'alwa', 'gud', 'go', 'take', 'bath', 'ill', 'place', 'key', 'window', 'dear', 'take', 'care', 'reach', 'u', 'lot', 'emigr', 'someth', 'ok', 'mayb', 'bit', 'hope', 'olol', 'print', 'forum', 'post', 'guy', 'exact', 'prob', 'fix', 'gpu', 'replac', 'hope', 'dont', 'ignor', 'walk', 'mom', 'right', 'stagwood', 'pass', 'right', 'winterston', 'left', 'victor', 'hill', 'address', 'lt', 'gt', 'yo', 'jp', 'hungri', 'like', 'mofo', 'creepi', 'crazi', 'ok', 'din', 'get', 'ur', 'msg', 'pathaya', 'enketa', 'maraikara', 'pa', 'even', 'friend', 'priest', 'call', 'u', 'lousi', 'run', 'alreadi', 'come', 'back', 'half', 'dead', 'hee', 'said', 'bad', 'dat', 'e', 'gal', 'know', 'u', 'wat', 'u', 'remind', 'hr', 'hope', 'would', 'send', 'messag', 'rent', 'due', 'dont', 'enough', 'reserv', 'complet', 'gone', 'loan', 'need', 'hope', 'could', 'balanc', 'lt', 'gt', 'way', 'could', 'get', 'till', 'mid', 'march', 'hope', 'pay', 'back', 'hi', 'happi', 'new', 'year', 'dont', 'mean', 'intrud', 'pl', 'let', 'know', 'much', 'tuition', 'paid', 'last', 'semest', 'much', 'semest', 'thank', 'hello', 'hun', 'ru', 'way', 'im', 'good', '2', 'date', 'guy', 'met', 'walkabout', 'far', 'meet', 'soon', 'how', 'everyon', 'els', 'lol', 'gon', 'na', 'last', 'month', 'cash', 'left', 'lt', 'gt', 'case', 'collect', 'week', 'caus', 'announc', 'blog', 'short', 'cute', 'good', 'person', 'decid', 'yet', 'eh', 'wat', 'time', 'liao', 'still', 'got', 'ye', 'watch', 'footi', 'worri', 'go', 'blow', 'phil', 'nevil', 'wait', '4', 'insid', 'da', 'car', 'park', 'uncl', 'abbey', 'happi', 'new', 'year', 'abiola', 'free', 'call', 'pa', 'r', 'u', 'say', 'order', 'slipper', 'co', 'pay', 'return', 'stop', 'know', 'well', 'good', 'even', 'roger', 'small', 'problem', 'auction', 'punj', 'ask', 'tiwari', 'tell', 'tell', 'one', 'treat', 'hi', 'hi', 'hi', 'u', 'come', '2', 'pick', 'that', 'cool', 'like', 'photo', 'sexi', 'would', 'u', 'fuckin', 'believ', 'didnt', 'know', 'thur', 'pre', 'book', 'cancel', 'need', 'b', 'sack', 'haha', 'better', 'late', 'ever', 'way', 'could', 'swing', 'finish', '6', 'bar', 'b', 'q', 'store', 'life', 'twat', 'orang', 'dungere', 'came', 'ask', 'want', 'deck', 'got', 'first', 'punch', 'messag', 'food', 'ok', 'go', 'sleep', 'hope', 'meet', 'let', 'know', 'detail', 'fri', 'u', 'find', 'co', 'tom', 'mention', 'chines', 'thank', 'right', 'think', 'wat', 'r', 'u', 'ur', 'lectur', 'custom', 'place', 'call', 'plan', 'yet', 'go', 'join', 'compani', 'jan', '5', 'know', 'happen', 'boy', 'love', 'u', 'grl', 'hogolo', 'boy', 'gold', 'chain', 'kodstini', 'grl', 'agalla', 'boy', 'necklac', 'madstini', 'grl', 'agalla', 'boy', 'hogli', '1', 'mutai', 'eerulli', 'kodthini', 'grl', 'love', 'u', 'kano', 'haha', 'heard', 'text', 'around', 'get', 'tomorrow', 'send', 'babe', 'thasa', 'bit', 'mess', 'oh', 'that', 'late', 'well', 'good', 'night', 'give', 'u', 'call', 'tomorrow', 'iam', 'go', 'go', 'sleep', 'night', 'night', 'u', 'tex', 'mecaus', 'u', 'werebor', 'yeah', 'okden', 'hunni', 'r', 'uin', 'wk', 'sat', 'soundåõ', 'likeyour', 'havin', 'gr8fun', 'j', 'keep', 'updat', 'countinlot', 'lovem', 'sorri', 'meet', 'call', 'later', 'yo', 'howz', 'u', 'girl', 'never', 'rang', 'india', 'l', 'yeah', 'wors', 'tag', 'friend', 'seem', 'count', 'friend', 'long', 'time', 'rememb', 'today', 'havent', 'shop', 'lor', 'juz', 'arriv', 'thank', 'better', 'work', 'caus', 'feel', 'use', 'otherwis', 'challeng', 'know', 'much', 'ur', 'hdd', 'case', 'cost', 'mysteri', 'solv', 'open', 'email', 'sent', 'anoth', 'batch', 'sweeti', 'ca', 'describ', 'lucki', 'actual', 'awak', 'noon', 'cheer', 'card', 'time', 'year', 'alreadi', 'ugh', 'hope', 'asu', 'ppl', 'dont', 'randomli', 'reformat', 'seen', 'facebook', 'huh', 'lol', 'mah', 'b', 'pick', 'tomorrow', 'still', 'otsid', 'le', 'u', 'come', '2morrow', 'maga', 'u', 'still', 'plumber', 'tape', 'wrench', 'could', 'borrow', 'vl', 'bcum', 'difficult', 'havent', 'still', 'waitin', 'usual', 'ìï', 'come', 'back', 'sch', 'oredi', 'meet', 'da', 'call', 'k', 'k', 'watch', 'film', 'cinema', 'plu', 'drink', 'appeal', 'tomo', 'fr', 'thriller', 'director', 'like', 'mac', 'size', 'eleph', 'tablet', 'u', 'shove', 'um', 'ur', 'ass', 'mani', 'peopl', 'seem', 'special', 'first', 'sight', 'remain', 'special', 'till', 'last', 'sight', 'maintain', 'till', 'life', 'end', 'take', 'cr', 'da', 'parent', 'kidz', 'friend', 'n', 'colleagu', 'scream', 'surpris', 'wait', 'sofa', 'nake', 'dunno', 'juz', 'askin', 'co', 'got', 'card', 'got', '20', '4', 'salon', 'call', 'hair', 'sens', 'tot', 'da', 'one', 'cut', 'ur', 'hair', 'good', 'morn', 'pooki', 'pie', 'lol', 'hope', 'wake', 'u', 'mayb', 'woke', 'fuck', '3', 'would', 'problem', 'happi', 'birthday', 'lot', 'nri', 'x2', 'lt', 'gt', 'go', 'get', 'hi', 'neva', 'worri', 'bout', 'da', 'truth', 'coz', 'truth', 'lead', '2', 'ur', 'heart', 'itåõ', 'least', 'uniqu', 'person', 'like', 'u', 'deserv', 'sleep', 'tight', 'morn', 'ur', 'paper', 'today', 'e', 'morn', 'aft', 'lick', 'everi', 'drop', 'readi', 'use', 'mouth', 'well', 'expect', 'whenev', 'text', 'hope', 'goe', 'well', 'tomo', 'great', 'p', 'diddi', 'neighbor', 'come', 'toothpast', 'everi', 'morn', 'av', 'new', 'number', 'wil', 'u', 'use', 'one', 'ta', 'poke', 'man', 'everyday', 'teach', 'canada', 'abi', 'say', 'hi', '7', 'lor', 'chang', '2', 'suntec', 'wat', 'time', 'u', 'come', 'see', 'onlin', 'shop', 'ask', 'curiou', 'cuz', 'ask', 'okay', 'lor', 'wah', 'like', 'def', 'wont', 'let', 'us', 'go', 'haha', 'say', 'term', 'condit', 'haha', 'yup', 'hope', 'lose', 'kg', 'mon', 'hip', 'hop', 'go', 'orchard', 'weigh', 'good', 'r', 'u', 'work', 'oh', 'ye', 'littl', 'weather', 'kind', 'coccoon', 'home', 'home', 'also', 'phone', 'weirdest', 'auto', 'correct', 'oop', 'phone', 'die', 'even', 'know', 'yeah', 'like', 'better', 'havent', 'mu', 'ask', 'u', '1st', 'wat', 'meet', '4', 'lunch', 'den', 'u', 'n', 'meet', 'alreadi', 'lor', 'u', 'wan', '2', 'go', 'ask', 'da', 'ge', '1st', 'confirm', 'w', 'asap', 'said', 'u', 'mind', 'go', 'bedroom', 'minut', 'ok', 'sed', 'sexi', 'mood', 'came', '5', 'minut', 'latr', 'wid', 'cake', 'n', 'wife', 'oh', 'yeah', 'hav', 'great', 'time', 'postcard', '1', 'look', 'girl', 'im', 'gone', 'u', 'know', '1im', 'talkin', 'bout', 'xx', 'got', 'divorc', 'lol', 'ur', 'pin', 'babe', 'got', 'enough', 'money', 'pick', 'bread', 'milk', 'give', 'back', 'get', 'home', 'want', 'snow', 'freez', 'windi', 'come', 'mahal', 'bu', 'stop', 'lt', 'decim', 'gt', 'know', 'week', 'go', 'tirunelvai', 'da', 'babi', 'promis', 'treat', 'well', 'bet', 'take', 'good', 'care', 'like', 'hotel', 'dusk', 'game', 'think', 'solv', 'puzzl', 'area', 'thing', 'hi', 'love', 'goe', 'day', 'fuck', 'morn', 'woke', 'drop', 'cell', 'way', 'stair', 'seem', 'alright', 'phew', 'miss', 'well', 'must', 'pain', 'catch', 'sorri', 'da', 'mistak', 'need', 'coz', 'never', 'go', 'rose', 'red', 'red', 'blood', 'blood', 'heart', 'heart', 'u', 'send', 'ti', 'ur', 'friend', 'includ', 'u', 'like', 'u', 'get', 'back', 'r', 'poor', 'relat', 'need', '1', 'support', 'r', 'frnd', '2', 'mani', 'luv', 'u', 'some1', 'pray', 'god', 'marri', 'tri', 'feel', 'like', 'dick', 'keep', 'sleep', 'text', 'facebook', 'messag', 'sup', 'town', 'plm', 'come', 'da', 'way', 'guess', 'want', 'alon', 'time', 'could', 'show', 'watch', 'height', 'recycl', 'read', 'peopl', 'spend', 'time', 'earn', 'money', 'money', 'spent', 'spend', 'time', 'good', 'morn', 'keep', 'smile', 'yup', 'comin', 'ye', 'princess', 'toledo', 'aight', 'text', 'back', 'mu', 'swing', 'need', 'somebodi', 'get', 'door', 'ron', 'say', 'fri', 'leh', 'n', 'said', 'ding', 'tai', 'feng', 'cant', 'make', 'reserv', 'said', 'wait', 'lor', 'good', 'swimsuit', 'allow', 'okay', 'soon', 'best', 'cute', 'thought', 'friendship', 'necessari', 'share', 'everi', 'secret', 'ur', 'close', 'frnd', 'ok', 'sent', 'u', 'da', 'latest', 'version', 'da', 'project', 'pl', 'accept', 'one', 'day', 'beg', 'chang', 'number', 'squeeeeez', 'christma', 'hug', 'u', 'lik', 'frndshp', 'den', 'hug', 'back', 'u', 'get', '3', 'u', 'r', 'cute', '6', 'u', 'r', 'luvd', '9', 'u', 'r', 'lucki', 'none', 'peopl', 'hate', 'u', 'ok', 'anybodi', 'ask', 'abt', 'u', 'tel', 'funni', 'fact', 'nobodi', 'teach', 'volcano', '2', 'erupt', 'tsunami', '2', 'aris', 'hurrican', '2', 'sway', 'aroundn', '1', 'teach', 'hw', '2', 'choos', 'wife', 'natur', 'disast', 'happen', 'gon', 'na', 'ring', 'weekend', 'wot', 'also', 'track', 'lighter', 'find', 'babe', 'need', 'advic', 'leav', 'around', 'four', 'ok', 'come', 'medic', 'colleg', '7pm', 'forward', 'da', 'k', 'k', 'good', 'go', 'make', 'lasagna', 'vodka', 'hi', 'kate', 'u', 'give', 'ring', 'asap', 'xxx', 'peopl', 'tour', 'thought', 'sofa', 'thing', 'sent', 'curiou', 'sugar', 'told', 'go', 'got', 'drunk', 'fuck', 'chicken', 'messag', 'would', 'late', 'woould', 'buzz', 'hear', 'word', 'alway', 'look', 'excus', 'citi', 'yup', 'still', 'coffe', 'wif', 'fren', 'fren', 'drove', 'give', 'lift', 'shore', 'takin', 'bu', 'u', 'gon', 'na', 'get', 'deu', 'ex', 'send', 'email', 'mind', 'lt', 'gt', 'time', 'per', 'night', 'tap', 'spile', 'seven', 'pub', 'ga', 'st', 'broad', 'st', 'canal', 'ok', 'ok', 'come', 'n', 'pick', 'u', 'engin', 'never', 'want', 'tell', 'short', 'late', 'raviyog', 'peripher', 'bhayandar', 'east', 'k', 'actual', 'guy', 'meet', 'sunoco', 'howard', 'right', 'way', 'moon', 'come', 'color', 'dream', 'star', 'make', 'music', 'sm', 'give', 'warm', 'peac', 'sleep', 'good', 'night', 'finish', 'eat', 'got', 'u', 'plate', 'leftov', 'time', 'thanx', 'lot', 'hurri', 'home', 'u', 'big', 'butt', 'hang', 'last', 'caller', 'u', 'food', 'done', 'starv', 'ask', 'cook', 'lol', 'right', 'diet', 'everyday', 'cheat', 'anyway', 'meant', 'fatti', 'great', 'day', 'beauti', 'one', 'happen', 'interview', 'badrith', 'chennai', 'sure', 'pick', 'us', 'competit', 'tot', 'group', 'mate', 'lucki', 'havent', 'repli', 'wat', 'time', 'need', 'leav', 'hey', 'around', 'got', 'enough', 'half', 'ten', 'owe', 'hey', 'tmr', 'mayb', 'meet', 'yck', 'alrit', 'sam', 'nic', 'checkin', 'ur', 'make', 'easi', 'pay', 'back', 'lt', 'gt', 'yr', 'say', 'pay', 'back', 'earlier', 'get', 'worri', 'sure', 'get', 'ga', 'station', 'like', 'block', 'away', 'hous', 'drive', 'right', 'sinc', 'armenia', 'end', 'swann', 'take', 'howard', 'tuition', 'hm', 'go', '1120', '1205', 'one', 'mind', 'smoke', 'peopl', 'use', 'smoke', 'justifi', 'ruin', 'shit', 'dear', 'good', 'morn', 'feel', 'dear', 'littl', 'med', 'say', 'take', 'everi', '8', 'hour', '5', 'pain', 'back', 'took', 'anoth', 'hope', 'die', 'beauti', 'tomorrow', 'never', 'come', 'come', 'alreadi', 'today', 'hunt', 'beauti', 'tomorrow', 'wast', 'wonder', 'today', 'goodmorn', 'dunno', 'lei', 'decid', 'lor', 'abt', 'leona', 'oop', 'tot', 'ben', 'go', 'n', 'msg', 'hi', 'move', 'in2', 'pub', 'would', 'great', '2', 'c', 'u', 'u', 'cud', 'come', 'ever', 'easier', 'stop', 'call', 'everyon', 'say', 'might', 'cancer', 'throat', 'hurt', 'talk', 'ca', 'answer', 'everyon', 'call', 'get', 'one', 'call', 'babysit', 'monday', 'tough', 'im', 'gonnamissu', 'much', 'would', 'say', 'il', 'send', 'u', 'postcard', 'butther', 'abouta', 'much', 'chanc', 'merememberin', 'asther', 'ofsi', 'breakin', 'contract', 'luv', 'yaxx', 'ee', 'msg', 'na', 'poortiyagi', 'odalebeku', 'hanumanji', '7', 'name', 'ee', '7', 'name', 'lt', 'gt', 'janarig', 'ivatt', 'kalisidar', 'next', 'saturday', 'olag', 'ondu', 'good', 'news', 'keluviri', 'maretar', 'ind', '1', 'dodda', 'problum', 'nalli', 'siguviri', 'idu', 'matra', 'lt', 'gt', 'true', 'neglet', 'hi', 'darlin', 'finish', '3', 'u', '1', '2', 'pick', 'meet', 'text', 'back', 'number', 'luv', 'kate', 'xxx', 'set', 'place', 'heart', 'mind', 'mind', 'easili', 'forget', 'heart', 'alway', 'rememb', 'wish', 'happi', 'valentin', 'day', 'surpris', 'still', 'guess', 'right', 'lor', 'oki', 'wan', 'meet', 'bishan', 'co', 'bishan', 'drive', 'today', 'hi', 'darlin', 'work', 'u', 'get', 'troubl', 'ijust', 'talk', 'mum', 'morn', 'realli', 'good', 'time', 'last', 'night', 'im', 'goin', 'soon', 'call', 'u', 'know', 'serv', 'mean', 'huh', 'hyde', 'park', 'mel', 'ah', 'opp', 'got', 'confus', 'anyway', 'tt', 'e', 'best', 'choic', 'den', 'juz', 'take', 'oh', 'gei', 'happend', 'tron', 'mayb', 'ill', 'dl', '3d', 'know', 'girl', 'alway', 'safe', 'selfish', 'know', 'got', 'thank', 'good', 'night', 'worri', 'hope', 'photo', 'shoot', 'went', 'well', 'spif', 'fun', 'workag', 'freez', 'crave', 'ice', 'fml', 'kay', 'sinc', 'alreadi', 'eh', 'sorri', 'leh', 'din', 'c', 'ur', 'msg', 'sad', 'alreadi', 'lar', 'watch', 'tv', 'u', 'still', 'offic', 'yo', 'im', 'right', 'yo', 'work', 'ok', 'darlin', 'supos', 'ok', 'worri', 'film', 'stuff', 'mate', 'babysit', 'call', 'wake', 'sinc', 'check', 'stuff', 'saw', 'true', 'avail', 'space', 'pl', 'call', 'embassi', 'send', 'mail', 'nope', 'juz', 'work', 'huh', 'fast', 'dat', 'mean', 'u', 'havent', 'finish', 'paint', 'number', 'u', 'live', '11', 'put', 'parti', '7', 'day', 'week', 'studi', 'lightli', 'think', 'need', 'draw', 'custom', 'checkbox', 'know', 'hardcor', 'sac', 'score', 'big', 'set', 'batsman', 'send', 'yetti', 'number', 'pl', 'much', 'cost', 'approx', 'per', 'month', 'ok', 'theori', 'test', 'go', 'book', 'think', '21', 'may', 'coz', 'thought', 'wan', 'na', 'go', 'jiayin', 'isnt', 'free', 'fine', 'give', 'call', 'know', 'want', 'question', 'sorri', 'got', 'late', 'start', 'way', 'u', 'go', 'back', 'urself', 'lor', 'ga', 'station', 'go', 'k', 'u', 'bore', 'come', 'home', 'babe', 'love', 'cover', 'face', 'kiss', 'like', 'made', 'throw', 'smoke', 'friend', 'car', 'one', 'time', 'awesom', 'still', 'check', 'go', 'walmart', 'stay', 'forgotten', 'might', 'coupl', 'buck', 'send', 'tomorrow', 'k', 'love', 'ya', 'oh', 'great', 'disturb', 'talk', 'revers', 'cheat', 'mathemat', 'u', 'welcom', 'caught', 'u', 'use', 'broken', 'english', 'problem', 'babi', 'good', 'time', 'talk', 'call', 'left', 'messag', 'oh', 'brand', 'sorri', 'cant', 'take', 'call', 'right', 'happen', 'r', '2waxsto', 'wat', 'want', 'come', 'ill', 'get', 'medic', 'insur', 'abl', 'deliv', 'basic', 'care', 'current', 'shop', 'right', 'medic', 'insur', 'give', 'til', 'friday', 'morn', 'that', 'see', 'major', 'person', 'guid', 'right', 'insur', 'time', 'come', 'call', 'say', 'come', 'today', 'ok', 'tell', 'fool', 'like', 'ok', 'email', 'yifeng', 'part', 'oredi', 'get', 'fr', 'r', 'u', 'sure', 'understand', 'wine', 'good', 'idea', 'slurp', 'minimum', 'walk', '3mile', 'day', 'ok', 'problem', 'get', 'taxi', 'c', 'ing', 'tomorrow', 'tuesday', 'tuesday', 'think', 'r', 'go', 'cinema', 'brainless', 'babi', 'doll', 'vehicl', 'sariyag', 'drive', 'madok', 'barolla', 'pleas', 'attend', 'phone', 'hate', 'call', 'didnt', 'accept', 'even', 'singl', 'call', 'mine', 'even', 'messag', 'messag', 'phone', 'hold', 'free', 'yo', 'trip', 'got', 'postpon', 'still', 'stock', 'wait', 'call', 'sir', 'hey', 'repli', 'pa', 'hey', 'elain', 'today', 'meet', 'still', 'sorri', 'gone', 'place', 'tomorrow', 'realli', 'sorri', 'tiim', 'let', 'hug', 'break', 'tear', 'tomorrow', 'go', 'theatr', 'come', 'wherev', 'u', 'call', 'tell', 'come', 'tomorrow', 'electr', 'went', 'fml', 'look', 'like', 'found', 'someth', 'smoke', 'great', 'job', 'also', 'andro', 'ice', 'etc', 'etc', 'good', 'afternon', 'love', 'today', 'hope', 'good', 'mayb', 'interview', 'wake', 'miss', 'babe', 'passion', 'kiss', 'across', 'sea', 'yup', 'wun', 'believ', 'wat', 'u', 'realli', 'neva', 'c', 'e', 'msg', 'sent', 'shuhui', 'how', 'watch', 'resiz', 'dear', 'umma', 'call', 'finish', 'miss', 'plenti', 'well', 'meant', 'oppos', 'drunken', 'night', 'k', 'must', 'book', 'huh', 'go', 'yoga', 'basic', 'sunday', 'ok', 'oop', 'mum', 'somerset', 'bit', 'far', 'back', 'tomo', 'see', 'soon', 'x', 'u', 'workin', 'overtim', 'nigpun', 'kalli', 'dismissi', '2nd', 'test', 'guess', 'got', 'screwd', 'r', 'u', 'cook', 'dinner', 'bull', 'plan', 'go', 'float', 'ikea', 'without', 'care', 'world', 'live', 'mess', 'anoth', 'day', 'buy', 'heehe', 'funni', 'tho', 'simpl', 'arithmet', 'percentag', 'yeah', 'would', 'leav', 'hour', 'least', '4', 'sound', 'thank', 'honey', 'great', 'day', 'amaz', 'quot', 'life', 'difficult', 'decid', 'what', 'wrong', 'lie', 'bring', 'smile', 'truth', 'bring', 'tear', 'ask', 'dad', 'pick', 'lar', 'ìï', 'wan', '2', 'stay', '6', 'meh', 'ju', 'chillaxin', 'da', 'cool', 'iknow', '2', 'wellda', 'peril', 'studentfinanci', 'crisi', 'spk', '2', 'u', 'what', 'come', 'hill', 'monster', 'hope', 'great', 'day', 'thing', 'r', 'go', 'fine', 'busi', 'though', 'joy', 'father', 'john', 'john', 'joy', 'father', 'u', 'an', 'th', 'hav', 'lt', 'gt', 'iq', 'ti', 'ia', 'question', 'tri', 'answer', 'ill', 'obey', 'didnt', 'search', 'onlin', 'let', 'know', 'need', 'go', 'get', 'pic', 'pleas', 'uhhhhrmm', 'isnt', 'tb', 'test', 'bad', 'your', 'sick', 'haf', 'enuff', 'space', 'got', 'like', '4', 'mb', 'true', 'easier', 'sure', 'sinc', 'parent', 'work', 'tuesday', 'realli', 'need', 'cover', 'stori', 'haha', 'okay', 'today', 'weekend', 'leh', 'darlin', 'youphon', 'im', 'athom', 'youwanna', 'know', 'jack', 'shit', 'anyth', 'someth', 'help', 'want', 'pretend', 'text', 'whatev', 'respons', 'hypotheticalhuagauahahuagahyuhagga', 'alway', 'braini', 'one', 'yeah', 'get', 'random', 'dude', 'need', 'chang', 'info', 'sheet', 'parti', 'lt', 'gt', 'never', 'studi', 'safe', 'christma', 'occas', 'celebr', 'reflect', 'ur', 'valu', 'desir', 'affect', 'amp', 'tradit', 'ideal', 'christma', 'send', 'greet', 'joy', 'happi', 'gr8', 'even', 'darlin', 'cantdo', 'anythingtomorrow', 'mypar', 'aretak', 'outfor', 'meal', 'u', 'free', 'india', 'win', 'level', 'seri', 'mean', 'record', 'plan', 'good', 'hear', 'awesom', 'deal', 'gate', 'charl', 'told', 'last', 'night', 'uh', 'yeah', 'time', 'thinkin', 'goin', 'board', 'work', 'fine', 'issu', 'overh', 'also', 'reslov', 'still', 'softwar', 'inst', 'pend', 'come', 'around', '8', 'clock', 'ye', 'care', 'caus', 'know', 'mon', 'oki', 'lor', 'haha', 'best', 'cheap', 'n', 'gd', 'food', 'la', 'ex', 'oso', 'oki', 'depend', 'whether', 'wana', 'eat', 'western', 'chines', 'food', 'den', 'u', 'prefer', 'sit', 'ard', 'noth', 'lor', 'u', 'leh', 'busi', 'w', 'work', 'lt', 'gt', 'k', 'oh', 'send', 'home', 'sale', 'sorri', 'mail', 'ya', 'tell', 'abt', 'tht', 'incid', 'ye', 'outsid', 'like', '2', 'hour', 'call', 'whole', 'famili', 'wake', 'caus', 'start', '1', 'ugh', 'got', 'outta', 'class', 'nowaday', 'peopl', 'notixiqu', 'laxinorf', 'opportun', 'bambl', 'entrop', 'ever', 'oblising', 'opt', 'ur', 'book', 'masteriast', 'amplikat', 'fidalf', 'champlaxig', 'think', 'atroci', 'wotz', 'ur', 'opinion', 'junna', 'need', 'lar', 'ju', 'test', 'e', 'phone', 'card', 'dunno', 'network', 'gd', 'thk', 'wait', '4', 'si', '2', 'finish', 'bath', 'bath', 'dun', 'disturb', 'u', 'liao', 'u', 'clean', 'ur', 'room', 'right', 'later', 'lunch', 'come', 'quickli', 'open', 'door', 'back', 'bit', 'long', 'co', 'accid', 'a30', 'divert', 'via', 'brilliant', 'weekend', 'thank', 'speak', 'soon', 'lot', 'love', 'k', 'yan', 'jiu', 'liao', 'sat', 'go', '4', 'bugi', 'vill', 'one', 'frm', '10', '3', 'den', 'hop', 'parco', '4', 'nb', 'sun', 'go', 'cine', 'frm', '1030', '2', 'den', 'hop', 'orc', 'mrt', '4', 'hip', 'hop', '4', 'seek', 'ladi', 'street', 'freak', 'sheet', 'phone', 'haha', 'figur', 'well', 'found', 'piec', 'priscilla', 'bowl', 'actual', 'fuck', 'whatev', 'find', 'excus', 'tampa', 'point', 'januari', 'though', 'yay', 'final', 'lol', 'miss', 'cinema', 'trip', 'last', 'week', 'day', 'work', 'day', 'except', 'saturday', 'sunday', 'heart', 'empti', 'without', 'love', 'mind', 'empti', 'without', 'wisdom', 'eye', 'r', 'empti', 'without', 'dream', 'amp', 'life', 'empti', 'without', 'frnd', 'alwi', 'touch', 'good', 'night', 'amp', 'sweet', 'dream', 'think', 'wait', 'bu', 'inform', 'get', 'ever', 'get', 'get', 'back', 'time', 'soon', 'thing', 'quick', 'question', 'probabl', 'come', 'everybodi', 'done', 'around', 'lt', 'gt', 'right', 'got', 'new', 'year', 'co', 'yetund', 'said', 'want', 'surpris', 'didnt', 'see', 'money', 'return', 'mid', 'januari', 'lt', 'gt', 'day', 'return', 'period', 'end', 'ask', 'around', 'lot', 'term', 'mid', 'sure', 'check', 'yahoo', 'email', 'sent', 'photo', 'yesterday', 'look', 'wherr', 'boytoy', 'hello', 'love', 'goe', 'day', 'wish', 'well', 'fine', 'babe', 'hope', 'find', 'job', 'prospect', 'miss', 'boytoy', 'teas', 'kiss', 'tell', 'bad', 'charact', 'u', 'dnt', 'lik', 'tri', 'chang', 'lt', 'gt', 'add', 'tat', '2', 'new', 'year', 'resolut', 'wait', 'ur', 'frank', 'good', 'morn', 'yeah', 'probabl', 'earlier', 'chang', 'window', 'logoff', 'sound', 'also', 'came', 'room', 'huh', 'got', 'lesson', '4', 'lei', 'n', 'thinkin', 'go', 'sch', 'earlier', 'n', 'tot', 'parkin', 'kent', 'vale', 'reach', 'offic', 'around', 'lt', 'decim', 'gt', 'amp', 'mobil', 'problem', 'get', 'voic', 'call', 'asa', 'free', 'cool', 'text', 'head', 'happi', 'birthday', 'may', 'u', 'find', 'ur', 'princ', 'charm', 'soon', 'n', 'dun', 'work', 'hard', 'oh', 'grand', 'bit', 'parti', 'mention', 'cover', 'charg', 'probabl', 'first', 'come', 'first', 'serv', 'said', 'went', 'back', 'bed', 'ca', 'sleep', 'anyth', 'hope', 'arnt', 'piss', 'id', 'would', 'realli', 'like', 'see', 'tomorrow', 'love', 'xxxxxxxxxxxxxx', 'say', 'lt', 'gt', 'year', 'old', 'man', 'money', 'last', 'lt', 'gt', 'still', 'wait', 'check', 'come', 'ur', 'home', 'free', 'day', 'finish', '6', 'mon', 'n', 'thur', 'food', 'life', 'all', 'mone', 'eppolum', 'oru', 'pole', 'allalo', 'nite', 'two', 'fundament', 'cool', 'life', 'camera', 'quit', 'good', 'pixel', '3optic', '5digit', 'doom', 'love', 'holiday', 'safe', 'hope', 'hav', 'good', 'journey', 'happi', 'new', 'year', 'see', 'coupl', 'week', 'hi', 'petey', 'noiåõm', 'ok', 'want', '2', 'chat', 'coz', 'avent', 'spoken', '2', 'u', '4', 'long', 'ur', 'doin', 'good', 'nit', 'js', 'love', 'ya', 'saw', 'ron', 'burgundi', 'captain', 'parti', 'boat', 'yeah', 'seriou', 'money', 'base', 'alreadi', 'one', 'guy', 'love', 'staff', 'placement', 'train', 'amrita', 'colleg', 'alway', 'chat', 'fact', 'need', 'money', 'rais', 'job', 'profil', 'seem', 'like', 'bpo', 'well', 'give', 'co', 'said', 'one', 'nighter', 'persev', 'found', 'one', 'cheap', 'apologis', 'advanc', 'somewher', 'sleep', 'isnt', 'think', 'actual', 'talk', 'call', 'boss', 'morn', 'went', 'place', 'last', 'year', 'told', 'could', 'go', 'get', 'car', 'fix', 'cheaper', 'kept', 'tell', 'today', 'much', 'hope', 'would', 'come', 'back', 'alway', 'regret', 'get', 'number', 'etc', 'will', 'go', 'app', 'class', 'hang', 'brother', 'famili', 'reach', '9', 'tell', 'dont', 'know', 'hey', 'go', 'quit', 'soon', 'xuhui', 'work', 'till', 'end', 'month', 'im', 'sorri', 'bout', 'last', 'nite', 'wasnåõt', 'ur', 'fault', 'spous', 'pmt', 'sumthin', 'u', '4give', 'think', 'u', 'shldxxxx', 'tri', 'neva', 'mate', 'yeah', 'pretti', 'much', 'best', 'case', 'scenario', 'free', 'today', 'haf', '2', 'pick', 'parent', 'tonit', 'babe', 'far', '2', '2', 'spk', 'da', 'mo', 'dead', '2', 'da', 'wrld', 'sleep', 'da', 'sofa', 'day', 'send', 'naughti', 'pix', 'tyler', 'get', '8th', 'leav', 'long', '9', 'get', 'like', 'hour', 'prepar', 'pound', 'everi', 'night', 'actual', 'mobil', 'full', 'msg', 'work', 'onlin', 'need', 'send', 'lt', 'gt', 'sent', 'msg', 'wil', 'explain', 'u', 'later', 'good', 'even', 'home', 'pleas', 'call', 'oic', 'co', 'n', 'si', 'got', 'lunch', 'today', 'dad', 'went', 'dunno', 'whether', '2', 'eat', 'sch', 'wat', 'mmmmm', 'sooooo', 'good', 'wake', 'word', 'morn', 'love', 'mmmm', 'fuck', 'love', 'lion', 'devour', 'kiss', 'across', 'sea', 'pleas', 'inform', 'applic', 'airtel', 'broadband', 'process', 'success', 'instal', 'happen', 'within', '3', 'day', 'happen', 'dear', 'silent', 'tens', 'get', '3', 'unless', 'guy', 'want', 'come', 'time', 'sooner', 'cough', 'noth', 'ìï', 'come', 'lt', '25', 'n', 'pass', 'lar', 'e', 'person', 'e', 'sm', 'survey', 'lol', 'ok', 'ill', 'tri', 'send', 'warn', 'sprint', 'dead', 'slow', 'prolli', 'get', 'tomorrow', 'thank', 'meet', 'monday', 'th', 'gower', 'mate', 'r', 'u', 'man', 'good', 'wale', 'ill', 'b', 'back', 'åômorrow', 'c', 'u', 'wk', 'msg', '4', 'åð', 'random', 'got', 'like', 'lt', 'gt', 'get', 'later', 'though', 'get', 'whatev', 'feel', 'like', 'dad', 'want', 'talk', 'apart', 'got', 'late', 'start', 'omw', 'love', 'lol', 'u', 'still', 'feel', 'sick', 'din', 'tell', 'u', 'ju', '420', 'eye', 'philosophi', 'ok', 'lor', 'town', 'lei', 'alreadi', 'sabarish', 'ask', 'go', 'vijay', 'go', 'talk', 'jaya', 'tv', 'lol', 'know', 'hey', 'someon', 'great', 'inperson', 'flea', 'forum', 'love', 'still', 'chanc', 'search', 'hard', 'get', 'let', 'tri', 'alway', 'celebr', 'ny', 'famili', 'know', 'taj', 'mahal', 'symbol', 'love', 'lesser', 'known', 'fact', 'mumtaz', 'shahjahan', '4th', 'wife', '7', 'wife', 'shahjahan', 'kill', 'mumtaz', 'husband', 'marri', 'mumtaz', 'die', 'lt', 'gt', 'th', 'deliveri', 'marri', 'mumtaz', 'sister', 'question', 'aris', 'hell', 'love', 'great', 'ok', 'come', 'home', 'vl', 'nice', 'meet', 'v', 'chat', 'sent', 'de', 'webadr', 'gete', 'salari', 'slip', 'fine', 'send', 'greet', 'dint', 'touch', 'yup', 'leav', 'right', 'back', 'soon', 'yeah', 'sure', 'leav', 'min', 'one', 'teach', 'ship', 'car', 'sign', 'matur', 'start', 'say', 'big', 'thing', 'actual', 'start', 'understand', 'small', 'thing', 'nice', 'even', 'bslvyl', 'yeah', 'confirm', 'stay', 'weekend', 'said', 'dun', 'haf', 'passport', 'smth', 'like', 'dat', 'juz', 'send', 'email', 'account', 'multipli', 'number', 'independ', 'count', 'decim', 'point', 'divis', 'push', 'decim', 'place', 'like', 'show', 'love', 'night', 'wake', 'see', 'messag', 'hope', 'smile', 'know', 'great', 'morn', 'ard', '4', 'lor', 'right', 'meanwhil', 'project', 'twin', 'comin', 'sent', 'maga', 'money', 'yesterday', 'oh', 'ride', 'equal', 'unev', 'mani', 'peski', 'cyclist', 'around', 'time', 'night', 'free', 'give', 'otherwis', 'nalla', 'adi', 'entey', 'nattil', 'kittum', 'sent', 'wife', 'text', 'buy', 'tell', 'relax', 'go', 'get', 'wkend', 'escap', 'theatr', 'go', 'watch', 'kavalan', 'minut', 'much', 'would', 'cost', 'hire', 'hitman', 'anyth', 'lor', 'huh', 'cant', 'go', '2', 'ur', 'hous', 'empti', 'hand', 'right', 'good', 'morn', 'princess', 'happi', 'new', 'year', 'aight', 'head', 'wat', 'r', 'u', 'busi', 'wif', 'work', 'know', 'mood', 'today', 'jay', 'told', 'alreadi', 'cp', 'caus', 'outag', 'conserv', 'energi', 'sure', 'check', 'happen', 'around', 'area', 'hey', 'morn', 'come', 'ask', 'pa', 'jordan', 'got', 'vote', 'last', 'nite', 'mean', 'got', 'epi', 'fine', 'idea', 'pl', 'come', 'quick', 'cant', 'bare', 'call', 'unabl', 'cal', 'let', 'meet', 'bhaskar', 'deep', 'meet', 'librari', 'k', 'roommat', 'also', 'want', 'dubsack', 'anoth', 'friend', 'may', 'also', 'want', 'plan', 'bring', 'extra', 'tell', 'know', 'sure', 'depend', 'individu', 'lor', 'e', 'hair', 'dresser', 'say', 'pretti', 'parent', 'say', 'look', 'gong', 'u', 'kaypoh', 'also', 'dunno', 'wat', 'collect', 'ok', 'c', 'enjoy', 'watch', 'play', 'footbal', 'basketbal', 'anyth', 'outdoor', 'pleas', 'ask', 'macho', 'price', 'rang', 'want', 'someth', 'new', 'use', 'plu', 'interfu', 'blackberri', 'bold', 'lt', 'gt', 'bb', 'sorri', 'sent', 'blank', 'msg', 'yup', 'tri', '2', 'seriou', 'studi', 'hey', 'check', 'da', 'list', 'da', 'meant', 'apolog', 'text', 'get', 'drug', 'lt', 'gt', 'night', 'mean', 'februari', 'april', 'get', 'place', 'stay', 'hustl', 'back', 'forth', 'audit', 'season', 'sinc', 'sister', 'move', 'away', 'harlem', 'goin', 'workout', 'lor', 'muz', 'lose', 'e', 'fat', 'damn', 'poor', 'zac', 'stand', 'chanc', 'want', 'tel', 'u', 'one', 'thing', 'u', 'mistak', 'k', 'messag', 'sent', 'yeah', 'right', 'bring', 'tape', 'measur', 'fri', 'head', 'straight', 'thank', 'princess', 'sexi', 'oooh', 'got', 'plenti', 'hui', 'xin', 'da', 'lib', 'big', 'differ', 'lt', 'gt', 'versu', 'lt', 'gt', 'everi', 'lt', 'gt', 'hr', 'make', 'cri', 'stuff', 'happen', 'top', 'everyth', 'els', 'push', 'edg', 'underdtand', 'often', 'cri', 'sorri', 'sorri', 'life', '2', 'babe', 'feel', 'let', '4get', 'tri', 'fit', 'soo', 'muchxxlov', 'u', 'know', 'hook', 'mean', 'right', 'wat', 'da', 'model', 'num', 'ur', 'phone', 'realli', 'skateboard', 'despit', 'fact', 'get', 'thrown', 'wind', 'bandag', 'shit', 'arm', 'everi', 'five', 'minut', 'hous', 'e', 'sky', 'quit', 'dark', 'liao', 'rain', 'got', 'excus', '2', 'run', 'alreadi', 'rite', 'hee', 'sorri', 'left', 'phone', 'upstair', 'ok', 'might', 'hectic', 'would', 'bird', 'one', 'fell', 'swoop', 'date', 'thought', 'see', 'carlo', 'say', 'pick', 'later', 'yeah', 'set', 'hey', 'babe', 'friend', 'cancel', 'still', 'visit', 'hmm', 'ill', 'think', 'ok', 'forgiven', 'hope', 'get', 'away', '7', 'langport', 'still', 'town', 'tonight', 'want', 'send', 'virtual', 'hug', 'need', 'one', 'probabl', 'still', 'go', 'stuff', 'issu', 'right', 'ill', 'fix', 'tomorrow', 'come', 'peopl', 'senthil', 'group', 'compani', 'apnt', '5pm', 'oh', 'realli', 'make', 'air', 'talent', 'studi', 'free', 'next', 'weekend', 'r', 'u', 'yet', 'wear', 'blue', 'shirt', 'n', 'black', 'pant', 'come', 'lt', 'gt', 'min', 'reach', 'ur', 'home', 'lt', 'gt', 'minut', 'well', 'great', 'weekend', 'langport', 'sorri', 'probabl', 'bed', '9pm', 'suck', 'ill', 'xma', 'go2sri', 'lanka', 'frnd', 'juz', 'word', 'mere', 'relationship', 'silent', 'promis', 'say', 'wherevr', 'whenevr', 'forevr', 'gudnyt', 'dear', 'huh', '6', 'also', 'mani', 'mistak', 'ha', 'u', 'ju', 'ate', 'honey', 'ar', 'sweet', 'turn', 'phone', 'mom', 'tell', 'everyon', 'cancer', 'sister', 'wo', 'stop', 'call', 'hurt', 'talk', 'ca', 'put', 'see', 'u', 'u', 'get', 'home', 'love', 'u', 'honey', 'sweetheart', 'darl', 'sexi', 'bun', 'sugar', 'plum', 'loverboy', 'miss', 'boytoy', 'smack', 'ass', 'go', 'gym', 'thank', 'love', 'rock', 'yeah', 'imma', 'come', 'caus', 'jay', 'want', 'drug', 'ok', 'thanx', 'take', 'care', 'yup', 'thk', 'u', 'oso', 'bore', 'wat', 'came', 'look', 'flat', 'seem', 'ok', '50', 'away', 'alot', 'wiv', 'work', 'got', 'woman', 'come', 'moji', 'inform', 'save', 'live', 'thank', 'who', 'class', 'hey', 'r', 'still', 'onlin', 'finish', 'format', 'great', 'attract', 'brotha', 'lol', 'happen', 'vega', 'stay', 'vega', 'hello', 'hello', 'hi', 'lou', 'sorri', 'took', 'long', '2', 'left', 'mobil', 'friend', 'lancast', 'got', 'bak', 'neway', 'im', 'sorri', 'couldnåõt', 'make', 'ur', 'båõday', '2', 'hun', 'use', 'soc', 'use', 'home', 'ìï', 'dunno', '2', 'type', 'word', 'ar', 'dad', 'say', 'hurri', 'hell', 'wake', 'lt', 'gt', 'morn', 'get', 'class', 'bsn', 'like', 'lt', 'gt', 'minut', 'know', 'advis', 'great', 'shoot', 'big', 'load', 'get', 'readi', 'meet', 'lobbi', 'still', 'come', 'tonight', 'happen', 'dear', 'tell', 'sir', 'wait', 'call', 'free', 'pleas', 'call', 'text', 'finish', 'long', 'time', 'ago', 'shower', 'ok', 'im', 'sure', 'time', 'finish', 'tomorrow', 'wan', 'na', 'spend', 'even', 'co', 'would', 'vewi', 'vewi', 'lubli', 'love', 'xxx', 'hello', 'per', 'request', 'lt', 'gt', 'transfer', 'tirupur', 'call', 'da', 'catch', 'put', 'noe', 'specifi', 'da', 'domain', 'nusstu', 'ìï', 'still', 'sch', 'oh', 'ask', 'fun', 'haha', 'take', 'care', 'shall', 'get', 'pouch', 'hey', 'loverboy', 'love', 'tell', 'look', 'pictur', 'ach', 'feel', 'leg', 'fuck', 'want', 'need', 'crave', 'boy', 'sweet', 'word', 'left', 'morn', 'sigh', 'goe', 'day', 'love', 'start', 'studi', 'kent', 'vale', 'lor', 'ìï', 'wait', '4', 'ar', 'good', 'make', 'money', 'read', 'gud', 'habit', 'nan', 'bari', 'hudgi', 'yorg', 'pataistha', 'ertini', 'kano', 'aight', 'still', 'want', 'get', 'money', 'town', 'import', 'sorri', 'pa', 'dont', 'knw', 'ru', 'pa', 'wat', 'u', 'meet', 'rite', 'go', 'home', 'lor', 'dun', 'feel', 'like', 'comin', 'ok', 'oh', 'get', 'paid', 'outstand', 'one', 'commerci', 'hasbro', 'august', 'made', 'us', 'jump', 'mani', 'hoop', 'get', 'paid', 'still', 'late', 'call', 'tomorrow', 'care', 'sweet', 'dream', 'u', 'ummifi', 'bye', 'network', 'technic', 'support', 'associ', 'gon', 'na', 'rip', 'uteru', 'cool', 'like', 'swim', 'pool', 'jacuzzi', 'hous', 'yeah', 'gang', 'readi', 'blank', 'blank', 'wat', 'blank', 'lol', 'movi', 'collect', 'car', 'oredi', 'left', 'alreadi', 'orchard', 'noth', 'spl', 'wat', 'abt', 'u', 'whr', 'ru', 'chikku', 'nt', 'yet', 'ya', 'free', 'aldrin', 'rakhesh', 'ex', 'rtm', 'search', '4', 'happi', '1', 'main', 'sourc', 'unhappi', 'accept', 'life', 'way', 'come', 'u', 'find', 'happi', 'everi', 'moment', 'u', 'live', 'guess', 'could', 'good', 'excus', 'lol', 'frnd', 'neces', 'life', 'imagin', 'urself', 'witout', 'frnd', 'hw', 'u', 'feel', 'ur', 'colleg', 'wat', 'u', 'wth', 'ur', 'cell', 'wat', 'abt', 'function', 'thnk', 'abt', 'event', 'esp', 'care', 'miss', 'amp', 'irrit', 'u', '4wrd', 'frnd', 'wthout', 'u', 'cant', 'live', 'jst', 'takecar', 'goodmorn', 'old', 'orchard', 'near', 'univ', '4', 'taco', '1', 'raja', 'burrito', 'right', 'get', 'ok', 'how', 'street', 'end', 'librari', 'walk', 'plz', 'note', 'anyon', 'call', 'mobil', 'amp', 'ask', 'u', 'type', 'lt', 'gt', 'lt', 'gt', 'disconnect', 'call', 'coz', 'iz', 'attempt', 'make', 'use', 'sim', 'card', 'itz', 'confirmd', 'nokia', 'n', 'motorola', 'n', 'verifi', 'cnn', 'ibn', 'stop', 'get', 'ice', 'cream', 'go', 'back', 'stitch', 'trouser', 'hey', 'bore', 'think', 'u', 'wat', 'r', 'u', 'nah', 'wednesday', 'bring', 'mini', 'cheeto', 'bag', 'nobodi', 'name', 'peni', 'girl', 'name', 'stori', 'add', 'aight', 'let', 'know', 'gon', 'na', 'around', 'usf', 'lip', 'sync', 'shangela', 'ìï', 'neva', 'tell', 'noe', 'home', 'da', 'aft', 'wat', 'bit', 'ur', 'smile', 'hppnss', 'drop', 'ur', 'tear', 'sorrow', 'part', 'ur', 'heart', 'life', 'heart', 'like', 'mine', 'wil', 'care', 'u', 'forevr', 'goodfriend', 'buzz', 'hey', 'love', 'think', 'hope', 'day', 'goe', 'well', 'sleep', 'miss', 'babe', 'long', 'moment', 'togeth', 'love', 'smile', 'haha', 'sound', 'crazi', 'dunno', 'tahan', 'anot', 'u', 'earli', 'ya', 'one', 'slow', 'poo', 'gloucesterroad', 'uup', 'later', 'lol', 'ouch', 'wish', 'stay', 'bit', 'longer', 'god', 'ask', 'forgiv', 'littl', 'child', 'gave', 'love', 'repli', 'join', 'lt', 'gt', 'bu', 'ask', 'keep', 'one', 'mayb', 'get', 'messag', 'sent', 'glo', 'send', 'lt', 'gt', 'min', 'would', 'smoke', 'help', 'us', 'work', 'difficult', 'time', 'lookin', 'strong', 'sir', 'goodmorn', 'free', 'call', 'call', 'love', 'girl', 'offic', 'may', 'wonder', 'smile', 'sore', 'hi', 'wlcome', 'back', 'wonder', 'got', 'eaten', 'lion', 'someth', 'noth', 'much', 'uncl', 'timi', 'help', 'clear', 'car', 'came', 'hostel', 'go', 'sleep', 'plz', 'call', 'class', 'hrishi', 'ok', 'bag', 'ok', 'lor', 'msg', 'b4', 'u', 'call', 'fishrman', 'woke', 'earli', 'mrng', 'dark', 'wait', 'amp', 'found', 'sack', 'ful', 'stone', 'strtd', 'throwin', 'thm', 'in2', 'sea', '2', 'pass', 'time', 'atlast', 'ju', '1stone', 'sun', 'rose', 'amp', 'found', 'tht', 'r', 'nt', 'stone', 'diamond', 'moral', 'wake', 'earli', 'mrng', 'good', 'night', 'ur', 'physic', 'get', 'dear', 'friend', 'sorri', 'late', 'inform', 'today', 'birthday', 'love', 'detail', 'log', 'face', 'book', 'see', 'number', 'lt', 'gt', 'dont', 'miss', 'delici', 'treat', 'r', 'go', 'send', 'onlin', 'transact', 'dear', 'got', 'train', 'seat', 'mine', 'lower', 'seat', 'let', 'know', 'need', 'anyth', 'els', 'salad', 'desert', 'someth', 'mani', 'beer', 'shall', 'get', 'whore', 'unbeliev', 'sure', 'mean', 'love', 'know', 'feel', 'make', 'belli', 'warm', 'wish', 'love', 'shall', 'meet', 'dream', 'ahmad', 'ador', 'kiss', 'love', 'want', 'flood', 'pretti', 'pussi', 'cum', 'hey', 'angri', 'repli', 'dr', 'short', 'cute', 'good', 'person', 'also', 'rememb', 'bead', 'come', 'ever', 'thread', 'wishlist', 'section', 'forum', 'ppl', 'post', 'nitro', 'request', 'start', 'last', 'page', 'collect', 'bottom', 'first', 'time', 'histori', 'sold', 'price', 'india', 'lt', 'gt', 'lt', 'gt', 'lt', 'gt', 'shesil', 'lt', 'gt', 'actual', 'nvm', 'got', 'hella', 'cash', 'still', 'lt', 'gt', 'ish', 'ok', 'least', 'armand', 'still', 'around', 'da', 'happi', 'sit', 'togeth', 'na', 'yup', 'song', 'bro', 'creativ', 'neva', 'test', 'qualiti', 'said', 'check', 'review', 'onlin', 'dude', 'fake', 'frnd', 'got', 'money', 'tht', 'reffer', 'u', 'u', 'member', 'wit', 'mail', 'link', 'u', 'vl', 'credit', 'lt', 'gt', 'rs', 'il', 'geti', 'lt', 'gt', 'rs', 'draw', 'acc', 'wen', 'lt', 'gt', 'rs', 'dude', 'makin', 'weirdi', 'browni', 'sister', 'made', 'awesom', 'cooki', 'took', 'pic', 'pl', 'dont', 'restrict', 'eat', 'anythin', 'like', 'next', 'two', 'day', 'mm', 'ask', 'come', 'enough', 'funer', 'home', 'audrey', 'dad', 'aight', 'text', 'address', 'excel', 'wish', 'togeth', 'right', 'yep', 'fine', 'ice', 'age', 'pl', 'wont', 'beliv', 'jesu', 'dunno', 'wat', 'get', '4', 'yet', 'chikku', 'k', 'wat', 'abt', 'tht', 'guy', 'stop', 'irrit', 'msging', 'u', 'long', 'take', 'get', 'number', 'vivek', 'sorri', 'brah', 'finish', 'last', 'exam', 'got', 'arrest', 'possess', 'shit', 'lt', 'time', 'gt', 'pm', 'right', 'though', 'ca', 'give', 'space', 'want', 'need', 'realli', 'start', 'becom', 'issu', 'go', 'suggest', 'set', 'definit', 'move', 'still', 'greec', 'mayb', 'readi', 'normal', 'pleas', 'protect', 'sib', 'never', 'ask', 'sensit', 'inform', 'like', 'password', 'pin', 'thru', 'email', 'never', 'share', 'password', 'anybodi', 'miss', 'much', 'despar', 'record', 'messag', 'left', 'day', 'listen', 'hear', 'sound', 'voic', 'love', 'hi', 'alway', 'onlin', 'yahoo', 'would', 'like', 'chat', 'someday', 'goodmorn', 'grandfath', 'expir', 'leav', 'today', 'yuou', 'work', 'get', 'pc', 'mom', 'find', 'spot', 'would', 'work', 'need', 'sure', 'see', 'come', 'bit', 'agre', 'stop', 'thinkin', 'ipad', 'pleas', 'ask', 'macho', 'question', 'let', 'pool', 'money', 'togeth', 'buy', 'bunch', 'lotto', 'ticket', 'win', 'get', 'lt', 'gt', 'u', 'get', 'lt', 'gt', 'deal', 'watch', 'tv', 'lor', 'nice', 'one', 'like', 'lor', 'think', 'chennai', 'forgot', 'come', 'auction', 'come', 'n', 'pick', '530', 'ar', 'earli', 'bird', 'purchas', 'yet', 'went', 'pay', 'rent', 'go', 'bank', 'authoris', 'payment', 'erm', 'ill', 'pick', 'give', 'enough', 'time', 'get', 'park', 'hey', 'mate', 'how', 'u', 'honey', 'u', 'ave', 'good', 'holiday', 'gimmi', 'de', 'goss', 'x', 'howz', 'come', 'said', 'medicin', 'chile', 'pleas', 'lt', 'decim', 'gt', 'hour', 'drive', 'come', 'time', 'sublet', 'audit', 'season', 'ye', 'amma', 'life', 'take', 'lot', 'turn', 'sit', 'tri', 'hold', 'steer', 'yeah', 'thought', 'lem', 'know', 'anyth', 'goin', 'later', 'mmmm', 'cant', 'wait', 'lick', 'pl', 'go', 'today', 'lt', 'gt', 'dont', 'want', 'excus', 'plz', 'tell', 'an', 'bslvyl', 'sent', 'via', 'u', 'town', 'alon', 'look', 'forward', 'sex', 'cuddl', 'two', 'sleep', 'rounder', 'requir', 'true', 'k', 'u', 'knw', 'di', 'lt', 'gt', 'dont', 'worri', '1', 'day', 'big', 'lambu', 'ji', 'vl', 'come', 'til', 'enjoy', 'batchlor', 'parti', 'oh', 'ya', 'got', 'hip', 'hop', 'open', 'haha', 'think', 'go', 'jazz', 'zoom', 'cine', 'actual', 'tonight', 'free', 'leh', 'kb', 'lesson', 'tonight', 'part', 'tomorrow', 'found', 'diff', 'farm', 'shop', 'buy', 'chees', 'way', 'back', 'call', 'r', 'u', 'still', 'work', 'yep', 'like', 'pink', 'furnitur', 'tho', 'custom', 'place', 'wil', 'cal', 'u', 'sir', 'pure', 'heart', 'person', 'wonder', 'smile', 'make', 'even', 'enemi', 'feel', 'guilti', 'enemi', 'catch', 'world', 'smile', 'goodmorn', 'amp', 'smiley', 'sunday', 'thatåõ', 'alrit', 'girl', 'u', 'know', 'gail', 'neva', 'wrong', 'take', 'care', 'sweet', 'donåõt', 'u', 'l8tr', 'hun', 'love', 'yaxxx', 'theoret', 'yeah', 'could', 'abl', 'come', 'alright', 'hook', 'guy', 'know', 'peopl', 'still', 'town', 'let', 'math', 'good', 'oh', 'ok', 'wait', '4', 'lect', 'havent', 'finish', 'yeah', 'usual', 'guy', 'town', 'definit', 'peopl', 'around', 'know', 'join', 'today', 'keep', 'talk', 'later', 'happi', 'sad', 'one', 'thing', 'past', 'good', 'morn', 'multimedia', 'messag', 'oki', 'scare', 'u', 'say', 'fat', 'u', 'dun', 'wan', 'alreadi', 'u', 'get', 'messag', 'sorri', 'sir', 'call', 'tomorrow', 'need', 'person', 'give', 'na', 'left', 'vagu', 'said', 'would', 'inform', 'person', 'account', 'delay', 'rent', 'discuss', 'hous', 'agenc', 'rent', 'anoth', 'place', 'check', 'onlin', 'place', 'around', 'usc', 'lt', 'gt', 'hi', 'juan', 'im', 'come', 'home', 'fri', 'hey', 'cours', 'expect', 'welcom', 'parti', 'lot', 'present', 'ill', 'phone', 'u', 'get', 'back', 'load', 'love', 'nicki', 'x', 'x', 'x', 'x', 'x', 'x', 'x', 'x', 'x', 'gumbi', 'special', 'lt', 'gt', 'chees', 'pizza', '2', 'know', 'doin', 'tonight', 'like', 'person', 'size', 'great', 'aunt', 'anniversari', 'parti', 'tarpon', 'spring', 'cab', 'pick', 'drop', 'door', 'step', 'ok', 'take', 'unlimit', 'text', 'limit', 'minut', 'problem', 'spend', 'lot', 'qualiti', 'time', 'togeth', 'heard', 'week', 'ye', 'last', 'practic', 'thank', 'wonder', 'ìï', 'mean', 'confirm', 'tot', 'juz', 'say', 'oni', 'ok', 'depend', 'would', 'like', 'treat', 'right', 'brah', 'see', 'later', 'wait', 'e', 'car', '4', 'mum', 'lor', 'u', 'leh', 'reach', 'home', 'alreadi', 'went', 'fast', 'asleep', 'care', 'mean', 'fat', 'head', 'sound', 'like', 'plan', 'cardiff', 'still', 'still', 'cold', 'sit', 'radiat', 'seriou', 'like', 'proper', 'tongu', 'good', 'wonder', 'wont', 'say', 'hi', 'smile', 'cope', 'long', 'distanc', 'noe', 'da', 'car', 'later', 'c', 'lar', 'wear', 'short', 'yeah', 'whatev', 'lol', 'ard', '530', 'lor', 'ok', 'messag', 'lor', 'c', 'u', 'eh', 'ur', 'laptop', 'got', 'stock', 'lei', 'say', 'mon', 'muz', 'come', 'take', 'look', 'c', 'got', 'need', 'ke', 'qi', 'ìï', 'bore', 'izzit', 'suddenli', 'thk', 'wish', 'think', 'gon', 'na', 'snow', 'much', 'flurri', 'usual', 'get', 'melt', 'hit', 'ground', 'eek', 'snow', 'sinc', 'lt', 'gt', 'even', 'born', 'oh', 'realli', 'perform', 'write', 'paper', 'go', 'movi', 'home', 'midnight', 'huh', 'okay', 'lor', 'still', 'let', 'us', 'go', 'ah', 'coz', 'know', 'later', 'drop', 'card', 'box', 'right', 'izzit', 'still', 'rain', 'enough', 'troubl', 'sleep', 'havent', 'add', 'yet', 'right', 'lol', 'realli', 'need', 'rememb', 'eat', 'drink', 'appreci', 'keep', 'compani', 'night', 'babe', 'smile', 'babe', 'lost', 'tri', 'reboot', 'ye', 'nigh', 'cant', 'aha', 'thk', 'got', 'ta', 'go', 'home', 'urself', 'co', 'b', 'go', 'shop', '4', 'fren', 'present', 'nooooooo', 'gon', 'na', 'bore', 'death', 'day', 'cabl', 'internet', 'outag', 'so', 'amount', 'get', 'pl', 'playin', 'space', 'poker', 'u', 'come', 'guoyang', 'go', 'n', 'tell', 'u', 'told', 'need', 'get', 'r', 'give', 'second', 'chanc', 'rahul', 'dengra', 'yeah', 'fact', 'ask', 'need', 'anyth', 'like', 'hour', 'ago', 'much', 'first', 'strike', 'red', 'one', 'bird', 'antelop', 'begin', 'toplay', 'fieldof', 'selfindepend', 'believ', 'flower', 'content', 'wan', 'go', 'c', 'doctor', 'daddi', 'bb', 'borderlin', 'yeah', 'whatev', '545', 'lor', 'ya', 'go', '4', 'dinner', 'togeth', 'gentl', 'princess', 'make', 'sweet', 'gentl', 'love', 'u', 'doin', 'babi', 'girl', 'hope', 'u', 'okay', 'everi', 'time', 'call', 'ure', 'phone', 'miss', 'u', 'get', 'touch', 'sorri', 'went', 'bed', 'earli', 'nightnight', 'like', 'think', 'alway', 'possibl', 'pub', 'later', 'hmm', 'yeah', 'groov', 'im', 'look', 'forward', 'pound', 'special', 'got', 'video', 'tape', 'pple', 'type', 'messag', 'lor', 'u', 'free', 'wan', '2', 'help', 'hee', 'co', 'noe', 'u', 'wan', '2', 'watch', 'infern', 'affair', 'ask', 'u', 'along', 'ask', 'shuhui', 'oso', 'hi', 'dude', 'hw', 'r', 'u', 'da', 'reali', 'mise', 'u', 'today', 'hungri', 'buy', 'food', 'good', 'lei', 'mum', 'n', 'yun', 'dun', 'wan', 'juz', 'buy', 'littl', 'bit', 'probabl', 'wo', 'eat', 'today', 'think', 'gon', 'na', 'pop', 'weekend', 'u', 'miss', 'knew', 'u', 'slept', 'v', 'late', 'yest', 'wake', 'late', 'haha', 'dont', 'angri', 'take', 'practic', 'real', 'thing', 'one', 'day', 'train', 'could', 'kiss', 'feel', 'next', 'nice', 'day', 'dear', 'sent', 'lanr', 'fakey', 'eckankar', 'detail', 'mail', 'box', 'dad', 'back', 'ph', 'ask', 'say', 'pleas', 'messag', 'e', 'time', 'go', 'w', 'u', 'lor', 'callin', 'say', 'hi', 'take', 'care', 'bruv', 'u', 'turn', 'heater', 'heater', 'set', 'lt', 'gt', 'degre', 'thank', 'messag', 'realli', 'appreci', 'sacrific', 'sure', 'process', 'direct', 'pay', 'find', 'way', 'back', 'test', 'tomorrow', 'class', 'wonder', 'day', 'troubl', 'class', 'go', 'well', 'due', 'dodgey', 'one', 'expect', 'mine', 'tomo', 'see', 'recoveri', 'time', 'place', 'wot', 'u', '2', 'j', 'night', 'night', 'see', 'tomorrow', 'roger', 'probabl', 'go', 'rem', '20', 'u', 'think', 'girl', 'propos', 'u', 'today', 'se', 'ur', 'bloodi', 'funki', 'shit', 'fuck', 'face', 'asssssholeee', 'wish', 'u', 'feel', 'alon', 'reason', 'team', 'budget', 'avail', 'last', 'buy', 'unsold', 'player', 'base', 'rate', 'ceri', 'u', 'rebel', 'sweet', 'dreamz', 'littl', 'buddi', 'c', 'ya', '2moro', 'need', 'bloke', 'huh', 'cant', 'thk', 'oredi', 'mani', 'page', 'fren', 'go', 'lor', 'alon', 'wif', 'mum', 'n', 'si', 'lor', 'nationwid', 'auto', 'centr', 'someth', 'like', 'newport', 'road', 'like', 'hey', 'miss', 'tm', 'last', 'night', 'phone', 'charg', 'smile', 'meet', 'friend', 'shortli', 'whatev', 'juliana', 'whatev', 'want', 'hello', 'sort', 'town', 'alreadi', 'dont', 'rush', 'home', 'eat', 'nacho', 'let', 'know', 'eta', 'ok', 'lor', 'anyway', 'thk', 'cant', 'get', 'ticket', 'co', 'like', 'quit', 'late', 'alreadi', 'u', 'wan', '2', 'go', 'look', '4', 'ur', 'fren', 'darren', 'wif', 'dizzamn', 'aight', 'ask', 'suitem', 'get', 'back', 'nimbomson', 'yep', 'phone', 'know', 'one', 'obvious', 'co', 'that', 'real', 'word', 'love', 'cuddl', 'want', 'hold', 'strong', 'arm', 'right', 'r', 'u', 'contin', 'pay', 'like', 'lt', 'gt', 'yr', 'difficult', 'k', 'k', 'give', 'treat', 'gon', 'na', 'worri', 'noth', 'wo', 'give', 'money', 'use', 'get', 'gift', 'year', 'didnt', 'get', 'anyth', 'bad', 'well', 'pattern', 'emerg', 'friend', 'tell', 'drive', 'come', 'smoke', 'tell', 'weed', 'smoke', 'thing', 'see', 'hesit', 'ow', 'u', 'paid', 'told', 'u', 'would', 'call', 'im', 'fine', 'babe', 'aint', '2', 'much', 'tho', 'saw', 'scari', 'movi', 'yest', 'quit', 'funni', 'want', '2mrw', 'afternoon', 'town', 'mall', 'sumthin', 'xx', 'reach', 'home', '5', 'min', 'forgot', 'work', 'today', 'wan', 'na', 'chat', 'thing', 'ok', 'drop', 'text', 'free', 'bore', 'etc', 'ring', 'hope', 'well', 'nose', 'essay', 'xx', 'ha', 'must', 'walk', 'everywher', 'take', 'tram', 'cousin', 'said', 'walk', 'vic', 'market', 'hotel', 'discuss', 'mother', 'ah', 'sorri', 'ca', 'text', 'amp', 'drive', 'coher', 'see', 'twenti', 'place', 'get', 'room', 'cheap', 'eek', 'lot', 'time', 'especi', 'sinc', 'american', 'pie', 'like', '8', 'minut', 'long', 'ca', 'stop', 'sing', 'onlyfound', 'afew', 'day', 'univers', 'southern', 'california', 'pick', 'rayan', 'macleran', 'u', 'gd', 'lor', 'go', 'shop', 'got', 'stuff', 'u', 'wan', '2', 'watch', 'infern', 'affair', 'come', 'lar', 'well', 'ball', 'time', 'make', 'call', 'wat', 'time', 'wan', 'today', 'lt', 'gt', 'mca', 'conform', 'oh', 'ok', 'wat', 'ur', 'email', 'ye', 'princess', 'go', 'make', 'moan', 'lol', 'ok', 'rememb', 'til', 'last', 'nite', 'anyway', 'mani', 'good', 'even', 'u', 'cool', 'text', 'sorri', 'vikki', 'watch', 'olav', 'mandara', 'movi', 'kano', 'trishul', 'theatr', 'wit', 'frnd', 'happi', 'babe', 'woo', 'hoo', 'parti', 'dude', 'take', 'italian', 'food', 'pretti', 'dress', 'panti', 'wot', 'u', '2', 'thout', 'u', 'gon', 'na', 'call', 'txt', 'bak', 'luv', 'k', 'hold', 'dont', 'flatter', 'tell', 'man', 'mine', 'two', 'pint', 'carlin', 'ten', 'minut', 'pleas', 'hope', 'scare', 'home', 'n', 'readi', 'time', 'u', 'get', 'liter', 'bed', 'like', 'lt', 'gt', 'hour', 'ye', 'reg', 'ciao', 'mean', 'websit', 'ye', 'lol', 'could', 'starv', 'lose', 'pound', 'end', 'day', 'yeah', 'impress', 'got', 'ok', 'ok', 'take', 'care', 'understand', 'motiv', 'behind', 'everi', 'dark', 'shine', 'light', 'wait', 'find', 'behind', 'everi', 'best', 'friend', 'alway', 'trust', 'love', 'bslvyl', 'ya', 'ok', 'dinner', 'slept', 'dont', 'make', 'ne', 'plan', 'nxt', 'wknd', 'coz', 'want', 'us', 'come', 'ok', 'school', 'start', 'stay', 'weather', 'like', 'food', 'social', 'support', 'system', 'like', 'friend', 'school', 'thing', 'import', 'ha', 'ha', 'nan', 'yalrigu', 'heltini', 'iyo', 'kothi', 'chikku', 'u', 'share', 'mani', 'thing', 'wit', 'far', 'told', 'bodi', 'even', 'utter', 'word', 'abt', 'u', 'ur', 'trust', 'much', 'tell', 'other', 'plz', 'nxt', 'time', 'dont', 'use', 'word', 'ok', 'chikku', 'noic', 'text', 'hi', 'di', 'yiju', 'meet', '7', 'pm', 'esaplanad', 'tonight', 'aight', 'set', 'free', 'think', 'could', 'text', 'blake', 'address', 'occur', 'quit', 'sure', 'thought', 'hi', 'dear', 'saw', 'dear', 'happi', 'batteri', 'low', 'age', 'abj', 'prof', 'pass', 'paper', 'sem', 'congrat', 'student', 'enna', 'kalaachutaarama', 'prof', 'gud', 'mrng', 'dont', 'kick', 'coco', 'fyi', 'gon', 'na', 'call', 'sporad', 'start', 'like', 'lt', 'gt', 'bc', 'doin', 'shit', 'hope', 'youåõr', 'much', 'fun', 'without', 'see', 'u', 'tomorrow', 'love', 'jess', 'x', 'ok', 'wont', 'call', 'disturb', 'one', 'know', 'avoid', 'burden', 'reach', 'home', 'n', 'bath', 'liao', 'u', 'call', 'actual', 'exam', 'harder', 'nbme', 'lot', 'sick', 'thing', 'go', 'round', 'take', 'easi', 'hope', 'u', 'feel', 'better', 'soon', 'lol', 'hey', 'sathya', 'till', 'dint', 'meet', 'even', 'singl', 'time', 'saw', 'situat', 'sathya', 'gam', 'gone', 'outstand', 'inning', 'play', 'smash', 'bro', 'lt', 'gt', 'religi', 'sir', 'good', 'morn', 'hope', 'good', 'weekend', 'call', 'let', 'know', 'abl', 'rais', 'lt', 'gt', 'dad', 'howev', 'said', 'would', 'make', 'rest', 'avail', 'mid', 'amount', 'still', 'quit', 'short', 'hope', 'would', 'help', 'good', 'day', 'abiola', 'hurri', 'home', 'soup', 'done', 'good', 'afternoon', 'love', 'good', 'see', 'word', 'ym', 'get', 'tm', 'smart', 'move', 'slave', 'smile', 'drink', 'coffe', 'await', 'quit', 'ok', 'bit', 'ex', 'u', 'better', 'go', 'eat', 'smth', 'els', 'feel', 'guilti', 'lem', 'know', 'need', 'stop', 'go', 'bed', 'make', 'fuck', 'deal', 'love', 'brother', 'time', 'talk', 'english', 'grin', 'say', 'hey', 'muhommad', 'penni', 'say', 'hello', 'across', 'sea', 'hey', 'doc', 'pl', 'want', 'get', 'nice', 'shirt', 'hubbi', 'nice', 'fite', 'one', 'budget', 'lt', 'gt', 'k', 'help', 'pl', 'load', 'card', 'abi', 'hw', 'keep', 'post', 'luv', '2', 'mj', 'remain', 'unconvinc', 'elabor', 'test', 'willpow', 'noth', 'wen', 'v', 'get', 'life', 'everyth', 'wen', 'v', 'miss', 'someth', 'real', 'valu', 'peopl', 'wil', 'realiz', 'absenc', 'gud', 'mrng', 'miss', 'ai', 'answerin', 'phone', 'actual', 'pretti', 'reason', 'hour', 'sleepi', 'hey', 'rite', 'u', 'put', 'åè10', 'evey', 'mnth', 'go', 'bed', 'prin', 'think', 'see', 'tomo', 'u', 'dun', 'drive', 'go', '2', 'sch', 'home', 'lei', 'u', 'hav', 'frnd', 'name', 'ashwini', 'ur', 'colleg', 'ju', 'finish', 'lunch', 'way', 'home', 'lor', 'tot', 'u', 'dun', 'wan', '2', 'stay', 'sch', 'today', 'k', '2marrow', 'come', 'class', 'pl', 'send', 'address', 'sir', 'want', 'lick', 'pussi', 'yo', 'gon', 'na', 'still', 'stock', 'tri', 'get', 'dubsack', 'see', 'prolli', 'yeah', 'thought', 'could', 'go', 'dinner', 'treat', 'seem', 'ok', 'stand', 'away', 'heart', 'ach', 'without', 'wonder', 'crave', 'sorri', 'never', 'hear', 'unless', 'book', 'one', 'kinda', 'joke', 'thet', 'realli', 'look', 'skinni', 'white', 'girl', 'one', 'line', 'much', 'camera', 'someth', 'like', 'cast', 'look', 'sure', 'thing', 'big', 'man', 'hockey', 'elect', '6', 'go', 'longer', 'hour', 'though', 'watch', 'lor', 'saw', 'swatch', 'one', 'thk', 'quit', 'ard', '116', 'need', '2nd', 'opinion', 'leh', 'hiya', 'u', 'like', 'hlday', 'pic', 'look', 'horribl', 'took', 'mo', 'how', 'camp', 'amrca', 'thing', 'speak', 'soon', 'serena', 'babe', 'goe', 'day', 'miss', 'alreadi', 'love', 'love', 'kiss', 'hope', 'everyth', 'goe', 'well', 'yunni', 'goin', 'late', 'doc', 'prescrib', 'morphin', 'caus', 'pain', 'med', 'enough', 'wait', 'mom', 'bring', 'med', 'kick', 'fast', 'gon', 'na', 'tri', 'later', 'cool', 'want', 'go', 'kappa', 'meet', 'outsid', 'mu', 'hey', 'sexi', 'bun', 'told', 'ador', 'loverboy', 'hope', 'rememb', 'thank', 'sister', 'law', 'meatbal', 'grin', 'love', 'babe', 'may', 'b', 'approv', 'panalam', 'post', 'workin', 'get', 'job', 'done', 'mean', 'ur', 'luck', 'love', 'someon', 'ur', 'fortun', 'love', 'one', 'love', 'hi', 'babi', 'ive', 'got', 'back', 'work', 'want', 'see', 'u', 'allday', 'hope', 'didnt', 'piss', 'u', 'phone', 'today', 'u', 'give', 'call', 'xxx', 'yahoo', 'boy', 'bring', 'perf', 'legal', 'need', 'say', 'anyth', 'know', 'outsid', 'ever', 'one', 'foot', 'got', 'lt', 'gt', 'good', 'need', 'done', 'ye', 'pleas', 'tell', 'number', 'could', 'ring', 'leav', 'wif', 'lar', 'ìï', 'wan', 'carri', 'meh', 'heavi', 'da', 'num', '98321561', 'familiar', 'beauti', 'truth', 'express', 'face', 'could', 'seen', 'everyon', 'depress', 'heart', 'could', 'understood', 'love', 'one', 'gud', 'ni8', 'infact', 'happi', 'new', 'year', 'see', 'shame', 'mayb', 'cld', 'meet', 'hr', 'tomo', 'lol', 'would', 'despit', 'cramp', 'like', 'girl', 'canåõt', 'wait', 'cornwal', 'hope', 'tonight', 'isnåõt', 'bad', 'well', 'itåõ', 'rock', 'night', 'shite', 'anyway', 'iåõm', 'go', 'kip', 'good', 'night', 'speak', 'soon', 'pl', 'help', 'tell', 'sura', 'expect', 'batteri', 'hont', 'pl', 'send', 'messag', 'download', 'movi', 'thank', 'found', 'way', 'get', 'anoth', 'app', 'phone', 'eh', 'go', 'net', 'cafe', 'take', 'job', 'geeee', 'need', 'babe', 'crave', 'see', 'work', 'mon', 'thur', 'sat', 'cant', 'leh', 'book', 'liao', 'day', 'u', 'free', 'ìï', 'comin', 'fetch', 'us', 'oredi', 'nanni', 'address', 'haf', 'u', 'eaten', 'wat', 'time', 'u', 'wan', '2', 'come', 'yo', 'call', 'get', 'chanc', 'friend', 'mine', 'want', 'ask', 'big', 'order', 'singl', 'singl', 'answer', 'fight', 'plu', 'said', 'broke', 'didnt', 'repli', 'certainli', 'put', 'thing', 'perspect', 'someth', 'like', 'happen', 'got', 'tv', '2', 'watch', 'meh', 'u', 'work', 'today', 'felt', 'convey', 'reason', 'ese', 'go', 'got', 'excit', 'karaok', 'type', 'activ', 'plan', 'debat', 'whether', 'play', 'footbal', 'eve', 'feel', 'lazi', 'though', 'told', 'come', 'wednesday', 'ok', 'call', 'mom', 'instead', 'fun', 'well', 'desper', 'call', 'armand', 'work', 'right', 'heard', 'anyth', 'answer', 'text', 'guess', 'flake', 'said', 'jb', 'fantast', 'mmmmmm', 'love', 'much', 'ahmad', 'ca', 'wait', 'year', 'begin', 'everi', 'second', 'take', 'closer', 'side', 'happi', 'new', 'year', 'love', 'pl', 'full', 'name', 'joke', 'school', 'co', 'fee', 'univers', 'florida', 'seem', 'actual', 'lt', 'gt', 'pl', 'holla', 'back', 'ok', 'said', 'got', 'wisdom', 'teeth', 'hidden', 'insid', 'n', 'mayb', 'need', '2', 'remov', 'pl', 'pl', 'drink', 'plenti', 'plenti', 'water', 'queen', 'go', 'royal', 'wed', 'lag', 'sad', 'part', 'keep', 'touch', 'thank', 'skype', 'ok', 'lor', 'go', 'tog', 'lor', 'two', 'team', 'wait', 'player', 'send', 'copi', 'da', 'report', 'swhrt', 'u', 'dey', 'hope', 'ur', 'ok', 'tot', 'u', 'n', 'care', 'ok', 'da', 'alreadi', 'plan', 'wil', 'pick', 'realli', 'need', 'shit', 'tomorrow', 'know', 'wo', 'awak', 'like', '6', 'good', 'regist', 'vote', 'hmm', 'ok', 'stay', 'like', 'hour', 'co', 'eye', 'realli', 'sore', 'dear', 'got', 'bu', 'directli', 'calicut', 'mm', 'umma', 'ask', 'vava', 'also', 'come', 'tell', 'play', 'later', 'togeth', 'well', 'gener', 'price', 'lt', 'gt', 'let', 'know', 'much', 'want', 'moment', 'day', 'bring', 'hope', 'afternoon', 'bring', 'faith', 'even', 'bring', 'luv', 'night', 'bring', 'rest', 'wish', 'u', 'find', 'morn', 'lt', 'gt', 'w', 'jetton', 'ave', 'forgot', 'ok', 'come', 'home', 'use', 'foreign', 'stamp', 'countri', 'sorri', 'lot', 'stuff', 'talk', 'actual', 'guy', 'want', 'buy', 'wyli', 'updat', 'weed', 'dealer', 'carlo', 'went', 'freedom', 'class', 'lunsford', 'happi', 'babi', 'alright', 'take', 'job', 'hope', 'fine', 'send', 'kiss', 'make', 'smile', 'across', 'sea', 'kiss', 'kiss', 'c', 'movi', 'juz', 'last', 'minut', 'decis', 'mah', 'juz', 'watch', '2', 'lar', 'tot', 'interest', 'enjoy', 'semest', 'take', 'care', 'brother', 'get', 'door', 'let', 'use', 'next', 'week', 'princess', 'go', 'home', 'first', 'lar', 'wait', '4', 'lor', 'put', 'stuff', 'first', 'want', 'kfc', 'tuesday', 'buy', '2', 'meal', 'gravi', '2', 'mark', '2', 'da', 'stupid', 'da', 'alway', 'send', 'like', 'believ', 'mental', 'oi', 'gon', 'na', 'ring', 'attend', 'noth', 'ard', '530', 'like', 'dat', 'lor', 'juz', 'meet', 'mrt', 'station', 'dun', 'haf', 'come', 'dear', 'sleep', 'er', 'mw', 'im', 'fill', 'tuth', 'aight', 'offic', 'around', '4', 'pm', 'go', 'hospit', 'actual', 'wait', '2', 'week', 'start', 'put', 'ad', 'anyth', 'lor', 'go', 'go', 'lor', 'u', 'free', 'sat', 'rite', 'u', 'wan', '2', 'watch', 'infern', 'affair', 'wif', 'n', 'darren', 'n', 'mayb', 'xy', 'yo', 'around', 'friend', 'mine', 'lookin', 'pick', 'later', 'tonight', 'stupid', 'auto', 'correct', 'phone', 'doubl', 'evict', 'week', 'spiral', 'michael', 'good', 'riddanc', 'world', 'suffer', 'lot', 'violenc', 'bad', 'peopl', 'silenc', 'good', 'peopl', 'ok', 'that', 'cool', 'either', 'raglan', 'rd', 'edward', 'rd', 'behind', 'cricket', 'ground', 'gim', 'ring', 'ur', 'closebi', 'see', 'tuesday', 'buy', 'one', 'egg', 'da', 'pleas', 'start', 'skye', 'bookedth', 'hut', 'also', 'time', 'way', 'sever', 'sir', 'u', 'realli', 'pig', 'leh', 'sleep', 'much', 'dad', 'wake', '10', 'smth', '2', 'eat', 'lunch', 'today', 'love', 'hope', 'anyth', 'drastic', 'dare', 'sell', 'pc', 'phone', 'life', 'style', 'garment', 'account', 'pleas', 'lol', 'wtf', 'random', 'btw', 'lunch', 'break', 'sez', 'how', 'u', 'de', 'arab', 'boy', 'hope', 'u', 'r', 'good', 'give', 'love', '2', 'evry1', 'love', 'ya', 'eshxxxxxxxxxxx', 'lay', 'man', 'let', 'know', 'miss', 'thought', 'great', 'day', 'send', 'bimbo', 'ugo', 'number', 'ill', 'appreci', 'safe', 'detroit', 'home', 'snow', 'enjoy', 'aight', 'chillin', 'friend', 'room', 'text', 'way', 'toshiba', 'porteg', 'm100', 'gd', 'well', 'welp', 'sort', 'semiobscur', 'internet', 'thing', 'loosu', 'go', 'hospit', 'de', 'dont', 'let', 'careless', 'much', 'eighth', 'omg', 'joanna', 'freak', 'look', 'thru', 'friend', 'find', 'photo', 'ask', 'stuff', 'myspac', 'even', 'log', 'like', 'year', 'send', 'ur', 'birthdat', 'month', 'year', 'tel', 'u', 'ur', 'life', 'partner', 'name', 'method', 'calcul', 'repli', 'must', 'juz', 'havent', 'woke', 'bit', 'blur', 'blur', 'dad', 'went', 'liao', 'cant', 'cum', 'oso', 'cloth', 'jewelri', 'trip', 'aah', 'cuddl', 'would', 'lush', 'need', 'lot', 'tea', 'soup', 'kind', 'fumbl', 'plan', 'famili', 'set', 'stone', 'pl', 'dont', 'forget', 'studi', 'never', 'believ', 'actual', 'got', 'taunton', 'wow', 'den', 'weekday', 'got', 'special', 'price', 'haiz', 'cant', 'eat', 'liao', 'cut', 'nail', 'oso', 'muz', 'wait', 'finish', 'drivin', 'wat', 'lunch', 'still', 'muz', 'eat', 'wat', 'broke', 'list', 'reason', 'nobodi', 'town', 'ca', 'tell', 'sarcast', 'faggi', 'lt', 'decim', 'gt', 'common', 'car', 'better', 'buy', 'china', 'asia', 'find', 'less', 'expens', 'holla', 'greatest', 'test', 'courag', 'earth', 'bear', 'defeat', 'without', 'lose', 'heart', 'gn', 'tc', 'sorri', 'im', 'stil', 'fuck', 'last', 'nite', 'went', 'tobe', '430', 'got', '4', 'work', '630', 'hey', 'what', 'plan', 'sat', 'beauti', 'sleep', 'help', 'ur', 'pimpl', 'great', 'hope', 'use', 'connect', 'mode', 'men', 'also', 'co', 'never', 'know', 'old', 'friend', 'lead', 'today', 'get', 'kind', 'miss', 'train', 'co', 'asthma', 'attack', 'nxt', 'one', 'half', 'hr', 'drive', 'sure', 'park', 'ball', 'move', 'spin', 'last', 'difficult', 'bat', 'haiyoh', 'mayb', 'hamster', 'jealou', 'million', 'pleas', 'send', 'aunti', 'number', 'glad', 'follow', 'dream', 'reach', 'home', 'final', 'wn', 'u', 'r', 'hurt', 'prsn', 'close', '2', 'u', 'fight', 'wit', 'dem', 'coz', 'somtim', 'di', 'fight', 'save', 'relat', 'bt', 'quiet', 'leav', 'nothin', 'relat', 'gud', 'u', 'call', 'scienc', 'tell', 'chocol', 'melt', 'sunlight', 'pleas', 'walk', 'sunlight', 'bcoz', 'want', 'loss', 'sweet', 'friend', 'ye', 'come', 'nyc', 'audiit', 'tri', 'reloc', 'pock', 'congrat', 'great', 'want', 'tell', 'tell', 'score', 'co', 'might', 'make', 'relax', 'motiv', 'thank', 'share', 'wud', 'never', 'mind', 'u', 'dont', 'miss', 'u', 'dont', 'need', 'u', 'wil', 'realli', 'hurt', 'wen', 'u', 'need', 'amp', 'u', 'dont', 'tell', 'take', 'care', 'hey', 'mr', 'what', 'name', 'bill', 'brison', 'book', 'one', 'languag', 'word', 'okay', 'good', 'problem', 'thanx', 'inform', 'ikea', 'spell', 'cap', 'yell', 'thought', 'left', 'sit', 'bed', 'among', 'mess', 'came', 'said', 'go', 'got', 'home', 'class', 'pleas', 'tri', 'bullshit', 'make', 'want', 'listen', 'less', 'call', 'u', 'done', 'best', 'watch', 'say', 'caus', 'get', 'drunk', 'motherfuck', 'erm', 'woodland', 'avenu', 'somewher', 'get', 'parish', 'magazin', 'telephon', 'number', 'ta', 'job', 'avail', 'let', 'know', 'pleas', 'co', 'realli', 'need', 'start', 'work', 'aiyar', 'hard', '2', 'type', 'u', 'later', 'free', 'tell', 'call', 'n', 'scold', 'n', 'tell', 'u', 'yup', 'free', 'good', 'good', 'billi', 'mate', 'gone', 'jog', 'enjoy', 'concert', 'yo', 'come', 'carlo', 'soon', 'awww', 'dat', 'sweet', 'think', 'someth', 'nice', 'time', 'tonight', 'ill', 'probabl', 'txt', 'u', 'later', 'co', 'im', 'lone', 'xxx', 'guess', 'useless', 'call', 'u', '4', 'someth', 'import', 'ha', 'ha', 'pop', 'loo', 'hello', 'dint', 'tell', 'anyth', 'angri', 'told', 'abi', 'happen', 'r', '2waxsto', 'wat', 'want', 'come', 'ill', 'get', 'medic', 'insur', 'abl', 'deliv', 'basic', 'care', 'current', 'shop', 'right', 'medic', 'insur', 'give', 'til', 'friday', 'morn', 'that', 'see', 'major', 'person', 'guid', 'right', 'insur', 'keep', 'ten', 'rs', 'shelf', 'buy', 'two', 'egg', 'well', 'babe', 'swollen', 'gland', 'throat', 'end', 'ur', 'chang', '2', 'da', 'report', 'big', 'co', 'alreadi', 'made', 'chang', '2', 'da', 'previou', 'report', 'captain', 'room', 'ca', 'speak', 'bcaz', 'mobil', 'problem', 'listen', 'listen', 'voic', 'call', 'later', 'hiya', 'stu', 'wot', 'u', 'much', 'trubl', 'home', 'moment', 'evon', 'hate', 'even', 'u', 'wot', 'hell', 'av', 'done', 'wont', 'u', 'tell', 'text', 'bck', 'pleas', 'luv', 'dan', 'take', 'mokka', 'player', 'still', 'play', 'gautham', 'hey', 'mr', 'go', 'sea', 'view', 'coupl', 'gay', 'mean', 'game', 'give', 'bell', 'ya', 'finish', 'k', 'jason', 'say', 'gon', 'na', 'around', 'around', 'lt', 'gt', 'sorri', 'abl', 'get', 'see', 'morn', 'aight', 'well', 'keep', 'inform', 'search', 'good', 'dual', 'sim', 'mobil', 'pa', 'seem', 'unnecessarili', 'hostil', 'dude', 'got', 'haircut', 'breezi', 'doctor', '1tulsi', 'cancer', 'fat', '1cup', 'bone', 'problm', '3', 'litr', 'diseas', 'snd', 'th', '2', 'u', 'care', 'thought', 'king', 'hill', 'thing', 'nope', 'come', 'onlin', 'also', 'tell', 'said', 'happi', 'birthday', 'bishan', 'lei', 'tot', 'say', 'lavend', 'boo', 'time', 'u', 'get', 'u', 'suppos', 'take', 'shop', 'today', 'u', 'sound', 'like', 'manki', 'scous', 'boy', 'steve', 'like', 'travel', 'da', 'bu', 'u', 'inmind', '4', 'recreat', 'di', 'eve', 'fyi', 'take', 'quick', 'shower', 'epsilon', 'like', 'lt', 'gt', 'min', 'tuesday', 'night', 'r', 'u', '4', 'real', 'ye', 'appt', 'got', 'outta', 'class', 'gon', 'na', 'go', 'gym', 'want', 'sent', 'lt', 'gt', 'mesag', 'today', 'that', 'sorri', 'hurt', 'ìï', 'write', 'wat', 'ha', 'would', 'say', 'read', 'anyth', 'way', 'u', 'seem', 'like', '2', 'judgement', 'save', 'friday', 'pub', 'valentin', 'game', 'send', 'di', 'msg', 'ur', '5', 'answer', 'r', 'someon', 'realli', 'love', 'colour', 'suit', 'best', 'hi', 'ask', 'waheeda', 'fathima', 'leav', 'enjoy', 'urself', 'tmr', 'still', 'around', 'could', 'use', 'give', 'us', 'back', 'id', 'proof', 'lt', 'gt', 'rs', 'wont', 'allow', 'work', 'come', 'home', 'within', 'day', 'ìï', 'bot', 'note', 'oredi', 'co', 'juz', 'rem', 'got', 'ye', 'rent', 'expens', 'way', 'save', 'how', 'pain', 'dear', 'r', 'u', 'smile', 'fun', 'fact', 'although', 'would', 'think', 'armand', 'would', 'eventu', 'build', 'toler', 'shit', 'consid', 'much', 'smoke', 'get', 'fuck', 'like', '2', 'hit', 'great', 'send', 'account', 'number', 'hellogorg', 'how', 'u', 'fone', 'charg', 'lst', 'nitw', 'wen', 'u', 'texd', 'hopeu', 'ad', 'nice', 'wkend', 'im', 'sure', 'u', 'lookin', '4ward', '2', 'u', '2mrw', 'luv', 'jaz', 'ìï', 'send', 'content', 'page', 'night', 'sweet', 'sleep', 'well', 'see', 'exorc', 'emili', 'rose', 'may', 'never', 'sleep', 'hug', 'snog', 'think', 'u', 'think', 'use', 'good', 'ni8', 'ca', 'right', 'second', 'got', 'ta', 'hit', 'peopl', 'first', 'evri', 'emot', 'ds', 'hav', 'wish', 'ds', 'hav', 'prayr', 'u', 'smile', 'world', 'wit', 'even', 'drop', 'tear', 'ds', 'lik', '2', 'stay', 'wit', 'b', 'happi', 'good', 'morn', 'keep', 'smile', 'rememb', 'ujhhhhhhh', 'comput', 'ship', 'address', 'sandiago', 'parantella', 'lane', 'wtf', 'poop', 'mm', 'ye', 'dear', 'look', 'hug', 'like', 'di', 'sweater', 'fr', 'mango', 'size', 'alreadi', 'irrit', '1', 'number', '2', 'gon', 'na', 'massiv', 'pain', 'ass', 'rather', 'get', 'involv', 'possibl', 'anytim', 'lor', 'fine', 'absolutli', 'fine', 'k', 'sure', 'consent', 'form', 'v', 'much', 'torch', '9ja', 'noth', 'u', 'dinner', 'w', 'us', 'check', 'done', 'internet', 'connect', 'v', 'slow', 'send', 'tri', 'later', 'first', 'thing', 'tomo', 'mathew', 'tait', 'edward', 'anderson', 'yeah', 'sure', 'thing', 'mate', 'haunt', 'got', 'stuff', 'sort', 'im', 'go', 'sound', 'anyway', 'promot', 'hex', 'way', 'dont', 'know', 'number', 'joke', 'need', 'lar', 'go', 'engin', 'co', 'si', 'art', 'today', 'thank', 'honey', 'still', 'heard', 'anyth', 'leav', 'bit', 'longer', '2', 'crowd', 'tri', 'later', 'great', 'advic', 'thank', 'hope', 'cardiff', 'still', 'im', 'snowboard', 'trip', 'wonder', 'plan', 'get', 'everyon', 'togeth', 'befor', 'go', 'meet', 'greet', 'kind', 'affair', 'cheer', 'watch', 'live', 'see', 'christmassi', 'k', 'readi', 'lt', 'gt', 'new', 'year', 'plan', 'baaaaaaaab', 'wake', 'miss', 'crave', 'need', 'got', 'messag', 'ignor', 'ye', 'shop', 'dear', 'mood', 'cant', 'drive', 'brother', 'drive', 'dad', 'get', 'back', 'tell', 'shola', 'pleas', 'go', 'colleg', 'medicin', 'visit', 'academ', 'depart', 'tell', 'academ', 'secretari', 'current', 'situat', 'ask', 'transfer', 'ask', 'someon', 'check', 'sagamu', 'thing', 'lautech', 'vital', 'complet', 'medic', 'educ', 'nigeria', 'less', 'expens', 'much', 'less', 'expens', 'unless', 'get', 'citizen', 'rate', 'new', 'zealand', 'ye', 'finish', 'watch', 'day', 'live', 'love', 'juz', 'go', 'googl', 'n', 'search', '4', 'qet', 'mani', 'time', 'lose', 'best', 'one', 'bcoz', 'good', 'friend', 'care', 'close', 'friend', 'understand', 'true', 'friend', 'stay', 'forev', 'beyond', 'word', 'beyond', 'time', 'gud', 'ni8', 'get', 'back', 'home', 'sorri', 'call', 'later', 'lt', 'gt', 'min', 'dun', 'need', 'use', 'dial', 'juz', 'open', 'da', 'browser', 'n', 'surf', 'awesom', 'plan', 'get', 'time', 'like', 'lt', 'gt', 'text', 'detail', 'wee', 'bit', 'take', 'care', 'sleep', 'need', 'learn', 'chang', 'need', 'get', 'convinc', 'wait', 'convers', 'convinc', 'famili', 'mani', 'u', 'role', 'life', 'also', 'didnt', 'get', 'na', 'hi', 'hi', 'hi', 'hi', 'hi', 'ya', 'cant', 'display', 'intern', 'sub', 'got', 'ta', 'extract', 'said', 'anyth', 'wrong', 'sorri', 'de', 'stupid', 'say', 'challeng', 'dont', 'think', 'write', 'instead', 'respond', 'im', 'yeah', 'abl', 'text', 'readi', 'meet', 'v', 'skint', 'fanci', 'gona', 'go', 'meet', 'othr', 'spoon', 'jst', 'bin', 'watchng', 'planet', 'earth', 'sofa', 'v', 'comfey', 'dont', 'make', 'hav', 'gd', 'night', 'say', 'quit', 'least5tim', 'day', 'wud', 'take', 'much', 'notic', 'nah', 'mind', 'gon', 'na', 'see', 'want', 'come', 'taunton', 'tonight', 'u', 'tell', 'get', 'free', 'call', 'littl', 'darl', 'far', 'week', 'need', 'coffe', 'run', 'tomo', 'ca', 'believ', 'time', 'week', 'alreadi', 'still', 'west', 'coast', 'haiz', 'ìï', 'take', 'forev', 'come', 'back', 'mmm', 'fuck', 'merri', 'christma', 'alright', 'thank', 'advic', 'enjoy', 'night', 'tri', 'get', 'sleep', 'updat', 'face', 'book', 'statu', 'frequent', 'saw', 'k', 'da', 'someth', 'u', 'ate', 'bank', 'say', 'money', 'aiyar', 'dun', 'disturb', 'u', 'liao', 'thk', 'u', 'lot', '2', 'aft', 'ur', 'cupboard', 'come', 'hey', 'r', 'watch', 'movi', 'tonight', 'prob', 'b', 'home', 'earli', 'yar', 'lor', 'u', 'noe', 'u', 'use', 'dat', 'rout', '2mro', 'come', 'gym', 'machan', 'goodnight', 'dont', 'think', 'need', 'yellow', 'card', 'uk', 'travel', 'ask', 'someon', 'gone', 'lt', 'gt', 'buck', 'u', 'look', '4', 'da', 'lib', 'got', 'stuff', 'havent', 'finish', 'yet', 'sound', 'great', 'im', 'go', 'sleep', 'good', 'night', 'come', 'u', 'got', 'noth', 'noth', 'ever', 'easi', 'look', 'reason', 'take', 'risk', 'life', 'love', 'want', 'grasp', 'pretti', 'booti', 'got', 'tea', 'sure', 'flavour', 'go', '2', 'orchard', 'lareadi', 'reach', 'soon', 'u', 'reach', 'dear', 'deni', 'word', 'pleas', 'know', 'old', 'dom', 'told', 'yesterday', 'name', 'roger', 'got', 'touch', 'last', 'night', 'want', 'meet', 'today', '2', 'pm', 'come', 'back', 'tampa', 'ffffuuuuuuu', '2', 'celebr', 'båõday', 'els', 'merri', 'christma', 'u', 'anni', 'pleas', 'tell', 'special', 'stock', 'talk', 'sent', 'like', 'awesom', 'minut', 'problem', 'walk', 'around', 'oblivi', 'go', 'around', 'say', 'thing', 'constantli', 'go', 'one', 'ear', 'go', 'whatev', 'want', 'know', 'upset', 'listen', 'tell', 'go', 'upset', 'want', 'surpris', 'mad', 'told', 'everyth', 'stop', 'dont', 'let', 'get', 'dehydr', 'guess', 'lt', 'gt', 'min', 'home', 'ard', 'wat', 'time', 'u', 'reach', 'want', 'mapquest', 'someth', 'look', 'dogwood', 'aight', 'plan', 'come', 'later', 'tonight', 'die', 'accident', 'delet', 'e', 'msg', 'suppos', '2', 'put', 'e', 'sim', 'archiv', 'haiz', 'sad', 'wish', 'great', 'day', 'moji', 'told', 'offer', 'alway', 'speechless', 'offer', 'easili', 'go', 'great', 'length', 'behalf', 'stun', 'exam', 'next', 'friday', 'keep', 'touch', 'sorri', 'thank', 'repli', 'today', 'ur', 'visa', 'come', 'r', 'u', 'still', 'buy', 'gucci', 'bag', 'sister', 'thing', 'easi', 'uncl', 'john', 'also', 'bill', 'realli', 'need', 'think', 'make', 'money', 'later', 'sha', 'sorri', 'flake', 'last', 'night', 'shit', 'serious', 'goin', 'roommat', 'tonight', 'said', 'look', 'pretti', 'wif', 'long', 'hair', 'wat', 'thk', 'cut', 'quit', 'short', '4', 'leh', 'callin', 'culdnt', 'talkbut', 'wannatel', 'u', 'detail', 'later', 'wenwecan', 'chat', 'properli', 'hey', 'u', 'still', 'gym', 'much', 'better', 'thank', 'lol', 'noth', 'smsing', 'u', 'n', 'xy', 'lor', 'sorri', 'lor', 'da', 'guy', 'neva', 'c', 'u', 'person', 'sort', 'know', 'u', 'lor', 'u', 'wan', '2', 'meet', 'xy', 'ask', '2', 'bring', 'u', 'along', '4', 'next', 'meet', 'lem', 'know', 'swing', 'pick', 'free', 'basic', 'time', '1', 'semest', 'wa', 'u', 'effici', 'gee', 'thanx', 'abl', 'sleep', 'meet', 'soon', 'princess', 'ttyl', 'pick', 'go', 'taunton', 'still', 'want', 'come', 'oh', '4', 'outsid', 'player', 'allow', 'play', 'know', 'anyth', 'lor', 'erutupalam', 'thandiyachu', 'cant', 'u', 'tri', 'new', 'invent', 'fli', 'ful', 'song', 'lyric', 'u', 'reckon', 'need', '2', 'arrang', 'transport', 'u', 'ca', 'thank', 'true', 'lov', 'n', 'care', 'wil', 'nevr', 'go', 'unrecogn', 'though', 'somon', 'often', 'make', 'mistak', 'valu', 'definitli', 'undrstnd', 'start', 'miss', 'shop', 'eh', 'ger', 'toke', 'abt', 'syd', 'leh', 'haha', 'stand', 'good', 'weekend', 'miss', 'call', 'miss', 'call', 'khelat', 'kintu', 'opponent', 'miss', 'call', 'dhort', 'lage', 'that', 'rule', 'one', 'great', 'phone', 'receiv', 'qualiti', 'win', 'call', 'get', 'chanc', 'plz', 'lt', '3', 'new', 'deu', 'ex', 'game', 'comin', 'earli', 'next', 'yr', 'comput', 'fri', 'essenti', 'part', 'keep', 'spare', 'fuck', 'idiot', 'roommat', 'looovvv', 'leav', 'thing', 'run', 'full', 'lt', 'gt', 'friend', 'studi', 'warwick', 'plan', 'go', 'shop', 'concert', 'tmw', 'may', 'cancel', 'hav', 'seen', 'age', 'yeah', 'get', 'togeth', 'sometim', 'probabl', 'coupl', 'hour', 'top', 'lol', 'grin', 'babe', 'thank', 'think', 'man', 'bu', 'slow', 'think', 'gon', 'na', 'get', 'hope', 'text', 'meet', 'smile', 'let', 'text', 'give', 'reason', 'smile', 'beauti', 'day', 'case', 'wake', 'wonder', 'forgot', 'take', 'care', 'someth', 'grandma', 'today', 'done', 'parad', 'nvm', 'take', 'ur', 'time', 'wat', 'da', 'decis', 'wot', 'u', '2', 'bitch', 'told', 'hr', 'want', 'post', 'chennai', 'work', 'guy', 'leav', 'neva', 'grumbl', 'sad', 'lor', 'hee', 'buy', 'tmr', 'lor', 'aft', 'lunch', 'still', 'meetin', '4', 'lunch', 'tmr', 'neva', 'hear', 'fr', 'lei', 'ìï', 'got', 'lot', 'work', 'ar', 'abl', 'anyth', 'ìï', 'takin', 'linear', 'algebra', 'today', 'weekend', 'fine', 'excus', 'much', 'decor', 'sorri', 'miss', 'babe', 'late', 'slept', 'hope', 'enjoy', 'drive', 'lesson', 'boytoy', 'miss', 'teas', 'kiss', 'project', 'come', 'sure', 'whenev', 'show', 'fuck', 'gt', 'random', 'saw', 'old', 'roomat', 'campu', 'graduat', 'men', 'alway', 'need', 'beauti', 'intellig', 'care', 'love', 'adjust', 'cooper', 'wife', 'law', 'allow', 'one', 'wife', 'suck', 'got', 'plan', 'yo', 'valentin', 'yo', 'valentin', 'got', 'part', 'nottingham', '3', 'hr', '63mile', 'good', 'thing', 'love', 'man', 'much', '40mph', 'hey', 'ho', 'think', 'one', 'say', 'clearli', 'ok', 'leav', 'need', 'ask', 'go', 'come', 'hi', 'good', 'mornin', 'thanku', 'wish', 'u', 'u', 'want', '2', 'meet', '2morro', 'actual', 'decid', 'hungri', 'left', 'yet', 'v', 'sent', 'part', 'co', 'shop', 'wif', 'darren', 'ju', 'n', 'call', '2', 'ask', 'wat', 'present', 'wan', 'lor', 'start', 'guess', 'wif', 'n', 'final', 'guess', 'darren', 'lor', 'understand', 'loss', 'gain', 'work', 'school', 'u', 'miss', 'u', 'havent', '2', 'much', 'bit', 'bore', 'holiday', 'want', '2', 'go', 'bak', '2', 'colleg', 'sad', 'isnt', 'xx', 'hiya', 'probabl', 'come', 'home', 'weekend', 'next', 'forget', 'though', 'love', 'walk', 'besid', 'watch', 'keep', 'heart', 'warm', 'wish', 'thing', 'differ', 'wonder', 'abl', 'show', 'much', 'valu', 'pl', 'continu', 'brisk', 'walk', 'drug', 'without', 'askin', 'pleas', 'find', 'thing', 'laugh', 'love', 'dearli', 'ok', 'day', 'make', 'dinner', 'tonit', 'invit', 'money', '4', 'steve', 'mate', 'im', 'late', 'tellmiss', 'im', 'way', 'normal', 'use', 'drink', 'water', 'daili', 'dare', 'ask', 'luck', 'sort', 'car', 'parti', 'place', 'usf', 'charg', 'contribut', 'way', 'greatli', 'appreci', 'yeah', 'got', 'room', 'one', 'urgh', 'coach', 'hot', 'smell', 'chip', 'fat', 'thank', 'especi', 'duvet', 'predict', 'text', 'word', 'hiya', 'last', 'night', 'naughti', 'bought', 'cloth', 'littl', 'readi', 'shop', 'tho', 'kind', 'time', 'wan', 'na', 'meet', 'tri', 'reach', 'without', 'success', 'derek', 'done', 'class', 'never', 'lei', 'v', 'lazi', 'got', 'wat', 'dat', 'day', 'send', 'da', 'url', 'cant', 'work', 'one', 'never', 'tri', 'alon', 'take', 'weight', 'tear', 'come', 'ur', 'heart', 'fall', 'ur', 'eye', 'alway', 'rememb', 'stupid', 'friend', 'share', 'bslvyl', 'hey', 'mate', 'spoke', 'mag', 'peopl', 'deliv', 'end', 'month', 'deliv', '24th', 'talk', 'later', 'haha', 'friend', 'tyler', 'liter', 'ask', 'could', 'get', 'dubsack', 'u', 'fanci', 'meetin', '4', 'cha', 'åð', 'hav', 'lil', 'beverag', 'txt', 'ring', 'meet', 'l8r', 'quit', 'tire', 'got', '3', 'love', 'pete', 'x', 'x', 'great', 'safe', 'trip', 'dont', 'panic', 'surrend', 'u', 'love', 'like', 'listen', 'song', 'get', 'stop', 'u', 'see', 'name', 'belov', 'wo', 'get', 'angri', 'sun', 'ah', 'thk', 'mayb', 'dun', 'anythin', 'thk', 'book', 'e', 'lesson', 'e', 'pilat', 'orchard', 'mrt', 'u', 'noe', 'hor', 'tri', 'someth', 'dear', 'read', 'someth', 'exam', 'gettin', 'rdi', 'ship', 'comp', 'hospit', 'return', 'home', 'even', 'piss', 'talk', 'someon', 'realis', 'u', 'point', 'read', 'backward', 'think', 'da', 'wil', 'awak', 'oh', 'good', 'afternoon', 'boytoy', 'goe', 'walk', 'day', 'get', 'polic', 'abstract', 'still', 'wake', 'miss', 'babe', 'much', 'u', 'tri', 'get', 'come', 'around', 'lt', 'decim', 'gt', 'pm', 'vikki', 'otsid', 'nw', 'il', 'come', 'tht', 'time', 'tell', 'address', 'buy', 'blackberri', 'bold', '2', 'torch', 'buy', 'new', 'use', 'let', 'know', 'plu', 'say', 'buy', 'lt', 'gt', 'g', 'wifi', 'ipad', 'say', 'lt', 'gt', 'g', 'togeth', 'thinkin', 'hiya', 'how', 'go', 'sunni', 'africa', 'hope', 'u', 'r', 'avin', 'good', 'time', 'give', 'big', 'old', 'silver', 'back', 'big', 'kiss', 'time', 'come', 'tomorrow', 'quiteamuz', 'thatåõscool', 'babe', 'omg', 'u', 'know', 'ate', 'directli', 'behind', 'abt', '4', 'row', 'behind', 'plan', 'yet', 'hi', 'engag', 'fixd', 'lt', 'gt', 'th', 'next', 'month', 'know', 'realli', 'shock', 'bt', 'hmm', 'njan', 'vilikkam', 'ws', 'al', 'sudn', 'cours', 'math', 'one', 'day', 'one', 'chapter', 'one', 'month', 'finish', 'wow', 'think', 'common', 'take', 'back', 'ur', 'freak', 'unless', 'u', 'chop', 'noooooooo', 'pleas', 'last', 'thing', 'need', 'stress', 'life', 'fair', 'see', 'swing', 'bit', 'got', 'thing', 'take', 'care', 'firsg', 'want', 'wish', 'happi', 'new', 'year', 'want', 'talk', 'legal', 'advic', 'gari', 'split', 'person', 'make', 'trip', 'ptbo', 'hope', 'everyth', 'good', 'babe', 'love', 'ya', 'finish', 'work', 'yet', 'someth', 'right', 'wasnt', 'phone', 'someon', 'number', 'like', 'ok', 'wun', 'b', 'angri', 'msg', 'u', 'aft', 'come', 'home', 'tonight', 'good', 'time', 'nice', 'someth', 'bit', 'differ', 'weekend', 'chang', 'see', 'ya', 'soon', 'yo', 'sorri', 'shower', 'sup', 'carlo', 'pick', 'swing', 'usf', 'littl', 'bit', 'full', 'heat', 'pa', 'appli', 'oil', 'pa', 'stuck', 'da', 'middl', 'da', 'row', 'da', 'right', 'hand', 'side', 'da', 'lt', 'laid', 'airtel', 'line', 'rest', 'hi', 'u', 'decid', 'wot', '2', 'get', '4', 'bday', 'ill', 'prob', 'ju', 'get', 'voucher', 'frm', 'virgin', 'sumf', 'j', 'r', 'u', 'feel', 'better', 'plan', 'stay', 'night', 'prolli', 'wo', 'back', 'til', 'late', 'thanx', '4', 'puttin', 'da', 'fone', 'need', '8th', 'campu', 'atm', 'could', 'pick', 'hour', 'two', 'oh', 'haha', 'den', 'shld', 'went', 'today', 'gee', 'nvm', 'la', 'kaiez', 'dun', 'mind', 'goin', 'jazz', 'oso', 'scare', 'hiphop', 'open', 'cant', 'catch', 'run', 'manag', '5', 'minut', 'need', 'oxygen', 'might', 'resort', 'roller', 'option', 'live', 'next', 'lt', 'gt', 'min', 'de', 'ask', 'like', 'glad', 'talk', 'wat', 'time', 'finish', 'sorri', 'da', 'gone', 'mad', 'mani', 'pend', 'work', 'much', 'got', 'clean', 'how', 'favourit', 'person', 'today', 'r', 'u', 'workin', 'hard', 'could', 'sleep', 'last', 'nite', 'nearli', 'rang', 'u', 'ìï', 'call', 'dad', 'oredi', 'good', 'think', 'could', 'send', 'pix', 'would', 'love', 'see', 'top', 'bottom', 'nvm', 'go', 'wear', 'sport', 'shoe', 'anyway', 'go', 'late', 'leh', 'sorri', 'call', 'later', 'meet', 'long', 'fuckin', 'showr', 'receiv', 'understood', 'n', 'act', 'upon', 'final', 'came', 'fix', 'ceil', 'u', 'need', 'presnt', 'alway', 'bcz', 'u', 'cant', 'mi', 'love', 'irulina', 'neekunna', 'prakasamanu', 'prakasam', 'ennal', 'prabha', 'mn', 'prabha', 'got', 'dont', 'mi', 'ju', 'finish', 'blow', 'hair', 'u', 'finish', 'dinner', 'alreadi', 'bu', 'love', 'lol', 'knew', 'saw', 'dollar', 'store', 'saturday', 'sunday', 'holiday', 'difficult', 'everybodi', 'fun', 'even', 'miss', 'got', 'hella', 'ga', 'money', 'want', 'go', 'grand', 'natur', 'adventur', 'galileo', 'littl', 'bit', 'oh', 'wow', 'that', 'gay', 'firmwar', 'updat', 'help', 'wo', 'move', 'morphin', 'come', 'din', 'c', 'yup', 'cut', 'hair', 'k', 'k', 'pa', 'lunch', 'aha', 'captain', 'vijaykanth', 'comedi', 'captain', 'tv', 'drunken', 'cours', 'guess', 'god', 'got', 'hold', 'right', 'hide', 'anythi', 'keep', 'distanc', 'havent', 'sorri', 'din', 'lock', 'keypad', 'plan', 'come', 'chennai', 'god', 'creat', 'gap', 'btwn', 'ur', 'finger', 'dat', 'sum1', 'vri', 'special', 'fill', 'gap', 'hold', 'ur', 'hand', 'plz', 'dont', 'ask', 'creat', 'much', 'gap', 'leg', 'okay', 'go', 'sleep', 'later', 'final', 'happen', 'aftr', 'decad', 'beer', 'cheaper', 'petrol', 'gover', 'expect', 'us', 'drive', 'r', 'e', 'meet', 'tmr', 'lol', 'ye', 'add', 'spice', 'day', 'prasanth', 'ettan', 'mother', 'pass', 'away', 'last', 'night', 'pray', 'famili', 'k', 'work', 'someth', 'messag', 'great', 'doctor', 'india', '1', 'drink', 'appi', 'fizz', 'contain', 'cancer', 'caus', 'age', 'call', 'tell', 'infront', 'call', 'ok', 'prob', 'ladi', 'first', 'genu', 'second', 'k', 'ye', 'pleas', 'swim', 'mum', 'go', 'robinson', 'alreadi', 'ok', 'set', 'let', 'u', 'noe', 'e', 'detail', 'later', 'tel', 'softwar', 'name', 'send', 'print', 'out', 'da', 'im', 'reali', 'soz', 'imat', 'mum', '2nite', '2moro', 'born', 'god', 'said', 'anoth', 'born', 'didnt', 'get', 'ur', 'full', 'msg', 'sometext', 'miss', 'send', 'probabl', 'almost', 'ga', 'get', 'cash', 'tomorrow', 'forgot', '2', 'ask', 'smth', 'card', 'da', 'present', 'lei', 'ìï', 'want', '2', 'write', 'smth', 'sign', 'leav', 'hous', 'ìï', 'readi', 'call', 'wewa', 'iriv', '128', 'mb', 'good', 'thing', 'get', 'connect', 'bw', 'sri', 'da', 'jst', 'nw', 'came', 'home', 'cool', 'night', 'lem', 'know', 'around', 'stay', 'town', 'haha', 'yeah', '2', 'oz', 'kind', 'shitload', 'ok', 'u', 'take', 'shop', 'u', 'get', 'paid', 'alright', 'bring', 'see', 'like', 'lt', 'gt', 'min', 'pl', 'dont', 'play', 'other', 'life', 'eatin', 'lunch', 'give', 'one', 'day', 'tri', 'g', 'decid', 'head', 'ok', 'prob', 'surli', 'ill', 'give', 'come', 'review', 'march', 'end', 'readi', 'call', 'sure', 'problem', 'capit', 'never', 'complet', 'far', 'work', 'ladi', 'pl', 'give', 'food', 'prefer', 'pap', 'slowli', 'load', 'sugar', 'take', 'hour', 'give', 'water', 'slowli', 'guy', 'get', 'use', 'dumb', 'realiz', 'okey', 'dokey', 'bit', 'sort', 'stuff', 'ye', 'fine', 'like', 'new', 'mobil', 'anytim', 'mmmmmmm', 'snuggl', 'deep', 'content', 'sigh', 'whisper', 'fuck', 'love', 'much', 'bare', 'stand', 'yar', 'say', 'got', 'error', 'hey', 'anyway', 'wow', 'healthi', 'old', 'airport', 'rd', 'lor', 'cant', 'thk', 'anyth', 'els', 'b', 'bath', 'dog', 'later', 'wif', 'famili', 'book', 'tour', 'packag', 'say', 'bold', 'torch', 'later', 'one', 'torch', '2bold', 'haha', 'awesom', 'might', 'need', 'take', 'doin', 'tonight', 'ya', 'knw', 'u', 'vl', 'giv', 'ok', 'thank', 'kano', 'anyway', 'enjoy', 'wit', 'ur', 'famili', 'wit', '1st', 'salari', 'huh', 'slow', 'tot', 'u', 'reach', 'long', 'ago', 'liao', 'u', '2', 'day', '4', 'leh', 'that', 'cool', 'princess', 'cover', 'face', 'hot', 'sticki', 'cum', 'big', 'realli', 'scrape', 'barrel', 'shower', 'social', 'misfit', 'oop', 'thk', 'dun', 'haf', 'enuff', 'go', 'check', 'tell', '8', 'min', 'go', 'lunch', 'hey', 'happen', 'u', 'switch', 'ur', 'cell', 'whole', 'day', 'isnt', 'good', 'u', 'care', 'give', 'call', 'tomorrow', 'k', 'addi', 'amp', 'art', 'get', 'home', 'aiyo', 'lesson', 'earli', 'still', 'sleepin', 'haha', 'oki', 'u', 'go', 'home', 'liao', 'den', 'confirm', 'w', 'lor', 'forgot', 'tell', 'smth', 'like', 'number', 'section', 'clearer', 'yup', 'anyth', 'lor', 'u', 'dun', 'wan', 'ok', 'home', 'love', 'still', 'awak', 'love', 'kiss', 'hello', 'peach', 'cake', 'tast', 'lush', 'minor', 'shindig', 'place', 'later', 'tonight', 'interest', 'jason', 'say', 'cool', 'pick', 'place', 'like', 'hour', 'career', 'tel', 'ad', 'u', 'contact', 'send', 'free', 'sm', 'remov', 'phonebook', 'sm', 'lt', 'gt', 'reach', 'alreadi', 'dont', 'know', 'ask', 'brother', 'noth', 'problem', 'thing', 'told', 'k', 'eng', 'rock', 'ash', 'wat', 'time', 'r', 'go', 'xin', 'hostel', 'good', 'morn', 'dear', 'shijutta', 'great', 'amp', 'success', 'day', 'oh', 'k', 'placement', 'ah', 'possess', 'especi', 'first', 'offens', 'nt', 'drive', 'even', 'mani', 'reason', 'call', 'bbd', 'tht', 'chikku', 'hw', 'abt', 'dvg', 'cold', 'heard', 'tht', 'vinobanagar', 'violenc', 'hw', 'condit', 'hw', 'ru', 'problem', 'bought', 'test', 'yesterday', 'someth', 'let', 'know', 'exact', 'day', 'u', 'get', '2u', '2', '3wk', 'pl', 'pl', 'dont', 'fret', 'know', 'u', 'r', 'worri', 'pl', 'relax', 'also', 'anyth', 'ur', 'past', 'histori', 'u', 'need', 'tell', 'pizza', 'u', 'want', 'keep', 'see', 'weird', 'shit', 'bein', 'realis', 'actual', 'reason', 'mani', 'happi', 'return', 'day', 'wish', 'happi', 'birthday', 'u', 'orh', 'tot', 'u', 'say', 'still', 'dun', 'believ', 'put', 'sign', 'choos', 'number', 'pin', 'show', 'right', 'beauti', 'life', 'next', 'second', 'hide', 'thousand', 'secret', 'wish', 'everi', 'second', 'wonder', 'ur', 'life', 'gud', 'n8', 'thanx', 'u', 'darlin', 'im', 'cool', 'thanx', 'bday', 'drink', '2', 'nite', '2morrow', 'take', 'care', 'c', 'u', 'still', 'mayb', 'leav', 'credit', 'card', 'get', 'ga', 'get', 'back', 'like', 'told', 'well', 'boy', 'glad', 'g', 'wast', 'night', 'applebe', 'noth', 'ok', 'lor', 'u', 'wan', 'go', 'look', '4', 'u', 'u', 'wan', '2', 'haf', 'lunch', 'da', 'canteen', 'make', 'life', 'stressful', 'alway', 'find', 'time', 'laugh', 'may', 'add', 'year', 'life', 'sure', 'add', 'life', 'ur', 'year', 'gud', 'ni8', 'swt', 'dream', 'hey', 'look', 'like', 'wrong', 'one', 'kappa', 'guy', 'number', 'still', 'phone', 'want', 'text', 'see', 'around', 'home', 'doc', 'gave', 'pain', 'med', 'say', 'everyth', 'fine', '140', 'ard', 'ìä', 'rest', 'ard', '180', 'least', 'price', '4', '2', 'bedrm', '900', 'love', 'night', 'xxx', 'prepar', 'pleasur', 'hi', 'technic', 'assist', 'us', 'custom', 'call', 'email', 'text', 'way', 'cup', 'stop', 'work', 'bu', 'when', 'radio', 'show', 'sure', 'still', 'avail', 'though', 'watev', 'relat', 'u', 'built', 'di', 'world', 'thing', 'remain', 'atlast', 'iz', 'lonlin', 'lotz', 'n', 'lot', 'memori', 'feel', 'cheer', 'lou', 'yeah', 'goodnit', 'shame', 'u', 'neva', 'came', 'c', 'ya', 'gailxx', 'hi', 'got', 'money', 'da', 'ok', 'u', 'tell', 'wat', 'time', 'u', 'come', 'later', 'lor', 'u', 'repeat', 'e', 'instruct', 'wat', 'e', 'road', 'name', 'ur', 'hous', 'quit', 'lor', 'dun', 'tell', 'wait', 'get', 'complac', 'sorri', 'complet', 'forgot', 'pop', 'em', 'round', 'week', 'still', 'u', 'r', 'beauti', 'girl', 'ive', 'ever', 'seen', 'u', 'r', 'babi', 'come', 'c', 'common', 'room', 'cant', 'see', 'join', 'deni', 'mina', 'deni', 'want', 'alon', 'time', 'sen', 'told', 'go', 'join', 'uncl', 'financ', 'cbe', 'yup', 'hey', 'one', 'day', 'fri', 'ask', 'miwa', 'jiayin', 'take', 'leav', 'go', 'karaok', 'call', 'senthil', 'hsbc', 'especi', 'sinc', 'talk', 'boston', 'person', 'statement', 'lol', 'woulda', 'chang', 'realiz', 'said', 'nyc', 'say', 'boston', 'inde', 'way', 'either', 'holi', 'live', 'christ', 'take', 'long', 'ìï', 'thk', 'wat', 'eat', 'tonight', 'thanx', 'yup', 'come', 'back', 'sun', 'finish', 'dinner', 'go', 'back', '2', 'hotel', 'time', 'fli', 'tog', '4', 'exactli', 'mth', 'today', 'hope', 'haf', 'mani', 'mth', 'come', 'opposit', 'side', 'drop', 'yup', 'izzit', 'still', 'rain', 'heavili', 'co', 'e', 'mrt', 'ca', 'c', 'outsid', 'send', 'resum', 'gd', 'luck', '4', 'ur', 'exam', 'u', 'ask', 'next', 'sat', 'make', 'ok', 'lor', 'sorri', 'uncl', 'keep', 'touch', 'saw', 'guy', 'doll', 'last', 'night', 'patrick', 'swayz', 'great', 'come', 'home', 'want', 'u', 'miser', 'dont', 'know', 'get', 'messag', 'cool', 'tyler', 'take', 'gon', 'na', 'buy', 'drop', 'place', 'later', 'tonight', 'total', 'order', 'quarter', 'got', 'enough', 'guy', 'car', 'shop', 'flirt', 'got', 'phone', 'number', 'paperwork', 'call', 'text', 'nervou', 'cours', 'may', 'address', 'call', 'boss', 'tell', 'know', 'may', 'get', 'fire', 'plan', 'manag', 'er', 'hello', 'thing', 'quit', 'go', 'plan', 'limp', 'slowli', 'home', 'follow', 'aa', 'exhaust', 'hang', 'sorri', 'delay', 'ye', 'master', 'call', 'u', 'finish', 'come', 'n', 'pick', 'u', 'oga', 'left', 'phone', 'home', 'saw', 'ur', 'messag', 'hope', 'good', 'great', 'weekend', 'worri', 'though', 'understand', 'import', 'put', 'place', 'poorli', 'thought', 'punish', 'face', 'worst', 'thing', 'ever', 'happen', 'brb', 'gon', 'na', 'go', 'kill', 'honey', 'pl', 'find', 'much', 'sell', 'predict', 'nigeria', 'mani', 'time', 'use', 'import', 'repli', 'monday', 'e', 'admin', 'build', 'might', 'b', 'slightli', 'earlier', 'call', 'u', 'reach', 'fyi', 'usf', 'swing', 'room', 'whenev', 'call', 'lt', 'gt', 'min', 'that', 'ok', 'ìï', 'home', 'work', 'meh', 'anyth', 'valuabl', '2', 'situat', 'get', 'loos', 'mark', 'take', 'forev', 'pick', 'prescript', 'pain', 'come', 'back', 'ur', 'paper', 'got', 'smaller', 'capac', 'one', 'quit', 'ex', 'im', 'good', 'think', 'thought', 'bout', 'drink', 'tap', 'spile', 'seven', 'pub', 'ga', 'st', 'broad', 'st', 'canal', 'ok', 'go', 'sleep', 'tire', 'travel', 'haha', 'thinkin', 'yup', 'give', 'problem', 'mayb', 'ju', 'leav', 'lol', 'tri', 'make', 'day', 'littl', 'interest', 'long', 'get', 'repli', 'defer', 'admiss', 'til', 'next', 'semest', 'word', 'chess', 'come', 'persian', 'phrase', 'shah', 'mean', 'king', 'dead', 'goodmorn', 'good', 'day', 'po', 'de', 'need', 'job', 'aha', 'rat', 'hey', 'u', 'ever', 'vote', 'next', 'theme', 'hope', 'pee', 'burn', 'tonit', 'oh', 'rite', 'well', 'im', 'best', 'mate', 'pete', 'went', '4', '2geva', 'longer', 'week', 'yay', 'ca', 'wait', 'parti', 'togeth', 'photoshop', 'make', 'comput', 'shut', 'boy', 'made', 'fun', 'today', 'ok', 'problem', 'sent', 'one', 'messag', 'fun', 'one', 'issu', 'california', 'okay', 'snow', 'manag', 'hmmm', 'mayb', 'tri', 'e', 'shoppin', 'area', 'one', 'forgot', 'e', 'name', 'hotel', 'awesom', 'gon', 'na', 'soon', 'later', 'tonight', 'need', 'detail', 'onlin', 'job', 'miss', 'inshah', 'allah', 'pl', 'help', 'tell', 'ashley', 'cant', 'find', 'number', 'oh', 'increas', 'chanc', 'win', 'either', 'way', 'work', 'lt', 'gt', 'year', 'old', 'hope', 'doesnt', 'bother', 'mayb', 'find', 'someth', 'els', 'instead', 'gain', 'right', 'demand', 'tri', 'husband', 'see', 'like', 'new', 'hous', 'fine', 'hope', 'also', 'also', 'north', 'carolina', 'texa', 'atm', 'would', 'go', 'gre', 'site', 'pay', 'test', 'result', 'sent', 'u', 'ye', 'babi', 'need', 'stretch', 'open', 'pussi', 'thank', 'bomb', 'date', 'phone', 'want', 'say', 'hey', 'guy', 'know', 'breath', 'neck', 'get', 'bud', 'anyway', 'abl', 'get', 'half', 'track', 'usf', 'tonight', 'one', 'power', 'weapon', '2', 'occupi', 'place', 'other', 'nokia', 'phone', 'lovli', 'sorri', 'da', 'today', 'wont', 'come', 'play', 'drive', 'cla', 'realli', 'sorri', 'lit', 'hair', 'fire', 'oh', 'shit', 'thought', 'trip', 'loooooool', 'make', 'much', 'sens', 'grin', 'sofa', 'refer', 'link', 'sent', 'went', 'trip', 'oh', 'babe', 'go', 'celebr', 'rent', 'okey', 'dokey', 'swashbuckl', 'stuff', 'oh', 'tension', 'face', 'smile', 'face', 'wast', 'face', 'innoc', 'face', 'face', 'face', 'face', 'face', 'face', 'lt', 'gt', 'face', 'dip', 'cell', 'dead', 'come', 'u', 'better', 'respond', 'els', 'shall', 'come', 'back', 'well', 'know', 'mean', 'text', 'hi', 'di', 'yiju', 'would', 'happi', 'work', 'wif', 'gek1510', 'lol', 'oop', 'sorri', 'fun', 'wat', 'happen', 'cruis', 'thing', 'know', 'dat', 'feelin', 'pete', 'wuld', 'get', 'em', 'nuther', 'place', 'nuther', 'time', 'mayb', 'world', 'happiest', 'frnd', 'never', 'charact', 'dey', 'best', 'understand', 'differ', 'yeah', 'open', 'chat', 'click', 'friend', 'list', 'make', 'list', 'easi', 'pie', 'alright', 'tyler', 'got', 'minor', 'crisi', 'home', 'sooner', 'thought', 'asap', 'pick', 'usual', 'u', 'call', 'ard', '10', 'smth', 'mani', 'thing', 'antibiot', 'use', 'chest', 'abdomen', 'gyna', 'infect', 'even', 'bone', 'infect', 'poor', 'girl', 'ca', 'go', 'one', 'day', 'lmao', '6time', 'pl', 'make', 'note', 'expos', 'also', 'find', 'school', 'anyon', 'els', 'vomit', 'dog', 'cat', 'hous', 'let', 'know', 'later', 'sound', 'like', 'could', 'lot', 'time', 'spent', 'chastiti', 'devic', 'boy', 'grin', 'take', 'beat', 'like', 'good', 'dog', 'go', 'loung', 'nice', 'long', 'bath', 'wors', 'use', 'half', 'way', 'stop', 'better', 'complet', 'miser', 'tell', 'u', 'side', 'effect', 'birth', 'control', 'massiv', 'gut', 'wrench', 'cramp', 'first', '2', 'month', 'sleep', 'last', 'night', 'send', 'new', 'number', '2', 'half', 'year', 'miss', 'friendship', 'oh', 'fuck', 'sake', 'like', 'tallahasse', 'haha', 'first', 'person', 'gon', 'na', 'ask', 'taka', 'lor', 'wat', 'time', 'u', 'wan', '2', 'come', 'n', 'look', '4', 'us', 'reach', 'anoth', '2', 'mean', 'post', 'wrote', 'like', 'mani', 'time', 'ritten', 'stuff', 'let', 'sit', 'feel', 'time', 'angri', 'left', 'hit', 'send', 'stop', 'check', 'phone', 'got', 'car', 'said', 'sleep', 'bore', 'would', 'time', 'clean', 'fold', 'laundri', 'least', 'make', 'bed', 'come', 'onlin', 'today', 'night', 'anyth', 'special', 'solihul', 'want', 'anyth', 'good', 'day', 'regret', 'inform', 'u', 'nh', 'made', 'never', 'actual', 'report', '2', 'yor', 'local', 'hospit', '2b', 'r', 'sorri', '4', 'inconveni', 'love', 'holiday', 'monday', 'feel', 'even', 'go', 'dentist', 'hour', 'way', 'tirupur', 'alreadi', 'got', 'flaki', 'parent', 'suppos', 'child', 'job', 'support', 'parent', 'ride', 'age', 'anyway', 'suppos', 'support', 'hurt', 'unintent', 'hurt', 'nonetheless', 'took', 'hooch', 'walk', 'toaday', 'fell', 'splat', 'graze', 'knee', 'everyth', 'stay', 'home', 'see', 'tomorrow', 'drop', 'em', 'omw', 'back', 'sit', 'mu', 'wait', 'everyon', 'get', 'suit', 'take', 'shower', 'call', 'see', 'facebook', 'huh', 'g', 'say', 'never', 'answer', 'text', 'common', 'hearin', 'r', 'u', 'wat', 'r', 'u', 'ur', 'day', 'let', 'ask', 'u', 'someth', 'differ', 'u', 'smile', 'today', 'gud', 'evng', 'oh', 'yah', 'never', 'cancel', 'leh', 'haha', 'go', '4', 'e', 'normal', 'pilat', 'intro', 'ok', 'let', 'u', 'noe', 'leav', 'hous', 'oh', 'ye', 'like', 'tortur', 'watch', 'england', 'wan', 'na', 'art', 'hope', 'piss', 'rememb', 'gone', 'sister', 'someth', 'good', 'morn', 'boytoy', 'yummi', 'lip', 'sexi', 'bun', 'think', 'crave', 'need', 'match', 'lt', 'gt', '2', 'free', 'call', 'sir', 'hey', 'want', 'anyth', 'buy', 'hey', 'babe', 'go', 'ever', 'figur', 'go', 'new', 'year', 'k', 'congratul', 'g', 'want', 'know', 'fuck', 'cancel', 'yeah', 'babi', 'well', 'sound', 'import', 'understand', 'darlin', 'give', 'ring', 'later', 'fone', 'love', 'kate', 'x', 'tomarrow', 'want', 'got', 'court', 'lt', 'decim', 'gt', 'come', 'bu', 'stand', '9', 'ìï', 'go', 'home', 'liao', 'ask', 'dad', 'pick', '6', 'omg', 'make', 'wed', 'chapel', 'frontiervil', 'get', 'good', 'stuff', 'eatin', 'lor', 'goin', 'back', 'work', 'soon', 'e', 'mountain', 'deer', 'show', 'huh', 'watch', 'b4', 'liao', 'nice', 'check', 'mail', 'varma', 'kept', 'copi', 'regard', 'allah', 'wrong', 'phone', 'phone', 'answer', 'one', 'assum', 'peopl', 'well', 'anyway', 'think', 'secur', 'anyth', 'lem', 'know', 'want', 'drive', 'south', 'chill', 'alreadi', 'back', 'home', 'probabl', 'bu', 'way', 'calicut', 'hi', 'probabl', 'much', 'fun', 'get', 'messag', 'thought', 'id', 'txt', 'u', 'co', 'im', 'bore', 'jame', 'fart', 'night', 'hi', 'babi', 'im', 'sat', 'bloodi', 'bu', 'mo', 'wont', 'home', 'wan', 'na', 'somethin', 'later', 'call', 'later', 'ortxt', 'back', 'jess', 'xx', 'lost', '4', 'pound', 'sinc', 'doc', 'visit', 'last', 'week', 'woot', 'woot', 'gon', 'na', 'celebr', 'stuf', 'face', 'u', 'come', 'back', '4', 'dinner', 'rite', 'dad', 'ask', 'confirm', 'wif', 'u', 'master', 'buy', 'bb', 'co', 'sale', 'bf', 'ahhhh', 'woken', 'bad', 'dream', 'u', 'tho', 'dont', 'like', 'u', 'right', 'didnt', 'know', 'anyth', 'comedi', 'night', 'guess', 'im', 'vivek', 'got', 'call', 'number', 'u', 'call', 'lunch', 'mean', 'left', 'earli', 'check', 'co', 'work', 'want', 'lt', 'gt', 'rs', 'da', 'want', 'see', 'pretti', 'pussi', 'peopl', 'game', 'mall', 'iouri', 'kaila', 'futur', 'plan', 'tomorrow', 'result', 'today', 'best', 'present', 'enjoy', 'futur', 'cme', 'want', 'go', 'ho', '2morow', 'wil', 'cme', 'got', 'dear', 'didnt', 'say', 'time', 'suppos', 'meet', 'discuss', 'abt', 'trip', 'thought', 'xuhui', 'told', 'afternoon', 'thought', 'go', 'lesson', 'hey', 'come', 'onlin', 'use', 'msn', 'fine', 'hope', 'good', 'take', 'care', 'oop', 'shower', 'u', 'call', 'hey', 'park', 'garag', 'collaps', 'univers', 'hospit', 'see', 'crazi', 'stuff', 'like', 'happen', 'aiyo', 'u', 'poor', 'thing', 'u', 'dun', 'wan', '2', 'eat', 'u', 'bath', 'alreadi', 'yar', 'tot', 'u', 'knew', 'di', 'would', 'happen', 'long', 'ago', 'alreadi', 'gorgeou', 'keep', 'pix', 'cum', 'thank', 'jade', 'paul', 'didnåõt', 'u', 'txt', 'u', 'rememb', 'barm', 'want', '2', 'talk', '2', 'u', 'txt', 'spend', 'new', 'year', 'brother', 'famili', 'let', 'plan', 'meet', 'next', 'week', 'readi', 'spoil', 'u', 'today', 'said', 'okay', 'sorri', 'slept', 'thinkthi', 'time', 'lt', 'gt', 'pm', 'danger', 'network', 'job', 'dont', 'let', 'studi', 'stress', 'l8r', 'u', 'haf', '2', 'keep', 'busi', 'rush', 'work', 'school', 'rush', 'go', 'hungri', 'channel', 'tell', 'coulda', 'real', 'valentin', 'u', 'never', 'pick', 'noth', 'made', 'eta', 'taunton', 'plan', 'hope', 'still', 'okday', 'good', 'see', 'hungri', 'buy', 'smth', 'home', 'kate', 'drive', 'read', 'need', 'write', 'look', 'addi', 'goe', 'back', 'monday', 'suck', 'happi', 'new', 'year', 'hope', 'good', 'semest', 'esplanad', 'lor', 'els', 'talk', 'hmph', 'go', 'head', 'big', 'baller', 'well', 'like', 'actual', 'call', 'someon', 'punto', 'woulda', 'wors', 'nope', 'sinc', 'ayo', 'travel', 'forgotten', 'guy', 'still', 'around', 'look', 'pick', 'later', 'someon', 'year', 'lt', 'gt', 'toyota', 'camri', 'like', 'mr', 'olayiwola', 'mileag', 'lt', 'gt', 'clean', 'need', 'know', 'much', 'sell', 'rais', 'dough', 'soon', 'land', 'sell', 'holla', 'back', 'guess', 'pub', 'im', 'im', 'happi', 'pig', 'clover', 'whatev', 'say', 'ill', 'b', 'soon', 'oh', 'come', 'tomorrow', 'go', 'fool', 'dont', 'cheat', 'other', 'ok', 'mobil', 'sm', 'ur', 'mail', 'regard', 'achan', 'way', 'meet', 'mountain', 'dont', 'u', 'attend', 'ur', 'drive', 'lesson', 'mani', 'time', 'wk', 'n', 'day', 'uncl', 'g', 'check', 'reward', 'month', 'hello', 'boytoy', 'geeee', 'miss', 'today', 'like', 'send', 'tm', 'remind', 'think', 'love', 'love', 'kiss', 'think', 'two', 'still', 'need', 'get', 'cash', 'def', 'readi', '9', 'hey', 'gal', 'u', 'wan', 'na', 'meet', '4', 'dinner', 'nìâte', 'babe', 'talk', 'think', 'good', 'boy', 'miss', 'love', 'great', 'offic', 'today', 'cool', 'last', 'littl', 'get', 'time', 'soon', 'sad', 'puppi', 'nois', 'ye', 'possibl', 'dint', 'tri', 'pl', 'dont', 'tell', 'one', 'k', 'anyway', 'holla', 'whenev', 'around', 'need', 'excus', 'go', 'creep', 'peopl', 'sarasota', 'happen', 'gon', 'na', 'ask', 'lol', 'think', '7', 'go', 'chase', 'run', 'cross', 'street', 'hey', 'inconveni', 'si', 'huh', 'ok', 'vl', 'u', 'know', 'got', 'adsens', 'approv', 'realli', 'good', 'see', 'day', 'dudett', 'miss', 'want', 'go', 'perumbavoor', 'mani', 'time', 'told', 'stage', 'use', 'laugh', 'listen', 'aha', 'hear', 'thank', 'talk', 'saturday', 'dear', 'cherish', 'brother', 'role', 'model', 'pl', 'clarifi', 'back', 'open', 'return', 'ticket', 'prepon', 'go', 'back', 'kerala', 'ran', 'younger', 'man', 'make', 'pretti', 'babi', 'togeth', 'ic', 'lol', 'play', '9', 'door', 'sometim', 'yo', 'dunno', 'dad', 'said', 'come', 'home', '2', 'bring', 'us', '4', 'lunch', 'yup', 'go', 'w', 'u', 'lor', 'call', 'u', 'reach', 'school', 'lor', 'u', 'go', 'doctor', '4', 'liver', 'get', 'bit', 'stylish', 'get', 'ur', 'hair', 'manag', 'that', 'dont', 'open', 'yeah', 'basic', 'time', 'next', 'week', 'get', 'away', 'mom', 'amp', 'get', '3', 'vote', 'wherev', 'heart', 'guid', 'si', 'lor', 'juz', 'watch', 'italian', 'job', 'tick', 'tick', 'tick', 'could', 'die', 'loneli', 'know', 'pout', 'stomp', 'feet', 'need', 'lmao', 'know', 'well', 'train', 'back', 'northampton', 'afraid', 'stay', 'skyve', 'today', 'ho', 'ho', 'around', 'wednesday', 'though', 'fanci', 'comedi', 'club', 'week', 'way', 'goodnight', 'da', 'thangam', 'realli', 'miss', 'u', 'dear', 'hey', 'next', 'sun', '1030', 'basic', 'yoga', 'cours', 'bugi', 'go', 'pilat', 'intro', 'next', 'sat', 'tell', 'time', 'r', 'free', 'geeeee', 'internet', 'realli', 'bad', 'today', 'eh', 'think', 'disturb', 'da', 'sorri', 'call', 'later', 'meet', 'sir', 'havent', 'stuck', 'orchard', 'dad', 'car', 'go', '4', 'dinner', 'u', 'leh', 'r', 'free', 'tonight', 'ok', 'also', 'wan', '2', 'watch', 'e', '9', 'pm', 'show', 'dunno', 'lei', 'like', 'dun', 'haf', 'brother', 'transfer', 'lt', 'gt', 'lt', 'gt', 'pa', 'call', 'later', 'afternoon', 'onword', 'mtnl', 'servic', 'get', 'problem', 'south', 'mumbai', 'hear', 'listen', 'talk', 'g', 'x', 'hai', 'dear', 'friend', 'new', 'amp', 'present', 'number', 'rajitha', 'raj', 'ranju', 'differ', 'style', 'gud', 'ni8', 'dear', 'slp', 'well', 'take', 'care', 'swt', 'dream', 'muah', 'well', 'glad', 'find', 'total', 'disagre', 'lol', 'guy', 'flash', 'go', 'call', 'call', 'madam', 'take', 'care', 'oh', 'mark', 'work', 'tomorrow', 'get', 'work', 'hous', 'meet', 'u', 'afterward', 'ur', 'problem', 'ur', 'heart', 'yeah', 'give', 'call', 'got', 'minut', 'babe', 'uawak', 'feellikw', 'via', 'alett', 'thatmum', 'gotmarri', 'ourback', 'åð', 'fuckinnic', 'selfish', 'amaz', 'rearrang', 'letter', 'give', 'mean', 'dormitori', 'dirti', 'room', 'astronom', 'moon', 'starer', 'eye', 'see', 'elect', 'result', 'lie', 'let', 'recount', 'woman', 'hitler', 'eleven', 'plu', 'two', 'plu', 'one', 'amaz', 'aiya', 'discuss', 'later', 'lar', 'pick', '4', 'hey', 'happi', 'birthday', 'sorri', 'miss', 'call', 'pleas', 'call', 'back', 'omg', 'one', 'thing', 'anoth', 'cat', 'worm', 'bad', 'day', 'end', 'good', 'morn', 'im', 'suffer', 'fever', 'dysentri', 'abl', 'come', 'offic', 'today', 'wont', 'anyth', 'de', 'type', 'stuff', 'sing', 'st', 'andr', 'virgil', 'cream', 'fri', 'ah', 'oki', 'lor', 'goin', '4', 'drivin', 'den', 'go', 'shoppin', 'tt', 'gokila', 'talk', 'aha', 'hi', 'shanil', 'rakhesh', 'exchang', 'uncut', 'diamond', 'back', 'excel', 'servic', 'dino', 'prem', 'month', 'kote', 'birthday', 'know', 'realli', 'realli', 'broke', 'oh', 'amount', 'small', 'even', 'lt', 'gt', 'sorri', 'mate', 'phone', 'didnt', 'write', 'love', 'kate', 'ah', 'well', 'confus', 'thing', 'doesnt', 'thought', 'friend', 'mayb', 'wrong', 'thing', 'alreadi', 'sort', 'invit', 'may', 'come', 'co', 'money', 'aight', 'call', 'close', 'nope', 'that', 'fine', 'might', 'nap', 'tho', 'news', 'hassl', 'get', 'weed', 'week', 'andr', 'money', 'haughaighgtujhyguj', 'ding', 'ya', 'break', 'fassyol', 'blacko', 'londn', 'realli', 'need', '2', 'kiss', 'u', 'miss', 'u', 'babi', 'ur', 'babi', '4eva', 'oh', 'got', 'mani', 'respons', 'reach', 'sch', 'alreadi', 'u', 'definit', 'need', 'modul', 'e', 'human', 'di', 'sem', 'izzit', 'u', 'wan', '2', 'take', 'modul', '1st', 'argh', 'fuck', 'nobodi', 'town', 'thank', 'fill', 'complet', 'calm', 'reassur', 'aslamalaikkum', 'insha', 'allah', 'tohar', 'beeen', 'muht', 'albi', 'mufti', 'mahfuuz', 'mean', 'drive', 'train', 'lol', 'real', 'told', 'dad', 'cancer', 'oop', 'lt', 'gt', 'enufcredeit', 'ileav', 'uni', '6', 'bu', 'yor', 'hous', 'hi', 'chikku', 'send', 'nice', 'msg', 'imposs', 'argu', 'alway', 'treat', 'like', 'sub', 'like', 'never', 'releas', 'remind', 'necessari', 'work', 'ah', 'den', '6', 'plu', 'lor', 'u', 'workin', 'oso', 'rite', 'den', 'go', 'orchard', 'lor', 'place', 'go', 'liao', 'wonder', 'okor', 'great', 'month', 'cherish', 'guy', 'wish', 'well', 'day', 'mojibiola', 'cuz', 'ibor', 'wan', 'na', 'studi', 'wot', 'wed', 'nite', '3', 'til', '9', 'way', 'suck', 'go', 'u', 'hair', 'free', 'right', 'still', 'work', 'time', 'also', 'tri', 'ad', 'zero', 'save', 'check', 'lt', 'gt', 'hmm', 'dunno', 'leh', 'mayb', 'bag', '4', 'goigng', 'dat', 'small', 'ju', 'anyth', 'except', 'perfum', 'smth', 'dat', 'keep', 'sday', 'train', 'start', 'today', 'sorri', 'grocer', 'nice', 'pub', 'near', 'franki', 'n', 'benni', 'near', 'warner', 'cinema', 'yup', 'havent', 'want', 'go', 'yoga', 'call', 'book', 'oh', 'shut', 'omg', 'yesterday', 'dream', '2', 'kid', 'boy', 'piss', 'kid', 'boy', 'even', 'told', 'mark', 'dream', 'chang', 'diaper', 'caus', 'get', 'owe', 'face', 'yeah', 'imagin', 'would', 'realli', 'gentl', 'unlik', 'doc', 'treat', 'patient', 'like', 'turkey', 'start', 'dont', 'stop', 'pray', 'good', 'idea', 'anyth', 'see', 'help', 'guy', 'forward', 'link', 'hi', 'darlin', 'im', 'helen', 'fone', 'im', 'gon', 'na', 'b', 'princ', '2', 'nite', 'pleas', 'come', 'tb', 'love', 'kate', 'offic', 'da', 'aiyar', 'u', 'poor', 'thing', 'give', 'u', 'support', 'k', 'jia', 'think', 'u', 'oh', 'unintent', 'bad', 'time', 'great', 'finger', 'train', 'play', 'along', 'give', 'fifteen', 'min', 'warn', 'k', 'come', 'wenev', 'u', 'lik', 'come', 'also', 'tel', 'vikki', 'come', 'get', 'free', 'time', 'pl', 'call', 'da', 'happen', 'happi', 'new', 'year', 'u', 'ur', 'famili', 'may', 'new', 'year', 'bring', 'happi', 'stabil', 'tranquil', 'ur', 'vibrant', 'colour', 'life', 'problem', 'renew', 'right', 'away', 'dont', 'know', 'detail', 'idk', 'sit', 'stop', 'shop', 'park', 'lot', 'right', 'bawl', 'eye', 'feel', 'like', 'failur', 'everyth', 'nobodi', 'want', 'feel', 'like', 'fail', 'left', 'yet', 'probabl', 'gon', 'na', 'til', 'dinner', 'like', 'lt', 'gt', 'question', 'new', 'year', 'eve', 'went', 'parti', 'boyfriend', 'si', 'hey', 'sir', 'need', 'velusami', 'sir', 'date', 'birth', 'compani', 'bank', 'facil', 'detail', 'k', 'k', 'sm', 'chat', 'come', 'karnan', 'car', 'pleas', 'wait', 'till', '6pm', 'directli', 'goto', 'doctor', 'bluray', 'player', 'ok', 'r', 'meet', 'later', 'lol', 'need', 'cash', 'nitro', 'hurri', 'come', 'crash', 'send', 'text', 'skype', 'later', 'ok', 'leav', 'need', 'ask', 'ìï', 'still', 'got', 'lesson', 'ìï', 'sch', 'dun', 'believ', 'leh', 'tot', 'told', 'true', 'alreadi', 'thk', 'muz', 'c', 'us', 'tog', 'believ', 'oh', 'charg', 'camera', 'got', 'salt', 'rub', 'open', 'wound', 'like', 'go', 'lunch', 'school', 'n', 'da', 'lab', 'stuff', 'give', 'call', 'r', 'done', 'aight', 'text', 'tonight', 'see', 'u', '2', 'water', 'log', 'desert', 'geoenvironment', 'implic', 'strang', 'watch', '2nd', 'one', 'bed', 'sweet', 'dream', 'miss', 'u', 'hi', 'hope', 'u', 'r', 'ok', 'said', 'would', 'text', 'u', 'seen', 'let', 'gentli', 'pleas', 'babe', 'fuck', 'love', 'know', 'fuck', 'good', 'hear', 'voic', 'need', 'crave', 'ca', 'get', 'enough', 'ador', 'ahmad', 'kiss', 'k', 'sure', 'rel', 'home', 'sm', 'de', 'pl', 'fuuuuck', 'need', 'stop', 'sleepin', 'sup', 'town', 'ju', 'take', 'mrt', 'later', 'cook', 'rather', 'nice', 'salmon', 'la', 'upload', 'mine', 'facebook', 'time', 'u', 'wrkin', 'oh', 'oh', 'den', 'muz', 'chang', 'plan', 'liao', 'go', 'back', 'yan', 'jiu', 'wyli', 'tampa', 'sarasota', 'ok', 'take', 'ur', 'time', 'n', 'enjoy', 'ur', 'dinner', 'darren', 'say', 'dat', 'u', 'meet', 'da', 'ge', 'den', 'dun', 'meet', '4', 'dinner', 'co', 'later', 'u', 'leav', 'xy', 'feel', 'awkward', 'den', 'u', 'meet', '4', 'lunch', 'lor', 'like', 'cheap', 'happi', 'splash', 'wine', 'make', 'feel', 'better', 'fine', 'difficulti', 'phone', 'work', 'mine', 'pl', 'send', 'anoth', 'friend', 'request', 'ugh', 'leg', 'hurt', 'musta', 'overdid', 'mon', 'wot', 'student', 'discount', 'u', 'get', 'book', 'come', 'get', 'b', 'quit', 'diff', 'guess', 'rite', 'babe', 'answer', 'ca', 'see', 'mayb', 'better', 'reboot', 'ym', 'got', 'photo', 'great', 'think', 'match', 'know', 'thinkin', 'malaria', 'relax', 'children', 'cant', 'handl', 'malaria', 'would', 'wors', 'gastroenter', 'take', 'enough', 'replac', 'loss', 'temp', 'reduc', 'give', 'malaria', 'med', 'vomit', 'self', 'limit', 'ill', 'mean', 'day', 'complet', 'stop', 'dai', 'download', 'exe', 'file', 'run', 'exe', 'instal', 'yesterday', 'true', 'true', 'busi', '3', 'pa', 'select', 'well', 'that', 'nice', 'bad', 'cant', 'eat', 'accident', 'brought', 'em', 'home', 'box', 'pl', 'need', 'dat', 'slowli', 'vomit', 'take', 'exam', 'march', '3', 'jane', 'babe', 'goin', '2', 'wrk', 'feel', 'ill', 'lst', 'nite', 'fone', 'alreadi', 'cover', '4', 'chuck', '5', 'night', 'nt', 'stay', 'port', 'step', 'liao', 'ex', 'die', 'want', 'u', 'stuff', 'fuck', 'juswok', 'bed', 'boatin', 'dock', 'slept', 'wid', '25', 'year', 'old', 'spinout', 'giv', 'u', 'da', 'gossip', 'l8r', 'alex', 'nichol', 'middl', 'school', 'turn', 'deal', 'mean', 'u', 'could', 'keep', 'ur', 'word', 'nope', 'still', 'market', 'realis', 'busi', 'guy', 'tri', 'bother', 'get', 'exam', 'outta', 'way', 'tri', 'car', 'gr8', 'day', 'hey', 'project', 'start', 'aha', 'da', 'ok', 'cool', 'see', 'ya', 'uworld', 'site', 'buy', 'qbank', 'buy', 'self', 'assess', 'also', 'yeah', 'still', 'give', 'ride', 'jay', 'want', 'work', 'first', '4', 'sound', 'gud', 'gud', 'k', 'chikku', 'tke', 'care', 'sleep', 'well', 'gud', 'nyt', 'hmm', 'think', 'lor', 'cours', 'teas', 'know', 'simpli', 'must', 'see', 'grin', 'keep', 'post', 'prey', 'love', 'smile', 'devour', 'kiss', 'thank', 'temal', 'wonder', 'thank', 'great', 'week', 'thank', 'princess', 'want', 'see', 'nice', 'juici', 'booti', 'eaten', 'day', 'sit', 'stare', 'juici', 'pizza', 'ca', 'eat', 'med', 'ruin', 'life', 'u', 'come', 'n', 'search', 'tat', 'vid', 'finishd', 'k', 'leav', 'soon', 'littl', '9', 'yeah', 'work', 'fine', 'start', 'last', 'week', 'stuff', 'dull', 'easi', 'guy', 'fun', 'studi', 'alon', 'without', 'anyon', 'help', 'cant', 'need', 'studi', 'pleas', 'tell', 'car', 'key', 'purs', 'didnt', 'get', 'anyth', 'da', 'ok', 'sweet', 'dream', 'well', 'big', 'surpris', '1', 'cbe', '2', 'chennai', 'help', 'u', 'swoop', 'pick', 'u', 'wherev', 'ur', 'bird', 'r', 'meet', 'u', 'want', 'anyon', 'call', 'treadmil', 'say', 'buy', 'make', 'sure', 'work', 'found', 'ad', 'craigslist', 'sell', 'lt', 'gt', 'absolut', 'love', 'south', 'park', 'recent', 'start', 'watch', 'offic', 'see', 'film', 'pl', 'speak', 'wont', 'ask', 'anyth', 'friendship', 'gud', 'care', 'hi', 'darlin', 'kate', 'u', 'doin', 'somethin', 'tonight', 'im', 'go', 'pub', 'call', 'swan', 'someth', 'parent', 'one', 'drink', 'phone', 'u', 'anyth', 'lar', 'go', 'home', '4', 'dinner', 'u', 'fix', 'teeth', 'take', 'care', 'u', 'wan', '2', 'come', 'dinner', 'tonight', 'u', 'u', '2', 'u', 'b', 'move', 'flat', 'co', 'need', 'arrang', 'pick', 'lamp', 'etc', 'take', 'care', 'hello', 'carolin', 'late', 'hi', 'hope', 'ur', 'day', 'good', 'back', 'walk', 'tabl', 'book', 'half', 'eight', 'let', 'know', 'ur', 'come', 'oh', 'yeah', 'clearli', 'fault', 'dunno', 'leh', 'cant', 'rememb', 'mayb', 'lor', 'wat', 'time', 'r', 'meet', 'tmr', 'best', 'msg', 'hard', 'person', 'u', 'know', 'one', 'step', 'foward', 'make', 'u', 'fall', 'love', 'amp', 'one', 'step', 'back', 'ruin', 'ur', 'friendship', 'good', 'night', 'vikki', 'come', 'around', 'lt', 'time', 'gt', 'princess', 'gone', 'get', 'info', 'bt', 'dont', 'know', 'yeah', 'probabl', 'still', 'pretti', 'weak', 'today', 'bad', 'day', 'hey', 'forget', 'mine', 'possess', 'properti', 'mmm', 'childish', 'smile', 'excel', 'thought', 'misundrstud', 'frnd', 'knw', 'u', 'hate', 'bt', 'day', 'wen', 'u', 'knw', 'truth', 'u', 'hate', 'urself', 'gn', 'hey', 'congrat', '2u2', 'id', 'luv', '2', 'ive', '2', 'go', 'home', 'dear', 'call', 'xy', 'tri', 'smth', 'u', 'eat', 'alreadi', 'havent', 'donno', 'gene', 'someth', 'alex', 'say', 'ok', 'ok', 'u', 'come', 'funer', 'home', 'darl', 'sister', 'school', 'resum', 'minimum', 'wait', 'period', 'reappli', 'take', 'care', 'hand', 'phone', 'chat', 'wit', 'u', 'well', 'good', 'morn', 'mr', 'how', 'london', 'treatin', 'ya', 'treacl', 'ca', 'make', 'tonight', 'lt', 'gt', 'buck', 'bank', 'fee', 'fix', 'better', 'call', 'bank', 'find', 'tell', 'quit', 'long', 'co', 'finish', 'film', 'yet', 'pl', 'ask', 'macho', 'much', 'budget', 'bb', 'bold', '2', 'co', 'saw', 'new', 'one', 'lt', 'gt', 'dollar', 'miss', 'call', 'mumha', 'beendrop', 'red', 'wine', 'theplac', 'adress', 'ill', '3', 'min', 'look', 'leav', 'come', 'back', 'thursday', 'yay', 'gon', 'na', 'ok', 'get', 'money', 'cheer', 'oh', 'yeah', 'everyth', 'alright', 'how', 'school', 'call', 'work', 'jolli', 'good', 'way', 'give', 'u', 'ticket', 'sat', 'eve', 'speak', 'x', 'yeah', 'think', 'go', 'tirunelvali', 'week', 'see', 'uncl', 'alreadi', 'spend', 'amount', 'take', 'dress', 'want', 'give', 'feb', '1', 'got', 'ur', 'favorit', 'oyster', 'n', 'got', 'favorit', 'sashimi', 'ok', 'lar', 'dun', 'say', 'alreadi', 'wait', 'ur', 'stomach', 'start', 'rumbl', 'sister', 'go', 'earn', 'da', 'ju', 'finish', 'watch', 'tv', 'u', 'k', 'fyi', 'back', 'parent', 'place', 'south', 'tampa', 'might', 'need', 'deal', 'somewher', 'els', 'good', 'morn', 'love', 'go', 'sleep', 'wish', 'great', 'day', 'full', 'feel', 'better', 'opportun', 'last', 'thought', 'babe', 'love', 'kiss', 'kothi', 'print', 'marandratha', 'havent', 'got', 'da', 'topic', 'yet', 'rite', 'ok', 'problem', 'yup', 'go', 'sch', '4', 'rem', 'correctli', 'thank', 'keep', 'mind', 'aah', 'bless', 'arm', 'dear', 'sir', 'salam', 'pleasur', 'meet', 'today', 'tea', 'pleas', 'send', 'contact', 'number', 'save', 'regard', 'gal', 'n', 'boy', 'walk', 'park', 'hold', 'ur', 'hand', 'u', 'think', 'would', 'run', 'away', 'jst', 'wana', 'c', 'feel', 'walk', 'heaven', 'princ', 'gn', 'make', 'happi', 'wish', 'wonder', 'week', 'sweet', 'heart', 'sir', 'wait', 'letter', 'dude', 'im', 'longer', 'pisc', 'im', 'aquariu', 'x', 'cours', '2yr', 'messag', 'messeng', 'lik', 'r', 'send', 'think', 'steyn', 'sure', 'get', 'one', 'wicket', 'neither', 'sterm', 'voic', 'studi', 'fine', 'sure', 'thing', 'resolv', 'tho', 'anyway', 'fab', 'hol', 'garbag', 'bag', 'egg', 'jam', 'bread', 'hannaford', 'wheat', 'chex', 'pride', 'almost', 'lt', 'gt', 'year', 'old', 'takin', 'money', 'kid', 'suppos', 'deal', 'stuff', 'grownup', 'stuff', 'tell', 'sound', 'better', 'even', 'im', 'costum', 'im', 'sure', 'time', 'finish', 'tomorrow', 'txt', 'end', 'birthday', 'feb', 'lt', 'gt', 'da', 'wan', 'na', 'gym', 'like', 'would', 'jerk', 'u', 'awak', 'snow', 'cours', 'make', 'stink', 'go', 'open', 'room', 'thanksgiv', 'without', 'upcharg', 'guy', 'plan', 'come', 'wat', 'sir', 'trip', 'bu', 'last', 'week', 'anoth', 'audit', 'next', 'wednesday', 'think', 'might', 'drive', 'time', 'thought', 'put', 'back', 'box', 'home', 'one', 'interest', 'may', 'busi', 'plan', 'yup', 'paragon', 'havent', 'decid', 'whether', '2', 'cut', 'yet', 'hee', 'good', 'morn', 'princess', 'great', 'day', 'guai', 'ìï', 'shd', 'haf', 'seen', 'naughti', 'ìï', 'free', 'today', 'go', 'jog', 'aiyo', 'co', 'sm', 'neva', 'repli', 'wait', '4', 'repli', 'lar', 'tot', 'havent', 'finish', 'ur', 'lab', 'wat', 'live', 'simpl', 'love', 'also', 'simpl', 'laugh', 'simpl', 'win', 'tooo', 'simpl', 'difficult', 'tell', 'someth', 'that', 'okay', 'hmm', 'shall', 'bring', 'bottl', 'wine', 'keep', 'us', 'amus', 'joke', 'still', 'bring', 'bottl', 'red', 'white', 'see', 'tomorrow', 'ur', 'face', 'test', '1', '2', '3', '4', '5', '6', '7', '8', '9', 'lt', 'gt', 'select', 'number', 'tell', 'ur', 'face', 'astrolog', 'wait', 'quick', 'repli', 'hey', 'iouri', 'gave', 'number', 'wyli', 'ryan', 'friend', 'yep', 'get', 'program', 'slack', 'insid', 'offic', 'still', 'fill', 'know', 'leav', 'think', 'mentor', '100', 'percent', 'sure', 'tri', 'figur', 'suppos', 'see', 'coupl', 'differ', 'peopl', 'week', 'said', 'get', 'togeth', 'set', 'date', 'hi', 'mom', 'might', 'back', 'later', 'lt', 'gt', 'lol', 'oh', 'got', 'friend', 'dog', 'problem', 'u', 'frm', 'wat', 'matter', 'k', 'head', 'min', 'see', 'want', 'leav', 'bare', 'stay', 'sane', 'fight', 'constantli', 'help', 'somebodi', 'set', 'websit', 'play', 'hold', 'em', 'use', 'eve', 'onlin', 'spacebuck', 'sunni', 'california', 'weather', 'cool', 'make', 'squeez', 'lt', 'gt', 'buck', 'dad', 'good', 'day', 'teeth', 'pain', 'maintain', 'stuff', 'babe', 'hope', 'shit', 'night', 'sleep', 'fell', 'asleep', 'knacker', 'iåõm', 'dread', 'work', 'tonight', 'thou', 'upto', 'tonight', 'x', 'friend', 'help', 'us', 'problem', 'give', 'stupid', 'suggest', 'land', 'us', 'anoth', 'problem', 'help', 'us', 'forgt', 'previou', 'problem', 'gentl', 'babi', 'soon', 'take', 'lt', 'gt', 'inch', 'deep', 'insid', 'tight', 'pussi', 'much', 'fight', 'good', 'nite', 'nt', 'joke', 'serious', 'told', 'watch', 'ajith', 'film', 'ah', 'ooooooh', 'forgot', 'tell', 'u', 'get', 'yovil', 'phone', 'done', 'hand', 'know', 'mega', 'shop', 'asda', 'count', 'celebr', 'that', 'dont', 'know', 'exactli', 'could', 'ask', 'chechi', 'dunno', 'lei', 'shd', 'b', 'drive', 'lor', 'co', 'go', 'sch', '1', 'hr', 'oni', 'want', 'custom', 'offic', 'discount', 'oh', 'necessarili', 'respect', 'hi', 'hope', 'good', 'day', 'better', 'night', 'appar', 'bff', 'carli', 'quick', 'hard', 'true', 'much', 'show', 'amp', 'express', 'love', 'someon', 'much', 'hurt', 'leav', 'get', 'seper', 'even', 'babe', 'think', 'got', 'ur', 'brolli', 'left', 'english', 'wil', 'bring', '2mrw', '4', 'u', 'luv', 'franxx', 'hi', 'babe', 'thank', 'come', 'even', 'though', 'didnt', 'go', 'well', 'want', 'bed', 'hope', 'see', 'soon', 'love', 'kiss', 'xxx', 'gd', 'got', 'free', 'ice', 'cream', 'oso', 'wan', 'pl', 'give', 'prometazin', 'syrup', '5ml', 'lt', 'gt', 'min', 'later', 'feed', 'mani', 'day', 'sinc', 'dear', 'angri', 'busi', 'dear', 'yup', 'msg', 'tat', 'yiju', 'tot', 'group', 'mate', 'co', 'meet', 'today', 'mah', 'askin', 'leav', 'earlier', 'wat', 'mah', 'co', 'mayb', 'haf', 'walk', 'v', 'far', 'pub', 'first', 'time', 'everyth', 'daddi', 'shu', 'shu', 'look', '4', 'u', 'u', 'wan', '2', 'tell', 'u', 'singapor', 'wat', 'ask', 'u', 'meet', 'da', 'ge', 'tmr', 'nite', 'gr8', 'handl', 'victoria', 'island', 'traffic', 'plu', 'album', 'due', 'nite', 'nite', 'pocay', 'wocay', 'luv', 'u', 'n', 'e', 'thing', '4eva', 'promis', 'ring', 'u', '2morrowxxxx', 'east', 'coast', 'get', 'chicken', 'broth', 'want', 'ramen', 'unless', 'know', 'slave', 'want', 'take', '2', '3', 'pictur', 'today', 'bright', 'light', 'cell', 'phone', 'bright', 'light', 'nope', 'forgot', 'show', 'next', 'week', 'realli', 'master', 'bruce', 'amp', 'fowler', 'mom', 'car', 'ca', 'park', 'long', 'stori', 'dont', 'know', 'oh', 'hope', 'month', 'hi', 'elain', 'today', 'meet', 'confirm', 'ok', 'k', 'sri', 'knw', '2', 'siva', 'tat', 'askd', 'u', 'horribl', 'gal', 'u', 'knew', 'dat', 'go', 'wif', 'yest', 'n', 'u', 'still', 'come', 'n', 'ask', 'oh', 'yeah', 'diet', 'flew', 'window', 'didnt', 'complet', 'gist', 'oh', 'er', 'yeah', 'b', 'sorri', 'tell', 'sit', 'come', 'wen', 'u', 'make', 'time', 'tonight', 'whenev', 'cool', 'text', 'whenev', 'around', 'pay', 'attent', 'thanx', 'lot', '4', 'ur', 'help', 'gon', 'na', 'way', 'specif', 'jesu', 'armand', 'realli', 'tri', 'tell', 'everybodi', 'find', 'wif', 'buy', 'tix', 'lar', 'mode', 'men', 'left', 'slow', 'use', 'biola', 'fne', 'youdo', 'later', 'sar', 'hey', 'book', '2', 'lesson', 'sun', 'liao', 'thank', 'gener', 'date', 'brotha', 'way', 'make', 'sure', 'u', 'get', 'train', 'worc', 'foreg', 'street', 'shrub', 'hill', 'fun', 'night', 'x', 'thought', 'get', 'watch', 'co', 'that', 'kind', 'thing', 'u', 'get4an18th', 'love', 'much', 'good', 'morn', 'repair', 'shop', 'reason', 'hour', 'fine', 'got', 'enough', 'bud', 'last', 'night', 'least', 'back', 'good', 'journey', 'let', 'know', 'need', 'receipt', 'shall', 'tell', 'like', 'pendent', 'take', 'away', 'money', 'worri', 'aight', 'pick', 'open', 'tonight', 'sac', 'need', 'carri', 'sing', 'hu', 'think', 'also', 'import', 'find', 'someon', 'femal', 'know', 'place', 'well', 'prefer', 'citizen', 'also', 'smart', 'help', 'navig', 'even', 'thing', 'like', 'choos', 'phone', 'plan', 'requir', 'guidanc', 'doubt', 'ask', 'especi', 'girl', 'hello', 'wat', 'talk', 'email', 'address', 'except', 'there', 'chick', 'huge', 'boob', 'im', 'wonder', 'right', 'wish', 'beauti', 'day', 'moment', 'reveal', 'even', 'thing', 'keep', 'smile', 'enjoy', 'hear', 'loud', 'scream', 'lt', 'gt', 'minut', 'caus', 'gyno', 'shove', 'thing', 'belong', 'ok', 'thk', 'got', 'u', 'wan', '2', 'come', 'wat', 'u', 'goin', '2nite', 'treasur', 'everi', 'moment', 'spend', 'togeth', 'shall', 'bring', 'us', 'bottl', 'wine', 'keep', 'us', 'amus', 'joke', 'bring', 'one', 'anyway', 'thought', 'slide', 'enough', 'well', 'obvious', 'peopl', 'cool', 'colleg', 'life', 'went', 'home', 'ok', 'lor', 'reach', 'messag', 'mummi', 'boy', 'good', 'bad', 'posit', 'neg', 'mummi', 'made', 'wait', 'hmmmm', 'dhoni', 'luck', 'win', 'big', 'win', 'ye', 'princess', 'want', 'pleas', 'everi', 'night', 'wish', 'command', 'probabl', 'lt', 'gt', 'realli', 'hope', 'work', 'doesnt', 'get', 'stress', 'gr8', 'day', 'seen', 'back', 'holbi', 'shall', 'call', 'dear', 'food', 'li', 'hai', 'bore', 'da', 'lectur', 'repeat', 'last', 'week', 'stuff', 'wast', 'time', 'pick', 'variou', 'point', 'go', '2', 'yeovil', 'motor', 'project', '4', '3', 'hour', 'u', 'take', 'home', '12', '2', 'max', 'easi', 'also', 'fuck', 'famili', 'go', 'rhode', 'island', 'wherev', 'fuck', 'leav', 'alon', 'week', 'new', 'bong', 'gt', 'ofcours', 'also', 'upload', 'song', 'oh', 'thank', 'lot', 'alreadi', 'bought', '2', 'egg', 'u', 'studi', 'sch', 'go', 'home', 'anyway', 'b', 'go', '2', 'sch', 'later', 'think', 'rule', 'tamilnadu', 'tough', 'peopl', 'cool', 'shall', 'go', 'see', 'go', 'tip', 'anyway', 'home', 'got', 'someth', 'drop', 'later', 'let', 'go', 'town', 'tonight', 'mayb', 'mum', 'take', 'us', 'good', 'afternoon', 'love', 'goe', 'day', 'sleep', 'hope', 'well', 'boytoy', 'think', 'ye', 'trust', 'u', 'buy', 'new', 'stuff', 'asap', 'tri', 'wake', 'gt', 'get', 'step', '2', 'outta', 'way', 'congrat', 'love', 'one', 'law', 'make', 'happi', 'person', 'love', 'way', 'friendship', 'one', 'law', 'never', 'make', 'ur', 'friend', 'feel', 'alon', 'aliv', 'gud', 'night', 'apo', 'mokka', 'player', 'perhap', 'much', 'easi', 'give', 'account', 'identif', 'tomorrow', 'uni', 'wait', 'msg', 'lt', 'gt', 'min', 'told', 'tell', 'stupid', 'hear', 'wont', 'tell', 'anyth', 'dad', 'call', 'brother', 'spoken', 'god', 'love', 'limit', 'god', 'grace', 'measur', 'god', 'power', 'boundari', 'may', 'u', 'god', 'endless', 'bless', 'alway', 'ur', 'life', 'gud', 'ni8', 'want', 'insid', 'everi', 'night', 'machan', 'go', 'gym', 'tomorrow', 'wil', 'come', 'late', 'goodnight', 'lol', 'mad', 'first', 'woke', 'gave', 'reassur', 'crazi', 'world', 'make', 'dinner', 'ye', 'pleas', 'leav', 'lt', 'gt', 'lt', 'gt', 'leav', 'oh', 'oki', 'lor', 'go', 'sat', 'great', 'role', 'model', 'give', 'much', 'realli', 'wish', 'day', 'miracl', 'god', 'reason', 'everyth', 'must', 'say', 'wish', 'knew', 'dont', 'look', 'sinc', 'young', 'still', 'great', 'day', 'ya', 'referin', 'mei', 'ex', 'wat', 'ah', 'waitin', '4', 'u', 'treat', 'somebodi', 'shld', 'b', 'rich', 'liao', 'gd', 'den', 'u', 'dun', 'work', 'frm', 'tmr', 'onward', 'mile', 'smile', 'r', 'made', 'frm', 'letter', 'u', 'know', 'differ', 'smile', 'ur', 'face', 'keep', 'happi', 'even', 'though', 'mile', 'away', 'u', 'keep', 'smile', 'good', 'nyt', 'way', 'put', 'skip', 'right', 'outsid', 'front', 'hous', 'see', 'hous', 'pull', 'pl', 'send', 'compani', 'name', 'saibaba', 'colani', 'dont', 'want', 'hear', 'anyth', 'big', 'chic', 'common', 'declar', 'that', 'cool', 'want', 'pleas', 'go', 'join', 'tomorrow', 'want', 'tell', 'bad', 'feel', 'basic', 'time', 'text', 'late', 'need', 'drug', 'total', 'disappoint', 'text', 'craziest', 'shit', 'got', 'effect', 'irrit', 'ignor', 'one', 'think', 'tantrum', 'finish', 'yeah', 'point', 'compliment', 'away', 'system', 'side', 'happen', 'adventur', 'hey', 'chief', 'give', 'bell', 'get', 'need', 'talk', 'royal', 'visit', '1st', 'june', 'ok', 'anoth', 'number', 'aiyah', 'ok', 'wat', 'long', 'got', 'improv', 'alreadi', 'wat', 'ca', 'believ', 'attach', 'see', 'everi', 'day', 'know', 'best', 'get', 'babe', 'go', 'teach', 'class', 'midnight', 'yeah', 'ju', 'rite', 'armand', 'say', 'get', 'ass', 'epsilon', 'u', 'still', 'havent', 'got', 'urself', 'jacket', 'ah', 'take', 'derek', 'amp', 'taylor', 'walmart', 'back', 'time', 'done', 'leav', 'mous', 'desk', 'text', 'priscilla', 'readi', 'hi', 'durban', 'still', 'number', 'ic', 'lotta', 'childporn', 'car', 'tri', 'weekend', 'v', 'know', 'wot', 'peopl', 'wear', 'shirt', 'jumper', 'hat', 'belt', 'know', 'r', 'cribb', 'cool', 'time', 'think', 'get', 'wen', 'get', 'spiritu', 'deep', 'great', 'safe', 'trip', 'nigeria', 'wish', 'happi', 'soon', 'compani', 'share', 'moment', 'well', 'keep', 'mind', 'got', 'enough', 'ga', 'one', 'round', 'trip', 'bar', 'sudden', 'influx', 'cash', 'yeh', 'indian', 'nice', 'tho', 'kane', 'bit', 'shud', 'go', '4', 'drink', 'sometim', 'soon', 'mite', 'hav', '2', 'go', '2', 'da', 'work', '4', 'laugh', 'soon', 'love', 'pete', 'x', 'x', 'ye', 'u', 'text', 'pshew', 'miss', 'much', 'meant', 'calcul', 'lt', 'gt', 'unit', 'lt', 'gt', 'school', 'realli', 'expens', 'start', 'practic', 'accent', 'import', 'decid', '4year', 'dental', 'school', 'nmde', 'exam', 'next', 'lt', 'gt', 'hour', 'imma', 'flip', 'shit', 'anyth', 'lor', 'juz', 'us', 'lor', 'get', 'dump', 'heap', 'mom', 'decid', 'come', 'low', 'bore', 'ok', 'lor', 'soni', 'ericsson', 'salesman', 'ask', 'shuhui', 'say', 'quit', 'gd', '2', 'use', 'consid', 'ard', '6', 'like', 'dat', 'lor', 'wait', 'least', 'wednesday', 'see', 'get', 'huh', 'lei', 'b', 'go', 'esplanad', 'fr', 'home', 'piti', 'mood', 'suggest', 'guy', 'bitch', 'act', 'like', 'interest', 'buy', 'someth', 'els', 'next', 'week', 'gave', 'us', 'free', 'rofl', 'true', 'name']\n"
     ]
    }
   ],
   "source": [
    "print(ham_words)"
   ]
  },
  {
   "cell_type": "code",
   "execution_count": 68,
   "id": "6baa5d82",
   "metadata": {},
   "outputs": [],
   "source": [
    "from collections import Counter\n",
    "dict_count_ham = Counter(ham_words)"
   ]
  },
  {
   "cell_type": "code",
   "execution_count": 69,
   "id": "c3a73a12",
   "metadata": {},
   "outputs": [
    {
     "name": "stdout",
     "output_type": "stream",
     "text": [
      "Counter({'u': 883, 'go': 404, 'get': 349, 'gt': 288, 'lt': 287, '2': 284, 'come': 275, 'got': 236, 'know': 236, 'like': 234, 'call': 233, 'time': 219, 'ok': 217, 'love': 216, 'good': 213, 'want': 208, 'ur': 197, 'day': 190, 'need': 170, 'one': 165, 'lor': 159, '4': 156, 'home': 152, 'think': 149, 'see': 147, 'take': 143, 'still': 143, 'da': 138, 'tell': 133, 'make': 129, 'say': 127, 'back': 127, 'today': 123, 'hope': 122, 'ask': 121, 'sorri': 121, 'n': 120, 'send': 120, 'r': 120, 'work': 118, 'dont': 118, 'meet': 112, 'hi': 111, 'well': 109, 'thing': 109, 'wat': 108, 'k': 107, 'much': 107, 'night': 107, 'oh': 106, 'miss': 106, 'happi': 104, 'give': 102, 'later': 100, 'hey': 100, 'great': 97, 'na': 96, 'wait': 96, 'way': 95, 'alreadi': 90, 'thank': 87, 'let': 86, 'yeah': 86, 'text': 85, 'feel': 83, 'realli': 83, 'pl': 83, 'wan': 81, 'dear': 81, 'right': 80, 'e': 77, 'even': 77, 'friend': 76, 'sure': 76, 'said': 76, 'co': 76, 'would': 75, 'leav': 75, 'lol': 74, 'babe': 74, 'pleas': 74, 'im': 73, 'phone': 73, 'ye': 72, 'tri': 72, 'sleep': 72, 'anyth': 71, 'pick': 71, 'tomorrow': 69, 'someth': 69, 'morn': 68, 'keep': 68, 'care': 68, 'finish': 67, 'buy': 67, 'week': 66, 'watch': 65, 'also': 65, 'number': 64, 'life': 62, 'last': 62, 'new': 61, 'look': 60, 'around': 59, 'gon': 59, 'use': 59, 'year': 59, 'amp': 58, 'c': 57, 'tonight': 57, 'ca': 57, 'could': 57, 'late': 57, 'ya': 56, 'dun': 55, 'talk': 55, 'b': 55, 'messag': 55, 'money': 55, 'free': 55, 'smile': 55, 'wish': 55, 'soon': 54, 'guy': 54, 'msg': 53, 'place': 53, 'plan': 53, 'ìï': 53, 'first': 52, 'alway': 52, 'us': 52, 'start': 51, 'haha': 51, 'sent': 51, 'told': 51, 'happen': 50, 'thk': 50, 'mani': 50, 'find': 49, 'cant': 49, 'yet': 48, 'lot': 48, 'went': 48, 'nice': 47, 'fuck': 47, 'check': 46, 'next': 46, 'eat': 45, 'done': 45, 'class': 45, 'thought': 45, 'mean': 45, 'stuff': 44, 'fine': 44, 'reach': 44, 'gud': 44, 'v': 43, 'car': 43, 'bit': 43, 'mayb': 42, 'someon': 42, 'long': 42, 'ill': 42, 'hour': 42, 'worri': 41, 'yup': 41, 'stop': 41, 'better': 41, '3': 40, 'never': 40, '1': 40, 'cool': 40, 'job': 40, 'repli': 40, 'problem': 40, 'lunch': 39, 'peopl': 39, 'drive': 39, 'person': 39, 'everi': 39, 'quit': 39, 'lar': 38, 'pay': 38, 'may': 38, 'help': 37, 'that': 37, 'liao': 37, 'dat': 37, 'shop': 37, 'bring': 37, 'wonder': 36, 'month': 36, 'hello': 36, 'girl': 36, 'end': 36, 'yo': 36, 'hous': 36, 'minut': 36, 'kiss': 36, 'rememb': 35, 'dinner': 35, 'room': 35, 'x': 35, 'best': 35, 'guess': 35, 'ju': 35, 'readi': 35, 'min': 35, 'man': 34, 'noth': 34, 'might': 34, 'shit': 34, 'mind': 34, 'earli': 33, 'anoth': 33, 'aight': 33, 'sir': 33, 'stay': 33, 'big': 33, 'actual': 33, 'put': 33, 'god': 33, 'probabl': 33, 'wont': 32, 'ah': 32, 'bed': 32, 'anyway': 32, 'heart': 32, 'boy': 32, 'book': 32, 'den': 32, 'name': 31, 'show': 31, 'chang': 31, 'babi': 31, 'dunno': 31, 'princess': 31, 'word': 30, 'leh': 30, 'face': 30, 'thanx': 30, 'wake': 30, 'enjoy': 30, 'dad': 30, 'left': 29, 'sweet': 29, 'run': 29, 'hear': 29, 'shall': 29, 'bad': 29, 'world': 28, 'forgot': 28, 'tmr': 28, 'didnt': 28, 'two': 28, 'ever': 28, 'sat': 28, 'wif': 27, 'bu': 27, 'weekend': 27, 'hurt': 27, 'school': 27, 'mail': 27, 'littl': 27, 'walk': 27, 'everyth': 27, 'goe': 26, 'though': 26, 'lesson': 26, 'pain': 26, 'afternoon': 26, 'movi': 26, 'abt': 26, 'okay': 26, 'test': 26, 'abl': 26, 'sound': 26, 'luv': 26, 'di': 26, 'offic': 26, 'live': 25, 'enough': 25, 'decid': 25, 'sinc': 25, 'birthday': 25, 'play': 25, 'juz': 25, 'bath': 25, 'speak': 24, 'saw': 24, 'hair': 24, 'havent': 24, 'smoke': 24, 'wot': 24, 'made': 24, 'dude': 24, '5': 24, 'bore': 24, 'town': 24, 'half': 23, 'came': 23, 'els': 23, 'haf': 23, 'without': 23, 'til': 23, 'hav': 23, 'oso': 23, 'fun': 23, 'onlin': 23, 'lei': 23, 'ard': 22, 'alright': 22, 'real': 22, 'special': 22, 'food': 22, 'head': 22, 'beauti': 22, 'sch': 22, 'goin': 22, 'mom': 21, 'wo': 21, 'pa': 21, 'caus': 21, 'must': 21, 'open': 21, 'dream': 21, 'tv': 21, 'nite': 21, 'read': 21, 'drink': 21, 'tot': 21, 'togeth': 21, 'drop': 21, '6': 21, 'second': 20, 'yesterday': 20, 'busi': 20, 'account': 20, 'studi': 20, 'si': 20, 'decim': 20, 'noe': 20, 'full': 20, 'chikku': 20, 'huh': 20, 'detail': 20, 'famili': 20, 'de': 20, 'away': 20, 'treat': 19, 'set': 19, 'aft': 19, 'till': 19, 'tomo': 19, 'answer': 19, 'awesom': 19, 'true': 19, 'trip': 19, 'post': 19, 'mum': 19, 'train': 19, 'rite': 19, '9': 18, 'part': 18, 'frnd': 18, 'close': 18, 'old': 18, 'question': 18, 'believ': 18, 'plz': 18, 'reason': 18, 'gd': 18, 'neva': 18, 'sad': 18, 'plu': 18, 'point': 17, 'brother': 17, 'move': 17, 'took': 17, 'ta': 17, 'wen': 17, 'address': 17, 'hand': 17, 'join': 17, 'touch': 17, 'colleg': 17, 'die': 17, 'wil': 17, 'hold': 17, 'ring': 17, 'sort': 17, 'mine': 17, 'whatev': 17, 'search': 16, 'ha': 16, 'smth': 16, 'tho': 16, 'fri': 16, 'forget': 16, 'prob': 16, 'gone': 16, 'coz': 16, 'complet': 16, 'carlo': 16, 'boytoy': 16, 'id': 16, 'exam': 16, 'park': 16, 'far': 16, 'sister': 16, 'g': 16, 'kind': 16, 'outsid': 16, 'pub': 16, 'email': 16, 'sun': 16, 'sell': 16, 'mate': 16, 'seem': 15, 'cut': 15, 'mu': 15, 'everyon': 15, 'wit': 15, 'bank': 15, 'final': 15, 'xxx': 15, 'darlin': 15, 'oredi': 15, 'easi': 15, 'lose': 15, 'oki': 15, 'nope': 15, 'pretti': 15, 'listen': 15, 'drug': 15, 'laugh': 15, 'sit': 15, 'anyon': 15, 'parti': 15, 'tht': 15, 'how': 15, 'joke': 14, 'usual': 14, 'whole': 14, 'sm': 14, 'rain': 14, 'friday': 14, 'hmm': 14, 'uncl': 14, 'parent': 14, 'spend': 14, 'found': 14, 'ga': 14, 'break': 14, 'chat': 14, 'import': 14, 'compani': 14, 'meant': 14, 'friendship': 14, 'jay': 14, 'project': 14, 'bout': 14, '7': 14, 'suppos': 14, 'differ': 14, 'sea': 14, 'snow': 14, 'understand': 14, 'wife': 14, 'chennai': 14, 'avail': 13, 'catch': 13, 'almost': 13, 'hee': 13, 'ticket': 13, 'cash': 13, 'shower': 13, 'mah': 13, 'type': 13, 'cours': 13, 'txt': 13, 'goodmorn': 13, 'side': 13, 'case': 13, 'tel': 13, 'fr': 13, 'figur': 13, 'moment': 13, 'charg': 13, 'card': 13, 'bt': 13, 'simpl': 13, '8': 13, 'fast': 13, 'yar': 13, 'valentin': 13, 'eve': 13, 'knw': 13, 'nt': 13, 'least': 13, 'earlier': 13, 'mobil': 13, 'fren': 13, 'w': 13, 'alon': 13, 'promis': 12, 'date': 12, 'eh': 12, 'hungri': 12, 'turn': 12, 'crave': 12, 'save': 12, 'stand': 12, 'cost': 12, 'tire': 12, 'what': 12, 'hard': 12, 'contact': 12, 'safe': 12, 'march': 12, 'win': 12, 'fix': 12, 'swing': 12, 'christma': 12, 'light': 12, 'return': 12, 'interest': 12, 'ago': 12, 'seen': 12, 'coupl': 12, 'ass': 12, 'th': 12, 'scream': 12, 'confirm': 12, 'pic': 12, 'gym': 12, 'clean': 12, 'game': 12, 'darren': 12, 'gal': 12, 'ugh': 12, 'wrong': 12, 'grin': 12, 'difficult': 12, 'comin': 11, 'abiola': 11, 'hospit': 11, 'download': 11, 'load': 11, 'hit': 11, 'wine': 11, 'hmmm': 11, 'muz': 11, 'deal': 11, 'stori': 11, 'orchard': 11, 'kate': 11, 'teach': 11, 'road': 11, 'laptop': 11, 'angri': 11, 'expect': 11, 'disturb': 11, 'wana': 11, 'normal': 11, 'rest': 11, 'lost': 11, 'chanc': 11, 'st': 11, 'forward': 11, 'slow': 11, 'rock': 11, 'india': 11, 'pm': 11, 'monday': 11, 'rent': 11, 'frm': 11, 'holiday': 11, 'kid': 11, 'paper': 11, 'idea': 11, 'whenev': 11, 'crazi': 10, 'nah': 10, 'usf': 10, 'sick': 10, 'oop': 10, 'song': 10, 'xx': 10, 'il': 10, 'gave': 10, 'page': 10, 'felt': 10, 'inform': 10, 'ni8': 10, 'sometim': 10, 'mr': 10, 'gr8': 10, 'trust': 10, 'semest': 10, 'pass': 10, 'fone': 10, 'small': 10, 'ex': 10, 'woke': 10, 'custom': 10, 'mm': 10, 'yep': 10, 'voic': 10, 'either': 10, 'water': 10, 'across': 10, 'remind': 10, 'door': 10, 'age': 10, 'knew': 10, 'fill': 10, 'support': 10, 'fact': 10, 'doin': 10, 'excus': 10, 'hr': 10, 'per': 9, 'sunday': 9, 'mark': 9, 'saturday': 9, 'invit': 9, 'wow': 9, 'offer': 9, 'forev': 9, 'short': 9, 'lucki': 9, 'price': 9, 'comput': 9, 'lazi': 9, 'lect': 9, 'pray': 9, 'wast': 9, 'doesnt': 9, 'especi': 9, 'dead': 9, 'mrt': 9, 'ive': 9, 'bill': 9, 'appreci': 9, 'wid': 9, 'blue': 9, 'stupid': 9, 'unless': 9, 'somebodi': 9, 'somewher': 9, 'al': 9, 'receiv': 9, 'ten': 9, '10': 9, 'line': 9, 'cum': 9, 'depend': 9, 'meh': 9, 'fight': 9, 'less': 9, 'ladi': 9, 'warm': 9, 'em': 9, '1st': 9, 'xy': 9, 'add': 9, 'glad': 9, 'eye': 9, 'possibl': 9, 'gift': 9, 'bag': 9, 'poor': 9, 'photo': 9, 'wear': 9, 'truth': 9, 'ad': 9, 'heard': 9, 'hiya': 9, 'doctor': 9, 'film': 9, 'nobodi': 9, 'collect': 9, 'other': 9, 'bb': 9, 'player': 9, 'surpris': 9, 'sexi': 9, 'copi': 8, 'anymor': 8, 'pizza': 8, 'clear': 8, 'cheer': 8, 'quick': 8, 'roommat': 8, 'letter': 8, 'nigeria': 8, 'situat': 8, 'spent': 8, 'wk': 8, 'weight': 8, 'bother': 8, 'bak': 8, 'log': 8, 'net': 8, 'xma': 8, 'mrng': 8, 'rs': 8, 'connect': 8, 'slept': 8, 'bcoz': 8, 'correct': 8, 'lem': 8, 'celebr': 8, 'teas': 8, 'bslvyl': 8, 'imagin': 8, 'pete': 8, 'round': 8, 'urself': 8, 'basic': 8, 'weed': 8, 'met': 8, 'mistak': 8, 'facebook': 8, 'aha': 8, 'din': 8, 'kinda': 8, 'near': 8, 'silent': 8, 'fat': 8, 'workin': 8, 'daddi': 8, 'choos': 8, 'present': 8, 'noon': 8, 'alex': 8, 'longer': 8, 'tuesday': 8, 'ho': 8, 'order': 8, 'visit': 8, 'tonit': 8, 'librari': 8, 'slave': 8, 'omg': 8, 'gettin': 8, 'tampa': 8, 'murder': 8, 'yr': 8, 'mo': 8, 'medic': 8, 'fall': 8, 'honey': 8, 'vl': 8, 'marri': 8, 'write': 8, 'cover': 8, 'congrat': 8, 'excel': 8, 'john': 8, 'father': 8, 'hw': 8, 'list': 8, 'wednesday': 8, 'thinkin': 8, 'mon': 8, 'manag': 8, 'bugi': 7, 'la': 7, 'cine': 7, 'bless': 7, 'suck': 7, '2nd': 7, 'weak': 7, 'wun': 7, 'pleasur': 7, 'troubl': 7, 'men': 7, 'cuz': 7, 'umma': 7, 'eatin': 7, 'yiju': 7, 'shirt': 7, 'joy': 7, 'becom': 7, 'hop': 7, 'discuss': 7, 'lift': 7, 'howev': 7, 'settl': 7, 'buck': 7, 'past': 7, 'file': 7, 'system': 7, 'street': 7, 'batteri': 7, 'sign': 7, 'goodnight': 7, 'dnt': 7, 'deep': 7, 'ship': 7, 'lover': 7, 'sens': 7, 'coffe': 7, 'definit': 7, 'kb': 7, 'power': 7, 'yoga': 7, 'merri': 7, 'practic': 7, 'fault': 7, 'insur': 7, 'cold': 7, 'sigh': 7, 'pictur': 7, 'dollar': 7, 'style': 7, 'tat': 7, 'rather': 7, 'omw': 7, 'hurri': 7, 'gee': 7, 'bare': 7, 'izzit': 7, 'ar': 7, 'indian': 7, 'imma': 7, 'shuhui': 7, 'weather': 7, 'pop': 7, 'funni': 7, 'fetch': 7, 'awak': 7, 'torch': 7, 'bold': 7, 'holla': 7, 'top': 7, 'yest': 7, 'b4': 7, 'model': 7, 'matter': 7, 'hai': 7, 'otherwis': 7, 'greet': 7, 'piss': 7, 'nxt': 7, 'nyt': 7, 'regard': 7, 'black': 7, 'hot': 7, 'doc': 7, 'news': 7, 'cell': 7, 'mode': 7, 'dog': 7, 'shd': 7, 'share': 7, 'total': 7, 'lmao': 7, 'wed': 7, 'south': 7, 'ice': 7, 'instead': 7, 'buzz': 7, 'insid': 7, 'red': 7, 'mid': 7, 'role': 7, 'vikki': 7, 'sofa': 7, 'hug': 7, 'request': 6, 'cri': 6, 'naughti': 6, 'serious': 6, 'stock': 6, 'tea': 6, 'learn': 6, 'ahead': 6, 'inch': 6, 'tyler': 6, 'fyi': 6, 'realiz': 6, 'kill': 6, 'coin': 6, 'includ': 6, 'loan': 6, 'consid': 6, 'lie': 6, 'boss': 6, 'askd': 6, 'apart': 6, 'directli': 6, 'delet': 6, 'fanci': 6, 'hell': 6, 'toward': 6, 'success': 6, 'kalli': 6, 'dint': 6, 'throw': 6, 'ge': 6, 'updat': 6, 'rose': 6, 'hang': 6, 'key': 6, 'cake': 6, 'track': 6, 'report': 6, 'wiv': 6, 'num': 6, 'ish': 6, 'air': 6, 'cuddl': 6, 'guid': 6, 'relax': 6, 'pilat': 6, 'current': 6, 'via': 6, 'respond': 6, 'askin': 6, 'tough': 6, 'group': 6, 'transfer': 6, 'result': 6, 'isnt': 6, 'thru': 6, '8th': 6, 'fb': 6, 'credit': 6, 'opinion': 6, 'reali': 6, 'campu': 6, 'singl': 6, 'lead': 6, 'finger': 6, 'cheap': 6, 'aiyo': 6, 'colour': 6, 'paid': 6, 'prepar': 6, 'gap': 6, 'student': 6, 'yay': 6, 'damn': 6, 'space': 6, 'skype': 6, 'mother': 6, 'midnight': 6, 'sup': 6, 'attend': 6, 'ate': 6, 'expens': 6, 'j': 6, 'content': 6, 'loverboy': 6, 'seriou': 6, 'travel': 6, 'aiyah': 6, 'cancel': 6, 'station': 6, 'arm': 6, 'luck': 6, 'yahoo': 6, 'bird': 6, 'natur': 6, 'vomit': 6, 'except': 6, 'internet': 6, 'prefer': 6, 'freak': 6, 'hook': 6, 'slowli': 6, 'hate': 6, 'ahmad': 6, 'armand': 6, 'empti': 6, 'tear': 6, 'wors': 6, 'issu': 6, 'pussi': 6, 'cute': 6, 'budget': 6, 'plenti': 6, 'behind': 6, 'cancer': 6, 'tick': 6, 'med': 6, 'press': 5, 'spell': 5, 'thatåõ': 5, 'convinc': 5, 'egg': 5, 'ride': 5, 'embarass': 5, 'doubl': 5, 'network': 5, '530': 5, 'appoint': 5, 'ave': 5, 'boston': 5, 'scare': 5, 'tt': 5, 'enter': 5, 'predict': 5, 'begin': 5, 'interview': 5, 'avoid': 5, 'experi': 5, 'suggest': 5, 'match': 5, 'draw': 5, 'print': 5, 'kick': 5, 'websit': 5, 'cal': 5, 'bf': 5, 'anybodi': 5, 'accept': 5, 'advanc': 5, 'geeee': 5, 'will': 5, 'bar': 5, 'bodi': 5, 'lick': 5, 'intro': 5, 'none': 5, 'darl': 5, 'yan': 5, 'jiu': 5, 'hostel': 5, '50': 5, 'arrang': 5, 'acc': 5, 'donåõt': 5, 'link': 5, 'ttyl': 5, 'decis': 5, 'bye': 5, 'remov': 5, 'flat': 5, 'sec': 5, 'qualiti': 5, 'jst': 5, 'l8r': 5, 'self': 5, 'hotel': 5, 'english': 5, 'btw': 5, 'blood': 5, '2mrw': 5, 'marriag': 5, 'jazz': 5, 'yogasana': 5, 'exhaust': 5, 'somethin': 5, 'aunti': 5, 'pound': 5, 'gentl': 5, 'earth': 5, 'belli': 5, 'build': 5, 'law': 5, 'box': 5, 'aftr': 5, 'dey': 5, 'stress': 5, 'assum': 5, 'clock': 5, 'sing': 5, 'within': 5, 'piec': 5, 'sura': 5, 'derek': 5, 'white': 5, 'ym': 5, 'diet': 5, 'wherev': 5, 'recent': 5, 'heavi': 5, 'bowl': 5, 'site': 5, 'yun': 5, 'kerala': 5, 'regret': 5, 'asleep': 5, 'lectur': 5, 'rais': 5, 'fool': 5, 'april': 5, 'bitch': 5, 'uni': 5, 'italian': 5, 'horribl': 5, 'nw': 5, 'moan': 5, 'app': 5, 'chines': 5, 'rang': 5, 'cbe': 5, 'boo': 5, 'irrit': 5, 'secret': 5, 'broke': 5, 'alrit': 5, 'area': 5, 'rush': 5, 'extra': 5, 'pple': 5, 'cafe': 5, 'vote': 5, 'rem': 5, 'everybodi': 5, 'fli': 5, 'googl': 5, 'aint': 5, 'sale': 5, 'blank': 5, '2nite': 5, 'ador': 5, 'sight': 5, 'remain': 5, 'rd': 5, 'social': 5, 'bun': 5, 'lookin': 5, 'thnk': 5, 'cook': 5, 'nvm': 5, 'relat': 5, 'obvious': 5, 'affair': 5, 'art': 5, 'process': 5, 'hill': 5, 'mood': 5, 'whether': 5, 'possess': 5, 'dress': 5, 'random': 5, 'ru': 5, 'kano': 5, 'deliv': 5, 'amount': 5, 'advic': 5, 'valu': 5, 'ignor': 5, 'cinema': 5, 'lik': 5, 'etc': 5, 'step': 5, 'common': 5, 'oni': 4, 'callertun': 4, 'sooner': 4, 'pack': 4, 'kept': 4, 'gram': 4, 'crash': 4, 'seri': 4, 'wah': 4, 'machan': 4, 'respect': 4, 'sheet': 4, 'legal': 4, 'nyc': 4, 'research': 4, '12': 4, 'yetund': 4, 'swt': 4, 'qatar': 4, 'window': 4, 'modul': 4, 'bloodi': 4, 'worth': 4, 'spoke': 4, 'mummi': 4, '11': 4, 'straight': 4, 'shoot': 4, 'sen': 4, 'select': 4, 'regist': 4, 'teacher': 4, 'closer': 4, 'argument': 4, 'mmm': 4, 'sunni': 4, 'accident': 4, 'high': 4, 'def': 4, 'meal': 4, '2day': 4, 'pongal': 4, 'cud': 4, 'ppl': 4, 'waitin': 4, 'record': 4, 'surf': 4, 'wtf': 4, 'breath': 4, 'allah': 4, 'cream': 4, 'burn': 4, 'express': 4, 'esplanad': 4, 'urgent': 4, 'fifteen': 4, 'gorgeou': 4, 'concentr': 4, 'ure': 4, 'intellig': 4, 'woman': 4, 'posit': 4, 'dri': 4, 'charact': 4, 'bday': 4, 'malaria': 4, 'passion': 4, 'develop': 4, 'three': 4, 'gener': 4, 'lab': 4, 'bite': 4, 'danc': 4, 'grand': 4, 'pie': 4, 'suit': 4, 'often': 4, 'futur': 4, 'leona': 4, 'bud': 4, 'effect': 4, 'thursday': 4, 'taken': 4, 'bet': 4, 'hella': 4, 'evng': 4, 'peac': 4, 'explain': 4, 'king': 4, 'map': 4, 'an': 4, 'weird': 4, 'drivin': 4, 'anytim': 4, 'exactli': 4, 'twice': 4, 'realis': 4, 'spoken': 4, 'confus': 4, 'act': 4, 'meetin': 4, 'appar': 4, 'row': 4, 'appt': 4, '3d': 4, 'ai': 4, 'hunni': 4, 'ach': 4, 'green': 4, 'meanwhil': 4, 'impress': 4, 'version': 4, 'spk': 4, 'wall': 4, 'fail': 4, 'due': 4, 'store': 4, 'pig': 4, 'iam': 4, 'term': 4, 'fever': 4, 'score': 4, 'appli': 4, 'chicken': 4, 'salari': 4, 'sore': 4, 'jesu': 4, 'aunt': 4, 'throat': 4, 'flirt': 4, 'technic': 4, 'convey': 4, 'math': 4, 'aiyar': 4, 'howz': 4, 'shame': 4, 'refer': 4, 'strong': 4, 'mite': 4, 'easier': 4, 'hun': 4, 'servic': 4, 'exact': 4, 'februari': 4, '6hr': 4, 'blackberri': 4, 'moji': 4, 'welcom': 4, 'reserv': 4, 'moral': 4, 'tuition': 4, 'moon': 4, 'aiya': 4, 'bright': 4, 'tablet': 4, 'sha': 4, 'centr': 4, 'forum': 4, 'ron': 4, 'airport': 4, 'bishan': 4, '20': 4, 'idk': 4, 'chase': 4, 'comedi': 4, 'ran': 4, 'queen': 4, 'bin': 4, 'bedroom': 4, 'follow': 4, 'takin': 4, 'beer': 4, 'jess': 4, 'replac': 4, 'team': 4, 'push': 4, 'pull': 4, 'master': 4, 'season': 4, 'sim': 4, 'unlimit': 4, 'se': 4, 'wud': 4, 'cat': 4, 'hip': 4, 'nake': 4, 'rule': 4, 'respons': 4, 'theatr': 4, 'gari': 4, 'infern': 4, 'orang': 4, 'feet': 4, 'mad': 4, 'password': 4, 'requir': 4, 'colleagu': 4, 'leg': 4, 'pix': 4, 'notic': 4, 'gn': 4, 'sugar': 4, 'limit': 4, 'roger': 4, 'solv': 4, 'polic': 4, 'rakhesh': 4, 'er': 4, 'ruin': 4, 'bro': 4, 'januari': 4, 'dare': 4, 'pin': 4, 'teeth': 4, 'note': 4, 'bought': 4, 'tm': 4, 'abi': 4, 'grl': 4, 'asap': 4, 'allow': 4, 'outta': 4, 'captain': 4, 'mumtaz': 4, 'taunton': 4, 'caller': 3, 'wet': 3, 'str': 3, 'forc': 3, 'slice': 3, 'child': 3, 'caught': 3, 'xuhui': 3, 'yummi': 3, 'fair': 3, 'url': 3, 'dresser': 3, 'rpli': 3, 'plane': 3, 'perform': 3, 'gentleman': 3, 'digniti': 3, 'earn': 3, 'urgnt': 3, 'nitro': 3, 'becoz': 3, 'lido': 3, 'hol': 3, 'ham': 3, 'vava': 3, 'loud': 3, 'wa': 3, 'anythin': 3, 'apologis': 3, 'activ': 3, 'lovabl': 3, 'occupi': 3, 'birla': 3, 'soft': 3, 'flow': 3, 'floor': 3, 'excit': 3, 'escap': 3, 'mall': 3, 'radio': 3, 'balanc': 3, 'transact': 3, 'atm': 3, 'instal': 3, 'repair': 3, 'po': 3, 'argu': 3, 'tomarrow': 3, 'avent': 3, 'slipper': 3, 'bat': 3, 'inning': 3, 'dearli': 3, 'flash': 3, 'jealou': 3, 'ray': 3, 'gautham': 3, 'shock': 3, 'scari': 3, 'jo': 3, 'garag': 3, 'enemi': 3, 'afraid': 3, 'gona': 3, 'immedi': 3, 'supervisor': 3, 'favourit': 3, 'hide': 3, 'stranger': 3, 'alcohol': 3, 'spoil': 3, 'recognis': 3, 'ptbo': 3, 'shut': 3, 'calcul': 3, 'period': 3, 'quickli': 3, 'chechi': 3, 'tree': 3, 'blah': 3, 'wnt': 3, 'vri': 3, 'iouri': 3, 'oic': 3, 'oreo': 3, 'ear': 3, 'railway': 3, 'doggi': 3, 'fave': 3, 'rate': 3, '9ja': 3, 'tast': 3, 'fish': 3, 'villag': 3, 'fee': 3, 'latest': 3, 'prabha': 3, 'children': 3, 'behav': 3, 'elsewher': 3, 'tirupur': 3, 'quot': 3, 'confid': 3, 'bloke': 3, 'own': 3, 'cup': 3, 'milk': 3, 'magic': 3, 'loos': 3, 'essenti': 3, 'american': 3, 'callin': 3, 'snake': 3, 'headach': 3, 'swim': 3, 'offici': 3, 'market': 3, 'seven': 3, 'thanksgiv': 3, 'lay': 3, 'lone': 3, 'farm': 3, 'height': 3, 'wer': 3, 'menu': 3, 'spring': 3, 'faster': 3, 'attach': 3, 'shout': 3, 'shorter': 3, 'gim': 3, 'lip': 3, 'spare': 3, 'ti': 3, 'anywher': 3, 'beg': 3, 'diff': 3, 'bein': 3, 'jan': 3, 'weigh': 3, 'hint': 3, '2morrow': 3, 'xavier': 3, 'warn': 3, 'stomach': 3, 'nap': 3, 'shesil': 3, 'mac': 3, 'opportun': 3, 'outstand': 3, 'taylor': 3, 'welp': 3, 'hesit': 3, 'talent': 3, 'fuckin': 3, 'ubi': 3, 'butt': 3, 'miracl': 3, 'terribl': 3, 'exe': 3, 'prey': 3, 'foreign': 3, 'stamp': 3, 'countri': 3, 'roast': 3, 'june': 3, 'drunk': 3, 'juici': 3, 'vijay': 3, 'ne': 3, 'depress': 3, 'wind': 3, 'who': 3, 'gay': 3, 'fantast': 3, 'bigger': 3, 'island': 3, 'p': 3, 'walmart': 3, 'rofl': 3, 'anti': 3, 'delay': 3, 'tour': 3, 'ipad': 3, 'fran': 3, 'knacker': 3, 'softwar': 3, 'whenevr': 3, 'remembr': 3, '4u': 3, 'chill': 3, 'chillin': 3, 'super': 3, 'chain': 3, 'suffer': 3, 'arrest': 3, 'suntec': 3, 'messeng': 3, 'unsold': 3, 'recharg': 3, 'shld': 3, 'option': 3, 'missin': 3, 'guilti': 3, 'cardiff': 3, 'addi': 3, 'tue': 3, 'flower': 3, 'monkey': 3, 'certainli': 3, 'program': 3, 'aah': 3, '4th': 3, 'blake': 3, 'eight': 3, 'receipt': 3, 'prospect': 3, 'buff': 3, 'gang': 3, 'adventur': 3, 'cloth': 3, 'sub': 3, 'brotha': 3, 'fire': 3, 'perfect': 3, 'freez': 3, 'fring': 3, '6pm': 3, 'event': 3, 'maintain': 3, 'cramp': 3, 'nan': 3, 'dislik': 3, 'despar': 3, 'mi': 3, 'tb': 3, 'iåõm': 3, 'stuck': 3, 'creat': 3, 'philosophi': 3, 'combin': 3, 'dirti': 3, 'packag': 3, 'husband': 3, 'five': 3, 'toa': 3, 'payoh': 3, 'payment': 3, 'fathima': 3, 'mmmm': 3, 'beyond': 3, 'jog': 3, 'tabl': 3, 'ikea': 3, 'kadeem': 3, 'carri': 3, 'avatar': 3, 'upset': 3, 'constantli': 3, 'lousi': 3, 'ic': 3, 'wrk': 3, 'boat': 3, 'proof': 3, 'major': 3, 'birth': 3, 'choic': 3, 'onward': 3, 'energi': 3, 'simpli': 3, 'calicut': 3, 'giv': 3, 'rich': 3, 'yor': 3, 'jason': 3, 'argh': 3, 'diamond': 3, 'china': 3, 'morphin': 3, 'mile': 3, 'speed': 3, 'distanc': 3, 'display': 3, 'soup': 3, '900': 3, 'unabl': 3, 'wkend': 3, 'journey': 3, 'measur': 3, 'imposs': 3, 'gain': 3, 'thangam': 3, 'okey': 3, 'brilliant': 3, 'madam': 3, 'bloo': 3, 'citizen': 3, 'star': 3, 'sri': 3, 'lock': 3, 'shove': 3, 'releas': 3, 'dai': 3, 'resum': 3, 'maga': 3, 'arriv': 3, 'medicin': 3, 'incid': 3, 'violenc': 3, 'motiv': 3, 'erm': 3, 'death': 3, 'challeng': 3, 'booti': 3, 'lil': 3, 'pout': 3, 'stomp': 3, 'serv': 3, 'feb': 3, 'middl': 3, 'enuff': 3, 'pg': 3, 'iz': 3, 'handl': 3, 'seat': 3, 'low': 3, 'flake': 3, 'cheaper': 3, 'histori': 3, 'bell': 3, 'reboot': 3, 'understood': 3, 'bottom': 3, 'crab': 3, 'footprint': 3, 'thur': 3, 'mess': 3, 'count': 3, 'tape': 3, 'size': 3, 'auto': 3, 'cheat': 3, 'amaz': 3, 'princ': 3, 'camera': 3, 'prolli': 3, 'åð': 3, 'dubsack': 3, 'macho': 3, 'audit': 3, 'dark': 3, 'fell': 3, 'eaten': 3, 'stone': 3, 'born': 3, 'along': 3, 'univers': 3, 'california': 3, 'tog': 3, 'wyli': 3, 'haiz': 3, 'loss': 3, 'ds': 3, 'deni': 3, 'bottl': 3, 'buffet': 2, 'hor': 2, 'aid': 2, 'oru': 2, 'vagu': 2, 'sarcast': 2, 'fear': 2, '8am': 2, 'mmmmmm': 2, 'sucker': 2, 'eighth': 2, 'accomod': 2, 'odi': 2, 'iq': 2, 'dedic': 2, 'valuabl': 2, 'jacket': 2, 'ela': 2, 'pour': 2, 'sum1': 2, 'telugu': 2, 'four': 2, 'locat': 2, 'truli': 2, 'noun': 2, 'sentenc': 2, 'puttin': 2, 'cabin': 2, 'goodo': 2, 'tortilla': 2, 'involv': 2, 'sum': 2, 'msn': 2, 'befor': 2, 'pouch': 2, 'somtim': 2, 'staff': 2, 'plaza': 2, 'everywher': 2, 'mouth': 2, 'belov': 2, 'form': 2, 'utter': 2, 'approach': 2, 'handsom': 2, 'hamster': 2, 'ericsson': 2, 'bruv': 2, 'reward': 2, 'os': 2, 'romant': 2, 'conduct': 2, 'cross': 2, 'upstair': 2, 'theori': 2, 'shine': 2, 'although': 2, 'commerci': 2, 'ranjith': 2, '5min': 2, 'bcum': 2, 'childish': 2, 'affect': 2, 'up': 2, 'lag': 2, 'necessarili': 2, 'headin': 2, 'jolt': 2, 'mini': 2, 'h': 2, 'bay': 2, 'rob': 2, 'gf': 2, 'tool': 2, 'jenni': 2, 'cam': 2, 'taxi': 2, 'actor': 2, 'thread': 2, 'belovd': 2, 'uniqu': 2, 'tahan': 2, 'anot': 2, 'lo': 2, 'buse': 2, 'bristol': 2, 'flight': 2, 'women': 2, 'apo': 2, 'violat': 2, 'steal': 2, 'paperwork': 2, 'dine': 2, 'carolin': 2, 'gudnit': 2, 'tc': 2, 'slap': 2, 'insha': 2, 'tissco': 2, 'tayseer': 2, 'unemploy': 2, 'audrey': 2, 'statu': 2, 'aliv': 2, 'agre': 2, 'he': 2, 'verifi': 2, 'ovul': 2, 'salam': 2, 'grace': 2, 'visitor': 2, 'field': 2, 'administr': 2, 'loxahatche': 2, 'slightli': 2, 'wld': 2, 'iron': 2, 'skip': 2, 'siva': 2, 'aathi': 2, 'hv': 2, 'sourc': 2, 'amt': 2, 'lac': 2, 'applebe': 2, 'cricket': 2, 'improv': 2, 'truffl': 2, 'ami': 2, 'cope': 2, 'languag': 2, 'broken': 2, 'infront': 2, 'wise': 2, '9t': 2, 'tension': 2, 'trade': 2, 'center': 2, '7ish': 2, 'some1': 2, 'hyde': 2, 'anthoni': 2, 'signific': 2, 'spl': 2, 'matur': 2, 'stylish': 2, 'scroung': 2, 'forgiven': 2, 'competit': 2, 'transport': 2, 'unconsci': 2, 'adult': 2, 'ebay': 2, 'taco': 2, 'abil': 2, 'recoveri': 2, 'cali': 2, 'cock': 2, 'faggi': 2, 'demand': 2, 'fo': 2, 'pan': 2, 'perhap': 2, 'mei': 2, 'browni': 2, 'geeeee': 2, 'jen': 2, 'oooh': 2, 'dick': 2, 'scotland': 2, 'hardli': 2, 'tsunami': 2, 'occur': 2, 'hundr': 2, 'reaction': 2, 'concern': 2, 'sweetheart': 2, 'biola': 2, 'login': 2, 'restock': 2, 'wee': 2, 'jolli': 2, 'cartoon': 2, 'music': 2, 'templ': 2, 'church': 2, 'panic': 2, 'wesley': 2, 'dealer': 2, 'impati': 2, 'river': 2, 'envelop': 2, 'en': 2, 'yell': 2, 'cochin': 2, 'engag': 2, '4d': 2, 'purchas': 2, 'poop': 2, 'gpu': 2, 'dehydr': 2, 'ws': 2, 'dorm': 2, 'cooki': 2, 'admit': 2, 'ba': 2, '930': 2, 'gist': 2, 'faith': 2, 'vibrat': 2, 'grandma': 2, 'mt': 2, 'hunt': 2, 'weasel': 2, 'punish': 2, 'thot': 2, 'dictionari': 2, 'imp': 2, 'bec': 2, 'costum': 2, 'borrow': 2, 'galileo': 2, 'dobbi': 2, '2u': 2, 'lovem': 2, 'sip': 2, 'cappuccino': 2, 'brain': 2, 'mojibiola': 2, 'havenåõt': 2, 'kz': 2, 'given': 2, 'ultimatum': 2, 'countin': 2, 'aburo': 2, 'inconsider': 2, 'nag': 2, 'recess': 2, 'henc': 2, 'soo': 2, 'shoe': 2, 'sn': 2, 'spoon': 2, 'geniu': 2, 'lotta': 2, 'castor': 2, 'massag': 2, 'oil': 2, 'permiss': 2, 'usb': 2, 'gibb': 2, 'unbeliev': 2, 'sever': 2, 'smell': 2, 'worst': 2, 'charl': 2, 'chip': 2, 'addict': 2, 'msging': 2, 'yck': 2, 'ashley': 2, 'blog': 2, 'congratul': 2, 'jean': 2, 'stuf': 2, 'bleh': 2, 'applic': 2, 'lodg': 2, 'graviti': 2, 'brand': 2, 'necklac': 2, 'race': 2, 'rice': 2, 'crap': 2, 'chocol': 2, 'reckon': 2, 'tech': 2, 'quiet': 2, 'helen': 2, 'fit': 2, 'fan': 2, 'anniversari': 2, 'imag': 2, 'pattern': 2, 'scratch': 2, 'plm': 2, 'sheffield': 2, 'nanni': 2, '2morow': 2, 'million': 2, 'blanket': 2, 'thx': 2, 'speechless': 2, 'educ': 2, 'career': 2, '3rd': 2, 'thesi': 2, 'le': 2, 'femal': 2, 'dentist': 2, 'gossip': 2, 'oi': 2, 'dem': 2, 'craziest': 2, 'curri': 2, 'evn': 2, 'itz': 2, 'alwi': 2, 'goto': 2, 'fret': 2, 'cliff': 2, 'dhoni': 2, 'durban': 2, 'error': 2, 'difficulti': 2, 'sar': 2, 'tank': 2, 'danger': 2, 'neighbor': 2, 'toot': 2, 'q': 2, 'annoy': 2, 'makin': 2, '2go': 2, 'creepi': 2, 'invest': 2, '1hr': 2, 'submit': 2, 'purs': 2, 'havin': 2, 'flip': 2, 'execut': 2, 'weirdest': 2, 'tee': 2, 'dough': 2, 'control': 2, 'stalk': 2, 'profil': 2, 'drinkin': 2, '5pm': 2, 'deposit': 2, 'birthdat': 2, 'nydc': 2, 'daili': 2, 'favour': 2, 'ola': 2, 'garbag': 2, 'jokin': 2, 'idiot': 2, 'canada': 2, 'goodnoon': 2, 'patti': 2, 'emerg': 2, 'there': 2, 'tmrw': 2, 'soul': 2, 'ned': 2, 'main': 2, 'sweeti': 2, 'buyer': 2, '4a': 2, 'whn': 2, 'forgiv': 2, 'gentli': 2, 'juan': 2, 'ideal': 2, 'front': 2, 'shot': 2, 'tirunelvali': 2, '4get': 2, 'stretch': 2, 'urn': 2, 'kaiez': 2, 'goodnit': 2, 'silver': 2, 'silenc': 2, 'revis': 2, 'exet': 2, 'determin': 2, 'entir': 2, 'coat': 2, 'restaur': 2, 'function': 2, 'desper': 2, 'lyfu': 2, 'lyf': 2, 'ali': 2, 'ke': 2, 'meow': 2, 'twelv': 2, 'puriti': 2, 'video': 2, 'convert': 2, 'nit': 2, 'format': 2, 'sarcasm': 2, 'unfortun': 2, 'yuo': 2, 'ese': 2, 'tih': 2, 'degre': 2, 'financ': 2, 'jia': 2, 'sux': 2, 'rhythm': 2, 'wifi': 2, '3g': 2, 'boyfriend': 2, 'courag': 2, 'driver': 2, 'dime': 2, 'flame': 2, 'propos': 2, 'blame': 2, 'batch': 2, 'oz': 2, 'flaki': 2, 'sooooo': 2, 'tooo': 2, 'brought': 2, 'constant': 2, 'switch': 2, 'partnership': 2, 'mostli': 2, 'sh': 2, 'poker': 2, 'messi': 2, 'accid': 2, 'traffic': 2, 'slip': 2, 'wkg': 2, 'specialis': 2, 'gotten': 2, 'unknown': 2, 'album': 2, 'entertain': 2, 'stick': 2, 'inde': 2, 'jame': 2, 'complain': 2, 'calm': 2, 'up4': 2, 'habit': 2, 'schedul': 2, 'atlanta': 2, 'arun': 2, 'transfr': 2, 'didnåõt': 2, 'fake': 2, 'sian': 2, 'access': 2, 'joanna': 2, 'telli': 2, 'wipro': 2, 'tag': 2, 'laundri': 2, 'underwear': 2, 'wahe': 2, 'knee': 2, 'expos': 2, 'nichol': 2, 'unhappi': 2, 'uh': 2, 'mp3': 2, 'vday': 2, 'snowman': 2, 'ofic': 2, 'cn': 2, 'prescript': 2, 'electr': 2, 'fujitsu': 2, 'scold': 2, 'woken': 2, 'aka': 2, 'jane': 2, 'slide': 2, 'delhi': 2, 'length': 2, 'distract': 2, 'memori': 2, 'mel': 2, 'intent': 2, 'apolog': 2, 'boost': 2, 'nd': 2, 'parco': 2, 'nb': 2, 'hallaq': 2, 'pink': 2, 'lyk': 2, 'bck': 2, 'color': 2, 'mca': 2, 'rub': 2, 'clever': 2, 'ryan': 2, 'shitload': 2, 'nimya': 2, 'mcat': 2, 'sacrific': 2, 'creativ': 2, 'stayin': 2, 'cld': 2, 'kindli': 2, 'wale': 2, 'sed': 2, 'latr': 2, 'kidz': 2, 'london': 2, 'smash': 2, 'ps': 2, 'tok': 2, 'specif': 2, 'cousin': 2, 'neck': 2, 'continu': 2, 'holi': 2, 'billion': 2, 'your': 2, 'beliv': 2, 'slot': 2, 'temp': 2, 'complaint': 2, 'loung': 2, 'lk': 2, 'lov': 2, '700': 2, 'huge': 2, 'anni': 2, 'hrishi': 2, 'nothin': 2, 'regular': 2, 'nahi': 2, 'zindgi': 2, 'dan': 2, 'nearli': 2, 'stare': 2, 'unnecessarili': 2, 'tom': 2, 'thm': 2, 'wn': 2, 'paragon': 2, 'arent': 2, 'bluff': 2, 'sari': 2, 'happend': 2, 'vodka': 2, 'kg': 2, 'dumb': 2, 'kay': 2, 'christ': 2, 'scienc': 2, 'swiss': 2, 'director': 2, 'lane': 2, 'monthli': 2, 'block': 2, 'politician': 2, 'donno': 2, 'properli': 2, 'frndship': 2, '630': 2, 'furnitur': 2, 'strang': 2, 'upto': 2, 'telephon': 2, 'direct': 2, 'whr': 2, 'yunni': 2, 'statement': 2, 'mmmmm': 2, 'rel': 2, 'risk': 2, 'belong': 2, 'dr': 2, 'superior': 2, 'dock': 2, 'contract': 2, 'elabor': 2, 'depart': 2, 'conform': 2, 'member': 2, 'bc': 2, 'toshiba': 2, 'sam': 2, 'innoc': 2, 'mental': 2, '2marrow': 2, 'hon': 2, '9pm': 2, 'fab': 2, 'tiwari': 2, 'bang': 2, 'pap': 2, 'secretari': 2, 'shake': 2, 'nalla': 2, 'northampton': 2, 'abj': 2, 'soni': 2, 'theme': 2, 'petrol': 2, 'neither': 2, 'snog': 2, 'west': 2, 'steam': 2, 'reg': 2, 'public': 2, 'sleepi': 2, 'ben': 2, 'mag': 2, 'diwali': 2, 'thgt': 2, 'lower': 2, 'variou': 2, 'divis': 2, 'creep': 2, 'properti': 2, 'cough': 2, 'bbd': 2, 'pimpl': 2, 'yellow': 2, 'doubt': 2, 'strike': 2, 'freedom': 2, 'twenti': 2, 'paint': 2, 'groovi': 2, 'nowaday': 2, 'citi': 2, 'swatch': 2, 'ganesh': 2, 'sex': 2, '2geva': 2, 'human': 2, 'wuld': 2, 'sake': 2, 'bruce': 2, 'chest': 2, 'brief': 2, 'sport': 2, 'disconnect': 2, 'l': 2, 'hm': 2, 'salon': 2, 'independ': 2, 'raj': 2, 'usc': 2, 'shore': 2, 'wave': 2, 'click': 2, 'topic': 2, 'admin': 2, 'andro': 2, 'foot': 2, 'peni': 2, 'fal': 2, 'vth': 2, 'blow': 2, 'auction': 2, 'sack': 2, 'mention': 2, 'agalla': 2, 'otsid': 2, 'wrench': 2, 'itåõ': 2, 'tight': 2, 'av': 2, 'everyday': 2, 'curiou': 2, 'condit': 2, 'postcard': 2, 'bread': 2, 'mahal': 2, 'ding': 2, 'necessari': 2, 'aris': 2, 'deu': 2, 'tap': 2, 'spile': 2, 'broad': 2, 'canal': 2, 'engin': 2, 'east': 2, 'howard': 2, 'starv': 2, 'owe': 2, 'in2': 2, 'babysit': 2, 'ee': 2, 'easili': 2, 'selfish': 2, 'fml': 2, 'sac': 2, 'jiayin': 2, 'forgotten': 2, '2waxsto': 2, 'minimum': 2, 'doll': 2, 'elain': 2, 'drunken': 2, 'crisi': 2, 'mb': 2, 'info': 2, 'pend': 2, '1030': 2, 'priscilla': 2, 'wisdom': 2, 'kent': 2, 'vale': 2, 'base': 2, 'placement': 2, 'sumthin': 2, 'lion': 2, 'devour': 2, 'airtel': 2, '25': 2, 'shahjahan': 2, 'outag': 2, 'footbal': 2, 'xin': 2, 'lib': 2, 'despit': 2, 'swoop': 2, 'langport': 2, 'senthil': 2, 'forevr': 2, 'vega': 2, 'lou': 2, 'båõday': 2, 'vewi': 2, 'pool': 2, 'nokia': 2, 'ful': 2, 'atlast': 2, 'desert': 2, 'section': 2, 'review': 2, 'funer': 2, 'vivek': 2, 'brah': 2, 'pc': 2, 'chees': 2, 'melt': 2, 'ground': 2, 'eek': 2, 'heater': 2, '2moro': 2, 'eta': 2, 'ball': 2, 'liter': 2, 'kothi': 2, 'prof': 2, 'sem': 2, 'sathya': 2, 'smart': 2, 'elect': 2, 'kappa': 2, 'approv': 2, 'karaok': 2, 'royal': 2, 'edward': 2, 'blur': 2, 'lush': 2, 'sunlight': 2, 'concert': 2, 'previou': 2, 'mokka': 2, 'bone': 2, 'steve': 2, 'epsilon': 2, 'lst': 2, 'massiv': 2, 'academ': 2, 'coast': 2, 'clearli': 2, 'dokey': 2, 'sleepin': 2, 'minor': 2, 'repeat': 2, 'woulda': 2, 'mth': 2, 'miser': 2, 'shoppin': 2, 'nuther': 2, 'infect': 2, 'inconveni': 2, 'unintent': 2, 'mountain': 2, 'woot': 2, 'cme': 2, 'land': 2, 'sarasota': 2, 'cherish': 2, 'andr': 2, '4eva': 2, 'reassur': 2, 'upload': 2, 'discount': 2, 'favorit': 2, 'amus': 2, 'shu': 2, 'jurong': 1, 'amor': 1, 'patent': 1, 'mell': 1, 'minnaminungint': 1, 'nurungu': 1, 'vettam': 1, 'breather': 1, 'grant': 1, 'fulfil': 1, 'gota': 1, 'ffffffffff': 1, 'ahhh': 1, 'apologet': 1, 'fallen': 1, 'actin': 1, 'spoilt': 1, 'badli': 1, 'faint': 1, 'housework': 1, 'cuppa': 1, 'watt': 1, 'arabian': 1, 'steed': 1, 'endow': 1, 'hep': 1, 'immunis': 1, 'stubborn': 1, 'smarter': 1, 'mallika': 1, 'sherawat': 1, 'gauti': 1, 'sehwag': 1, 'burger': 1, 'seeker': 1, 'shi': 1, 'oper': 1, 'multi': 1, 'factori': 1, 'casualti': 1, 'stuff42moro': 1, 'hairdress': 1, 'beforehand': 1, 'am': 1, '4the': 1, 'signin': 1, 'memor': 1, 'ip': 1, 'minecraft': 1, 'server': 1, 'grumpi': 1, 'plural': 1, 'openin': 1, 'formal': 1, 'ratio': 1, 'pair': 1, 'malarki': 1, 'sao': 1, 'impos': 1, 'del': 1, 'lucyxx': 1, 'biggest': 1, 'dot': 1, 'sindu': 1, 'typic': 1, 'dirt': 1, 'chore': 1, 'exist': 1, 'hail': 1, 'mist': 1, 'aaooooright': 1, 'envi': 1, 'cultur': 1, 'missunderstd': 1, 'bridg': 1, 'lager': 1, 'clark': 1, 'axi': 1, 'surnam': 1, 'clue': 1, 'spanish': 1, 'maneesha': 1, 'satisfi': 1, 'toll': 1, 'leagu': 1, 'or': 1, 'stool': 1, 'wishin': 1, '1pm': 1, 'babyjontet': 1, 'enc': 1, 'refil': 1, 'inr': 1, 'keralacircl': 1, 'prepaid': 1, 'kr': 1, 'alter': 1, 'dogg': 1, 'refund': 1, 'ubandu': 1, 'disk': 1, 'sceneri': 1, 'elama': 1, 'mudyadhu': 1, 'strict': 1, 'gandhipuram': 1, 'rubber': 1, 'pleassssssseeeee': 1, 'sportsx': 1, 'baig': 1, 'drpd': 1, 'deeraj': 1, 'deepak': 1, 'kettoda': 1, 'manda': 1, '3day': 1, '2wk': 1, 'usp': 1, 'bribe': 1, 'nipost': 1, 'suzi': 1, 'luton': 1, '0125698789': 1, 'sometm': 1, 'evo': 1, 'narcot': 1, 'object': 1, 'mack': 1, 'theater': 1, 'ahold': 1, 'cruisin': 1, 'edukkukaye': 1, 'raksha': 1, 'buzi': 1, 'resend': 1, 'gurl': 1, 'appropri': 1, 'grave': 1, 'diesel': 1, 'fridg': 1, 'womdarful': 1, 'remb': 1, 'bookshelf': 1, 'dear1': 1, 'best1': 1, 'clos1': 1, 'lvblefrnd': 1, 'jstfrnd': 1, 'cutefrnd': 1, 'lifpartnr': 1, 'swtheart': 1, 'bstfrnd': 1, 'mylif': 1, 'l8': 1, 'guild': 1, 'evapor': 1, 'privaci': 1, 'employ': 1, '1000': 1, 'huim': 1, 'prestig': 1, 'jeremiah': 1, 'iphon': 1, 'apeshit': 1, 'misbehav': 1, 'onam': 1, 'tata': 1, 'aig': 1, 'sunshin': 1, 'dawn': 1, 'refresh': 1, 'z': 1, 'uniform': 1, 'lindsay': 1, 'heron': 1, 'payasam': 1, 'rinu': 1, 'taught': 1, 'becau': 1, 'prabu': 1, 'followin': 1, 'wallet': 1, 'owl': 1, 'kickbox': 1, 'lap': 1, 'award': 1, 'stoner': 1, 'disastr': 1, 'fav': 1, 'busetop': 1, 'sender': 1, 'wendi': 1, 'whatsup': 1, 'goal': 1, 'attitud': 1, 'urin': 1, 'bmw': 1, 'shortag': 1, 'arng': 1, 'hillsborough': 1, 'shoul': 1, 'hasnt': 1, 'bhaji': 1, 'sachin': 1, 'wereth': 1, 'monkeespeopl': 1, 'monkeyaround': 1, 'howdi': 1, 'blimey': 1, 'exercis': 1, 'hank': 1, 'lotsli': 1, 'optimist': 1, 'consist': 1, 'practicum': 1, 'heal': 1, 'oral': 1, 'slipperi': 1, 'bike': 1, 'machi': 1, 'mcr': 1, 'jaykwon': 1, 'thuglyf': 1, 'falconerf': 1, 'fade': 1, 'glori': 1, 'ralph': 1, 'reunion': 1, 'accentur': 1, 'jackson': 1, 'rec': 1, 'fightng': 1, 'dificult': 1, 'nuerologist': 1, 'lolnic': 1, 'westshor': 1, 'jada': 1, 'kusruthi': 1, 'ammo': 1, 'ak': 1, 'soryda': 1, 'sori': 1, 'problemat': 1, 'no': 1, 'abnorm': 1, 'pickl': 1, 'rude': 1, 'bani': 1, 'button': 1, 'ummmmmaah': 1, 'famou': 1, 'uncondit': 1, 'temper': 1, 'oclock': 1, 'bash': 1, 'coop': 1, 'weddin': 1, 'alibi': 1, 'sink': 1, 'pace': 1, 'cage': 1, 'surround': 1, 'cuck': 1, 'acknowledg': 1, 'astoundingli': 1, 'tactless': 1, 'oath': 1, 'silli': 1, 'uv': 1, 'mutat': 1, 'sunscreen': 1, 'theseday': 1, 'bao': 1, 'sugardad': 1, 'ninish': 1, 'icki': 1, 'freek': 1, 'ridden': 1, 'ey': 1, 'missi': 1, 'goggl': 1, 'arngd': 1, 'walkin': 1, 'unfortuntli': 1, 'frnt': 1, 'sayin': 1, 'jjc': 1, 'tendenc': 1, 'meiv': 1, 'gotani': 1, 'srsli': 1, 'yi': 1, 'prix': 1, 'nitz': 1, 'blastin': 1, 'rajnik': 1, 'ocean': 1, 'bridgwat': 1, 'banter': 1, 'thanx4': 1, 'cer': 1, 'grow': 1, 'dismay': 1, 'tootsi': 1, 'seventeen': 1, 'ml': 1, 'brighten': 1, 'allo': 1, 'brave': 1, 'triumph': 1, 'uncomfort': 1, 'sonetim': 1, 'rough': 1, 'cloud': 1, 'repent': 1, 'kama': 1, 'sutra': 1, 'nang': 1, 'bakra': 1, 'kalstiya': 1, 'lakh': 1, 'ditto': 1, 'wetherspoon': 1, 'piggi': 1, 'freaki': 1, 'scrappi': 1, 'sdryb8i': 1, 'imprtant': 1, 'tomorw': 1, 'bfore': 1, '1405': 1, '1680': 1, 'entrepreneur': 1, 'corpor': 1, 'prevent': 1, 'fluid': 1, 'trek': 1, 'harri': 1, 'aeronaut': 1, 'professor': 1, 'calld': 1, 'aeroplan': 1, 'shitstorm': 1, 'attribut': 1, 'sth': 1, 'spec': 1, 'membership': 1, 'px3748': 1, 'macha': 1, 'wondar': 1, 'flim': 1, 'jelli': 1, 'scrumptiou': 1, 'dao': 1, 'half8th': 1, 'jide': 1, 'steak': 1, 'neglect': 1, 'prayer': 1, 'wahay': 1, 'gaze': 1, 'caveboy': 1, 'hungov': 1, 'gua': 1, 'faber': 1, 'ma': 1, 'dramat': 1, 'drunkard': 1, 'idc': 1, 'trash': 1, 'beerag': 1, 'randomlli': 1, 'fondli': 1, 'dogbreath': 1, 'woohoo': 1, 'uncount': 1, 'wherear': 1, 'friendsar': 1, 'thekingshead': 1, 'canlov': 1, 'dled': 1, 'smokin': 1, 'boooo': 1, 'yowif': 1, 'youi': 1, 'enjoyin': 1, 'yourjob': 1, 'iåõllspeak': 1, 'soonlot': 1, 'starshin': 1, 'hahaha': 1, 'burial': 1, 'rv': 1, 'rvx': 1, 'comprehens': 1, 'prashanthettan': 1, 'samantha': 1, 'guitar': 1, 'doug': 1, 'trauma': 1, 'swear': 1, 'inner': 1, 'tigress': 1, 'urfeel': 1, 'bettersn': 1, 'probthat': 1, 'overdos': 1, 'lovejen': 1, 'ana': 1, 'sathi': 1, 'rto': 1, 'corvett': 1, 'bunker': 1, 'philosoph': 1, 'hole': 1, 'atleast': 1, 'woul': 1, 'curfew': 1, 'gibe': 1, 'getsleep': 1, 'studdi': 1, 'yoyyooo': 1, 'hussey': 1, 'faglord': 1, 'nutter': 1, 'cutter': 1, 'ctter': 1, 'cttergg': 1, 'cttargg': 1, 'ctargg': 1, 'ctagg': 1, 'ie': 1, 'thu': 1, 'superb': 1, 'grate': 1, 'happier': 1, 'agent': 1, 'invoic': 1, 'tobacco': 1, 'grinul': 1, 'fudg': 1, 'zaher': 1, 'nauseou': 1, 'avalarr': 1, 'hollalat': 1, 'kvb': 1, 'ore': 1, 'owo': 1, 'fro': 1, 'samu': 1, 'shoulder': 1, 'vomitin': 1, 'writh': 1, 'ton': 1, 'paypal': 1, 'voila': 1, 'pocket': 1, 'theyr': 1, 'sorta': 1, 'blown': 1, 'sopha': 1, 'secondari': 1, 'ogunrind': 1, 'chk': 1, 'ms': 1, 'dict': 1, 'shb': 1, 'simpler': 1, 'retir': 1, 'code': 1, 'natwest': 1, 'chad': 1, 'gymnast': 1, 'christian': 1, 'token': 1, 'aptitud': 1, 'hors': 1, 'wrongli': 1, 'borin': 1, 'boggi': 1, 'biatch': 1, 'notebook': 1, 'potenti': 1, 'eightish': 1, 'carpark': 1, '67441233': 1, 'cre': 1, '5wkg': 1, 'sd': 1, '26th': 1, 'juli': 1, '7am': 1, '5ish': 1, 'stripe': 1, 'skirt': 1, 'escal': 1, 'beth': 1, 'charli': 1, 'syllabu': 1, 'poyyarikatur': 1, 'kolathupalayam': 1, 'unjalur': 1, 'erod': 1, 'hero': 1, 'apt': 1, 'meat': 1, 'suprem': 1, 'cudnt': 1, 'ctla': 1, 'ent': 1, 'ishtamayoo': 1, 'bakrid': 1, 'gloriou': 1, 'coax': 1, 'fond': 1, 'souveni': 1, 'zoe': 1, 'shitin': 1, 'defo': 1, 'hardest': 1, 'lekdog': 1, 'suffici': 1, 'edison': 1, 'rightli': 1, 'viva': 1, 'gm': 1, 'atten': 1, 'iåõd': 1, 'doesnåõt': 1, 'soire': 1, 'data': 1, 'analysi': 1, 'belliger': 1, 'rudi': 1, 'ink': 1, '515': 1, 'finalis': 1, 'lul': 1, 'nurs': 1, 'she': 1, 'obes': 1, 'oyea': 1, 'parchi': 1, 'kicchu': 1, 'kaaj': 1, 'kort': 1, 'iccha': 1, 'korch': 1, 'tul': 1, 'dvd': 1, 'sculptur': 1, 'surya': 1, 'pokkiri': 1, 'dearer': 1, 'proov': 1, 'prais': 1, 'maki': 1, 'needl': 1, '4few': 1, 'conect': 1, 'spatula': 1, 'complex': 1, 'freeli': 1, 'tax': 1, 'outrag': 1, 'tomorro': 1, 'ryder': 1, 'strip': 1, 'postal': 1, 'wrking': 1, 'sittin': 1, 'hen': 1, 'teju': 1, 'hourish': 1, 'conveni': 1, 'evalu': 1, 'cheyyamo': 1, 'tau': 1, 'piah': 1, 'shade': 1, 'sitter': 1, 'kaitlyn': 1, 'peep': 1, 'comment': 1, 'veggi': 1, '2000': 1, 'computerless': 1, 'balloon': 1, 'drm': 1, 'melodi': 1, 'hme': 1, 'velacheri': 1, 'flippin': 1, 'cstore': 1, 'hangin': 1, 'quizz': 1, 'popcorn': 1, 'thin': 1, 'fed': 1, 'himso': 1, 'neft': 1, 'beneficiari': 1, 'semi': 1, 'maaaan': 1, 'guessin': 1, 'ilol': 1, 'wuldnt': 1, 'lunchtim': 1, 'organis': 1, 'passabl': 1, 'phd': 1, '5year': 1, 'prakesh': 1, 'betta': 1, 'product': 1, 'snatch': 1, 'edrunk': 1, 'iff': 1, 'pthi': 1, 'dancc': 1, 'drum': 1, 'basq': 1, 'ihav': 1, '2nhite': 1, 'ro': 1, 'reliev': 1, 'westonzoyland': 1, 'europ': 1, 'goin2b': 1, 'only1mor': 1, 'mc': 1, 'every1': 1, 'ava': 1, 'goodtim': 1, 'oli': 1, 'melnit': 1, 'ifink': 1, 'everythin': 1, 'shun': 1, 'bian': 1, 'glass': 1, 'exhibit': 1, 'el': 1, 'nino': 1, 'jd': 1, 'downstem': 1, 'wahala': 1, 'inperialmus': 1, 'listening2th': 1, 'byåóleafcutt': 1, 'insect': 1, 'molest': 1, 'plumb': 1, 'remix': 1, 'evil': 1, 'acid': 1, 'didntgiv': 1, 'bellearli': 1, 'cheeri': 1, 'weirdo': 1, 'jerri': 1, '9am': 1, '16': 1, 'jap': 1, 'disappear': 1, 'certif': 1, 'publish': 1, 'wheellock': 1, 'destin': 1, 'fifti': 1, 'happenin': 1, 'cocksuck': 1, 'worthless': 1, 'novelti': 1, 'item': 1, 'janx': 1, 'design': 1, 'spirit': 1, 'shatter': 1, 'girli': 1, 'darker': 1, 'gray': 1, 'listn': 1, 'watevr': 1, 'minu': 1, 'paragraph': 1, 'coveragd': 1, 'vasai': 1, 'retard': 1, 'bathroom': 1, 'icic': 1, 'syria': 1, 'gaug': 1, 'ax': 1, 'surgic': 1, 'unfold': 1, 'korean': 1, 'fredericksburg': 1, 'que': 1, 'pase': 1, 'un': 1, 'buen': 1, 'tiempo': 1, 'compass': 1, 'gnun': 1, 'baaaaab': 1, 'misss': 1, 'youuuuu': 1, 'witot': 1, 'becz': 1, 'undrstndng': 1, 'steamboat': 1, 'tp': 1, 'bbq': 1, '6ish': 1, 'everyso': 1, 'panick': 1, 'screen': 1, 'huai': 1, 'tlk': 1, 'path': 1, 'appear': 1, 'thirunelvali': 1, 'tackl': 1, 'storm': 1, 'phne': 1, 'wt': 1, 'margaret': 1, 'girlfrnd': 1, 'f': 1, 'grahmbel': 1, 'invnt': 1, 'telphon': 1, 'tonght': 1, 'plough': 1, 'pile': 1, 'chinki': 1, 'wi': 1, 'nz': 1, 'aust': 1, 'bk': 1, 'papa': 1, 'sinco': 1, 'paye': 1, 'bewar': 1, 'fraud': 1, 'disclos': 1, 'loser': 1, 'beta': 1, 'noncomitt': 1, 'beneath': 1, 'pale': 1, 'snicker': 1, 'chord': 1, 'boyf': 1, 'interviw': 1, 'spreadsheet': 1, 'whose': 1, 'intrepid': 1, 'duo': 1, 'breez': 1, 'fresh': 1, 'twitter': 1, 'duck': 1, 'chinchilla': 1, 'headstart': 1, 'rummer': 1, 'thanks2': 1, 'rajini': 1, 'spi': 1, 'yalru': 1, 'astn': 1, 'innu': 1, 'mundh': 1, 'halla': 1, 'bilo': 1, 'edha': 1, 'ovr': 1, 'vargu': 1, 'prone': 1, '7th': 1, '6th': 1, '5th': 1, 'dose': 1, 'incomm': 1, 'lotr': 1, 'browsin': 1, 'compulsori': 1, 'musthu': 1, 'investig': 1, 'vitamin': 1, 'crucial': 1, 'idp': 1, 'linux': 1, 'sayi': 1, 'disc': 1, 'champ': 1, 'glasgow': 1, 'lovin': 1, 'corect': 1, 'spele': 1, 'ct': 1, 'employe': 1, 'nike': 1, 'sooo': 1, 'dang': 1, 'earliest': 1, 'nordstrom': 1, 'konw': 1, 'waht': 1, 'rael': 1, 'gving': 1, 'exmpel': 1, 'jsut': 1, 'evrey': 1, 'splle': 1, 'wrnog': 1, 'sitll': 1, 'ra': 1, 'wihtuot': 1, 'ayn': 1, 'mitsak': 1, 'confer': 1, 'bleak': 1, 'shant': 1, 'nearer': 1, 'raiden': 1, 'kegger': 1, 'tote': 1, 'pierr': 1, 'cardin': 1, 'establish': 1, 'truro': 1, 'ext': 1, 'sunroof': 1, 'rumour': 1, 'kalainar': 1, 'nosi': 1, 'react': 1, 'satan': 1, 'impost': 1, 'destini': 1, 'companion': 1, 'chef': 1, 'organ': 1, 'sympathet': 1, 'athlet': 1, 'psychologist': 1, 'pest': 1, 'extermin': 1, 'psychiatrist': 1, 'healer': 1, 'stylist': 1, 'aaniy': 1, 'pudunga': 1, 'venaam': 1, 'chez': 1, 'jule': 1, 'hhahhaahahah': 1, 'nig': 1, 'leonardo': 1, '2year': 1, 'strain': 1, 'withdraw': 1, 'anyhow': 1, 'smeon': 1, 'miller': 1, 'spark': 1, 'rawr': 1, 'xoxo': 1, 'somewhr': 1, 'crush': 1, 'honeymoon': 1, 'outfit': 1, 'chequ': 1, 'leo': 1, 'haul': 1, 'wildlif': 1, 'want2com': 1, 'that2worzel': 1, 'wizzl': 1, 'dippeditinadew': 1, 'lovingli': 1, 'itwhichturnedinto': 1, 'tomeandsaid': 1, 'shanghai': 1, '21st': 1, 'cya': 1, '645': 1, 'thnx': 1, 'sef': 1, 'anji': 1, 'nte': 1, 'wate': 1, 'anim': 1, 'shini': 1, 'french': 1, 'keen': 1, 'dammit': 1, 'wright': 1, 'somewhat': 1, 'laden': 1, 'wreck': 1, 'six': 1, 'spontan': 1, 'goodeven': 1, 'spageddi': 1, 'phase': 1, 'fourth': 1, 'dimens': 1, 'meaning': 1, 'compromis': 1, 'dub': 1, 'je': 1, 'toughest': 1, 'ja': 1, 'squat': 1, 'sonathaya': 1, 'soladha': 1, 'cd': 1, 'rape': 1, 'weightloss': 1, 'mushi': 1, 'embarrass': 1, 'stash': 1, 'priya': 1, 'kilo': 1, 'tookplac': 1, 'ghodbandar': 1, 'slove': 1, 'nu': 1, 'sc': 1, 'wad': 1, 'stereo': 1, 'classmat': 1, 'missionari': 1, 'hugh': 1, 'lauri': 1, 'prap': 1, 'jon': 1, 'spain': 1, 'dinero': 1, 'åôrent': 1, 'alaipayuth': 1, 'finn': 1, 'downon': 1, 'theacus': 1, 'itxt': 1, 'iwana': 1, 'wotu': 1, 'haventcn': 1, 'neth': 1, 'inspect': 1, 'nurseri': 1, 'panren': 1, 'paru': 1, 'chuckin': 1, 'trainner': 1, 'carryin': 1, 'bac': 1, 'dhanush': 1, 'habba': 1, 'muchand': 1, 'venugop': 1, 'everytim': 1, 'mandan': 1, '3230': 1, 'textbook': 1, 'algorithm': 1, 'edit': 1, 'intend': 1, 'itried2tel': 1, 'careabout': 1, 'iraq': 1, 'afghanistan': 1, 'stabl': 1, 'honest': 1, 'pai': 1, 'seh': 1, 'walsal': 1, 'ccna': 1, 'shrek': 1, 'fellow': 1, 'teresa': 1, 'dec': 1, 'bam': 1, 'usml': 1, 'squishi': 1, 'mwah': 1, 'promin': 1, 'cheek': 1, 'septemb': 1, 'norm': 1, 'comingdown': 1, 'murali': 1, 'engalnd': 1, 'mia': 1, 'elliot': 1, 'matric': 1, '650': 1, 'fedex': 1, 'recept': 1, 'consensu': 1, 'bra': 1, 'strewn': 1, 'pillow': 1, 'wick': 1, 'srt': 1, 'ps3': 1, 'jontin': 1, 'pen': 1, 'biro': 1, 'shell': 1, 'lark': 1, 'lim': 1, 'parachut': 1, 'lambda': 1, 'angel': 1, 'snowbal': 1, 'ello': 1, 'duffer': 1, 'grr': 1, 'pharmaci': 1, 'fffff': 1, 'lifebook': 1, 'zhong': 1, 'qing': 1, 'accordingli': 1, 'hypertens': 1, 'annoyin': 1, 'nigro': 1, 'anyplac': 1, 'prioriti': 1, 'ecstasi': 1, 'hittng': 1, 'reflex': 1, 'adewal': 1, 'egbon': 1, 'mari': 1, 'deduct': 1, 'asshol': 1, 'grab': 1, 'payback': 1, 'honeybe': 1, 'sweetest': 1, 'havnt': 1, 'crack': 1, 'tesco': 1, 'featheri': 1, 'bowa': 1, 'infra': 1, 'gep': 1, 'shhhhh': 1, 'arul': 1, 'amk': 1, 'antha': 1, 'corrct': 1, 'dane': 1, 'basket': 1, 'rupaul': 1, 'practis': 1, 'curtsey': 1, 'african': 1, 'soil': 1, 'commun': 1, 'outreach': 1, '8lb': 1, '7oz': 1, 'brilliantli': 1, 'bend': 1, 'thia': 1, 'inlud': 1, 'preview': 1, 'ambrith': 1, 'madurai': 1, 'dha': 1, 'marrg': 1, 'kitti': 1, 'shave': 1, 'tact': 1, 'potato': 1, 'cram': 1, 'satsgettin': 1, 'pei': 1, 'subtoitl': 1, 'jot': 1, 'cereal': 1, 'bold2': 1, 'thkin': 1, 'resub': 1, 'shadow': 1, 'breadstick': 1, 'saeed': 1, 'purpl': 1, 'yelow': 1, 'brown': 1, 'eldest': 1, 'drugdeal': 1, 'sleepwel': 1, 'wondarful': 1, 'donyt': 1, 'latelyxxx': 1, 'soooo': 1, 'provid': 1, 'tming': 1, 'cutest': 1, 'dice': 1, 'howda': 1, 'samachara': 1, 'audri': 1, 'autocorrect': 1, 'simul': 1, 'lara': 1, 'suppli': 1, 'washob': 1, 'nob': 1, 'nickey': 1, 'platt': 1, 'spotti': 1, 'provinc': 1, 'sterl': 1, 'xam': 1, 'hall': 1, 'intha': 1, 'ponnungal': 1, 'ipaditan': 1, 'reject': 1, 'tessi': 1, 'favor': 1, 'shija': 1, 'noisi': 1, 'needa': 1, 'manual': 1, 'reset': 1, 'troubleshoot': 1, 'strongli': 1, 'stifl': 1, 'dave': 1, 'heåõ': 1, '2getha': 1, 'nosh': 1, 'waaaat': 1, 'lololo': 1, 'document': 1, 'stapati': 1, 'cuti': 1, 'honesti': 1, 'labor': 1, 'shakara': 1, 'beggar': 1, 'dent': 1, 'crickit': 1, 'imin': 1, 'urgoin': 1, 'outl8r': 1, 'yavnt': 1, 'origin': 1, 'ibuprofen': 1, 'grown': 1, 'chinatown': 1, 'porridg': 1, 'claypot': 1, 'yam': 1, 'fishhead': 1, 'beehoon': 1, 'jaklin': 1, 'nearbi': 1, 'ooh': 1, '4got': 1, 'moseley': 1, 'thankyou': 1, 'textin': 1, 'raji': 1, 'amigo': 1, 'progress': 1, 'arti': 1, 'collag': 1, 'tryin': 1, '2hr': 1, 'walik': 1, 'carton': 1, 'shelv': 1, 'mirror': 1, 'jod': 1, 'keri': 1, 'smidgin': 1, 'accordin': 1, 'knock': 1, 'listened2th': 1, 'plaid': 1, 'air1': 1, 'boughtåóbraindanceåóa': 1, 'aphexåõ': 1, 'abel': 1, 'nelson': 1, 'unmit': 1, 'newspap': 1, 'yummmm': 1, 'puzzel': 1, 'threat': 1, 'shifad': 1, 'dust': 1, 'watchin': 1, 'lifetim': 1, 'meaningless': 1, 'brdget': 1, 'jone': 1, 'inev': 1, 'hype': 1, 'studio': 1, 'velli': 1, 'va': 1, 'hanger': 1, 'poem': 1, 'waqt': 1, 'pehl': 1, 'naseeb': 1, 'zyada': 1, 'kisi': 1, 'ko': 1, 'kuch': 1, 'milta': 1, 'hum': 1, 'socht': 1, 'jeetey': 1, 'varaya': 1, 'elaya': 1, 'anand': 1, 'beach': 1, 'jez': 1, 'iscom': 1, 'todo': 1, 'workand': 1, 'whilltak': 1, 'zogtoriu': 1, 'iåõv': 1, 'financi': 1, 'alian': 1, 'posibl': 1, 'centuri': 1, 'cm': 1, 'frwd': 1, 'affection': 1, 'clarif': 1, 'coimbator': 1, 'categori': 1, 'ethnic': 1, 'censu': 1, 'transcrib': 1, 'propsd': 1, 'gv': 1, 'lv': 1, 'lttr': 1, 'threw': 1, 'aproach': 1, 'dt': 1, 'truck': 1, 'instantli': 1, 'thi': 1, 'happili': 1, '2gthr': 1, 'evrydi': 1, 'goodmat': 1, 'asusu': 1, 'franyxxxxx': 1, 'batt': 1, 'responc': 1, 'wiskey': 1, 'brandi': 1, 'rum': 1, 'gin': 1, 'scotch': 1, 'shampain': 1, 'yarasu': 1, 'dhina': 1, 'vaazhthukk': 1, 'pressur': 1, 'doke': 1, 'neshanth': 1, 'byatch': 1, 'whassup': 1, 'cl': 1, 'chiong': 1, 'dialogu': 1, 'reltnship': 1, 'veget': 1, 'aww': 1, 'pose': 1, 'comb': 1, 'dryer': 1, 'fp': 1, 'dlf': 1, 'err': 1, '8pm': 1, 'offlin': 1, 'anjola': 1, 'txting': 1, 'crore': 1, 'supli': 1, 'imf': 1, 'corrupt': 1, 'itna': 1, 'karo': 1, 'ki': 1, 'pura': 1, 'torrent': 1, 'particularli': 1, 'commit': 1, 'rightio': 1, 'brum': 1, 'scorabl': 1, 'paranoid': 1, 'brin': 1, 'bettr': 1, 'bsnl': 1, 'offc': 1, 'suganya': 1, 'dessert': 1, 'abeg': 1, 'profit': 1, 'sponsor': 1, 'onum': 1, 'poet': 1, 'rr': 1, 'famamu': 1, 'jenn': 1, 'easiest': 1, 'barcelona': 1, 'pansi': 1, 'jungl': 1, 'kanji': 1, 'sr': 1, 'drizzl': 1, 'drama': 1, 'struggl': 1, 'ego': 1, 'necess': 1, 'reppurcuss': 1, 'cosign': 1, 'hcl': 1, 'fresher': 1, 'bid': 1, 'reliant': 1, 'fwiw': 1, 'afford': 1, 'sq825': 1, 'citylink': 1, 'prop': 1, 'pleasant': 1, 'bognor': 1, 'splendid': 1, 'ktv': 1, 'misplac': 1, 'begun': 1, 'registr': 1, 'perman': 1, 'resid': 1, 'clair': 1, 'benefit': 1, '6month': 1, 'accumul': 1, 'fate': 1, 'shoranur': 1, 'fuell': 1, 'prior': 1, 'grief': 1, 'terrif': 1, 'honestli': 1, 'promptli': 1, 'burnt': 1, 'someplac': 1, 'pressi': 1, 'ultim': 1, 'tor': 1, 'tui': 1, 'achiev': 1, 'korli': 1, 'roll': 1, 'newscast': 1, 'dabbl': 1, 'flute': 1, 'wheel': 1, 'the4th': 1, 'octob': 1, 'safeti': 1, 'aspect': 1, 'ovarian': 1, 'cyst': 1, 'shrink': 1, 'timin': 1, 'ape': 1, 'ibm': 1, 'hp': 1, 'gosh': 1, 'spose': 1, 'rimac': 1, 'arestaur': 1, 'squid': 1, 'dosometh': 1, 'dabook': 1, 'eachoth': 1, 'luckili': 1, 'smoothli': 1, 'breakfast': 1, 'hamper': 1, 'realiti': 1, 'unni': 1, 'lack': 1, 'particular': 1, 'dramastorm': 1, 'forfeit': 1, 'digi': 1, 'coupla': 1, 'sundayish': 1, 'held': 1, 'prasad': 1, 'kochi': 1, 'checkup': 1, 'smear': 1, 'gobi': 1, 'pandi': 1, '4w': 1, 'technolog': 1, 'olowoyey': 1, 'argentina': 1, 'taxt': 1, 'lool': 1, 'scarcasim': 1, 'naal': 1, 'eruku': 1, 'amongst': 1, 'sensibl': 1, 'obedi': 1, 'needi': 1, 'playng': 1, 'landlin': 1, 'anna': 1, 'nagar': 1, 'yupz': 1, 'ericson': 1, 'der': 1, 'luk': 1, 'modl': 1, 'cheesi': 1, 'frosti': 1, 'witin': 1, 'nudist': 1, 'pump': 1, 'evr': 1, 'signal': 1, 'unusu': 1, 'palm': 1, 'state': 1, 'perpetu': 1, 'dd': 1, 'pract': 1, 'flung': 1, 'justbeen': 1, 'overa': 1, 'mush': 1, 'tund': 1, 'mission': 1, 'avo': 1, 'chachi': 1, 'tiz': 1, 'kanagu': 1, 'brat': 1, 'derp': 1, 'abus': 1, 'lipo': 1, 'easter': 1, 'netflix': 1, 'clash': 1, 'arr': 1, 'oscar': 1, 'rebtel': 1, 'firefox': 1, 'user': 1, 'mittelschmertz': 1, 'paracetamol': 1, 'cthen': 1, 'conclus': 1, 'rugbi': 1, 'affidavit': 1, 'twigg': 1, 'courtroom': 1, 'golden': 1, 'wtc': 1, 'weiyi': 1, 'privat': 1, 'maggi': 1, 'mee': 1, 'nasti': 1, 'com': 1, 'pooja': 1, 'sweatter': 1, 'ambiti': 1, 'miiiiiiissssssssss': 1, 'tunji': 1, 'misscal': 1, 'frndz': 1, '6miss': 1, 'tall': 1, 'aveng': 1, 'japanes': 1, 'proverb': 1, 'toss': 1, 'gudni8': 1, 'dancin': 1, 'explicitli': 1, 'nora': 1, 'smith': 1, 'gayl': 1, 'crucifi': 1, 'but': 1, 'cedar': 1, 'durham': 1, 'printer': 1, 'harish': 1, 'acnt': 1, 'showroom': 1, 'shape': 1, 'doinat': 1, 'callon': 1, 'configur': 1, 'anal': 1, 'pear': 1, 'helloooo': 1, 'summer': 1, 'oooooh': 1, 'weåõv': 1, 'mint': 1, 'xxxx': 1, 'studyn': 1, 'everyboy': 1, 'xxxxxxxx': 1, 'answr': 1, 'liquor': 1, 'loko': 1, '730': 1, 'fireplac': 1, 'icon': 1, 'fifth': 1, 'woozl': 1, 'machin': 1, 'my': 1, 'down': 1, 'fletcher': 1, 'cozi': 1, 'buzzzz': 1, 'trend': 1, 'pro': 1, 'con': 1, 'descript': 1, 'nuclear': 1, 'fusion': 1, 'iter': 1, 'jet': 1, 'nowher': 1, 'ikno': 1, 'doesdiscount': 1, 'jabo': 1, 'sapna': 1, 'maneg': 1, 'hogidh': 1, 'chinnu': 1, 'swalpa': 1, 'agidhan': 1, 'footbl': 1, 'crckt': 1, 'swell': 1, 'tim': 1, 'bollox': 1, 'tol': 1, 'ingredi': 1, 'poci': 1, 'non': 1, 'senor': 1, 'giggl': 1, 'person2di': 1, 'nvq': 1, 'grinder': 1, 'onluy': 1, 'offcampu': 1, 'riley': 1, 'ew': 1, 'lingo': 1, 'sankranti': 1, 'republ': 1, 'shivratri': 1, 'ugadi': 1, 'festiv': 1, 'dasara': 1, 'rememberi': 1, 'lifei': 1, 'daywith': 1, 'somewheresomeon': 1, 'tosend': 1, 'selfless': 1, 'tallent': 1, 'portal': 1, 'lennon': 1, 'fox': 1, 'frndsship': 1, 'dwn': 1, 'slaaaaav': 1, 'summon': 1, 'appendix': 1, 'webpag': 1, 'yeesh': 1, 'gopalettan': 1, 'particip': 1, 'ay': 1, 'expert': 1, 'thinl': 1, 'importantli': 1, 'tightli': 1, 'yen': 1, 'madodu': 1, 'nav': 1, 'pretsorginta': 1, 'nammanna': 1, 'pretsovru': 1, 'alwa': 1, 'emigr': 1, 'olol': 1, 'stagwood': 1, 'winterston': 1, 'victor': 1, 'jp': 1, 'mofo': 1, 'pathaya': 1, 'enketa': 1, 'maraikara': 1, 'priest': 1, 'intrud': 1, 'walkabout': 1, 'announc': 1, 'footi': 1, 'phil': 1, 'nevil': 1, 'abbey': 1, 'punj': 1, 'pre': 1, 'twat': 1, 'dungere': 1, 'deck': 1, 'punch': 1, 'hogolo': 1, 'gold': 1, 'kodstini': 1, 'madstini': 1, 'hogli': 1, 'mutai': 1, 'eerulli': 1, 'kodthini': 1, 'thasa': 1, 'tex': 1, 'mecaus': 1, 'werebor': 1, 'okden': 1, 'uin': 1, 'soundåõ': 1, 'likeyour': 1, 'gr8fun': 1, 'countinlot': 1, 'hdd': 1, 'mysteri': 1, 'describ': 1, 'asu': 1, 'randomli': 1, 'reformat': 1, 'plumber': 1, 'appeal': 1, 'thriller': 1, 'eleph': 1, 'um': 1, 'cr': 1, 'pooki': 1, 'nri': 1, 'x2': 1, 'deserv': 1, 'diddi': 1, 'toothpast': 1, 'poke': 1, 'coccoon': 1, '1im': 1, 'talkin': 1, 'divorc': 1, 'windi': 1, 'tirunelvai': 1, 'dusk': 1, 'puzzl': 1, 'stair': 1, 'phew': 1, 'recycl': 1, 'toledo': 1, 'tai': 1, 'feng': 1, 'swimsuit': 1, 'squeeeeez': 1, 'frndshp': 1, 'luvd': 1, 'volcano': 1, 'erupt': 1, 'hurrican': 1, 'sway': 1, 'aroundn': 1, 'disast': 1, 'lighter': 1, '7pm': 1, 'lasagna': 1, 'woould': 1, 'drove': 1, 'raviyog': 1, 'peripher': 1, 'bhayandar': 1, 'sunoco': 1, 'plate': 1, 'leftov': 1, 'fatti': 1, 'badrith': 1, 'nic': 1, 'checkin': 1, 'armenia': 1, 'swann': 1, '1120': 1, '1205': 1, 'justifi': 1, 'gonnamissu': 1, 'butther': 1, 'abouta': 1, 'merememberin': 1, 'asther': 1, 'ofsi': 1, 'breakin': 1, 'yaxx': 1, 'poortiyagi': 1, 'odalebeku': 1, 'hanumanji': 1, 'janarig': 1, 'ivatt': 1, 'kalisidar': 1, 'olag': 1, 'ondu': 1, 'keluviri': 1, 'maretar': 1, 'ind': 1, 'dodda': 1, 'problum': 1, 'nalli': 1, 'siguviri': 1, 'idu': 1, 'matra': 1, 'neglet': 1, 'ijust': 1, 'opp': 1, 'gei': 1, 'tron': 1, 'dl': 1, 'spif': 1, 'workag': 1, 'supos': 1, 'embassi': 1, 'lightli': 1, 'checkbox': 1, 'hardcor': 1, 'batsman': 1, 'yetti': 1, 'approx': 1, '21': 1, 'revers': 1, 'mathemat': 1, 'yifeng': 1, 'slurp': 1, '3mile': 1, 'ing': 1, 'brainless': 1, 'vehicl': 1, 'sariyag': 1, 'madok': 1, 'barolla': 1, 'postpon': 1, 'tiim': 1, 'afternon': 1, 'resiz': 1, 'oppos': 1, 'somerset': 1, 'overtim': 1, 'nigpun': 1, 'dismissi': 1, 'screwd': 1, 'bull': 1, 'float': 1, 'heehe': 1, 'arithmet': 1, 'percentag': 1, 'chillaxin': 1, 'iknow': 1, 'wellda': 1, 'peril': 1, 'studentfinanci': 1, 'monster': 1, 'ia': 1, 'obey': 1, 'uhhhhrmm': 1, 'youphon': 1, 'athom': 1, 'youwanna': 1, 'jack': 1, 'pretend': 1, 'hypotheticalhuagauahahuagahyuhagga': 1, 'braini': 1, 'occas': 1, 'reflect': 1, 'desir': 1, 'tradit': 1, 'cantdo': 1, 'anythingtomorrow': 1, 'mypar': 1, 'aretak': 1, 'outfor': 1, 'level': 1, 'gate': 1, 'board': 1, 'overh': 1, 'reslov': 1, 'inst': 1, 'western': 1, 'notixiqu': 1, 'laxinorf': 1, 'bambl': 1, 'entrop': 1, 'oblising': 1, 'opt': 1, 'masteriast': 1, 'amplikat': 1, 'fidalf': 1, 'champlaxig': 1, 'atroci': 1, 'wotz': 1, 'junna': 1, 'a30': 1, 'divert': 1, 'vill': 1, 'orc': 1, 'seek': 1, 'wherr': 1, 'resolut': 1, 'frank': 1, 'logoff': 1, 'parkin': 1, 'asa': 1, 'charm': 1, 'arnt': 1, 'xxxxxxxxxxxxxx': 1, 'all': 1, 'mone': 1, 'eppolum': 1, 'pole': 1, 'allalo': 1, 'fundament': 1, 'pixel': 1, '3optic': 1, '5digit': 1, 'doom': 1, 'petey': 1, 'noiåõm': 1, 'js': 1, 'burgundi': 1, 'amrita': 1, 'bpo': 1, 'nighter': 1, 'persev': 1, 'wasnåõt': 1, 'spous': 1, 'pmt': 1, '4give': 1, 'shldxxxx': 1, 'scenario': 1, 'wrld': 1, 'broadband': 1, 'tens': 1, 'survey': 1, 'sprint': 1, 'gower': 1, 'åômorrow': 1, '420': 1, 'sabarish': 1, 'jaya': 1, 'inperson': 1, 'flea': 1, 'ny': 1, 'taj': 1, 'symbol': 1, 'lesser': 1, 'known': 1, 'deliveri': 1, 'webadr': 1, 'gete': 1, 'passport': 1, 'multipli': 1, 'twin': 1, 'equal': 1, 'unev': 1, 'peski': 1, 'cyclist': 1, 'adi': 1, 'entey': 1, 'nattil': 1, 'kittum': 1, 'kavalan': 1, 'hire': 1, 'hitman': 1, 'cp': 1, 'conserv': 1, 'jordan': 1, 'epi': 1, 'bhaskar': 1, 'individu': 1, 'gong': 1, 'kaypoh': 1, 'basketbal': 1, 'outdoor': 1, 'interfu': 1, 'hustl': 1, 'forth': 1, 'harlem': 1, 'workout': 1, 'zac': 1, 'hui': 1, 'versu': 1, 'edg': 1, 'underdtand': 1, 'muchxxlov': 1, 'skateboard': 1, 'thrown': 1, 'bandag': 1, 'sky': 1, 'hectic': 1, 'virtual': 1, 'apnt': 1, 'pant': 1, 'go2sri': 1, 'lanka': 1, 'mere': 1, 'relationship': 1, 'wherevr': 1, 'gudnyt': 1, 'plum': 1, 'smack': 1, 'alot': 1, 'attract': 1, 'lancast': 1, 'neway': 1, 'couldnåõt': 1, 'soc': 1, 'bsn': 1, 'advis': 1, 'lobbi': 1, 'lubli': 1, 'specifi': 1, 'domain': 1, 'nusstu': 1, 'bari': 1, 'hudgi': 1, 'yorg': 1, 'pataistha': 1, 'ertini': 1, 'hasbro': 1, 'august': 1, 'jump': 1, 'hoop': 1, 'ummifi': 1, 'associ': 1, 'rip': 1, 'uteru': 1, 'jacuzzi': 1, 'aldrin': 1, 'rtm': 1, 'neces': 1, 'witout': 1, 'wth': 1, 'esp': 1, '4wrd': 1, 'wthout': 1, 'takecar': 1, 'univ': 1, 'raja': 1, 'burrito': 1, 'attempt': 1, 'confirmd': 1, 'motorola': 1, 'cnn': 1, 'ibn': 1, 'stitch': 1, 'trouser': 1, 'cheeto': 1, 'sync': 1, 'shangela': 1, 'hppnss': 1, 'sorrow': 1, 'goodfriend': 1, 'poo': 1, 'gloucesterroad': 1, 'uup': 1, 'ouch': 1, 'glo': 1, 'wlcome': 1, 'timi': 1, 'fishrman': 1, 'strtd': 1, 'throwin': 1, '1stone': 1, 'physic': 1, 'delici': 1, 'salad': 1, 'whore': 1, 'flood': 1, 'bead': 1, 'wishlist': 1, 'sold': 1, 'reffer': 1, 'geti': 1, 'weirdi': 1, 'restrict': 1, 'greec': 1, 'protect': 1, 'sib': 1, 'sensit': 1, 'someday': 1, 'grandfath': 1, 'expir': 1, 'yuou': 1, 'spot': 1, 'bunch': 1, 'lotto': 1, 'authoris': 1, 'gimmi': 1, 'goss': 1, 'chile': 1, 'sublet': 1, 'amma': 1, 'steer': 1, 'rounder': 1, 'lambu': 1, 'ji': 1, 'batchlor': 1, 'zoom': 1, 'pure': 1, 'smiley': 1, 'gail': 1, 'l8tr': 1, 'yaxxx': 1, 'theoret': 1, 'multimedia': 1, 'agenc': 1, 'nicki': 1, 'gumbi': 1, 'tarpon': 1, 'cab': 1, 'radiat': 1, 'proper': 1, 'tongu': 1, 'qi': 1, 'suddenli': 1, 'flurri': 1, 'nigh': 1, 'nooooooo': 1, 'cabl': 1, 'so': 1, 'playin': 1, 'guoyang': 1, 'rahul': 1, 'dengra': 1, 'antelop': 1, 'toplay': 1, 'fieldof': 1, 'selfindepend': 1, 'borderlin': 1, '545': 1, 'nightnight': 1, 'groov': 1, 'mise': 1, 'lanr': 1, 'fakey': 1, 'eckankar': 1, 'ph': 1, 'dodgey': 1, 'funki': 1, 'asssssholeee': 1, 'ceri': 1, 'rebel': 1, 'dreamz': 1, 'buddi': 1, 'nationwid': 1, 'newport': 1, 'shortli': 1, 'juliana': 1, 'nacho': 1, 'dizzamn': 1, 'suitem': 1, 'nimbomson': 1, 'contin': 1, 'ow': 1, 'nose': 1, 'essay': 1, 'tram': 1, 'vic': 1, 'coher': 1, 'onlyfound': 1, 'afew': 1, 'southern': 1, 'rayan': 1, 'macleran': 1, 'olav': 1, 'mandara': 1, 'trishul': 1, 'woo': 1, 'hoo': 1, 'panti': 1, 'thout': 1, 'flatter': 1, 'pint': 1, 'carlin': 1, 'ciao': 1, 'wknd': 1, 'yalrigu': 1, 'heltini': 1, 'iyo': 1, 'noic': 1, 'esaplanad': 1, 'enna': 1, 'kalaachutaarama': 1, 'coco': 1, 'sporad': 1, 'youåõr': 1, 'burden': 1, 'harder': 1, 'nbme': 1, 'gam': 1, 'religi': 1, 'await': 1, 'muhommad': 1, 'penni': 1, 'hubbi': 1, 'fite': 1, 'mj': 1, 'unconvinc': 1, 'willpow': 1, 'absenc': 1, 'answerin': 1, 'åè10': 1, 'evey': 1, 'mnth': 1, 'prin': 1, 'ashwini': 1, 'thet': 1, 'skinni': 1, 'cast': 1, 'hockey': 1, '116': 1, 'hlday': 1, 'camp': 1, 'amrca': 1, 'serena': 1, 'prescrib': 1, 'meatbal': 1, 'panalam': 1, 'fortun': 1, 'allday': 1, 'perf': 1, '98321561': 1, 'familiar': 1, 'infact': 1, 'canåõt': 1, 'cornwal': 1, 'isnåõt': 1, 'shite': 1, 'kip': 1, 'hont': 1, 'perspect': 1, 'debat': 1, 'jb': 1, 'florida': 1, 'hidden': 1, 'swhrt': 1, 'jetton': 1, 'lunsford': 1, 'kfc': 1, 'gravi': 1, 'mw': 1, 'tuth': 1, 'evict': 1, 'spiral': 1, 'michael': 1, 'riddanc': 1, 'raglan': 1, 'closebi': 1, 'skye': 1, 'bookedth': 1, 'hut': 1, 'drastic': 1, 'garment': 1, 'sez': 1, 'arab': 1, 'evry1': 1, 'eshxxxxxxxxxxx': 1, 'bimbo': 1, 'ugo': 1, 'detroit': 1, 'porteg': 1, 'm100': 1, 'semiobscur': 1, 'loosu': 1, 'careless': 1, 'myspac': 1, 'partner': 1, 'method': 1, 'jewelri': 1, 'fumbl': 1, 'weekday': 1, 'nail': 1, 'asia': 1, 'greatest': 1, 'bear': 1, 'defeat': 1, 'stil': 1, 'tobe': 1, '430': 1, 'asthma': 1, 'attack': 1, 'spin': 1, 'haiyoh': 1, 'prsn': 1, 'audiit': 1, 'reloc': 1, 'pock': 1, 'brison': 1, 'cap': 1, 'among': 1, 'bullshit': 1, 'motherfuck': 1, 'woodland': 1, 'avenu': 1, 'parish': 1, 'magazin': 1, 'billi': 1, 'awww': 1, 'useless': 1, 'loo': 1, 'shelf': 1, 'swollen': 1, 'gland': 1, 'bcaz': 1, 'stu': 1, 'trubl': 1, 'evon': 1, 'view': 1, 'dual': 1, 'hostil': 1, 'haircut': 1, 'breezi': 1, '1tulsi': 1, '1cup': 1, 'problm': 1, 'litr': 1, 'diseas': 1, 'snd': 1, 'lavend': 1, 'manki': 1, 'scous': 1, 'inmind': 1, 'recreat': 1, 'mesag': 1, 'judgement': 1, 'waheeda': 1, 'bot': 1, 'eventu': 1, 'toler': 1, 'hellogorg': 1, 'nitw': 1, 'texd': 1, 'hopeu': 1, '4ward': 1, 'jaz': 1, 'exorc': 1, 'emili': 1, 'evri': 1, 'emot': 1, 'prayr': 1, 'ujhhhhhhh': 1, 'sandiago': 1, 'parantella': 1, 'sweater': 1, 'mango': 1, 'absolutli': 1, 'consent': 1, 'mathew': 1, 'tait': 1, 'anderson': 1, 'haunt': 1, 'promot': 1, 'hex': 1, 'crowd': 1, 'snowboard': 1, 'christmassi': 1, 'baaaaaaaab': 1, 'shola': 1, 'sagamu': 1, 'lautech': 1, 'vital': 1, 'zealand': 1, 'qet': 1, 'dial': 1, 'browser': 1, 'convers': 1, 'intern': 1, 'extract': 1, 'skint': 1, 'othr': 1, 'watchng': 1, 'planet': 1, 'comfey': 1, 'least5tim': 1, 'frequent': 1, 'cupboard': 1, 'rout': 1, '2mro': 1, 'uk': 1, 'grasp': 1, 'flavour': 1, 'lareadi': 1, 'dom': 1, 'ffffuuuuuuu': 1, 'oblivi': 1, 'mapquest': 1, 'dogwood': 1, 'archiv': 1, 'behalf': 1, 'stun': 1, 'visa': 1, 'gucci': 1, 'culdnt': 1, 'talkbut': 1, 'wannatel': 1, 'wenwecan': 1, 'smsing': 1, 'effici': 1, 'erutupalam': 1, 'thandiyachu': 1, 'invent': 1, 'lyric': 1, 'nevr': 1, 'unrecogn': 1, 'somon': 1, 'definitli': 1, 'undrstnd': 1, 'ger': 1, 'toke': 1, 'syd': 1, 'khelat': 1, 'kintu': 1, 'opponent': 1, 'dhort': 1, 'lage': 1, 'looovvv': 1, 'warwick': 1, 'tmw': 1, 'parad': 1, 'grumbl': 1, 'linear': 1, 'algebra': 1, 'decor': 1, 'roomat': 1, 'graduat': 1, 'adjust': 1, 'cooper': 1, 'nottingham': 1, '63mile': 1, '40mph': 1, 'mornin': 1, 'thanku': 1, '2morro': 1, 'besid': 1, 'brisk': 1, 'tellmiss': 1, 'contribut': 1, 'greatli': 1, 'urgh': 1, 'coach': 1, 'duvet': 1, '24th': 1, 'cha': 1, 'beverag': 1, 'surrend': 1, 'rdi': 1, 'comp': 1, 'backward': 1, 'abstract': 1, 'africa': 1, 'avin': 1, 'quiteamuz': 1, 'thatåõscool': 1, 'fixd': 1, 'njan': 1, 'vilikkam': 1, 'sudn': 1, 'chapter': 1, 'chop': 1, 'noooooooo': 1, 'firsg': 1, 'split': 1, 'wasnt': 1, 'heat': 1, 'laid': 1, 'voucher': 1, 'virgin': 1, 'sumf': 1, 'hiphop': 1, 'oxygen': 1, 'resort': 1, 'roller': 1, 'showr': 1, 'upon': 1, 'ceil': 1, 'presnt': 1, 'bcz': 1, 'irulina': 1, 'neekunna': 1, 'prakasamanu': 1, 'prakasam': 1, 'ennal': 1, 'mn': 1, 'firmwar': 1, 'vijaykanth': 1, 'anythi': 1, 'keypad': 1, 'btwn': 1, 'decad': 1, 'gover': 1, 'spice': 1, 'prasanth': 1, 'ettan': 1, 'appi': 1, 'fizz': 1, 'contain': 1, 'genu': 1, 'robinson': 1, 'out': 1, 'soz': 1, 'imat': 1, 'sometext': 1, 'wewa': 1, 'iriv': 1, '128': 1, 'bw': 1, 'surli': 1, 'capit': 1, 'mmmmmmm': 1, 'snuggl': 1, 'whisper': 1, 'healthi': 1, '2bold': 1, 'sticki': 1, 'scrape': 1, 'barrel': 1, 'misfit': 1, 'clearer': 1, 'peach': 1, 'shindig': 1, 'phonebook': 1, 'eng': 1, 'ash': 1, 'shijutta': 1, 'offens': 1, 'dvg': 1, 'vinobanagar': 1, '3wk': 1, 'orh': 1, 'thousand': 1, 'n8': 1, 'canteen': 1, 'stressful': 1, '140': 1, 'ìä': 1, '180': 1, 'bedrm': 1, 'assist': 1, 'when': 1, 'watev': 1, 'built': 1, 'lonlin': 1, 'lotz': 1, 'gailxx': 1, 'instruct': 1, 'complac': 1, 'mina': 1, 'miwa': 1, 'hsbc': 1, 'opposit': 1, 'heavili': 1, 'patrick': 1, 'swayz': 1, 'quarter': 1, 'nervou': 1, 'limp': 1, 'aa': 1, 'oga': 1, 'poorli': 1, 'brb': 1, 'smaller': 1, 'capac': 1, 'defer': 1, 'admiss': 1, 'chess': 1, 'persian': 1, 'phrase': 1, 'shah': 1, 'rat': 1, 'pee': 1, 'photoshop': 1, 'inshah': 1, 'increas': 1, 'north': 1, 'carolina': 1, 'texa': 1, 'gre': 1, 'bomb': 1, 'weapon': 1, 'lovli': 1, 'cla': 1, 'lit': 1, 'loooooool': 1, 'swashbuckl': 1, 'dip': 1, 'gek1510': 1, 'cruis': 1, 'feelin': 1, 'happiest': 1, 'antibiot': 1, 'abdomen': 1, 'gyna': 1, '6time': 1, 'chastiti': 1, 'devic': 1, 'beat': 1, 'gut': 1, 'tallahasse': 1, 'taka': 1, 'wrote': 1, 'ritten': 1, 'fold': 1, 'solihul': 1, 'nh': 1, 'local': 1, '2b': 1, 'nonetheless': 1, 'hooch': 1, 'toaday': 1, 'splat': 1, 'graze': 1, 'hearin': 1, 'yah': 1, 'tortur': 1, 'england': 1, 'court': 1, 'chapel': 1, 'frontiervil': 1, 'deer': 1, 'varma': 1, 'secur': 1, 'fart': 1, 'ortxt': 1, 'ahhhh': 1, 'kaila': 1, 'collaps': 1, 'jade': 1, 'paul': 1, 'barm': 1, 'thinkthi': 1, 'channel': 1, 'coulda': 1, 'okday': 1, 'hmph': 1, 'baller': 1, 'punto': 1, 'ayo': 1, 'toyota': 1, 'camri': 1, 'olayiwola': 1, 'mileag': 1, 'clover': 1, 'achan': 1, 'nìâte': 1, 'puppi': 1, 'nois': 1, 'adsens': 1, 'dudett': 1, 'perumbavoor': 1, 'stage': 1, 'clarifi': 1, 'prepon': 1, 'younger': 1, 'liver': 1, 'loneli': 1, 'skyve': 1, 'club': 1, 'onword': 1, 'mtnl': 1, 'mumbai': 1, 'rajitha': 1, 'ranju': 1, 'slp': 1, 'muah': 1, 'disagre': 1, 'afterward': 1, 'uawak': 1, 'feellikw': 1, 'alett': 1, 'thatmum': 1, 'gotmarri': 1, 'ourback': 1, 'fuckinnic': 1, 'rearrang': 1, 'dormitori': 1, 'astronom': 1, 'starer': 1, 'recount': 1, 'hitler': 1, 'eleven': 1, 'worm': 1, 'dysentri': 1, 'virgil': 1, 'gokila': 1, 'shanil': 1, 'exchang': 1, 'uncut': 1, 'dino': 1, 'prem': 1, 'kote': 1, 'hassl': 1, 'haughaighgtujhyguj': 1, 'fassyol': 1, 'blacko': 1, 'londn': 1, 'aslamalaikkum': 1, 'tohar': 1, 'beeen': 1, 'muht': 1, 'albi': 1, 'mufti': 1, 'mahfuuz': 1, 'enufcredeit': 1, 'ileav': 1, 'okor': 1, 'ibor': 1, 'zero': 1, 'goigng': 1, 'perfum': 1, 'sday': 1, 'grocer': 1, 'franki': 1, 'benni': 1, 'warner': 1, 'diaper': 1, 'unlik': 1, 'patient': 1, 'turkey': 1, 'wenev': 1, 'stabil': 1, 'tranquil': 1, 'vibrant': 1, 'renew': 1, 'bawl': 1, 'failur': 1, 'velusami': 1, 'facil': 1, 'karnan': 1, 'bluray': 1, 'salt': 1, 'wound': 1, 'geoenvironment': 1, 'implic': 1, 'fuuuuck': 1, 'salmon': 1, 'wrkin': 1, 'awkward': 1, 'splash': 1, 'musta': 1, 'overdid': 1, 'gastroenter': 1, 'reduc': 1, 'chuck': 1, 'port': 1, 'juswok': 1, 'boatin': 1, 'spinout': 1, 'uworld': 1, 'qbank': 1, 'assess': 1, 'tke': 1, 'temal': 1, 'vid': 1, 'finishd': 1, 'dull': 1, 'treadmil': 1, 'craigslist': 1, 'absolut': 1, 'swan': 1, 'lamp': 1, 'foward': 1, 'misundrstud': 1, '2u2': 1, 'gene': 1, 'reappli': 1, 'treatin': 1, 'treacl': 1, 'mumha': 1, 'beendrop': 1, 'theplac': 1, 'adress': 1, 'oyster': 1, 'sashimi': 1, 'rumbl': 1, 'marandratha': 1, 'correctli': 1, 'heaven': 1, 'pisc': 1, 'aquariu': 1, '2yr': 1, 'steyn': 1, 'wicket': 1, 'sterm': 1, 'resolv': 1, 'jam': 1, 'hannaford': 1, 'wheat': 1, 'chex': 1, 'pride': 1, 'grownup': 1, 'jerk': 1, 'stink': 1, 'upcharg': 1, 'guai': 1, 'astrolog': 1, 'slack': 1, 'mentor': 1, '100': 1, 'percent': 1, 'sane': 1, 'spacebuck': 1, 'squeez': 1, 'dread': 1, 'thou': 1, 'forgt': 1, 'ajith': 1, 'ooooooh': 1, 'yovil': 1, 'mega': 1, 'asda': 1, 'bff': 1, 'carli': 1, 'seper': 1, 'brolli': 1, 'franxx': 1, 'prometazin': 1, 'syrup': 1, '5ml': 1, 'feed': 1, 'singapor': 1, 'victoria': 1, 'pocay': 1, 'wocay': 1, '2morrowxxxx': 1, 'broth': 1, 'ramen': 1, 'fowler': 1, 'flew': 1, 'attent': 1, 'tix': 1, 'fne': 1, 'youdo': 1, 'worc': 1, 'foreg': 1, 'shrub': 1, 'get4an18th': 1, 'pendent': 1, 'hu': 1, 'navig': 1, 'guidanc': 1, 'chick': 1, 'boob': 1, 'reveal': 1, 'gyno': 1, 'treasur': 1, 'neg': 1, 'hmmmm': 1, 'command': 1, 'holbi': 1, 'li': 1, 'yeovil': 1, 'motor': 1, 'max': 1, 'rhode': 1, 'bong': 1, 'ofcours': 1, 'tamilnadu': 1, 'tip': 1, 'identif': 1, 'boundari': 1, 'endless': 1, 'young': 1, 'referin': 1, 'saibaba': 1, 'colani': 1, 'chic': 1, 'declar': 1, 'disappoint': 1, 'tantrum': 1, 'compliment': 1, 'chief': 1, 'mous': 1, 'desk': 1, 'childporn': 1, 'jumper': 1, 'hat': 1, 'belt': 1, 'cribb': 1, 'spiritu': 1, 'sudden': 1, 'influx': 1, 'yeh': 1, 'kane': 1, 'shud': 1, 'pshew': 1, 'unit': 1, 'accent': 1, '4year': 1, 'dental': 1, 'nmde': 1, 'dump': 1, 'heap': 1, 'salesman': 1, 'piti': 1})\n"
     ]
    }
   ],
   "source": [
    "print(dict_count_ham)"
   ]
  },
  {
   "cell_type": "code",
   "execution_count": 70,
   "id": "a5ebeeb8",
   "metadata": {},
   "outputs": [],
   "source": [
    "list_words_ham = sorted(dict_count_ham.items(), key = lambda item:item[1], reverse=True)"
   ]
  },
  {
   "cell_type": "code",
   "execution_count": 71,
   "id": "091107dd",
   "metadata": {},
   "outputs": [],
   "source": [
    "top_50_ham_words = list_words_ham[0:50]"
   ]
  },
  {
   "cell_type": "code",
   "execution_count": 72,
   "id": "bc35bc5d",
   "metadata": {},
   "outputs": [
    {
     "name": "stdout",
     "output_type": "stream",
     "text": [
      "['u', 'go', 'get', 'gt', 'lt', '2', 'come', 'got', 'know', 'like', 'call', 'time', 'ok', 'love', 'good', 'want', 'ur', 'day', 'need', 'one', 'lor', '4', 'home', 'think', 'see', 'take', 'still', 'da', 'tell', 'make', 'say', 'back', 'today', 'hope', 'ask', 'sorri', 'n', 'send', 'r', 'work', 'dont', 'meet', 'hi', 'well', 'thing', 'wat', 'k', 'much', 'night', 'oh']\n"
     ]
    }
   ],
   "source": [
    "print([word for word, freq in top_50_ham_words])"
   ]
  },
  {
   "cell_type": "markdown",
   "id": "51a3cb91",
   "metadata": {},
   "source": [
    "# Hypothesis testing "
   ]
  },
  {
   "cell_type": "markdown",
   "id": "66f34c55",
   "metadata": {},
   "source": [
    "# Spam messages tend to be longer than ham messages in terms of character count, word count, and number of sentences."
   ]
  },
  {
   "cell_type": "code",
   "execution_count": 73,
   "id": "2fb9fd38",
   "metadata": {},
   "outputs": [
    {
     "name": "stdout",
     "output_type": "stream",
     "text": [
      "\n",
      "=== Testing Length Hypothesis ===\n",
      "\n",
      "num_characters:\n",
      "Ham mean: 70.46, Spam mean: 137.89\n",
      "T-test p-value: 0.0000\n",
      "Significant difference - Hypothesis supported\n",
      "\n",
      "num_words:\n",
      "Ham mean: 17.12, Spam mean: 27.67\n",
      "T-test p-value: 0.0000\n",
      "Significant difference - Hypothesis supported\n",
      "\n",
      "num_sentences:\n",
      "Ham mean: 1.80, Spam mean: 2.97\n",
      "T-test p-value: 0.0000\n",
      "Significant difference - Hypothesis supported\n"
     ]
    },
    {
     "data": {
      "image/png": "[encoded data removed]",
      "text/plain": [
       "<Figure size 1224x504 with 3 Axes>"
      ]
     },
     "metadata": {
      "needs_background": "light"
     },
     "output_type": "display_data"
    }
   ],
   "source": [
    "from scipy import stats\n",
    "# Hypothesis 1: Length Hypothesis\n",
    "def test_length_hypothesis(data):\n",
    "    print(\"\\n=== Testing Length Hypothesis ===\")\n",
    "    # Compare means\n",
    "    for col in ['num_characters', 'num_words', 'num_sentences']:\n",
    "        ham = data[data['target'] == 0][col]\n",
    "        spam = data[data['target'] == 1][col]\n",
    "        \n",
    "        t_stat, p_val = stats.ttest_ind(spam, ham, equal_var=False)\n",
    "        print(f\"\\n{col}:\")\n",
    "        print(f\"Ham mean: {ham.mean():.2f}, Spam mean: {spam.mean():.2f}\")\n",
    "        print(f\"T-test p-value: {p_val:.4f}\")\n",
    "        if p_val < 0.05:\n",
    "            print(\"Significant difference - Hypothesis supported\")\n",
    "        else:\n",
    "            print(\"No significant difference - Hypothesis not supported\")\n",
    "    plt.figure(figsize=(17, 7))\n",
    "    for i, col in enumerate(['num_characters', 'num_words', 'num_sentences'], 1):\n",
    "        plt.subplot(1, 3, i)\n",
    "        sns.boxplot(x='target', y=col, data=data)\n",
    "        plt.title(col)\n",
    "    plt.tight_layout()\n",
    "    plt.show()\n",
    "test_length_hypothesis(email_data)"
   ]
  },
  {
   "cell_type": "markdown",
   "id": "b396a110",
   "metadata": {},
   "source": [
    "# Certain words (like \"free\", \"win\", \"prize\", \"call\") appear more frequently in spam messages than in ham messages."
   ]
  },
  {
   "cell_type": "code",
   "execution_count": 74,
   "id": "15e8988e",
   "metadata": {},
   "outputs": [
    {
     "name": "stdout",
     "output_type": "stream",
     "text": [
      "\n",
      "=== Testing Word Frequency Hypothesis ===\n",
      "\n",
      "Top 10 Spam Words: ['call', 'free', '2', 'txt', 'text', 'u', 'ur', 'mobil', 'stop', 'repli']\n",
      "Top 10 Ham Words: ['u', 'go', 'get', 'gt', 'lt', '2', 'come', 'got', 'know', 'like']\n"
     ]
    }
   ],
   "source": [
    "def test_word_frequency_hypothesis(data):\n",
    "    print(\"\\n=== Testing Word Frequency Hypothesis ===\")\n",
    "    from collections import Counter\n",
    "    \n",
    "    # Get top spam words\n",
    "    spam_words = []\n",
    "    for msg in data[data['target'] == 1]['transformed_text'].tolist():\n",
    "        for word in msg.split():\n",
    "            spam_words.append(word)\n",
    "    \n",
    "    spam_word_counts = Counter(spam_words)\n",
    "    top_spam_words = [word for word, count in spam_word_counts.most_common(10)]\n",
    "    \n",
    "    # Get top ham words\n",
    "    ham_words = []\n",
    "    for msg in data[data['target'] == 0]['transformed_text'].tolist():\n",
    "        for word in msg.split():\n",
    "            ham_words.append(word)\n",
    "    \n",
    "    ham_word_counts = Counter(ham_words)\n",
    "    top_ham_words = [word for word, count in ham_word_counts.most_common(10)]\n",
    "    \n",
    "    print(\"\\nTop 10 Spam Words:\", top_spam_words)\n",
    "    print(\"Top 10 Ham Words:\", top_ham_words)\n",
    "test_word_frequency_hypothesis(email_data)"
   ]
  },
  {
   "cell_type": "code",
   "execution_count": 75,
   "id": "7c44a513",
   "metadata": {},
   "outputs": [],
   "source": [
    "email_data[\"char_z\"] = (email_data[\"num_characters\"]-email_data[\"num_characters\"].mean())/email_data[\"num_characters\"].std()"
   ]
  },
  {
   "cell_type": "code",
   "execution_count": 76,
   "id": "6d2f6981",
   "metadata": {},
   "outputs": [
    {
     "data": {
      "text/html": [
       "<div>\n",
       "<style scoped>\n",
       "    .dataframe tbody tr th:only-of-type {\n",
       "        vertical-align: middle;\n",
       "    }\n",
       "\n",
       "    .dataframe tbody tr th {\n",
       "        vertical-align: top;\n",
       "    }\n",
       "\n",
       "    .dataframe thead th {\n",
       "        text-align: right;\n",
       "    }\n",
       "</style>\n",
       "<table border=\"1\" class=\"dataframe\">\n",
       "  <thead>\n",
       "    <tr style=\"text-align: right;\">\n",
       "      <th></th>\n",
       "      <th>target</th>\n",
       "      <th>text</th>\n",
       "      <th>num_characters</th>\n",
       "      <th>num_words</th>\n",
       "      <th>num_sentences</th>\n",
       "      <th>transformed_text</th>\n",
       "      <th>char_z</th>\n",
       "    </tr>\n",
       "  </thead>\n",
       "  <tbody>\n",
       "    <tr>\n",
       "      <th>0</th>\n",
       "      <td>0</td>\n",
       "      <td>Go until jurong point, crazy.. Available only ...</td>\n",
       "      <td>111</td>\n",
       "      <td>24</td>\n",
       "      <td>2</td>\n",
       "      <td>go jurong point crazi avail bugi n great world...</td>\n",
       "      <td>0.549864</td>\n",
       "    </tr>\n",
       "    <tr>\n",
       "      <th>1</th>\n",
       "      <td>0</td>\n",
       "      <td>Ok lar... Joking wif u oni...</td>\n",
       "      <td>29</td>\n",
       "      <td>8</td>\n",
       "      <td>2</td>\n",
       "      <td>ok lar joke wif u oni</td>\n",
       "      <td>-0.858192</td>\n",
       "    </tr>\n",
       "    <tr>\n",
       "      <th>2</th>\n",
       "      <td>1</td>\n",
       "      <td>Free entry in 2 a wkly comp to win FA Cup fina...</td>\n",
       "      <td>155</td>\n",
       "      <td>37</td>\n",
       "      <td>2</td>\n",
       "      <td>free entri 2 wkli comp win fa cup final tkt 21...</td>\n",
       "      <td>1.305407</td>\n",
       "    </tr>\n",
       "    <tr>\n",
       "      <th>3</th>\n",
       "      <td>0</td>\n",
       "      <td>U dun say so early hor... U c already then say...</td>\n",
       "      <td>49</td>\n",
       "      <td>13</td>\n",
       "      <td>1</td>\n",
       "      <td>u dun say earli hor u c alreadi say</td>\n",
       "      <td>-0.514764</td>\n",
       "    </tr>\n",
       "    <tr>\n",
       "      <th>4</th>\n",
       "      <td>0</td>\n",
       "      <td>Nah I don't think he goes to usf, he lives aro...</td>\n",
       "      <td>61</td>\n",
       "      <td>15</td>\n",
       "      <td>1</td>\n",
       "      <td>nah think goe usf live around though</td>\n",
       "      <td>-0.308707</td>\n",
       "    </tr>\n",
       "  </tbody>\n",
       "</table>\n",
       "</div>"
      ],
      "text/plain": [
       "   target                                               text  num_characters  \\\n",
       "0       0  Go until jurong point, crazy.. Available only ...             111   \n",
       "1       0                      Ok lar... Joking wif u oni...              29   \n",
       "2       1  Free entry in 2 a wkly comp to win FA Cup fina...             155   \n",
       "3       0  U dun say so early hor... U c already then say...              49   \n",
       "4       0  Nah I don't think he goes to usf, he lives aro...              61   \n",
       "\n",
       "   num_words  num_sentences  \\\n",
       "0         24              2   \n",
       "1          8              2   \n",
       "2         37              2   \n",
       "3         13              1   \n",
       "4         15              1   \n",
       "\n",
       "                                    transformed_text    char_z  \n",
       "0  go jurong point crazi avail bugi n great world...  0.549864  \n",
       "1                              ok lar joke wif u oni -0.858192  \n",
       "2  free entri 2 wkli comp win fa cup final tkt 21...  1.305407  \n",
       "3                u dun say earli hor u c alreadi say -0.514764  \n",
       "4               nah think goe usf live around though -0.308707  "
      ]
     },
     "execution_count": 76,
     "metadata": {},
     "output_type": "execute_result"
    }
   ],
   "source": [
    "email_data.head()"
   ]
  },
  {
   "cell_type": "code",
   "execution_count": 77,
   "id": "19eb554d",
   "metadata": {},
   "outputs": [],
   "source": [
    "email_data2 = email_data[(email_data[\"char_z\"]<3) & (email_data[\"char_z\"]>-3)]"
   ]
  },
  {
   "cell_type": "code",
   "execution_count": 78,
   "id": "cdfaab51",
   "metadata": {},
   "outputs": [
    {
     "data": {
      "text/plain": [
       "<AxesSubplot:xlabel='num_characters', ylabel='Count'>"
      ]
     },
     "execution_count": 78,
     "metadata": {},
     "output_type": "execute_result"
    },
    {
     "data": {
      "image/png": "[encoded data removed]",
      "text/plain": [
       "<Figure size 864x432 with 1 Axes>"
      ]
     },
     "metadata": {
      "needs_background": "light"
     },
     "output_type": "display_data"
    }
   ],
   "source": [
    "plt.figure(figsize=(12,6))\n",
    "sns.histplot(email_data2[email_data2[\"target\"]==0][\"num_characters\"])\n",
    "sns.histplot(email_data2[email_data2[\"target\"]==1][\"num_characters\"],color=\"red\")"
   ]
  },
  {
   "cell_type": "markdown",
   "id": "970fc210",
   "metadata": {},
   "source": [
    "# Modelling "
   ]
  },
  {
   "cell_type": "raw",
   "id": "68dec65c",
   "metadata": {},
   "source": [
    "we need to convert the text into vector of numbers, there are varous method to do this. We will do it furthur "
   ]
  },
  {
   "cell_type": "code",
   "execution_count": 79,
   "id": "9a7c59db",
   "metadata": {},
   "outputs": [],
   "source": [
    "from sklearn.feature_extraction.text import CountVectorizer\n",
    "cv = CountVectorizer()"
   ]
  },
  {
   "cell_type": "code",
   "execution_count": 80,
   "id": "00d236cb",
   "metadata": {},
   "outputs": [],
   "source": [
    "X = cv.fit_transform(email_data[\"transformed_text\"])"
   ]
  },
  {
   "cell_type": "code",
   "execution_count": 81,
   "id": "3d3df04e",
   "metadata": {},
   "outputs": [
    {
     "name": "stdout",
     "output_type": "stream",
     "text": [
      "  (0, 2762)\t1\n",
      "  (0, 3393)\t1\n",
      "  (0, 4608)\t1\n",
      "  (0, 1806)\t1\n",
      "  (0, 1017)\t1\n",
      "  (0, 1385)\t1\n",
      "  (0, 2835)\t1\n",
      "  (0, 6556)\t1\n",
      "  (0, 3497)\t1\n",
      "  (0, 1383)\t1\n",
      "  (0, 1610)\t1\n",
      "  (0, 2801)\t1\n",
      "  (0, 837)\t1\n",
      "  (0, 6391)\t1\n",
      "  (1, 4289)\t1\n",
      "  (1, 3528)\t1\n",
      "  (1, 3364)\t1\n",
      "  (1, 6484)\t1\n",
      "  (1, 4312)\t1\n",
      "  (2, 2610)\t1\n",
      "  (2, 2291)\t2\n",
      "  (2, 6524)\t1\n",
      "  (2, 1695)\t1\n",
      "  (2, 6494)\t1\n",
      "  (2, 2404)\t2\n",
      "  :\t:\n",
      "  (5164, 132)\t1\n",
      "  (5164, 4222)\t1\n",
      "  (5165, 2762)\t1\n",
      "  (5165, 3041)\t1\n",
      "  (5165, 2599)\t1\n",
      "  (5165, 2321)\t1\n",
      "  (5166, 5702)\t1\n",
      "  (5166, 3992)\t1\n",
      "  (5166, 4553)\t1\n",
      "  (5167, 2610)\t1\n",
      "  (5167, 6421)\t1\n",
      "  (5167, 3602)\t1\n",
      "  (5167, 4147)\t1\n",
      "  (5167, 6240)\t1\n",
      "  (5167, 5457)\t1\n",
      "  (5167, 1410)\t1\n",
      "  (5167, 2250)\t1\n",
      "  (5167, 2696)\t1\n",
      "  (5167, 2879)\t1\n",
      "  (5167, 3240)\t1\n",
      "  (5167, 705)\t1\n",
      "  (5167, 1215)\t1\n",
      "  (5168, 4077)\t1\n",
      "  (5168, 6099)\t1\n",
      "  (5168, 5038)\t1\n"
     ]
    }
   ],
   "source": [
    "print(X)"
   ]
  },
  {
   "cell_type": "code",
   "execution_count": 82,
   "id": "c1652c54",
   "metadata": {},
   "outputs": [],
   "source": [
    "x = cv.fit_transform(email_data[\"transformed_text\"]).toarray()"
   ]
  },
  {
   "cell_type": "code",
   "execution_count": 83,
   "id": "8898afd4",
   "metadata": {},
   "outputs": [
    {
     "name": "stdout",
     "output_type": "stream",
     "text": [
      "[[0 0 0 ... 0 0 0]\n",
      " [0 0 0 ... 0 0 0]\n",
      " [0 0 0 ... 0 0 0]\n",
      " ...\n",
      " [0 0 0 ... 0 0 0]\n",
      " [0 0 0 ... 0 0 0]\n",
      " [0 0 0 ... 0 0 0]]\n"
     ]
    }
   ],
   "source": [
    "print(x)"
   ]
  },
  {
   "cell_type": "code",
   "execution_count": 84,
   "id": "4a72cbee",
   "metadata": {},
   "outputs": [
    {
     "name": "stdout",
     "output_type": "stream",
     "text": [
      "(5169, 6708)\n"
     ]
    }
   ],
   "source": [
    "print(x.shape)"
   ]
  },
  {
   "cell_type": "code",
   "execution_count": 85,
   "id": "360d123c",
   "metadata": {},
   "outputs": [
    {
     "name": "stdout",
     "output_type": "stream",
     "text": [
      "0       0\n",
      "1       0\n",
      "2       1\n",
      "3       0\n",
      "4       0\n",
      "       ..\n",
      "5567    1\n",
      "5568    0\n",
      "5569    0\n",
      "5570    0\n",
      "5571    0\n",
      "Name: target, Length: 5169, dtype: int32\n"
     ]
    }
   ],
   "source": [
    "y = email_data[\"target\"]\n",
    "print(y)"
   ]
  },
  {
   "cell_type": "code",
   "execution_count": 86,
   "id": "c218e784",
   "metadata": {},
   "outputs": [
    {
     "name": "stdout",
     "output_type": "stream",
     "text": [
      "0       0\n",
      "1       0\n",
      "2       1\n",
      "3       0\n",
      "4       0\n",
      "       ..\n",
      "5567    1\n",
      "5568    0\n",
      "5569    0\n",
      "5570    0\n",
      "5571    0\n",
      "Name: target, Length: 5169, dtype: int32\n"
     ]
    }
   ],
   "source": [
    "y_ = email_data[\"target\"].values\n",
    "print(y)"
   ]
  },
  {
   "cell_type": "code",
   "execution_count": 87,
   "id": "c7933599",
   "metadata": {},
   "outputs": [],
   "source": [
    "from sklearn.model_selection import train_test_split\n",
    "x_train, x_test, y_train, y_test = train_test_split(x,y, test_size=0.2, random_state=42)\n",
    "from sklearn.naive_bayes import GaussianNB, MultinomialNB, BernoulliNB \n",
    "from sklearn.metrics import accuracy_score, confusion_matrix, precision_score"
   ]
  },
  {
   "cell_type": "code",
   "execution_count": 88,
   "id": "c79513d2",
   "metadata": {},
   "outputs": [],
   "source": [
    "gnb = GaussianNB()\n",
    "mnb = MultinomialNB()\n",
    "bnb = BernoulliNB()"
   ]
  },
  {
   "cell_type": "code",
   "execution_count": 89,
   "id": "14b50c1e",
   "metadata": {},
   "outputs": [
    {
     "data": {
      "text/html": [
       "<style>#sk-container-id-1 {\n",
       "  /* Definition of color scheme common for light and dark mode */\n",
       "  --sklearn-color-text: #000;\n",
       "  --sklearn-color-text-muted: #666;\n",
       "  --sklearn-color-line: gray;\n",
       "  /* Definition of color scheme for unfitted estimators */\n",
       "  --sklearn-color-unfitted-level-0: #fff5e6;\n",
       "  --sklearn-color-unfitted-level-1: #f6e4d2;\n",
       "  --sklearn-color-unfitted-level-2: #ffe0b3;\n",
       "  --sklearn-color-unfitted-level-3: chocolate;\n",
       "  /* Definition of color scheme for fitted estimators */\n",
       "  --sklearn-color-fitted-level-0: #f0f8ff;\n",
       "  --sklearn-color-fitted-level-1: #d4ebff;\n",
       "  --sklearn-color-fitted-level-2: #b3dbfd;\n",
       "  --sklearn-color-fitted-level-3: cornflowerblue;\n",
       "\n",
       "  /* Specific color for light theme */\n",
       "  --sklearn-color-text-on-default-background: var(--sg-text-color, var(--theme-code-foreground, var(--jp-content-font-color1, black)));\n",
       "  --sklearn-color-background: var(--sg-background-color, var(--theme-background, var(--jp-layout-color0, white)));\n",
       "  --sklearn-color-border-box: var(--sg-text-color, var(--theme-code-foreground, var(--jp-content-font-color1, black)));\n",
       "  --sklearn-color-icon: #696969;\n",
       "\n",
       "  @media (prefers-color-scheme: dark) {\n",
       "    /* Redefinition of color scheme for dark theme */\n",
       "    --sklearn-color-text-on-default-background: var(--sg-text-color, var(--theme-code-foreground, var(--jp-content-font-color1, white)));\n",
       "    --sklearn-color-background: var(--sg-background-color, var(--theme-background, var(--jp-layout-color0, #111)));\n",
       "    --sklearn-color-border-box: var(--sg-text-color, var(--theme-code-foreground, var(--jp-content-font-color1, white)));\n",
       "    --sklearn-color-icon: #878787;\n",
       "  }\n",
       "}\n",
       "\n",
       "#sk-container-id-1 {\n",
       "  color: var(--sklearn-color-text);\n",
       "}\n",
       "\n",
       "#sk-container-id-1 pre {\n",
       "  padding: 0;\n",
       "}\n",
       "\n",
       "#sk-container-id-1 input.sk-hidden--visually {\n",
       "  border: 0;\n",
       "  clip: rect(1px 1px 1px 1px);\n",
       "  clip: rect(1px, 1px, 1px, 1px);\n",
       "  height: 1px;\n",
       "  margin: -1px;\n",
       "  overflow: hidden;\n",
       "  padding: 0;\n",
       "  position: absolute;\n",
       "  width: 1px;\n",
       "}\n",
       "\n",
       "#sk-container-id-1 div.sk-dashed-wrapped {\n",
       "  border: 1px dashed var(--sklearn-color-line);\n",
       "  margin: 0 0.4em 0.5em 0.4em;\n",
       "  box-sizing: border-box;\n",
       "  padding-bottom: 0.4em;\n",
       "  background-color: var(--sklearn-color-background);\n",
       "}\n",
       "\n",
       "#sk-container-id-1 div.sk-container {\n",
       "  /* jupyter's `normalize.less` sets `[hidden] { display: none; }`\n",
       "     but bootstrap.min.css set `[hidden] { display: none !important; }`\n",
       "     so we also need the `!important` here to be able to override the\n",
       "     default hidden behavior on the sphinx rendered scikit-learn.org.\n",
       "     See: https://github.com/scikit-learn/scikit-learn/issues/21755 */\n",
       "  display: inline-block !important;\n",
       "  position: relative;\n",
       "}\n",
       "\n",
       "#sk-container-id-1 div.sk-text-repr-fallback {\n",
       "  display: none;\n",
       "}\n",
       "\n",
       "div.sk-parallel-item,\n",
       "div.sk-serial,\n",
       "div.sk-item {\n",
       "  /* draw centered vertical line to link estimators */\n",
       "  background-image: linear-gradient(var(--sklearn-color-text-on-default-background), var(--sklearn-color-text-on-default-background));\n",
       "  background-size: 2px 100%;\n",
       "  background-repeat: no-repeat;\n",
       "  background-position: center center;\n",
       "}\n",
       "\n",
       "/* Parallel-specific style estimator block */\n",
       "\n",
       "#sk-container-id-1 div.sk-parallel-item::after {\n",
       "  content: \"\";\n",
       "  width: 100%;\n",
       "  border-bottom: 2px solid var(--sklearn-color-text-on-default-background);\n",
       "  flex-grow: 1;\n",
       "}\n",
       "\n",
       "#sk-container-id-1 div.sk-parallel {\n",
       "  display: flex;\n",
       "  align-items: stretch;\n",
       "  justify-content: center;\n",
       "  background-color: var(--sklearn-color-background);\n",
       "  position: relative;\n",
       "}\n",
       "\n",
       "#sk-container-id-1 div.sk-parallel-item {\n",
       "  display: flex;\n",
       "  flex-direction: column;\n",
       "}\n",
       "\n",
       "#sk-container-id-1 div.sk-parallel-item:first-child::after {\n",
       "  align-self: flex-end;\n",
       "  width: 50%;\n",
       "}\n",
       "\n",
       "#sk-container-id-1 div.sk-parallel-item:last-child::after {\n",
       "  align-self: flex-start;\n",
       "  width: 50%;\n",
       "}\n",
       "\n",
       "#sk-container-id-1 div.sk-parallel-item:only-child::after {\n",
       "  width: 0;\n",
       "}\n",
       "\n",
       "/* Serial-specific style estimator block */\n",
       "\n",
       "#sk-container-id-1 div.sk-serial {\n",
       "  display: flex;\n",
       "  flex-direction: column;\n",
       "  align-items: center;\n",
       "  background-color: var(--sklearn-color-background);\n",
       "  padding-right: 1em;\n",
       "  padding-left: 1em;\n",
       "}\n",
       "\n",
       "\n",
       "/* Toggleable style: style used for estimator/Pipeline/ColumnTransformer box that is\n",
       "clickable and can be expanded/collapsed.\n",
       "- Pipeline and ColumnTransformer use this feature and define the default style\n",
       "- Estimators will overwrite some part of the style using the `sk-estimator` class\n",
       "*/\n",
       "\n",
       "/* Pipeline and ColumnTransformer style (default) */\n",
       "\n",
       "#sk-container-id-1 div.sk-toggleable {\n",
       "  /* Default theme specific background. It is overwritten whether we have a\n",
       "  specific estimator or a Pipeline/ColumnTransformer */\n",
       "  background-color: var(--sklearn-color-background);\n",
       "}\n",
       "\n",
       "/* Toggleable label */\n",
       "#sk-container-id-1 label.sk-toggleable__label {\n",
       "  cursor: pointer;\n",
       "  display: flex;\n",
       "  width: 100%;\n",
       "  margin-bottom: 0;\n",
       "  padding: 0.5em;\n",
       "  box-sizing: border-box;\n",
       "  text-align: center;\n",
       "  align-items: start;\n",
       "  justify-content: space-between;\n",
       "  gap: 0.5em;\n",
       "}\n",
       "\n",
       "#sk-container-id-1 label.sk-toggleable__label .caption {\n",
       "  font-size: 0.6rem;\n",
       "  font-weight: lighter;\n",
       "  color: var(--sklearn-color-text-muted);\n",
       "}\n",
       "\n",
       "#sk-container-id-1 label.sk-toggleable__label-arrow:before {\n",
       "  /* Arrow on the left of the label */\n",
       "  content: \"▸\";\n",
       "  float: left;\n",
       "  margin-right: 0.25em;\n",
       "  color: var(--sklearn-color-icon);\n",
       "}\n",
       "\n",
       "#sk-container-id-1 label.sk-toggleable__label-arrow:hover:before {\n",
       "  color: var(--sklearn-color-text);\n",
       "}\n",
       "\n",
       "/* Toggleable content - dropdown */\n",
       "\n",
       "#sk-container-id-1 div.sk-toggleable__content {\n",
       "  max-height: 0;\n",
       "  max-width: 0;\n",
       "  overflow: hidden;\n",
       "  text-align: left;\n",
       "  /* unfitted */\n",
       "  background-color: var(--sklearn-color-unfitted-level-0);\n",
       "}\n",
       "\n",
       "#sk-container-id-1 div.sk-toggleable__content.fitted {\n",
       "  /* fitted */\n",
       "  background-color: var(--sklearn-color-fitted-level-0);\n",
       "}\n",
       "\n",
       "#sk-container-id-1 div.sk-toggleable__content pre {\n",
       "  margin: 0.2em;\n",
       "  border-radius: 0.25em;\n",
       "  color: var(--sklearn-color-text);\n",
       "  /* unfitted */\n",
       "  background-color: var(--sklearn-color-unfitted-level-0);\n",
       "}\n",
       "\n",
       "#sk-container-id-1 div.sk-toggleable__content.fitted pre {\n",
       "  /* unfitted */\n",
       "  background-color: var(--sklearn-color-fitted-level-0);\n",
       "}\n",
       "\n",
       "#sk-container-id-1 input.sk-toggleable__control:checked~div.sk-toggleable__content {\n",
       "  /* Expand drop-down */\n",
       "  max-height: 200px;\n",
       "  max-width: 100%;\n",
       "  overflow: auto;\n",
       "}\n",
       "\n",
       "#sk-container-id-1 input.sk-toggleable__control:checked~label.sk-toggleable__label-arrow:before {\n",
       "  content: \"▾\";\n",
       "}\n",
       "\n",
       "/* Pipeline/ColumnTransformer-specific style */\n",
       "\n",
       "#sk-container-id-1 div.sk-label input.sk-toggleable__control:checked~label.sk-toggleable__label {\n",
       "  color: var(--sklearn-color-text);\n",
       "  background-color: var(--sklearn-color-unfitted-level-2);\n",
       "}\n",
       "\n",
       "#sk-container-id-1 div.sk-label.fitted input.sk-toggleable__control:checked~label.sk-toggleable__label {\n",
       "  background-color: var(--sklearn-color-fitted-level-2);\n",
       "}\n",
       "\n",
       "/* Estimator-specific style */\n",
       "\n",
       "/* Colorize estimator box */\n",
       "#sk-container-id-1 div.sk-estimator input.sk-toggleable__control:checked~label.sk-toggleable__label {\n",
       "  /* unfitted */\n",
       "  background-color: var(--sklearn-color-unfitted-level-2);\n",
       "}\n",
       "\n",
       "#sk-container-id-1 div.sk-estimator.fitted input.sk-toggleable__control:checked~label.sk-toggleable__label {\n",
       "  /* fitted */\n",
       "  background-color: var(--sklearn-color-fitted-level-2);\n",
       "}\n",
       "\n",
       "#sk-container-id-1 div.sk-label label.sk-toggleable__label,\n",
       "#sk-container-id-1 div.sk-label label {\n",
       "  /* The background is the default theme color */\n",
       "  color: var(--sklearn-color-text-on-default-background);\n",
       "}\n",
       "\n",
       "/* On hover, darken the color of the background */\n",
       "#sk-container-id-1 div.sk-label:hover label.sk-toggleable__label {\n",
       "  color: var(--sklearn-color-text);\n",
       "  background-color: var(--sklearn-color-unfitted-level-2);\n",
       "}\n",
       "\n",
       "/* Label box, darken color on hover, fitted */\n",
       "#sk-container-id-1 div.sk-label.fitted:hover label.sk-toggleable__label.fitted {\n",
       "  color: var(--sklearn-color-text);\n",
       "  background-color: var(--sklearn-color-fitted-level-2);\n",
       "}\n",
       "\n",
       "/* Estimator label */\n",
       "\n",
       "#sk-container-id-1 div.sk-label label {\n",
       "  font-family: monospace;\n",
       "  font-weight: bold;\n",
       "  display: inline-block;\n",
       "  line-height: 1.2em;\n",
       "}\n",
       "\n",
       "#sk-container-id-1 div.sk-label-container {\n",
       "  text-align: center;\n",
       "}\n",
       "\n",
       "/* Estimator-specific */\n",
       "#sk-container-id-1 div.sk-estimator {\n",
       "  font-family: monospace;\n",
       "  border: 1px dotted var(--sklearn-color-border-box);\n",
       "  border-radius: 0.25em;\n",
       "  box-sizing: border-box;\n",
       "  margin-bottom: 0.5em;\n",
       "  /* unfitted */\n",
       "  background-color: var(--sklearn-color-unfitted-level-0);\n",
       "}\n",
       "\n",
       "#sk-container-id-1 div.sk-estimator.fitted {\n",
       "  /* fitted */\n",
       "  background-color: var(--sklearn-color-fitted-level-0);\n",
       "}\n",
       "\n",
       "/* on hover */\n",
       "#sk-container-id-1 div.sk-estimator:hover {\n",
       "  /* unfitted */\n",
       "  background-color: var(--sklearn-color-unfitted-level-2);\n",
       "}\n",
       "\n",
       "#sk-container-id-1 div.sk-estimator.fitted:hover {\n",
       "  /* fitted */\n",
       "  background-color: var(--sklearn-color-fitted-level-2);\n",
       "}\n",
       "\n",
       "/* Specification for estimator info (e.g. \"i\" and \"?\") */\n",
       "\n",
       "/* Common style for \"i\" and \"?\" */\n",
       "\n",
       ".sk-estimator-doc-link,\n",
       "a:link.sk-estimator-doc-link,\n",
       "a:visited.sk-estimator-doc-link {\n",
       "  float: right;\n",
       "  font-size: smaller;\n",
       "  line-height: 1em;\n",
       "  font-family: monospace;\n",
       "  background-color: var(--sklearn-color-background);\n",
       "  border-radius: 1em;\n",
       "  height: 1em;\n",
       "  width: 1em;\n",
       "  text-decoration: none !important;\n",
       "  margin-left: 0.5em;\n",
       "  text-align: center;\n",
       "  /* unfitted */\n",
       "  border: var(--sklearn-color-unfitted-level-1) 1pt solid;\n",
       "  color: var(--sklearn-color-unfitted-level-1);\n",
       "}\n",
       "\n",
       ".sk-estimator-doc-link.fitted,\n",
       "a:link.sk-estimator-doc-link.fitted,\n",
       "a:visited.sk-estimator-doc-link.fitted {\n",
       "  /* fitted */\n",
       "  border: var(--sklearn-color-fitted-level-1) 1pt solid;\n",
       "  color: var(--sklearn-color-fitted-level-1);\n",
       "}\n",
       "\n",
       "/* On hover */\n",
       "div.sk-estimator:hover .sk-estimator-doc-link:hover,\n",
       ".sk-estimator-doc-link:hover,\n",
       "div.sk-label-container:hover .sk-estimator-doc-link:hover,\n",
       ".sk-estimator-doc-link:hover {\n",
       "  /* unfitted */\n",
       "  background-color: var(--sklearn-color-unfitted-level-3);\n",
       "  color: var(--sklearn-color-background);\n",
       "  text-decoration: none;\n",
       "}\n",
       "\n",
       "div.sk-estimator.fitted:hover .sk-estimator-doc-link.fitted:hover,\n",
       ".sk-estimator-doc-link.fitted:hover,\n",
       "div.sk-label-container:hover .sk-estimator-doc-link.fitted:hover,\n",
       ".sk-estimator-doc-link.fitted:hover {\n",
       "  /* fitted */\n",
       "  background-color: var(--sklearn-color-fitted-level-3);\n",
       "  color: var(--sklearn-color-background);\n",
       "  text-decoration: none;\n",
       "}\n",
       "\n",
       "/* Span, style for the box shown on hovering the info icon */\n",
       ".sk-estimator-doc-link span {\n",
       "  display: none;\n",
       "  z-index: 9999;\n",
       "  position: relative;\n",
       "  font-weight: normal;\n",
       "  right: .2ex;\n",
       "  padding: .5ex;\n",
       "  margin: .5ex;\n",
       "  width: min-content;\n",
       "  min-width: 20ex;\n",
       "  max-width: 50ex;\n",
       "  color: var(--sklearn-color-text);\n",
       "  box-shadow: 2pt 2pt 4pt #999;\n",
       "  /* unfitted */\n",
       "  background: var(--sklearn-color-unfitted-level-0);\n",
       "  border: .5pt solid var(--sklearn-color-unfitted-level-3);\n",
       "}\n",
       "\n",
       ".sk-estimator-doc-link.fitted span {\n",
       "  /* fitted */\n",
       "  background: var(--sklearn-color-fitted-level-0);\n",
       "  border: var(--sklearn-color-fitted-level-3);\n",
       "}\n",
       "\n",
       ".sk-estimator-doc-link:hover span {\n",
       "  display: block;\n",
       "}\n",
       "\n",
       "/* \"?\"-specific style due to the `<a>` HTML tag */\n",
       "\n",
       "#sk-container-id-1 a.estimator_doc_link {\n",
       "  float: right;\n",
       "  font-size: 1rem;\n",
       "  line-height: 1em;\n",
       "  font-family: monospace;\n",
       "  background-color: var(--sklearn-color-background);\n",
       "  border-radius: 1rem;\n",
       "  height: 1rem;\n",
       "  width: 1rem;\n",
       "  text-decoration: none;\n",
       "  /* unfitted */\n",
       "  color: var(--sklearn-color-unfitted-level-1);\n",
       "  border: var(--sklearn-color-unfitted-level-1) 1pt solid;\n",
       "}\n",
       "\n",
       "#sk-container-id-1 a.estimator_doc_link.fitted {\n",
       "  /* fitted */\n",
       "  border: var(--sklearn-color-fitted-level-1) 1pt solid;\n",
       "  color: var(--sklearn-color-fitted-level-1);\n",
       "}\n",
       "\n",
       "/* On hover */\n",
       "#sk-container-id-1 a.estimator_doc_link:hover {\n",
       "  /* unfitted */\n",
       "  background-color: var(--sklearn-color-unfitted-level-3);\n",
       "  color: var(--sklearn-color-background);\n",
       "  text-decoration: none;\n",
       "}\n",
       "\n",
       "#sk-container-id-1 a.estimator_doc_link.fitted:hover {\n",
       "  /* fitted */\n",
       "  background-color: var(--sklearn-color-fitted-level-3);\n",
       "}\n",
       "</style><div id=\"sk-container-id-1\" class=\"sk-top-container\"><div class=\"sk-text-repr-fallback\"><pre>GaussianNB()</pre><b>In a Jupyter environment, please rerun this cell to show the HTML representation or trust the notebook. <br />On GitHub, the HTML representation is unable to render, please try loading this page with nbviewer.org.</b></div><div class=\"sk-container\" hidden><div class=\"sk-item\"><div class=\"sk-estimator fitted sk-toggleable\"><input class=\"sk-toggleable__control sk-hidden--visually\" id=\"sk-estimator-id-1\" type=\"checkbox\" checked><label for=\"sk-estimator-id-1\" class=\"sk-toggleable__label fitted sk-toggleable__label-arrow\"><div><div>GaussianNB</div></div><div><a class=\"sk-estimator-doc-link fitted\" rel=\"noreferrer\" target=\"_blank\" href=\"https://scikit-learn.org/1.6/modules/generated/sklearn.naive_bayes.GaussianNB.html\">?<span>Documentation for GaussianNB</span></a><span class=\"sk-estimator-doc-link fitted\">i<span>Fitted</span></span></div></label><div class=\"sk-toggleable__content fitted\"><pre>GaussianNB()</pre></div> </div></div></div></div>"
      ],
      "text/plain": [
       "GaussianNB()"
      ]
     },
     "execution_count": 89,
     "metadata": {},
     "output_type": "execute_result"
    }
   ],
   "source": [
    "gnb.fit(x_train,y_train)"
   ]
  },
  {
   "cell_type": "code",
   "execution_count": 90,
   "id": "fbe89291",
   "metadata": {},
   "outputs": [],
   "source": [
    "y_pred1 = gnb.predict(x_test)"
   ]
  },
  {
   "cell_type": "code",
   "execution_count": 91,
   "id": "0ed6b14f",
   "metadata": {},
   "outputs": [
    {
     "name": "stdout",
     "output_type": "stream",
     "text": [
      "0.8684719535783365\n",
      "[[772 117]\n",
      " [ 19 126]]\n",
      "0.5185185185185185\n"
     ]
    }
   ],
   "source": [
    "print(accuracy_score(y_test, y_pred1))\n",
    "print(confusion_matrix(y_test, y_pred1))\n",
    "print(precision_score(y_test, y_pred1))"
   ]
  },
  {
   "cell_type": "code",
   "execution_count": 92,
   "id": "36932839",
   "metadata": {},
   "outputs": [
    {
     "name": "stdout",
     "output_type": "stream",
     "text": [
      "0.9738878143133463\n",
      "[[872  17]\n",
      " [ 10 135]]\n",
      "0.8881578947368421\n"
     ]
    }
   ],
   "source": [
    "mnb.fit(x_train,y_train)\n",
    "y_pred2 = mnb.predict(x_test)\n",
    "print(accuracy_score(y_test, y_pred2))\n",
    "print(confusion_matrix(y_test, y_pred2))\n",
    "print(precision_score(y_test, y_pred2))"
   ]
  },
  {
   "cell_type": "code",
   "execution_count": 93,
   "id": "ce1bbe6b",
   "metadata": {},
   "outputs": [
    {
     "name": "stdout",
     "output_type": "stream",
     "text": [
      "0.9661508704061895\n",
      "[[885   4]\n",
      " [ 31 114]]\n",
      "0.9661016949152542\n"
     ]
    }
   ],
   "source": [
    "bnb.fit(x_train,y_train)\n",
    "y_pred3 = bnb.predict(x_test)\n",
    "print(accuracy_score(y_test, y_pred3))\n",
    "print(confusion_matrix(y_test, y_pred3))\n",
    "print(precision_score(y_test, y_pred3))"
   ]
  },
  {
   "cell_type": "raw",
   "id": "434bd383",
   "metadata": {},
   "source": [
    "Other Algorithms"
   ]
  },
  {
   "cell_type": "code",
   "execution_count": 95,
   "id": "3381c281",
   "metadata": {},
   "outputs": [],
   "source": [
    "from sklearn.linear_model import LogisticRegression\n",
    "from sklearn.svm import SVC\n",
    "from sklearn.naive_bayes import MultinomialNB\n",
    "from sklearn.tree import DecisionTreeClassifier\n",
    "from sklearn.neighbors import KNeighborsClassifier\n",
    "from sklearn.ensemble import RandomForestClassifier\n"
   ]
  },
  {
   "cell_type": "code",
   "execution_count": 96,
   "id": "2eeeab84",
   "metadata": {},
   "outputs": [],
   "source": [
    "svc = SVC(kernel=\"sigmoid\", gamma=1.0)\n",
    "knc = KNeighborsClassifier()\n",
    "mnb = MultinomialNB()\n",
    "dtc = DecisionTreeClassifier(max_depth=5)\n",
    "lrc = LogisticRegression(solver=\"liblinear\", penalty=\"l1\")\n",
    "rfc = RandomForestClassifier(n_estimators=50, random_state=2)\n"
   ]
  },
  {
   "cell_type": "code",
   "execution_count": 97,
   "id": "7727fbe6",
   "metadata": {},
   "outputs": [],
   "source": [
    "clfs = {\n",
    "    \"SVC\":svc,\n",
    "    \"KN\":knc,\n",
    "    \"MNB\":mnb,\n",
    "    \"GNB\":gnb,\n",
    "    \"BNB\":bnb,\n",
    "    \"DT\":dtc,\n",
    "    \"LR\":lrc,\n",
    "    \"RF\":rfc,\n",
    "\n",
    "}"
   ]
  },
  {
   "cell_type": "code",
   "execution_count": 98,
   "id": "fa301577",
   "metadata": {},
   "outputs": [],
   "source": [
    "def train_classifier(clf, x_train, y_train, x_test, y_test):\n",
    "    clf.fit(x_train, y_train)\n",
    "    y_pred = clf.predict(x_test)\n",
    "    accuracy = accuracy_score(y_test, y_pred)\n",
    "    precision = precision_score(y_test, y_pred)\n",
    "    return accuracy, precision"
   ]
  },
  {
   "cell_type": "code",
   "execution_count": 99,
   "id": "0bd4851c",
   "metadata": {},
   "outputs": [
    {
     "data": {
      "text/plain": [
       "(0.9332688588007737, 0.7676056338028169)"
      ]
     },
     "execution_count": 99,
     "metadata": {},
     "output_type": "execute_result"
    }
   ],
   "source": [
    "train_classifier(svc, x_train, y_train, x_test, y_test)"
   ]
  },
  {
   "cell_type": "code",
   "execution_count": 100,
   "id": "c60abd43",
   "metadata": {
    "scrolled": true
   },
   "outputs": [
    {
     "name": "stdout",
     "output_type": "stream",
     "text": [
      "For SVC\n",
      "Accuracy 0.9332688588007737\n",
      "Precision 0.7676056338028169\n",
      "For KN\n",
      "Accuracy 0.9042553191489362\n",
      "Precision 1.0\n",
      "For MNB\n",
      "Accuracy 0.9738878143133463\n",
      "Precision 0.8881578947368421\n",
      "For GNB\n",
      "Accuracy 0.8684719535783365\n",
      "Precision 0.5185185185185185\n",
      "For BNB\n",
      "Accuracy 0.9661508704061895\n",
      "Precision 0.9661016949152542\n",
      "For DT\n",
      "Accuracy 0.9235976789168279\n",
      "Precision 0.9230769230769231\n",
      "For LR\n",
      "Accuracy 0.9709864603481625\n",
      "Precision 0.9457364341085271\n",
      "For RF\n",
      "Accuracy 0.9661508704061895\n",
      "Precision 1.0\n"
     ]
    }
   ],
   "source": [
    "accuracy_scores = []\n",
    "precision_scores = []\n",
    "for name,clf in clfs.items():\n",
    "    current_accuracy, current_precision = train_classifier(clf, x_train, y_train, x_test, y_test)\n",
    "    print(\"For\", name)\n",
    "    print(\"Accuracy\", current_accuracy)\n",
    "    print(\"Precision\", current_precision)\n",
    "    accuracy_scores.append(current_accuracy)\n",
    "    precision_scores.append(current_precision)\n",
    "    "
   ]
  },
  {
   "cell_type": "code",
   "execution_count": 101,
   "id": "7029088d",
   "metadata": {},
   "outputs": [
    {
     "name": "stdout",
     "output_type": "stream",
     "text": [
      "[0.9332688588007737, 0.9042553191489362, 0.9738878143133463, 0.8684719535783365, 0.9661508704061895, 0.9235976789168279, 0.9709864603481625, 0.9661508704061895]\n",
      "[0.7676056338028169, 1.0, 0.8881578947368421, 0.5185185185185185, 0.9661016949152542, 0.9230769230769231, 0.9457364341085271, 1.0]\n"
     ]
    }
   ],
   "source": [
    "print(accuracy_scores)\n",
    "print(precision_scores)"
   ]
  },
  {
   "cell_type": "code",
   "execution_count": 102,
   "id": "a8266185",
   "metadata": {},
   "outputs": [],
   "source": [
    "performance_df = pd.DataFrame({\"Algorithm\":clfs.keys(), \"Accuracy\":accuracy_scores, \"Precision\":precision_scores})"
   ]
  },
  {
   "cell_type": "code",
   "execution_count": 103,
   "id": "5d2621af",
   "metadata": {},
   "outputs": [
    {
     "data": {
      "text/html": [
       "<div>\n",
       "<style scoped>\n",
       "    .dataframe tbody tr th:only-of-type {\n",
       "        vertical-align: middle;\n",
       "    }\n",
       "\n",
       "    .dataframe tbody tr th {\n",
       "        vertical-align: top;\n",
       "    }\n",
       "\n",
       "    .dataframe thead th {\n",
       "        text-align: right;\n",
       "    }\n",
       "</style>\n",
       "<table border=\"1\" class=\"dataframe\">\n",
       "  <thead>\n",
       "    <tr style=\"text-align: right;\">\n",
       "      <th></th>\n",
       "      <th>Algorithm</th>\n",
       "      <th>Accuracy</th>\n",
       "      <th>Precision</th>\n",
       "    </tr>\n",
       "  </thead>\n",
       "  <tbody>\n",
       "    <tr>\n",
       "      <th>0</th>\n",
       "      <td>SVC</td>\n",
       "      <td>0.933269</td>\n",
       "      <td>0.767606</td>\n",
       "    </tr>\n",
       "    <tr>\n",
       "      <th>1</th>\n",
       "      <td>KN</td>\n",
       "      <td>0.904255</td>\n",
       "      <td>1.000000</td>\n",
       "    </tr>\n",
       "    <tr>\n",
       "      <th>2</th>\n",
       "      <td>MNB</td>\n",
       "      <td>0.973888</td>\n",
       "      <td>0.888158</td>\n",
       "    </tr>\n",
       "    <tr>\n",
       "      <th>3</th>\n",
       "      <td>GNB</td>\n",
       "      <td>0.868472</td>\n",
       "      <td>0.518519</td>\n",
       "    </tr>\n",
       "    <tr>\n",
       "      <th>4</th>\n",
       "      <td>BNB</td>\n",
       "      <td>0.966151</td>\n",
       "      <td>0.966102</td>\n",
       "    </tr>\n",
       "    <tr>\n",
       "      <th>5</th>\n",
       "      <td>DT</td>\n",
       "      <td>0.923598</td>\n",
       "      <td>0.923077</td>\n",
       "    </tr>\n",
       "    <tr>\n",
       "      <th>6</th>\n",
       "      <td>LR</td>\n",
       "      <td>0.970986</td>\n",
       "      <td>0.945736</td>\n",
       "    </tr>\n",
       "    <tr>\n",
       "      <th>7</th>\n",
       "      <td>RF</td>\n",
       "      <td>0.966151</td>\n",
       "      <td>1.000000</td>\n",
       "    </tr>\n",
       "  </tbody>\n",
       "</table>\n",
       "</div>"
      ],
      "text/plain": [
       "  Algorithm  Accuracy  Precision\n",
       "0       SVC  0.933269   0.767606\n",
       "1        KN  0.904255   1.000000\n",
       "2       MNB  0.973888   0.888158\n",
       "3       GNB  0.868472   0.518519\n",
       "4       BNB  0.966151   0.966102\n",
       "5        DT  0.923598   0.923077\n",
       "6        LR  0.970986   0.945736\n",
       "7        RF  0.966151   1.000000"
      ]
     },
     "execution_count": 103,
     "metadata": {},
     "output_type": "execute_result"
    }
   ],
   "source": [
    "performance_df"
   ]
  },
  {
   "cell_type": "markdown",
   "id": "c0843307",
   "metadata": {},
   "source": [
    "# Testing of MOdel"
   ]
  },
  {
   "cell_type": "code",
   "execution_count": 104,
   "id": "2ceca865",
   "metadata": {},
   "outputs": [
    {
     "data": {
      "text/plain": [
       "array([0, 0, 0, 0, 0])"
      ]
     },
     "execution_count": 104,
     "metadata": {},
     "output_type": "execute_result"
    }
   ],
   "source": [
    "mnb.predict(x_test)[0:5]"
   ]
  },
  {
   "cell_type": "code",
   "execution_count": 105,
   "id": "1397d9b5",
   "metadata": {},
   "outputs": [
    {
     "name": "stdout",
     "output_type": "stream",
     "text": [
      "1617    0\n",
      "2064    0\n",
      "1272    0\n",
      "3020    0\n",
      "3642    0\n",
      "       ..\n",
      "4146    0\n",
      "1208    0\n",
      "4795    1\n",
      "3575    0\n",
      "2820    0\n",
      "Name: target, Length: 1034, dtype: int32\n"
     ]
    }
   ],
   "source": [
    "print(y_test)"
   ]
  },
  {
   "cell_type": "code",
   "execution_count": 106,
   "id": "e6906bf9",
   "metadata": {},
   "outputs": [
    {
     "data": {
      "text/plain": [
       "array([0, 0, 0, 0, 0])"
      ]
     },
     "execution_count": 106,
     "metadata": {},
     "output_type": "execute_result"
    }
   ],
   "source": [
    "rfc.predict(x_test)[0:5]"
   ]
  },
  {
   "cell_type": "raw",
   "id": "7544e400",
   "metadata": {},
   "source": [
    "HERE BNB(BERNOULLI NAIVE BAYS) GIVES HIGHEST PRECISION AND SECOND HIGHEST ACCURACY.THIS ALGO WILL GIVE GOOD RESULTS FOR OUR MODEL.AS OUR DATA IS IMBALANCED, SO WE SHOULD CONSIDER PRECISION OVER ACCURACY AS THE METRIC TO EVALUATE THE MODEL PERFORMANCE."
   ]
  }
 ],
 "metadata": {
  "kernelspec": {
   "display_name": "Python 3 (ipykernel)",
   "language": "python",
   "name": "python3"
  },
  "language_info": {
   "codemirror_mode": {
    "name": "ipython",
    "version": 3
   },
   "file_extension": ".py",
   "mimetype": "text/x-python",
   "name": "python",
   "nbconvert_exporter": "python",
   "pygments_lexer": "ipython3",
   "version": "3.9.12"
  }
 },
 "nbformat": 4,
 "nbformat_minor": 5
}
